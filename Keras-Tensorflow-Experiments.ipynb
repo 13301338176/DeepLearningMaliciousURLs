{
 "cells": [
  {
   "cell_type": "markdown",
   "metadata": {
    "colab_type": "text",
    "id": "view-in-github"
   },
   "source": [
    "<a href=\"https://colab.research.google.com/github/rambasnet/DeepLearningMaliciousURLs/blob/master/Keras-Tensorflow-Experiments.ipynb\" target=\"_parent\"><img src=\"https://colab.research.google.com/assets/colab-badge.svg\" alt=\"Open In Colab\"/></a>"
   ]
  },
  {
   "cell_type": "markdown",
   "metadata": {
    "colab_type": "text",
    "id": "SFAQJfeWplvv"
   },
   "source": [
    "# Keras-Tensorflow Experiments\n",
    "> Ran on Intel i5-4300M CPU @ 2.6 GHz (Linux Kernel 4.19.60-1)"
   ]
  },
  {
   "cell_type": "markdown",
   "metadata": {
    "colab_type": "text",
    "id": "CQ6Ngesk0F9d"
   },
   "source": [
    "##### Sources:\n",
    " + https://www.tensorflow.org/tutorials/keras/overfit_and_underfit\n",
    " + https://www.kaggle.com/grafiszti/98-59-acc-on-10-fold-with-testing-7-keras-models\n",
    " + https://keras.io/visualization/\n",
    " + https://stats.stackexchange.com/questions/181/how-to-choose-the-number-of-hidden-layers-and-nodes-in-a-feedforward-neural-netw"
   ]
  },
  {
   "cell_type": "markdown",
   "metadata": {
    "colab_type": "text",
    "id": "47GgPW0G0Pi7"
   },
   "source": [
    "## Initial Setup"
   ]
  },
  {
   "cell_type": "markdown",
   "metadata": {
    "colab_type": "text",
    "id": "GbTWr3JeuzLm"
   },
   "source": [
    "### Include needed files. "
   ]
  },
  {
   "cell_type": "code",
   "execution_count": 1,
   "metadata": {
    "colab": {
     "base_uri": "https://localhost:8080/",
     "height": 34
    },
    "colab_type": "code",
    "id": "sBMU4MElu9GB",
    "outputId": "63a5f6e3-a9c2-431b-f328-e7501b9e5eeb"
   },
   "outputs": [
    {
     "name": "stderr",
     "output_type": "stream",
     "text": [
      "Using TensorFlow backend.\n"
     ]
    },
    {
     "name": "stdout",
     "output_type": "stream",
     "text": [
      "1.14.0\n"
     ]
    }
   ],
   "source": [
    "from __future__ import absolute_import, division, print_function, unicode_literals\n",
    "\n",
    "import shutil\n",
    "import numpy as np\n",
    "import pandas as pd\n",
    "import tensorflow as tf\n",
    "\n",
    "import csv\n",
    "import os\n",
    "import sys\n",
    "import glob\n",
    "import operator\n",
    "import time\n",
    "\n",
    "import seaborn as sn\n",
    "\n",
    "import matplotlib.pyplot as plt\n",
    "\n",
    "from keras.layers import Dense, Activation\n",
    "from keras.utils.np_utils import to_categorical, normalize\n",
    "\n",
    "from sklearn.model_selection import StratifiedKFold\n",
    "from sklearn.preprocessing import LabelEncoder, StandardScaler\n",
    "from sklearn.utils import shuffle\n",
    "from sklearn.metrics import confusion_matrix\n",
    "\n",
    "from tensorflow import keras\n",
    "from tensorflow.keras import layers\n",
    "from tensorflow.keras.models import Sequential, load_model\n",
    "from tensorflow.keras.layers import Dense, Activation, BatchNormalization, Dropout\n",
    "from tensorflow.keras.callbacks import TensorBoard\n",
    "\n",
    "print(tf.__version__)"
   ]
  },
  {
   "cell_type": "markdown",
   "metadata": {
    "colab_type": "text",
    "id": "07jwatic7-Jk"
   },
   "source": [
    "### Include Dataset\n",
    "\n",
    "\n",
    "\n",
    "\n"
   ]
  },
  {
   "cell_type": "code",
   "execution_count": 2,
   "metadata": {
    "colab": {},
    "colab_type": "code",
    "id": "ngdiiVOJ8Bt4"
   },
   "outputs": [],
   "source": [
    "%%bash\n",
    "URL=https://iscxdownloads.cs.unb.ca/iscxdownloads/ISCX-URL-2016/\n",
    "FILES=(ISCXURL2016.zip) \n",
    "for FILE in ${FILES[*]}; do\n",
    "    if [ ! -f \"$FILE\" ]; then\n",
    "        printf \"downloading %s\\n\" $FILE\n",
    "        curl -O $URL$FILE\n",
    "        # unzip files\n",
    "        echo 'unzipping ' $FILE\n",
    "        unzip -o $FILE #overwrite exiting files/folders if exists\n",
    "    fi\n",
    "done"
   ]
  },
  {
   "cell_type": "markdown",
   "metadata": {
    "colab_type": "text",
    "id": "MIqy2Xmc8HoD"
   },
   "source": [
    "### Check Dataset"
   ]
  },
  {
   "cell_type": "code",
   "execution_count": 3,
   "metadata": {
    "colab": {
     "base_uri": "https://localhost:8080/",
     "height": 221
    },
    "colab_type": "code",
    "id": "zl2T8MRq8PNT",
    "outputId": "ed21cb73-66cd-4b33-ae90-d476e3eda809"
   },
   "outputs": [
    {
     "name": "stdout",
     "output_type": "stream",
     "text": [
      "All_BestFirst.csv\t      Malware_Infogain.csv\r\n",
      "All_BestFirst_test.csv\t      Malware_Infogain_test.csv\r\n",
      "All.csv\t\t\t      Phishing_BestFirst.csv\r\n",
      "All.csv.pickle\t\t      Phishing.csv\r\n",
      "All_Infogain.csv\t      Phishing_Infogain.csv\r\n",
      "All_Infogain_test.csv\t      Phishing_Infogain_test.csv\r\n",
      "Defacement_BestFirst.csv      Spam_BestFirst.csv\r\n",
      "Defacement.csv\t\t      Spam_BestFirst_test.csv\r\n",
      "Defacement_Infogain.csv       Spam.csv\r\n",
      "Defacement_Infogain_test.csv  Spam_Infogain.csv\r\n",
      "Malware_BestFirst.csv\t      Spam_Infogain_test.csv\r\n",
      "Malware.csv\t\t      URL\r\n"
     ]
    }
   ],
   "source": [
    "! ls FinalDataset"
   ]
  },
  {
   "cell_type": "markdown",
   "metadata": {
    "colab_type": "text",
    "id": "IeCm3LP08XOy"
   },
   "source": [
    "### Set some data\n",
    "> Some data needs to be set, we need to ensure that constants are set properly. These are important but will not be used until later."
   ]
  },
  {
   "cell_type": "code",
   "execution_count": 4,
   "metadata": {
    "colab": {},
    "colab_type": "code",
    "id": "qJuZTgd0u_WG"
   },
   "outputs": [],
   "source": [
    "resultPath = 'results_keras_tensorflow'\n",
    "if not os.path.exists(resultPath):\n",
    "   print('result path {} created.'.format(resultPath))\n",
    "   os.mkdir(resultPath)"
   ]
  },
  {
   "cell_type": "code",
   "execution_count": 5,
   "metadata": {
    "colab": {},
    "colab_type": "code",
    "id": "EHnzBhcavSR-"
   },
   "outputs": [],
   "source": [
    "model_name = \"init\""
   ]
  },
  {
   "cell_type": "markdown",
   "metadata": {
    "colab_type": "text",
    "id": "6Vo0Cwne9wRJ"
   },
   "source": [
    "## Functions for Testing\n",
    "> Now that our data has been collected it is time to create functions that will be used in later tests."
   ]
  },
  {
   "cell_type": "code",
   "execution_count": 6,
   "metadata": {
    "colab": {},
    "colab_type": "code",
    "id": "DFtoJCs_7T8p"
   },
   "outputs": [],
   "source": [
    "def loadData(csvFile):\n",
    "    pickleDump = '{}.pickle'.format(csvFile)\n",
    "    if os.path.exists(pickleDump):\n",
    "        df = pd.read_pickle(pickleDump)\n",
    "    else:\n",
    "        df = pd.read_csv(csvFile, low_memory=False, na_values='NaN')\n",
    "        # clean data\n",
    "        # strip the whitspaces from column names\n",
    "        df = df.rename(str.strip, axis='columns')\n",
    "        #df.drop(columns=[], inplace=True)\n",
    "        # drop missing values/NaN etc.\n",
    "        #df.dropna(inplace=True)\n",
    "        # drop Infinity rows and NaN string from each column\n",
    "        for col in df.columns:\n",
    "            indexNames = df[df[col]=='Infinity'].index\n",
    "            if not indexNames.empty:\n",
    "                print('deleting {} rows with Infinity in column {}'.format(len(indexNames), col))\n",
    "                df.drop(indexNames, inplace=True)\n",
    "        \n",
    "        df.to_pickle(pickleDump)\n",
    "    \n",
    "    return df\n"
   ]
  },
  {
   "cell_type": "code",
   "execution_count": 7,
   "metadata": {
    "colab": {},
    "colab_type": "code",
    "id": "GB51N0iLCK9J"
   },
   "outputs": [],
   "source": [
    "def baseline_model(inputDim=-1,outputDim=-1):\n",
    "    global model_extension, experimentTitle\n",
    "    model = tf.keras.Sequential([\n",
    "        Dense(128, activation='relu', input_shape=(inputDim,)),\n",
    "        BatchNormalization(),\n",
    "        Dropout(.5),\n",
    "        Dense(64, activation='relu'),\n",
    "        BatchNormalization(),\n",
    "        Dropout(.5),\n",
    "        Dense(outputDim, activation='softmax')\n",
    "    ]) #This is the output layer\n",
    "\n",
    "    if outputDim > 2:\n",
    "        print('Categorical Cross-Entropy Loss Function')\n",
    "        model_extension = \"_categorical\"\n",
    "        experimentTitle = \"Categorical\"\n",
    "        model.compile(optimizer='adam',\n",
    "                 loss='categorical_crossentropy',\n",
    "                 metrics=['accuracy'])\n",
    "    else:\n",
    "        print('Binary Cross-Entropy Loss Function')\n",
    "        model_extension = \"_binary\"\n",
    "        experimentTitle = \"Binary\"\n",
    "        model.compile(optimizer='adam',\n",
    "                loss='binary_crossentropy',\n",
    "                metrics=['accuracy'])\n",
    "\n",
    "    return model"
   ]
  },
  {
   "cell_type": "code",
   "execution_count": 8,
   "metadata": {
    "colab": {},
    "colab_type": "code",
    "id": "zbiT-Sf9plwd"
   },
   "outputs": [],
   "source": [
    "def encode_labels(dataframe):\n",
    "    dataframe=dataframe.copy()\n",
    "    data_y=dataframe.pop(dep_var)\n",
    "    encoder = LabelEncoder()\n",
    "    encoder.fit(data_y)\n",
    "    data_y = encoder.transform(data_y)\n",
    "    dummy_y = to_categorical(data_y)\n",
    "    return dummy_y"
   ]
  },
  {
   "cell_type": "code",
   "execution_count": 9,
   "metadata": {
    "colab": {},
    "colab_type": "code",
    "id": "3aQvhWPU1H8v"
   },
   "outputs": [],
   "source": [
    "def plotAccuracy(title):\n",
    "    plt.plot(history.history['acc'])\n",
    "    plt.plot(history.history['val_acc'])\n",
    "    plt.title(title)\n",
    "    plt.ylabel('Accuracy')\n",
    "    plt.xlabel('Epoch')\n",
    "    plt.legend(['Train', 'Test'], loc='upper left')\n",
    "    plt.show()"
   ]
  },
  {
   "cell_type": "code",
   "execution_count": 10,
   "metadata": {},
   "outputs": [],
   "source": [
    "def plotLoss(title):\n",
    "    plt.plot(history.history['loss'])\n",
    "    plt.plot(history.history['val_loss'])\n",
    "    plt.title(title)\n",
    "    plt.ylabel('Loss')\n",
    "    plt.xlabel('Epoch')\n",
    "    plt.legend(['Train', 'Test'], loc='upper left')\n",
    "    plt.show()"
   ]
  },
  {
   "cell_type": "code",
   "execution_count": 11,
   "metadata": {
    "colab": {},
    "colab_type": "code",
    "id": "U1bG2p566m8V"
   },
   "outputs": [],
   "source": [
    "# Function to determine train and validation indexes, \n",
    "# and fit the data to the model we constructed\n",
    "def experiment(dataframe, early=False):\n",
    "    \n",
    "    #10-fold cross validation, choosing random indices for training and validation\n",
    "    kfold = StratifiedKFold(n_splits=10, shuffle=True, random_state=seed)\n",
    "    \n",
    "    # Encode the label column for model fitting\n",
    "    encoded_y = dataframe.copy()\n",
    "    encoded_y = encode_labels(encoded_y)\n",
    "    \n",
    "    # X is our data/features to train the model with\n",
    "    X=StandardScaler().fit_transform(dataframe.drop(dep_var, axis=1))\n",
    "    \n",
    "    # Y is our labels to classify the data\n",
    "    y=LabelEncoder().fit_transform(dataframe[dep_var].values)\n",
    "    start_time = time.time()\n",
    "\n",
    "    for index, (train_indices, val_indices) in enumerate(kfold.split(X, y)):\n",
    "        \n",
    "        xtrain, xval = X[train_indices], X[val_indices]\n",
    "        ytrain, yval = encoded_y[train_indices], encoded_y[val_indices]\n",
    "\n",
    "        inputDim=xtrain.shape[1]\n",
    "        outputDim=ytrain.shape[1]\n",
    "        print(\"Running fold #\" + str(index+1))\n",
    "\n",
    "        model = baseline_model(inputDim,outputDim)\n",
    "        \n",
    "        time_gen = int(time.time())\n",
    "        \n",
    "        global model_name\n",
    "        model_name = f\"{dataFile}_{time_gen}\"\n",
    "\n",
    "        tensorboard = TensorBoard(log_dir='keras_tensorflow_logs/{}/{}_{}'.format(experimentTitle, model_name, model_extension),update_freq='epoch')\n",
    "        if early_stop:\n",
    "            callbacks = [tensorboard, early_stop]\n",
    "        else:\n",
    "            callbacks = [tensorboard]\n",
    "        history = model.fit(xtrain, ytrain, epochs=epochs, validation_data=(xval,yval), callbacks=callbacks, batch_size=batch_size, verbose=0)\n",
    "        \n",
    "    global end_time \n",
    "    end_time = time.time() - start_time\n",
    "    remain_seconds = 60%end_time\n",
    " \n",
    "    global Minutes \n",
    "    Minutes = int(end_time/60)\n",
    "    print(\"Time to complete {} min {} sec\".format(Minutes, end_time))\n",
    "        \n",
    "    return model, history, X, encoded_y\n"
   ]
  },
  {
   "cell_type": "markdown",
   "metadata": {
    "colab_type": "text",
    "id": "GkZ-uZuz9_pi"
   },
   "source": [
    "## Data\n",
    "### Load and Clean\n",
    "> First we will load our data, scan the columns for Infinity and NaN values, and remove those columns from testing. "
   ]
  },
  {
   "cell_type": "code",
   "execution_count": 12,
   "metadata": {
    "colab": {},
    "colab_type": "code",
    "id": "h_7Y2Ytp7xa-"
   },
   "outputs": [],
   "source": [
    "df1 = loadData('FinalDataset/All.csv')\n",
    "df1=df1.dropna(axis=1)"
   ]
  },
  {
   "cell_type": "markdown",
   "metadata": {
    "colab_type": "text",
    "id": "mekPFv6lplwm"
   },
   "source": [
    "### Display Data Columns"
   ]
  },
  {
   "cell_type": "code",
   "execution_count": 13,
   "metadata": {
    "colab": {
     "base_uri": "https://localhost:8080/",
     "height": 0
    },
    "colab_type": "code",
    "id": "4ZwM-GC1-LPj",
    "outputId": "10991986-aea1-47ba-db77-91518c7c6884"
   },
   "outputs": [
    {
     "data": {
      "text/plain": [
       "Index(['Querylength', 'domain_token_count', 'path_token_count',\n",
       "       'avgdomaintokenlen', 'longdomaintokenlen', 'tld', 'charcompvowels',\n",
       "       'charcompace', 'ldl_url', 'ldl_domain', 'ldl_path', 'ldl_filename',\n",
       "       'ldl_getArg', 'dld_url', 'dld_domain', 'dld_path', 'dld_filename',\n",
       "       'dld_getArg', 'urlLen', 'domainlength', 'pathLength', 'subDirLen',\n",
       "       'fileNameLen', 'this.fileExtLen', 'ArgLen', 'pathurlRatio',\n",
       "       'ArgUrlRatio', 'argDomanRatio', 'domainUrlRatio', 'pathDomainRatio',\n",
       "       'argPathRatio', 'executable', 'isPortEighty', 'NumberofDotsinURL',\n",
       "       'ISIpAddressInDomainName', 'CharacterContinuityRate',\n",
       "       'LongestVariableValue', 'URL_DigitCount', 'host_DigitCount',\n",
       "       'Directory_DigitCount', 'File_name_DigitCount', 'Extension_DigitCount',\n",
       "       'Query_DigitCount', 'URL_Letter_Count', 'host_letter_count',\n",
       "       'Directory_LetterCount', 'Filename_LetterCount',\n",
       "       'Extension_LetterCount', 'Query_LetterCount', 'LongestPathTokenLength',\n",
       "       'Domain_LongestWordLength', 'Path_LongestWordLength',\n",
       "       'sub-Directory_LongestWordLength', 'Arguments_LongestWordLength',\n",
       "       'URL_sensitiveWord', 'URLQueries_variable', 'spcharUrl',\n",
       "       'delimeter_Domain', 'delimeter_path', 'delimeter_Count',\n",
       "       'NumberRate_URL', 'NumberRate_Domain', 'NumberRate_DirectoryName',\n",
       "       'NumberRate_FileName', 'SymbolCount_URL', 'SymbolCount_Domain',\n",
       "       'SymbolCount_Directoryname', 'SymbolCount_FileName',\n",
       "       'SymbolCount_Extension', 'SymbolCount_Afterpath', 'Entropy_URL',\n",
       "       'Entropy_Domain', 'URL_Type_obf_Type'],\n",
       "      dtype='object')"
      ]
     },
     "execution_count": 13,
     "metadata": {},
     "output_type": "execute_result"
    }
   ],
   "source": [
    "df1.columns"
   ]
  },
  {
   "cell_type": "markdown",
   "metadata": {
    "colab_type": "text",
    "id": "wX24a-Woplwt"
   },
   "source": [
    "### Display Matrix Shape of Data\n",
    "> In the format (samples, columns)"
   ]
  },
  {
   "cell_type": "code",
   "execution_count": 14,
   "metadata": {
    "colab": {
     "base_uri": "https://localhost:8080/",
     "height": 0
    },
    "colab_type": "code",
    "id": "NBvgfW-J--g8",
    "outputId": "87bacb43-db8f-4b27-ad20-89d4efe8892a"
   },
   "outputs": [
    {
     "data": {
      "text/plain": [
       "(36697, 73)"
      ]
     },
     "execution_count": 14,
     "metadata": {},
     "output_type": "execute_result"
    }
   ],
   "source": [
    "df1.shape"
   ]
  },
  {
   "cell_type": "markdown",
   "metadata": {
    "colab_type": "text",
    "id": "BSjQXVYKplw0"
   },
   "source": [
    "### Display First Samples in Data"
   ]
  },
  {
   "cell_type": "code",
   "execution_count": 15,
   "metadata": {
    "colab": {
     "base_uri": "https://localhost:8080/",
     "height": 0
    },
    "colab_type": "code",
    "id": "9eYtvDf5AAR5",
    "outputId": "64bf116c-a9ad-4f87-ad21-1913b73f6b39"
   },
   "outputs": [
    {
     "data": {
      "text/html": [
       "<div>\n",
       "<style scoped>\n",
       "    .dataframe tbody tr th:only-of-type {\n",
       "        vertical-align: middle;\n",
       "    }\n",
       "\n",
       "    .dataframe tbody tr th {\n",
       "        vertical-align: top;\n",
       "    }\n",
       "\n",
       "    .dataframe thead th {\n",
       "        text-align: right;\n",
       "    }\n",
       "</style>\n",
       "<table border=\"1\" class=\"dataframe\">\n",
       "  <thead>\n",
       "    <tr style=\"text-align: right;\">\n",
       "      <th></th>\n",
       "      <th>Querylength</th>\n",
       "      <th>domain_token_count</th>\n",
       "      <th>path_token_count</th>\n",
       "      <th>avgdomaintokenlen</th>\n",
       "      <th>longdomaintokenlen</th>\n",
       "      <th>tld</th>\n",
       "      <th>charcompvowels</th>\n",
       "      <th>charcompace</th>\n",
       "      <th>ldl_url</th>\n",
       "      <th>ldl_domain</th>\n",
       "      <th>...</th>\n",
       "      <th>NumberRate_FileName</th>\n",
       "      <th>SymbolCount_URL</th>\n",
       "      <th>SymbolCount_Domain</th>\n",
       "      <th>SymbolCount_Directoryname</th>\n",
       "      <th>SymbolCount_FileName</th>\n",
       "      <th>SymbolCount_Extension</th>\n",
       "      <th>SymbolCount_Afterpath</th>\n",
       "      <th>Entropy_URL</th>\n",
       "      <th>Entropy_Domain</th>\n",
       "      <th>URL_Type_obf_Type</th>\n",
       "    </tr>\n",
       "  </thead>\n",
       "  <tbody>\n",
       "    <tr>\n",
       "      <th>0</th>\n",
       "      <td>0</td>\n",
       "      <td>4</td>\n",
       "      <td>5</td>\n",
       "      <td>5.5</td>\n",
       "      <td>14</td>\n",
       "      <td>4</td>\n",
       "      <td>8</td>\n",
       "      <td>3</td>\n",
       "      <td>0</td>\n",
       "      <td>0</td>\n",
       "      <td>...</td>\n",
       "      <td>0.066667</td>\n",
       "      <td>8</td>\n",
       "      <td>3</td>\n",
       "      <td>2</td>\n",
       "      <td>1</td>\n",
       "      <td>0</td>\n",
       "      <td>-1</td>\n",
       "      <td>0.726298</td>\n",
       "      <td>0.784493</td>\n",
       "      <td>Defacement</td>\n",
       "    </tr>\n",
       "    <tr>\n",
       "      <th>1</th>\n",
       "      <td>0</td>\n",
       "      <td>4</td>\n",
       "      <td>5</td>\n",
       "      <td>5.5</td>\n",
       "      <td>14</td>\n",
       "      <td>4</td>\n",
       "      <td>12</td>\n",
       "      <td>4</td>\n",
       "      <td>0</td>\n",
       "      <td>0</td>\n",
       "      <td>...</td>\n",
       "      <td>0.000000</td>\n",
       "      <td>8</td>\n",
       "      <td>3</td>\n",
       "      <td>3</td>\n",
       "      <td>0</td>\n",
       "      <td>0</td>\n",
       "      <td>-1</td>\n",
       "      <td>0.688635</td>\n",
       "      <td>0.784493</td>\n",
       "      <td>Defacement</td>\n",
       "    </tr>\n",
       "    <tr>\n",
       "      <th>2</th>\n",
       "      <td>0</td>\n",
       "      <td>4</td>\n",
       "      <td>5</td>\n",
       "      <td>5.5</td>\n",
       "      <td>14</td>\n",
       "      <td>4</td>\n",
       "      <td>12</td>\n",
       "      <td>5</td>\n",
       "      <td>0</td>\n",
       "      <td>0</td>\n",
       "      <td>...</td>\n",
       "      <td>0.000000</td>\n",
       "      <td>8</td>\n",
       "      <td>3</td>\n",
       "      <td>3</td>\n",
       "      <td>0</td>\n",
       "      <td>0</td>\n",
       "      <td>-1</td>\n",
       "      <td>0.695049</td>\n",
       "      <td>0.784493</td>\n",
       "      <td>Defacement</td>\n",
       "    </tr>\n",
       "    <tr>\n",
       "      <th>3</th>\n",
       "      <td>0</td>\n",
       "      <td>4</td>\n",
       "      <td>12</td>\n",
       "      <td>5.5</td>\n",
       "      <td>14</td>\n",
       "      <td>4</td>\n",
       "      <td>32</td>\n",
       "      <td>16</td>\n",
       "      <td>0</td>\n",
       "      <td>0</td>\n",
       "      <td>...</td>\n",
       "      <td>0.000000</td>\n",
       "      <td>8</td>\n",
       "      <td>3</td>\n",
       "      <td>3</td>\n",
       "      <td>0</td>\n",
       "      <td>0</td>\n",
       "      <td>-1</td>\n",
       "      <td>0.640130</td>\n",
       "      <td>0.784493</td>\n",
       "      <td>Defacement</td>\n",
       "    </tr>\n",
       "    <tr>\n",
       "      <th>4</th>\n",
       "      <td>0</td>\n",
       "      <td>4</td>\n",
       "      <td>6</td>\n",
       "      <td>5.5</td>\n",
       "      <td>14</td>\n",
       "      <td>4</td>\n",
       "      <td>18</td>\n",
       "      <td>11</td>\n",
       "      <td>0</td>\n",
       "      <td>0</td>\n",
       "      <td>...</td>\n",
       "      <td>0.000000</td>\n",
       "      <td>8</td>\n",
       "      <td>3</td>\n",
       "      <td>3</td>\n",
       "      <td>0</td>\n",
       "      <td>0</td>\n",
       "      <td>-1</td>\n",
       "      <td>0.681307</td>\n",
       "      <td>0.784493</td>\n",
       "      <td>Defacement</td>\n",
       "    </tr>\n",
       "  </tbody>\n",
       "</table>\n",
       "<p>5 rows × 73 columns</p>\n",
       "</div>"
      ],
      "text/plain": [
       "   Querylength  domain_token_count  path_token_count  avgdomaintokenlen  \\\n",
       "0            0                   4                 5                5.5   \n",
       "1            0                   4                 5                5.5   \n",
       "2            0                   4                 5                5.5   \n",
       "3            0                   4                12                5.5   \n",
       "4            0                   4                 6                5.5   \n",
       "\n",
       "   longdomaintokenlen  tld  charcompvowels  charcompace  ldl_url  ldl_domain  \\\n",
       "0                  14    4               8            3        0           0   \n",
       "1                  14    4              12            4        0           0   \n",
       "2                  14    4              12            5        0           0   \n",
       "3                  14    4              32           16        0           0   \n",
       "4                  14    4              18           11        0           0   \n",
       "\n",
       "   ...  NumberRate_FileName  SymbolCount_URL  SymbolCount_Domain  \\\n",
       "0  ...             0.066667                8                   3   \n",
       "1  ...             0.000000                8                   3   \n",
       "2  ...             0.000000                8                   3   \n",
       "3  ...             0.000000                8                   3   \n",
       "4  ...             0.000000                8                   3   \n",
       "\n",
       "   SymbolCount_Directoryname  SymbolCount_FileName  SymbolCount_Extension  \\\n",
       "0                          2                     1                      0   \n",
       "1                          3                     0                      0   \n",
       "2                          3                     0                      0   \n",
       "3                          3                     0                      0   \n",
       "4                          3                     0                      0   \n",
       "\n",
       "   SymbolCount_Afterpath  Entropy_URL  Entropy_Domain  URL_Type_obf_Type  \n",
       "0                     -1     0.726298        0.784493         Defacement  \n",
       "1                     -1     0.688635        0.784493         Defacement  \n",
       "2                     -1     0.695049        0.784493         Defacement  \n",
       "3                     -1     0.640130        0.784493         Defacement  \n",
       "4                     -1     0.681307        0.784493         Defacement  \n",
       "\n",
       "[5 rows x 73 columns]"
      ]
     },
     "execution_count": 15,
     "metadata": {},
     "output_type": "execute_result"
    }
   ],
   "source": [
    "df1.head()"
   ]
  },
  {
   "cell_type": "markdown",
   "metadata": {
    "colab_type": "text",
    "id": "OLiGVjzOplw6"
   },
   "source": [
    "### Display Last Samples in Data"
   ]
  },
  {
   "cell_type": "code",
   "execution_count": 16,
   "metadata": {
    "colab": {
     "base_uri": "https://localhost:8080/",
     "height": 0
    },
    "colab_type": "code",
    "id": "LsqLE8Wnplw7",
    "outputId": "c6d145b0-aeb0-4141-f8d8-376c56ce7fd2"
   },
   "outputs": [
    {
     "data": {
      "text/html": [
       "<div>\n",
       "<style scoped>\n",
       "    .dataframe tbody tr th:only-of-type {\n",
       "        vertical-align: middle;\n",
       "    }\n",
       "\n",
       "    .dataframe tbody tr th {\n",
       "        vertical-align: top;\n",
       "    }\n",
       "\n",
       "    .dataframe thead th {\n",
       "        text-align: right;\n",
       "    }\n",
       "</style>\n",
       "<table border=\"1\" class=\"dataframe\">\n",
       "  <thead>\n",
       "    <tr style=\"text-align: right;\">\n",
       "      <th></th>\n",
       "      <th>Querylength</th>\n",
       "      <th>domain_token_count</th>\n",
       "      <th>path_token_count</th>\n",
       "      <th>avgdomaintokenlen</th>\n",
       "      <th>longdomaintokenlen</th>\n",
       "      <th>tld</th>\n",
       "      <th>charcompvowels</th>\n",
       "      <th>charcompace</th>\n",
       "      <th>ldl_url</th>\n",
       "      <th>ldl_domain</th>\n",
       "      <th>...</th>\n",
       "      <th>NumberRate_FileName</th>\n",
       "      <th>SymbolCount_URL</th>\n",
       "      <th>SymbolCount_Domain</th>\n",
       "      <th>SymbolCount_Directoryname</th>\n",
       "      <th>SymbolCount_FileName</th>\n",
       "      <th>SymbolCount_Extension</th>\n",
       "      <th>SymbolCount_Afterpath</th>\n",
       "      <th>Entropy_URL</th>\n",
       "      <th>Entropy_Domain</th>\n",
       "      <th>URL_Type_obf_Type</th>\n",
       "    </tr>\n",
       "  </thead>\n",
       "  <tbody>\n",
       "    <tr>\n",
       "      <th>36702</th>\n",
       "      <td>29</td>\n",
       "      <td>4</td>\n",
       "      <td>14</td>\n",
       "      <td>5.750000</td>\n",
       "      <td>12</td>\n",
       "      <td>4</td>\n",
       "      <td>20</td>\n",
       "      <td>24</td>\n",
       "      <td>3</td>\n",
       "      <td>0</td>\n",
       "      <td>...</td>\n",
       "      <td>0.529412</td>\n",
       "      <td>19</td>\n",
       "      <td>3</td>\n",
       "      <td>11</td>\n",
       "      <td>3</td>\n",
       "      <td>2</td>\n",
       "      <td>7</td>\n",
       "      <td>0.690555</td>\n",
       "      <td>0.791265</td>\n",
       "      <td>spam</td>\n",
       "    </tr>\n",
       "    <tr>\n",
       "      <th>36703</th>\n",
       "      <td>0</td>\n",
       "      <td>4</td>\n",
       "      <td>13</td>\n",
       "      <td>3.750000</td>\n",
       "      <td>8</td>\n",
       "      <td>4</td>\n",
       "      <td>24</td>\n",
       "      <td>23</td>\n",
       "      <td>0</td>\n",
       "      <td>0</td>\n",
       "      <td>...</td>\n",
       "      <td>0.187500</td>\n",
       "      <td>23</td>\n",
       "      <td>3</td>\n",
       "      <td>2</td>\n",
       "      <td>16</td>\n",
       "      <td>15</td>\n",
       "      <td>-1</td>\n",
       "      <td>0.665492</td>\n",
       "      <td>0.820010</td>\n",
       "      <td>spam</td>\n",
       "    </tr>\n",
       "    <tr>\n",
       "      <th>36704</th>\n",
       "      <td>58</td>\n",
       "      <td>3</td>\n",
       "      <td>27</td>\n",
       "      <td>6.666666</td>\n",
       "      <td>16</td>\n",
       "      <td>3</td>\n",
       "      <td>41</td>\n",
       "      <td>34</td>\n",
       "      <td>20</td>\n",
       "      <td>0</td>\n",
       "      <td>...</td>\n",
       "      <td>0.377778</td>\n",
       "      <td>26</td>\n",
       "      <td>2</td>\n",
       "      <td>14</td>\n",
       "      <td>8</td>\n",
       "      <td>7</td>\n",
       "      <td>9</td>\n",
       "      <td>0.656807</td>\n",
       "      <td>0.801139</td>\n",
       "      <td>spam</td>\n",
       "    </tr>\n",
       "    <tr>\n",
       "      <th>36705</th>\n",
       "      <td>35</td>\n",
       "      <td>3</td>\n",
       "      <td>13</td>\n",
       "      <td>4.333334</td>\n",
       "      <td>9</td>\n",
       "      <td>3</td>\n",
       "      <td>15</td>\n",
       "      <td>13</td>\n",
       "      <td>7</td>\n",
       "      <td>0</td>\n",
       "      <td>...</td>\n",
       "      <td>0.284091</td>\n",
       "      <td>14</td>\n",
       "      <td>2</td>\n",
       "      <td>1</td>\n",
       "      <td>9</td>\n",
       "      <td>8</td>\n",
       "      <td>3</td>\n",
       "      <td>0.725963</td>\n",
       "      <td>0.897617</td>\n",
       "      <td>spam</td>\n",
       "    </tr>\n",
       "    <tr>\n",
       "      <th>36706</th>\n",
       "      <td>40</td>\n",
       "      <td>3</td>\n",
       "      <td>25</td>\n",
       "      <td>6.666666</td>\n",
       "      <td>16</td>\n",
       "      <td>3</td>\n",
       "      <td>35</td>\n",
       "      <td>31</td>\n",
       "      <td>19</td>\n",
       "      <td>0</td>\n",
       "      <td>...</td>\n",
       "      <td>0.365079</td>\n",
       "      <td>24</td>\n",
       "      <td>2</td>\n",
       "      <td>13</td>\n",
       "      <td>7</td>\n",
       "      <td>6</td>\n",
       "      <td>7</td>\n",
       "      <td>0.674351</td>\n",
       "      <td>0.801139</td>\n",
       "      <td>spam</td>\n",
       "    </tr>\n",
       "  </tbody>\n",
       "</table>\n",
       "<p>5 rows × 73 columns</p>\n",
       "</div>"
      ],
      "text/plain": [
       "       Querylength  domain_token_count  path_token_count  avgdomaintokenlen  \\\n",
       "36702           29                   4                14           5.750000   \n",
       "36703            0                   4                13           3.750000   \n",
       "36704           58                   3                27           6.666666   \n",
       "36705           35                   3                13           4.333334   \n",
       "36706           40                   3                25           6.666666   \n",
       "\n",
       "       longdomaintokenlen  tld  charcompvowels  charcompace  ldl_url  \\\n",
       "36702                  12    4              20           24        3   \n",
       "36703                   8    4              24           23        0   \n",
       "36704                  16    3              41           34       20   \n",
       "36705                   9    3              15           13        7   \n",
       "36706                  16    3              35           31       19   \n",
       "\n",
       "       ldl_domain  ...  NumberRate_FileName  SymbolCount_URL  \\\n",
       "36702           0  ...             0.529412               19   \n",
       "36703           0  ...             0.187500               23   \n",
       "36704           0  ...             0.377778               26   \n",
       "36705           0  ...             0.284091               14   \n",
       "36706           0  ...             0.365079               24   \n",
       "\n",
       "       SymbolCount_Domain  SymbolCount_Directoryname  SymbolCount_FileName  \\\n",
       "36702                   3                         11                     3   \n",
       "36703                   3                          2                    16   \n",
       "36704                   2                         14                     8   \n",
       "36705                   2                          1                     9   \n",
       "36706                   2                         13                     7   \n",
       "\n",
       "       SymbolCount_Extension  SymbolCount_Afterpath  Entropy_URL  \\\n",
       "36702                      2                      7     0.690555   \n",
       "36703                     15                     -1     0.665492   \n",
       "36704                      7                      9     0.656807   \n",
       "36705                      8                      3     0.725963   \n",
       "36706                      6                      7     0.674351   \n",
       "\n",
       "       Entropy_Domain  URL_Type_obf_Type  \n",
       "36702        0.791265               spam  \n",
       "36703        0.820010               spam  \n",
       "36704        0.801139               spam  \n",
       "36705        0.897617               spam  \n",
       "36706        0.801139               spam  \n",
       "\n",
       "[5 rows x 73 columns]"
      ]
     },
     "execution_count": 16,
     "metadata": {},
     "output_type": "execute_result"
    }
   ],
   "source": [
    "df1.tail()"
   ]
  },
  {
   "cell_type": "markdown",
   "metadata": {
    "colab_type": "text",
    "id": "f2zcKS_DAGcx"
   },
   "source": [
    "  ## Experimenting with Final Dataset/All.csv\n",
    "  \n",
    "  #### Total Samples for each Type"
   ]
  },
  {
   "cell_type": "code",
   "execution_count": 17,
   "metadata": {
    "colab": {
     "base_uri": "https://localhost:8080/",
     "height": 102
    },
    "colab_type": "code",
    "id": "NuFeBCWJABj9",
    "outputId": "e775b6b3-a7cb-476b-aec7-ece7e343525c"
   },
   "outputs": [
    {
     "name": "stdout",
     "output_type": "stream",
     "text": [
      "| malware | 6711 |\n",
      "| benign | 7781 |\n",
      "| phishing | 7577 |\n",
      "| Defacement | 7930 |\n",
      "| spam | 6698 |\n"
     ]
    }
   ],
   "source": [
    "label = 'URL_Type_obf_Type'\n",
    "lblTypes=set(df1[label])\n",
    "for lbl in lblTypes:\n",
    "    print('| {} | {} |'.format(lbl, len(df1[df1[label] == lbl].index)))"
   ]
  },
  {
   "cell_type": "code",
   "execution_count": 18,
   "metadata": {
    "colab": {},
    "colab_type": "code",
    "id": "KlTOWuf8A_Yy"
   },
   "outputs": [],
   "source": [
    "dataPath = 'FinalDataset'\n",
    "dep_var = label"
   ]
  },
  {
   "cell_type": "markdown",
   "metadata": {
    "colab_type": "text",
    "id": "B1keV97eplxW"
   },
   "source": [
    "### Cast column values to float\n",
    "> Values in this column register as object type, which isn't valid for testing, so cast them to float"
   ]
  },
  {
   "cell_type": "code",
   "execution_count": 19,
   "metadata": {
    "colab": {},
    "colab_type": "code",
    "id": "2nFBzqafCKkG"
   },
   "outputs": [],
   "source": [
    "df1.argPathRatio = df1['argPathRatio'].astype('float')"
   ]
  },
  {
   "cell_type": "markdown",
   "metadata": {
    "colab_type": "text",
    "id": "AaUqSRUiItig"
   },
   "source": [
    "## Experimenting with Tensorflow Keras"
   ]
  },
  {
   "cell_type": "markdown",
   "metadata": {
    "colab_type": "text",
    "id": "4c-GxIVIIZAR"
   },
   "source": [
    "#### Globals for Testing\n"
   ]
  },
  {
   "cell_type": "code",
   "execution_count": 20,
   "metadata": {
    "colab": {},
    "colab_type": "code",
    "id": "x-fMOCE2I7MI"
   },
   "outputs": [],
   "source": [
    "dataFile = 'All.csv'\n",
    "epochs=100\n",
    "batch_size=64"
   ]
  },
  {
   "cell_type": "markdown",
   "metadata": {
    "colab_type": "text",
    "id": "mxNlAPk2plxh"
   },
   "source": [
    "#### Show uncoded label column"
   ]
  },
  {
   "cell_type": "code",
   "execution_count": 21,
   "metadata": {
    "colab": {
     "base_uri": "https://localhost:8080/",
     "height": 1000
    },
    "colab_type": "code",
    "id": "ZfKJek8splxi",
    "outputId": "9f09b1f2-21e9-4f81-907d-067462efe694"
   },
   "outputs": [
    {
     "data": {
      "text/plain": [
       "0        Defacement\n",
       "1        Defacement\n",
       "2        Defacement\n",
       "3        Defacement\n",
       "4        Defacement\n",
       "5        Defacement\n",
       "6        Defacement\n",
       "7        Defacement\n",
       "8        Defacement\n",
       "9        Defacement\n",
       "10       Defacement\n",
       "11       Defacement\n",
       "12       Defacement\n",
       "13       Defacement\n",
       "14       Defacement\n",
       "15       Defacement\n",
       "16       Defacement\n",
       "17       Defacement\n",
       "18       Defacement\n",
       "19       Defacement\n",
       "20       Defacement\n",
       "21       Defacement\n",
       "22       Defacement\n",
       "23       Defacement\n",
       "24       Defacement\n",
       "25       Defacement\n",
       "26       Defacement\n",
       "27       Defacement\n",
       "28       Defacement\n",
       "29       Defacement\n",
       "            ...    \n",
       "36677          spam\n",
       "36678          spam\n",
       "36679          spam\n",
       "36680          spam\n",
       "36681          spam\n",
       "36682          spam\n",
       "36683          spam\n",
       "36684          spam\n",
       "36685          spam\n",
       "36686          spam\n",
       "36687          spam\n",
       "36688          spam\n",
       "36689          spam\n",
       "36690          spam\n",
       "36691          spam\n",
       "36692          spam\n",
       "36693          spam\n",
       "36694          spam\n",
       "36695          spam\n",
       "36696          spam\n",
       "36697          spam\n",
       "36698          spam\n",
       "36699          spam\n",
       "36700          spam\n",
       "36701          spam\n",
       "36702          spam\n",
       "36703          spam\n",
       "36704          spam\n",
       "36705          spam\n",
       "36706          spam\n",
       "Name: URL_Type_obf_Type, Length: 36697, dtype: object"
      ]
     },
     "execution_count": 21,
     "metadata": {},
     "output_type": "execute_result"
    }
   ],
   "source": [
    "df1[dep_var]"
   ]
  },
  {
   "cell_type": "markdown",
   "metadata": {
    "colab_type": "text",
    "id": "ikcFoxzcplxt"
   },
   "source": [
    "#### Random seed for splitting"
   ]
  },
  {
   "cell_type": "code",
   "execution_count": 22,
   "metadata": {
    "colab": {},
    "colab_type": "code",
    "id": "41We5rvNplxu"
   },
   "outputs": [],
   "source": [
    "seed = 7\n",
    "np.random.seed(seed)\n",
    "early_stop = keras.callbacks.EarlyStopping(monitor='val_loss', patience=5)"
   ]
  },
  {
   "cell_type": "code",
   "execution_count": 23,
   "metadata": {},
   "outputs": [],
   "source": [
    "for file in glob.glob('keras_tensorflow_logs/Categorical*'):\n",
    "        if os.path.exists(file):\n",
    "            shutil.rmtree(file)\n",
    "for file in glob.glob('keras_tensorflow_logs/Binary*'):\n",
    "    if os.path.exists(file):\n",
    "        shutil.rmtree(file)"
   ]
  },
  {
   "cell_type": "markdown",
   "metadata": {
    "colab_type": "text",
    "id": "QxvO-5wqplx1"
   },
   "source": [
    "### Run the experiment"
   ]
  },
  {
   "cell_type": "code",
   "execution_count": 24,
   "metadata": {
    "colab": {
     "base_uri": "https://localhost:8080/",
     "height": 1000
    },
    "colab_type": "code",
    "id": "wDKDVrhZplx2",
    "outputId": "dff06dfc-8280-4961-fcc5-331eba0dd01e",
    "scrolled": false
   },
   "outputs": [
    {
     "name": "stderr",
     "output_type": "stream",
     "text": [
      "/usr/lib/python3.7/site-packages/sklearn/preprocessing/data.py:645: DataConversionWarning: Data with input dtype int64, float64 were all converted to float64 by StandardScaler.\n",
      "  return self.partial_fit(X, y)\n",
      "/usr/lib/python3.7/site-packages/sklearn/base.py:464: DataConversionWarning: Data with input dtype int64, float64 were all converted to float64 by StandardScaler.\n",
      "  return self.fit(X, **fit_params).transform(X)\n",
      "WARNING: Logging before flag parsing goes to stderr.\n",
      "W0723 17:45:07.919729 140372359329408 deprecation.py:506] From /usr/lib/python3.7/site-packages/tensorflow/python/ops/init_ops.py:1251: calling VarianceScaling.__init__ (from tensorflow.python.ops.init_ops) with dtype is deprecated and will be removed in a future version.\n",
      "Instructions for updating:\n",
      "Call initializer instance with the dtype argument instead of passing it to the constructor\n"
     ]
    },
    {
     "name": "stdout",
     "output_type": "stream",
     "text": [
      "Running fold #1\n",
      "Categorical Cross-Entropy Loss Function\n",
      "Running fold #2\n",
      "Categorical Cross-Entropy Loss Function\n",
      "Running fold #3\n",
      "Categorical Cross-Entropy Loss Function\n",
      "Running fold #4\n",
      "Categorical Cross-Entropy Loss Function\n",
      "Running fold #5\n",
      "Categorical Cross-Entropy Loss Function\n",
      "Running fold #6\n",
      "Categorical Cross-Entropy Loss Function\n",
      "Running fold #7\n",
      "Categorical Cross-Entropy Loss Function\n",
      "Running fold #8\n",
      "Categorical Cross-Entropy Loss Function\n",
      "Running fold #9\n",
      "Categorical Cross-Entropy Loss Function\n",
      "Running fold #10\n",
      "Categorical Cross-Entropy Loss Function\n",
      "Time to complete 10 min 655.5038816928864 sec\n"
     ]
    }
   ],
   "source": [
    "categorical_df = df1.copy()\n",
    "model, history, X , encoded_y = experiment(categorical_df,early=True)"
   ]
  },
  {
   "cell_type": "markdown",
   "metadata": {
    "colab_type": "text",
    "id": "FoHKjaqpGQub"
   },
   "source": [
    "#### Save the model as a file"
   ]
  },
  {
   "cell_type": "code",
   "execution_count": 25,
   "metadata": {
    "colab": {},
    "colab_type": "code",
    "id": "vixNeoaEGW9n"
   },
   "outputs": [],
   "source": [
    "model.save('{}.model'.format(os.path.basename(dataPath)))"
   ]
  },
  {
   "cell_type": "markdown",
   "metadata": {
    "colab_type": "text",
    "id": "R1VG5cxSplyA"
   },
   "source": [
    "### Model Results"
   ]
  },
  {
   "cell_type": "code",
   "execution_count": 26,
   "metadata": {
    "colab": {
     "base_uri": "https://localhost:8080/",
     "height": 88
    },
    "colab_type": "code",
    "id": "p3xvC6ZlG9Wz",
    "outputId": "5633da7a-c0db-43a7-95bf-9616981e6993"
   },
   "outputs": [
    {
     "name": "stdout",
     "output_type": "stream",
     "text": [
      "36697/36697 [==============================] - 1s 17us/sample - loss: 0.1541 - acc: 0.9461\n",
      "['loss', 'acc']\n",
      "Baseline: accuracy: 94.61%: loss: 0.15\n"
     ]
    }
   ],
   "source": [
    "scores = model.evaluate(X,encoded_y, batch_size=batch_size,verbose=1)\n",
    "print(model.metrics_names)\n",
    "acc, loss = scores[1]*100, scores[0]\n",
    "print('Baseline: accuracy: {:.2f}%: loss: {:.2f}'.format(acc, loss))"
   ]
  },
  {
   "cell_type": "markdown",
   "metadata": {
    "colab_type": "text",
    "id": "hlNdQsyiplyF"
   },
   "source": [
    "#### Generate predictions from the model"
   ]
  },
  {
   "cell_type": "code",
   "execution_count": 27,
   "metadata": {
    "colab": {
     "base_uri": "https://localhost:8080/",
     "height": 34
    },
    "colab_type": "code",
    "id": "a0jLyQXHplyG",
    "outputId": "e4a65036-9d64-4a10-b1e3-c362922fa1d6"
   },
   "outputs": [
    {
     "name": "stdout",
     "output_type": "stream",
     "text": [
      "36697/36697 [==============================] - 1s 16us/sample\n"
     ]
    }
   ],
   "source": [
    "prediction_y = model.predict_classes(X, batch_size=batch_size, verbose=1)"
   ]
  },
  {
   "cell_type": "markdown",
   "metadata": {
    "colab_type": "text",
    "id": "44-OsF7tplyK"
   },
   "source": [
    "#### Confusion Matrix"
   ]
  },
  {
   "cell_type": "code",
   "execution_count": 28,
   "metadata": {
    "colab": {
     "base_uri": "https://localhost:8080/",
     "height": 286
    },
    "colab_type": "code",
    "id": "xjsWSmWvplyM",
    "outputId": "6ba2fe22-4b36-40a2-e4a1-ce1e20973143"
   },
   "outputs": [
    {
     "data": {
      "text/plain": [
       "<matplotlib.axes._subplots.AxesSubplot at 0x7faa50322898>"
      ]
     },
     "execution_count": 28,
     "metadata": {},
     "output_type": "execute_result"
    },
    {
     "data": {
      "image/png": "[encoded data removed]",
      "text/plain": [
       "<Figure size 432x288 with 2 Axes>"
      ]
     },
     "metadata": {
      "needs_background": "light"
     },
     "output_type": "display_data"
    }
   ],
   "source": [
    "y=LabelEncoder().fit_transform(categorical_df[dep_var].values)\n",
    "cm = confusion_matrix(y, prediction_y)\n",
    "sn.heatmap(cm, annot=True, fmt='g', cmap='Blues', xticklabels=['Defacement','Benign','Malware','Phishing','Spam'],\n",
    "           yticklabels=['Defacement','Benign','Malware','Phishing','Spam'])"
   ]
  },
  {
   "cell_type": "markdown",
   "metadata": {
    "colab_type": "text",
    "id": "UeVn3oV7plyQ"
   },
   "source": [
    "#### Graph of Categorical Cross-Entropy Model"
   ]
  },
  {
   "cell_type": "code",
   "execution_count": 29,
   "metadata": {
    "colab": {
     "base_uri": "https://localhost:8080/",
     "height": 295
    },
    "colab_type": "code",
    "id": "GzH_f_T3plyU",
    "outputId": "b0cedaa0-4883-4595-da9e-e02eb137786f"
   },
   "outputs": [
    {
     "data": {
      "image/png": "[encoded data removed]",
      "text/plain": [
       "<Figure size 432x288 with 1 Axes>"
      ]
     },
     "metadata": {
      "needs_background": "light"
     },
     "output_type": "display_data"
    }
   ],
   "source": [
    "plotAccuracy('Categorical Model Accuracy')"
   ]
  },
  {
   "cell_type": "code",
   "execution_count": 30,
   "metadata": {
    "scrolled": true
   },
   "outputs": [
    {
     "data": {
      "image/png": "[encoded data removed]",
      "text/plain": [
       "<Figure size 432x288 with 1 Axes>"
      ]
     },
     "metadata": {
      "needs_background": "light"
     },
     "output_type": "display_data"
    }
   ],
   "source": [
    "plotLoss('Categorical Model Loss')"
   ]
  },
  {
   "cell_type": "markdown",
   "metadata": {
    "colab_type": "text",
    "id": "XtWNPIlMplyY"
   },
   "source": [
    "### Write results to file"
   ]
  },
  {
   "cell_type": "code",
   "execution_count": 31,
   "metadata": {
    "colab": {},
    "colab_type": "code",
    "id": "_YP-tODMplyZ"
   },
   "outputs": [],
   "source": [
    "def saveLog():\n",
    "    resultFile = os.path.join(resultPath, dataFile)\n",
    "    with open('{}.result'.format(resultFile), 'a') as fout:\n",
    "        fout.write('{} results...'.format(model_name+model_extension))\n",
    "        fout.write('\\taccuracy: {:.2f} loss: {:.2f} time_elapsed: {} min {} sec\\n'.format(acc, loss, Minutes, end_time))"
   ]
  },
  {
   "cell_type": "code",
   "execution_count": 32,
   "metadata": {},
   "outputs": [],
   "source": [
    "saveLog()"
   ]
  },
  {
   "cell_type": "markdown",
   "metadata": {
    "colab_type": "text",
    "id": "aOJNLEDfplyc"
   },
   "source": [
    "## Binary Classification of Labels\n",
    "> Change all malicious labels to value 1 and benign label to 0"
   ]
  },
  {
   "cell_type": "markdown",
   "metadata": {
    "colab_type": "text",
    "id": "QH5SPeyD1zUX"
   },
   "source": [
    "### Binarize Data"
   ]
  },
  {
   "cell_type": "code",
   "execution_count": 33,
   "metadata": {
    "colab": {},
    "colab_type": "code",
    "id": "QzpGC1TYplyd"
   },
   "outputs": [],
   "source": [
    "lblTypes = list(lblTypes)\n",
    "lblTypes = dict(zip(lblTypes, [1, 1, 1, 1, 1]))\n",
    "lblTypes['benign'] = 0"
   ]
  },
  {
   "cell_type": "code",
   "execution_count": 34,
   "metadata": {
    "colab": {},
    "colab_type": "code",
    "id": "IQ5kYPnTplyg"
   },
   "outputs": [],
   "source": [
    "binary_df = df1.copy()\n",
    "binary_df[label] = binary_df[label].map(lblTypes)"
   ]
  },
  {
   "cell_type": "markdown",
   "metadata": {
    "colab_type": "text",
    "id": "taziMECuplyj"
   },
   "source": [
    "### Train the Binary Model"
   ]
  },
  {
   "cell_type": "code",
   "execution_count": 35,
   "metadata": {
    "colab": {
     "base_uri": "https://localhost:8080/",
     "height": 1000
    },
    "colab_type": "code",
    "id": "llXRdiQ1plyk",
    "outputId": "b8302b4a-c633-4a7d-edf0-e2609437a88f"
   },
   "outputs": [
    {
     "name": "stderr",
     "output_type": "stream",
     "text": [
      "/usr/lib/python3.7/site-packages/sklearn/preprocessing/data.py:645: DataConversionWarning: Data with input dtype int64, float64 were all converted to float64 by StandardScaler.\n",
      "  return self.partial_fit(X, y)\n",
      "/usr/lib/python3.7/site-packages/sklearn/base.py:464: DataConversionWarning: Data with input dtype int64, float64 were all converted to float64 by StandardScaler.\n",
      "  return self.fit(X, **fit_params).transform(X)\n"
     ]
    },
    {
     "name": "stdout",
     "output_type": "stream",
     "text": [
      "Running fold #1\n",
      "Binary Cross-Entropy Loss Function\n"
     ]
    },
    {
     "name": "stderr",
     "output_type": "stream",
     "text": [
      "W0723 17:56:07.264759 140372359329408 deprecation.py:323] From /usr/lib/python3.7/site-packages/tensorflow/python/ops/math_grad.py:1250: add_dispatch_support.<locals>.wrapper (from tensorflow.python.ops.array_ops) is deprecated and will be removed in a future version.\n",
      "Instructions for updating:\n",
      "Use tf.where in 2.0, which has the same broadcast rule as np.where\n"
     ]
    },
    {
     "name": "stdout",
     "output_type": "stream",
     "text": [
      "Running fold #2\n",
      "Binary Cross-Entropy Loss Function\n",
      "Running fold #3\n",
      "Binary Cross-Entropy Loss Function\n",
      "Running fold #4\n",
      "Binary Cross-Entropy Loss Function\n",
      "Running fold #5\n",
      "Binary Cross-Entropy Loss Function\n",
      "Running fold #6\n",
      "Binary Cross-Entropy Loss Function\n",
      "Running fold #7\n",
      "Binary Cross-Entropy Loss Function\n",
      "Running fold #8\n",
      "Binary Cross-Entropy Loss Function\n",
      "Running fold #9\n",
      "Binary Cross-Entropy Loss Function\n",
      "Running fold #10\n",
      "Binary Cross-Entropy Loss Function\n",
      "Time to complete 12 min 747.76748919487 sec\n"
     ]
    }
   ],
   "source": [
    "model, history, X , encoded_y = experiment(binary_df)"
   ]
  },
  {
   "cell_type": "markdown",
   "metadata": {
    "colab_type": "text",
    "id": "Ta-ruG0K1eVN"
   },
   "source": [
    "### Model Results"
   ]
  },
  {
   "cell_type": "code",
   "execution_count": 36,
   "metadata": {
    "colab": {
     "base_uri": "https://localhost:8080/",
     "height": 88
    },
    "colab_type": "code",
    "id": "6FV5LefXplyt",
    "outputId": "c17805d8-03f2-4c99-cd6b-22e4a472ce26"
   },
   "outputs": [
    {
     "name": "stdout",
     "output_type": "stream",
     "text": [
      "36697/36697 [==============================] - 1s 40us/sample - loss: 0.0425 - acc: 0.9859\n",
      "['loss', 'acc']\n",
      "Baseline: accuracy: 98.59%: loss: 0.04\n"
     ]
    }
   ],
   "source": [
    "scores = model.evaluate(X,encoded_y, verbose=1)\n",
    "print(model.metrics_names)\n",
    "acc, loss = scores[1]*100, scores[0]\n",
    "print('Baseline: accuracy: {:.2f}%: loss: {:.2f}'.format(acc, loss))"
   ]
  },
  {
   "cell_type": "markdown",
   "metadata": {
    "colab_type": "text",
    "id": "DviMoEPX1hxZ"
   },
   "source": [
    "#### Predictions"
   ]
  },
  {
   "cell_type": "code",
   "execution_count": 37,
   "metadata": {
    "colab": {
     "base_uri": "https://localhost:8080/",
     "height": 34
    },
    "colab_type": "code",
    "id": "0kU7Ncq7ply2",
    "outputId": "2b2236bf-cd33-4ed1-84af-c2d8f8da584f"
   },
   "outputs": [
    {
     "name": "stdout",
     "output_type": "stream",
     "text": [
      "36697/36697 [==============================] - 1s 25us/sample\n"
     ]
    }
   ],
   "source": [
    "prediction_y = model.predict_classes(X, batch_size=batch_size, verbose=1)"
   ]
  },
  {
   "cell_type": "code",
   "execution_count": 38,
   "metadata": {
    "colab": {
     "base_uri": "https://localhost:8080/",
     "height": 286
    },
    "colab_type": "code",
    "id": "0T2dZA9Nply8",
    "outputId": "866a4685-8ca6-4b91-cc75-ce81459573c2"
   },
   "outputs": [
    {
     "data": {
      "text/plain": [
       "<matplotlib.axes._subplots.AxesSubplot at 0x7faa44468240>"
      ]
     },
     "execution_count": 38,
     "metadata": {},
     "output_type": "execute_result"
    },
    {
     "data": {
      "image/png": "[encoded data removed]",
      "text/plain": [
       "<Figure size 432x288 with 2 Axes>"
      ]
     },
     "metadata": {
      "needs_background": "light"
     },
     "output_type": "display_data"
    }
   ],
   "source": [
    "y=LabelEncoder().fit_transform(binary_df[dep_var].values)\n",
    "cm = confusion_matrix(y, prediction_y)\n",
    "sn.heatmap(cm, cmap='Blues', annot=True, fmt='g', xticklabels=['Benign', 'Malicious'],\n",
    "        yticklabels=['Benign', 'Malicious'])"
   ]
  },
  {
   "cell_type": "markdown",
   "metadata": {
    "colab_type": "text",
    "id": "4YdW3jb8plzB"
   },
   "source": [
    "#### Graph of Binary Cross-Entropy Model"
   ]
  },
  {
   "cell_type": "code",
   "execution_count": 39,
   "metadata": {
    "colab": {
     "base_uri": "https://localhost:8080/",
     "height": 295
    },
    "colab_type": "code",
    "id": "AzeLN1BSplzC",
    "outputId": "ff97254c-5c20-4f1d-8bbb-1c85eb90b44f"
   },
   "outputs": [
    {
     "data": {
      "image/png": "[encoded data removed]",
      "text/plain": [
       "<Figure size 432x288 with 1 Axes>"
      ]
     },
     "metadata": {
      "needs_background": "light"
     },
     "output_type": "display_data"
    }
   ],
   "source": [
    "plotAccuracy('Binary Model Accuracy')"
   ]
  },
  {
   "cell_type": "code",
   "execution_count": 40,
   "metadata": {},
   "outputs": [
    {
     "data": {
      "image/png": "[encoded data removed]",
      "text/plain": [
       "<Figure size 432x288 with 1 Axes>"
      ]
     },
     "metadata": {
      "needs_background": "light"
     },
     "output_type": "display_data"
    }
   ],
   "source": [
    "plotLoss('Binary Model Loss')"
   ]
  },
  {
   "cell_type": "markdown",
   "metadata": {
    "colab_type": "text",
    "id": "A8Il5_kL1oQt"
   },
   "source": [
    "### Write Results to File"
   ]
  },
  {
   "cell_type": "code",
   "execution_count": 41,
   "metadata": {
    "colab": {},
    "colab_type": "code",
    "id": "Qz6wRy6GplzH"
   },
   "outputs": [],
   "source": [
    "saveLog()"
   ]
  }
 ],
 "metadata": {
  "colab": {
   "collapsed_sections": [],
   "include_colab_link": true,
   "name": "Keras-Tensorflow-Experiments.ipynb",
   "provenance": [],
   "version": "0.3.2"
  },
  "kernelspec": {
   "display_name": "Python 3",
   "language": "python",
   "name": "python3"
  },
  "language_info": {
   "codemirror_mode": {
    "name": "ipython",
    "version": 3
   },
   "file_extension": ".py",
   "mimetype": "text/x-python",
   "name": "python",
   "nbconvert_exporter": "python",
   "pygments_lexer": "ipython3",
   "version": "3.7.3"
  }
 },
 "nbformat": 4,
 "nbformat_minor": 1
}
