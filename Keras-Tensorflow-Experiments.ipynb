{
 "cells": [
  {
   "cell_type": "markdown",
   "metadata": {
    "colab_type": "text",
    "id": "view-in-github"
   },
   "source": [
    "<a href=\"https://colab.research.google.com/github/rambasnet/DeepLearningMaliciousURLs/blob/master/Keras_Tensorflow_Experiments.ipynb\" target=\"_parent\"><img src=\"https://colab.research.google.com/assets/colab-badge.svg\" alt=\"Open In Colab\"/></a>"
   ]
  },
  {
   "cell_type": "markdown",
   "metadata": {},
   "source": [
    "# Keras-Tensorflow Experiments\n",
    "##### Sources:\n",
    " + https://www.tensorflow.org/tutorials/keras/overfit_and_underfit\n",
    " + https://www.kaggle.com/grafiszti/98-59-acc-on-10-fold-with-testing-7-keras-models\n",
    " + https://keras.io/visualization/"
   ]
  },
  {
   "cell_type": "markdown",
   "metadata": {
    "colab_type": "text",
    "id": "GbTWr3JeuzLm"
   },
   "source": [
    "# Include needed files. "
   ]
  },
  {
   "cell_type": "code",
   "execution_count": 1,
   "metadata": {
    "colab": {},
    "colab_type": "code",
    "id": "sBMU4MElu9GB"
   },
   "outputs": [
    {
     "name": "stderr",
     "output_type": "stream",
     "text": [
      "Using TensorFlow backend.\n"
     ]
    }
   ],
   "source": [
    "import numpy as np\n",
    "import pandas as pd\n",
    "import tensorflow as tf\n",
    "\n",
    "import csv\n",
    "import os\n",
    "import sys\n",
    "import glob\n",
    "import operator\n",
    "import time\n",
    "\n",
    "import seaborn as sn\n",
    "\n",
    "import matplotlib.pyplot as plt\n",
    "\n",
    "from keras.layers import Dense, Activation\n",
    "from keras.utils.np_utils import to_categorical, normalize\n",
    "\n",
    "from sklearn.model_selection import StratifiedKFold\n",
    "from sklearn.preprocessing import LabelEncoder, StandardScaler\n",
    "from sklearn.utils import shuffle\n",
    "from sklearn.metrics import confusion_matrix\n",
    "\n",
    "from tensorflow import keras\n",
    "from tensorflow.keras.models import Sequential, load_model\n",
    "from tensorflow.keras.layers import Dense, Activation, BatchNormalization, Dropout\n",
    "from tensorflow.keras.callbacks import TensorBoard"
   ]
  },
  {
   "cell_type": "markdown",
   "metadata": {
    "colab_type": "text",
    "id": "07jwatic7-Jk"
   },
   "source": [
    "# Include Dataset\n"
   ]
  },
  {
   "cell_type": "code",
   "execution_count": 2,
   "metadata": {
    "colab": {},
    "colab_type": "code",
    "id": "ngdiiVOJ8Bt4"
   },
   "outputs": [],
   "source": [
    "%%bash\n",
    "URL=https://iscxdownloads.cs.unb.ca/iscxdownloads/ISCX-URL-2016/\n",
    "FILES=(ISCXURL2016.zip) \n",
    "for FILE in ${FILES[*]}; do\n",
    "    if [ ! -f \"$FILE\" ]; then\n",
    "        printf \"downloading %s\\n\" $FILE\n",
    "        curl -O $URL$FILE\n",
    "        # unzip files\n",
    "        echo 'unzipping ' $FILE\n",
    "        unzip -o $FILE #overwrite exiting files/folders if exists\n",
    "    fi\n",
    "done"
   ]
  },
  {
   "cell_type": "markdown",
   "metadata": {
    "colab_type": "text",
    "id": "MIqy2Xmc8HoD"
   },
   "source": [
    "### Check Dataset"
   ]
  },
  {
   "cell_type": "code",
   "execution_count": 3,
   "metadata": {
    "colab": {
     "base_uri": "https://localhost:8080/",
     "height": 221
    },
    "colab_type": "code",
    "id": "zl2T8MRq8PNT",
    "outputId": "12105f44-7ad8-4d64-d0b5-c685a4368912"
   },
   "outputs": [
    {
     "name": "stdout",
     "output_type": "stream",
     "text": [
      "All_BestFirst.csv\t      Malware_Infogain.csv\r\n",
      "All_BestFirst_test.csv\t      Malware_Infogain_test.csv\r\n",
      "All.csv\t\t\t      Phishing_BestFirst.csv\r\n",
      "All.csv.pickle\t\t      Phishing.csv\r\n",
      "All_Infogain.csv\t      Phishing_Infogain.csv\r\n",
      "All_Infogain_test.csv\t      Phishing_Infogain_test.csv\r\n",
      "Defacement_BestFirst.csv      Spam_BestFirst.csv\r\n",
      "Defacement.csv\t\t      Spam_BestFirst_test.csv\r\n",
      "Defacement_Infogain.csv       Spam.csv\r\n",
      "Defacement_Infogain_test.csv  Spam_Infogain.csv\r\n",
      "Malware_BestFirst.csv\t      Spam_Infogain_test.csv\r\n",
      "Malware.csv\t\t      URL\r\n"
     ]
    }
   ],
   "source": [
    "! ls FinalDataset"
   ]
  },
  {
   "cell_type": "markdown",
   "metadata": {
    "colab_type": "text",
    "id": "IeCm3LP08XOy"
   },
   "source": [
    "# Set some data\n",
    "> Some data needs to be set, we need to ensure that constants are set properly. These are important but will not be used until later."
   ]
  },
  {
   "cell_type": "code",
   "execution_count": 4,
   "metadata": {
    "colab": {},
    "colab_type": "code",
    "id": "qJuZTgd0u_WG"
   },
   "outputs": [],
   "source": [
    "resultPath = 'results_keras_tensorflow'\n",
    "if not os.path.exists(resultPath):\n",
    "   print('result path {} created.'.format(resultPath))\n",
    "   os.mkdir(resultPath)"
   ]
  },
  {
   "cell_type": "code",
   "execution_count": 5,
   "metadata": {
    "colab": {},
    "colab_type": "code",
    "id": "EHnzBhcavSR-"
   },
   "outputs": [],
   "source": [
    "model_name=\"init\""
   ]
  },
  {
   "cell_type": "markdown",
   "metadata": {
    "colab_type": "text",
    "id": "6Vo0Cwne9wRJ"
   },
   "source": [
    "# Functions for Testing\n",
    "> Now that our data has been collected it is time to create functions that will be used in later tests."
   ]
  },
  {
   "cell_type": "code",
   "execution_count": 6,
   "metadata": {
    "colab": {},
    "colab_type": "code",
    "id": "DFtoJCs_7T8p"
   },
   "outputs": [],
   "source": [
    "def loadData(csvFile):\n",
    "    pickleDump = '{}.pickle'.format(csvFile)\n",
    "    if os.path.exists(pickleDump):\n",
    "        df = pd.read_pickle(pickleDump)\n",
    "    else:\n",
    "        df = pd.read_csv(csvFile, low_memory=False, na_values='NaN')\n",
    "        # clean data\n",
    "        # strip the whitspaces from column names\n",
    "        df = df.rename(str.strip, axis='columns')\n",
    "        #df.drop(columns=[], inplace=True)\n",
    "        # drop missing values/NaN etc.\n",
    "        #df.dropna(inplace=True)\n",
    "        # drop Infinity rows and NaN string from each column\n",
    "        for col in df.columns:\n",
    "            indexNames = df[df[col]=='Infinity'].index\n",
    "            if not indexNames.empty:\n",
    "                print('deleting {} rows with Infinity in column {}'.format(len(indexNames), col))\n",
    "                df.drop(indexNames, inplace=True)\n",
    "        \n",
    "        df.to_pickle(pickleDump)\n",
    "    \n",
    "    return df\n"
   ]
  },
  {
   "cell_type": "code",
   "execution_count": 7,
   "metadata": {
    "colab": {},
    "colab_type": "code",
    "id": "GB51N0iLCK9J"
   },
   "outputs": [],
   "source": [
    "def baseline_model(inputDim=-1,batch_size=32,outputDim=-1):\n",
    "    global model_name, model_extension\n",
    "    model = tf.keras.Sequential([\n",
    "        Dense(128, activation='relu', input_shape=(inputDim,)),\n",
    "        BatchNormalization(),\n",
    "        Dropout(.5),\n",
    "        Dense(batch_size, activation='relu'),\n",
    "        BatchNormalization(),\n",
    "        Dropout(.5),\n",
    "        Dense(outputDim, activation='softmax')\n",
    "    ]) #This is the output layer\n",
    "\n",
    "    if outputDim > 2:\n",
    "        print('Categorical Cross-Entropy Loss Function')\n",
    "        model_extension = \"_categorical\"\n",
    "        model.compile(optimizer='adam',\n",
    "                 loss='categorical_crossentropy',\n",
    "                 metrics=['accuracy'])\n",
    "    else:\n",
    "        model_extension = \"_binary\"\n",
    "        print('Binary Cross-Entropy Loss Function')\n",
    "        model.compile(optimizer='adam',\n",
    "                loss='binary_crossentropy',\n",
    "                metrics=['accuracy'])\n",
    "\n",
    "    return model"
   ]
  },
  {
   "cell_type": "code",
   "execution_count": 8,
   "metadata": {},
   "outputs": [],
   "source": [
    "def encode_labels(dataframe):\n",
    "    dataframe=dataframe.copy()\n",
    "    data_y=dataframe.pop(dep_var)\n",
    "    encoder = LabelEncoder()\n",
    "    encoder.fit(data_y)\n",
    "    data_y = encoder.transform(data_y)\n",
    "    dummy_y = to_categorical(data_y)\n",
    "    return dummy_y"
   ]
  },
  {
   "cell_type": "markdown",
   "metadata": {
    "colab_type": "text",
    "id": "GkZ-uZuz9_pi"
   },
   "source": [
    "# Load Data and Clean\n",
    "> First we will load our data, scan the columns for Infinity and NaN values, and remove those columns from testing. "
   ]
  },
  {
   "cell_type": "code",
   "execution_count": 9,
   "metadata": {
    "colab": {},
    "colab_type": "code",
    "id": "h_7Y2Ytp7xa-"
   },
   "outputs": [],
   "source": [
    "df1 = loadData('FinalDataset/All.csv')\n",
    "df1=df1.dropna(axis=1)"
   ]
  },
  {
   "cell_type": "markdown",
   "metadata": {},
   "source": [
    "## Display Data Columns"
   ]
  },
  {
   "cell_type": "code",
   "execution_count": 10,
   "metadata": {
    "colab": {
     "base_uri": "https://localhost:8080/",
     "height": 459
    },
    "colab_type": "code",
    "id": "4ZwM-GC1-LPj",
    "outputId": "256f437f-fc74-446f-ab21-7bef70cfcb99"
   },
   "outputs": [
    {
     "data": {
      "text/plain": [
       "Index(['Querylength', 'domain_token_count', 'path_token_count',\n",
       "       'avgdomaintokenlen', 'longdomaintokenlen', 'tld', 'charcompvowels',\n",
       "       'charcompace', 'ldl_url', 'ldl_domain', 'ldl_path', 'ldl_filename',\n",
       "       'ldl_getArg', 'dld_url', 'dld_domain', 'dld_path', 'dld_filename',\n",
       "       'dld_getArg', 'urlLen', 'domainlength', 'pathLength', 'subDirLen',\n",
       "       'fileNameLen', 'this.fileExtLen', 'ArgLen', 'pathurlRatio',\n",
       "       'ArgUrlRatio', 'argDomanRatio', 'domainUrlRatio', 'pathDomainRatio',\n",
       "       'argPathRatio', 'executable', 'isPortEighty', 'NumberofDotsinURL',\n",
       "       'ISIpAddressInDomainName', 'CharacterContinuityRate',\n",
       "       'LongestVariableValue', 'URL_DigitCount', 'host_DigitCount',\n",
       "       'Directory_DigitCount', 'File_name_DigitCount', 'Extension_DigitCount',\n",
       "       'Query_DigitCount', 'URL_Letter_Count', 'host_letter_count',\n",
       "       'Directory_LetterCount', 'Filename_LetterCount',\n",
       "       'Extension_LetterCount', 'Query_LetterCount', 'LongestPathTokenLength',\n",
       "       'Domain_LongestWordLength', 'Path_LongestWordLength',\n",
       "       'sub-Directory_LongestWordLength', 'Arguments_LongestWordLength',\n",
       "       'URL_sensitiveWord', 'URLQueries_variable', 'spcharUrl',\n",
       "       'delimeter_Domain', 'delimeter_path', 'delimeter_Count',\n",
       "       'NumberRate_URL', 'NumberRate_Domain', 'NumberRate_DirectoryName',\n",
       "       'NumberRate_FileName', 'SymbolCount_URL', 'SymbolCount_Domain',\n",
       "       'SymbolCount_Directoryname', 'SymbolCount_FileName',\n",
       "       'SymbolCount_Extension', 'SymbolCount_Afterpath', 'Entropy_URL',\n",
       "       'Entropy_Domain', 'URL_Type_obf_Type'],\n",
       "      dtype='object')"
      ]
     },
     "execution_count": 10,
     "metadata": {},
     "output_type": "execute_result"
    }
   ],
   "source": [
    "df1.columns"
   ]
  },
  {
   "cell_type": "markdown",
   "metadata": {},
   "source": [
    "## Display Matrix Shape of Data\n",
    "> In the format (samples, columns)"
   ]
  },
  {
   "cell_type": "code",
   "execution_count": 11,
   "metadata": {
    "colab": {
     "base_uri": "https://localhost:8080/",
     "height": 34
    },
    "colab_type": "code",
    "id": "NBvgfW-J--g8",
    "outputId": "29f5e371-9bda-4cfd-9268-3d8e15809c38"
   },
   "outputs": [
    {
     "data": {
      "text/plain": [
       "(36697, 73)"
      ]
     },
     "execution_count": 11,
     "metadata": {},
     "output_type": "execute_result"
    }
   ],
   "source": [
    "df1.shape"
   ]
  },
  {
   "cell_type": "markdown",
   "metadata": {},
   "source": [
    "## Display First Samples in Data"
   ]
  },
  {
   "cell_type": "code",
   "execution_count": 12,
   "metadata": {
    "colab": {
     "base_uri": "https://localhost:8080/",
     "height": 241
    },
    "colab_type": "code",
    "id": "9eYtvDf5AAR5",
    "outputId": "31b59103-1aa1-454a-acbd-07cbd9648317"
   },
   "outputs": [
    {
     "data": {
      "text/html": [
       "<div>\n",
       "<style scoped>\n",
       "    .dataframe tbody tr th:only-of-type {\n",
       "        vertical-align: middle;\n",
       "    }\n",
       "\n",
       "    .dataframe tbody tr th {\n",
       "        vertical-align: top;\n",
       "    }\n",
       "\n",
       "    .dataframe thead th {\n",
       "        text-align: right;\n",
       "    }\n",
       "</style>\n",
       "<table border=\"1\" class=\"dataframe\">\n",
       "  <thead>\n",
       "    <tr style=\"text-align: right;\">\n",
       "      <th></th>\n",
       "      <th>Querylength</th>\n",
       "      <th>domain_token_count</th>\n",
       "      <th>path_token_count</th>\n",
       "      <th>avgdomaintokenlen</th>\n",
       "      <th>longdomaintokenlen</th>\n",
       "      <th>tld</th>\n",
       "      <th>charcompvowels</th>\n",
       "      <th>charcompace</th>\n",
       "      <th>ldl_url</th>\n",
       "      <th>ldl_domain</th>\n",
       "      <th>...</th>\n",
       "      <th>NumberRate_FileName</th>\n",
       "      <th>SymbolCount_URL</th>\n",
       "      <th>SymbolCount_Domain</th>\n",
       "      <th>SymbolCount_Directoryname</th>\n",
       "      <th>SymbolCount_FileName</th>\n",
       "      <th>SymbolCount_Extension</th>\n",
       "      <th>SymbolCount_Afterpath</th>\n",
       "      <th>Entropy_URL</th>\n",
       "      <th>Entropy_Domain</th>\n",
       "      <th>URL_Type_obf_Type</th>\n",
       "    </tr>\n",
       "  </thead>\n",
       "  <tbody>\n",
       "    <tr>\n",
       "      <th>0</th>\n",
       "      <td>0</td>\n",
       "      <td>4</td>\n",
       "      <td>5</td>\n",
       "      <td>5.5</td>\n",
       "      <td>14</td>\n",
       "      <td>4</td>\n",
       "      <td>8</td>\n",
       "      <td>3</td>\n",
       "      <td>0</td>\n",
       "      <td>0</td>\n",
       "      <td>...</td>\n",
       "      <td>0.066667</td>\n",
       "      <td>8</td>\n",
       "      <td>3</td>\n",
       "      <td>2</td>\n",
       "      <td>1</td>\n",
       "      <td>0</td>\n",
       "      <td>-1</td>\n",
       "      <td>0.726298</td>\n",
       "      <td>0.784493</td>\n",
       "      <td>Defacement</td>\n",
       "    </tr>\n",
       "    <tr>\n",
       "      <th>1</th>\n",
       "      <td>0</td>\n",
       "      <td>4</td>\n",
       "      <td>5</td>\n",
       "      <td>5.5</td>\n",
       "      <td>14</td>\n",
       "      <td>4</td>\n",
       "      <td>12</td>\n",
       "      <td>4</td>\n",
       "      <td>0</td>\n",
       "      <td>0</td>\n",
       "      <td>...</td>\n",
       "      <td>0.000000</td>\n",
       "      <td>8</td>\n",
       "      <td>3</td>\n",
       "      <td>3</td>\n",
       "      <td>0</td>\n",
       "      <td>0</td>\n",
       "      <td>-1</td>\n",
       "      <td>0.688635</td>\n",
       "      <td>0.784493</td>\n",
       "      <td>Defacement</td>\n",
       "    </tr>\n",
       "    <tr>\n",
       "      <th>2</th>\n",
       "      <td>0</td>\n",
       "      <td>4</td>\n",
       "      <td>5</td>\n",
       "      <td>5.5</td>\n",
       "      <td>14</td>\n",
       "      <td>4</td>\n",
       "      <td>12</td>\n",
       "      <td>5</td>\n",
       "      <td>0</td>\n",
       "      <td>0</td>\n",
       "      <td>...</td>\n",
       "      <td>0.000000</td>\n",
       "      <td>8</td>\n",
       "      <td>3</td>\n",
       "      <td>3</td>\n",
       "      <td>0</td>\n",
       "      <td>0</td>\n",
       "      <td>-1</td>\n",
       "      <td>0.695049</td>\n",
       "      <td>0.784493</td>\n",
       "      <td>Defacement</td>\n",
       "    </tr>\n",
       "    <tr>\n",
       "      <th>3</th>\n",
       "      <td>0</td>\n",
       "      <td>4</td>\n",
       "      <td>12</td>\n",
       "      <td>5.5</td>\n",
       "      <td>14</td>\n",
       "      <td>4</td>\n",
       "      <td>32</td>\n",
       "      <td>16</td>\n",
       "      <td>0</td>\n",
       "      <td>0</td>\n",
       "      <td>...</td>\n",
       "      <td>0.000000</td>\n",
       "      <td>8</td>\n",
       "      <td>3</td>\n",
       "      <td>3</td>\n",
       "      <td>0</td>\n",
       "      <td>0</td>\n",
       "      <td>-1</td>\n",
       "      <td>0.640130</td>\n",
       "      <td>0.784493</td>\n",
       "      <td>Defacement</td>\n",
       "    </tr>\n",
       "    <tr>\n",
       "      <th>4</th>\n",
       "      <td>0</td>\n",
       "      <td>4</td>\n",
       "      <td>6</td>\n",
       "      <td>5.5</td>\n",
       "      <td>14</td>\n",
       "      <td>4</td>\n",
       "      <td>18</td>\n",
       "      <td>11</td>\n",
       "      <td>0</td>\n",
       "      <td>0</td>\n",
       "      <td>...</td>\n",
       "      <td>0.000000</td>\n",
       "      <td>8</td>\n",
       "      <td>3</td>\n",
       "      <td>3</td>\n",
       "      <td>0</td>\n",
       "      <td>0</td>\n",
       "      <td>-1</td>\n",
       "      <td>0.681307</td>\n",
       "      <td>0.784493</td>\n",
       "      <td>Defacement</td>\n",
       "    </tr>\n",
       "  </tbody>\n",
       "</table>\n",
       "<p>5 rows × 73 columns</p>\n",
       "</div>"
      ],
      "text/plain": [
       "   Querylength  domain_token_count  path_token_count  avgdomaintokenlen  \\\n",
       "0            0                   4                 5                5.5   \n",
       "1            0                   4                 5                5.5   \n",
       "2            0                   4                 5                5.5   \n",
       "3            0                   4                12                5.5   \n",
       "4            0                   4                 6                5.5   \n",
       "\n",
       "   longdomaintokenlen  tld  charcompvowels  charcompace  ldl_url  ldl_domain  \\\n",
       "0                  14    4               8            3        0           0   \n",
       "1                  14    4              12            4        0           0   \n",
       "2                  14    4              12            5        0           0   \n",
       "3                  14    4              32           16        0           0   \n",
       "4                  14    4              18           11        0           0   \n",
       "\n",
       "   ...  NumberRate_FileName  SymbolCount_URL  SymbolCount_Domain  \\\n",
       "0  ...             0.066667                8                   3   \n",
       "1  ...             0.000000                8                   3   \n",
       "2  ...             0.000000                8                   3   \n",
       "3  ...             0.000000                8                   3   \n",
       "4  ...             0.000000                8                   3   \n",
       "\n",
       "   SymbolCount_Directoryname  SymbolCount_FileName  SymbolCount_Extension  \\\n",
       "0                          2                     1                      0   \n",
       "1                          3                     0                      0   \n",
       "2                          3                     0                      0   \n",
       "3                          3                     0                      0   \n",
       "4                          3                     0                      0   \n",
       "\n",
       "   SymbolCount_Afterpath  Entropy_URL  Entropy_Domain  URL_Type_obf_Type  \n",
       "0                     -1     0.726298        0.784493         Defacement  \n",
       "1                     -1     0.688635        0.784493         Defacement  \n",
       "2                     -1     0.695049        0.784493         Defacement  \n",
       "3                     -1     0.640130        0.784493         Defacement  \n",
       "4                     -1     0.681307        0.784493         Defacement  \n",
       "\n",
       "[5 rows x 73 columns]"
      ]
     },
     "execution_count": 12,
     "metadata": {},
     "output_type": "execute_result"
    }
   ],
   "source": [
    "df1.head()"
   ]
  },
  {
   "cell_type": "markdown",
   "metadata": {},
   "source": [
    "## Display Last Samples in Data"
   ]
  },
  {
   "cell_type": "code",
   "execution_count": 13,
   "metadata": {},
   "outputs": [
    {
     "data": {
      "text/html": [
       "<div>\n",
       "<style scoped>\n",
       "    .dataframe tbody tr th:only-of-type {\n",
       "        vertical-align: middle;\n",
       "    }\n",
       "\n",
       "    .dataframe tbody tr th {\n",
       "        vertical-align: top;\n",
       "    }\n",
       "\n",
       "    .dataframe thead th {\n",
       "        text-align: right;\n",
       "    }\n",
       "</style>\n",
       "<table border=\"1\" class=\"dataframe\">\n",
       "  <thead>\n",
       "    <tr style=\"text-align: right;\">\n",
       "      <th></th>\n",
       "      <th>Querylength</th>\n",
       "      <th>domain_token_count</th>\n",
       "      <th>path_token_count</th>\n",
       "      <th>avgdomaintokenlen</th>\n",
       "      <th>longdomaintokenlen</th>\n",
       "      <th>tld</th>\n",
       "      <th>charcompvowels</th>\n",
       "      <th>charcompace</th>\n",
       "      <th>ldl_url</th>\n",
       "      <th>ldl_domain</th>\n",
       "      <th>...</th>\n",
       "      <th>NumberRate_FileName</th>\n",
       "      <th>SymbolCount_URL</th>\n",
       "      <th>SymbolCount_Domain</th>\n",
       "      <th>SymbolCount_Directoryname</th>\n",
       "      <th>SymbolCount_FileName</th>\n",
       "      <th>SymbolCount_Extension</th>\n",
       "      <th>SymbolCount_Afterpath</th>\n",
       "      <th>Entropy_URL</th>\n",
       "      <th>Entropy_Domain</th>\n",
       "      <th>URL_Type_obf_Type</th>\n",
       "    </tr>\n",
       "  </thead>\n",
       "  <tbody>\n",
       "    <tr>\n",
       "      <th>36702</th>\n",
       "      <td>29</td>\n",
       "      <td>4</td>\n",
       "      <td>14</td>\n",
       "      <td>5.750000</td>\n",
       "      <td>12</td>\n",
       "      <td>4</td>\n",
       "      <td>20</td>\n",
       "      <td>24</td>\n",
       "      <td>3</td>\n",
       "      <td>0</td>\n",
       "      <td>...</td>\n",
       "      <td>0.529412</td>\n",
       "      <td>19</td>\n",
       "      <td>3</td>\n",
       "      <td>11</td>\n",
       "      <td>3</td>\n",
       "      <td>2</td>\n",
       "      <td>7</td>\n",
       "      <td>0.690555</td>\n",
       "      <td>0.791265</td>\n",
       "      <td>spam</td>\n",
       "    </tr>\n",
       "    <tr>\n",
       "      <th>36703</th>\n",
       "      <td>0</td>\n",
       "      <td>4</td>\n",
       "      <td>13</td>\n",
       "      <td>3.750000</td>\n",
       "      <td>8</td>\n",
       "      <td>4</td>\n",
       "      <td>24</td>\n",
       "      <td>23</td>\n",
       "      <td>0</td>\n",
       "      <td>0</td>\n",
       "      <td>...</td>\n",
       "      <td>0.187500</td>\n",
       "      <td>23</td>\n",
       "      <td>3</td>\n",
       "      <td>2</td>\n",
       "      <td>16</td>\n",
       "      <td>15</td>\n",
       "      <td>-1</td>\n",
       "      <td>0.665492</td>\n",
       "      <td>0.820010</td>\n",
       "      <td>spam</td>\n",
       "    </tr>\n",
       "    <tr>\n",
       "      <th>36704</th>\n",
       "      <td>58</td>\n",
       "      <td>3</td>\n",
       "      <td>27</td>\n",
       "      <td>6.666666</td>\n",
       "      <td>16</td>\n",
       "      <td>3</td>\n",
       "      <td>41</td>\n",
       "      <td>34</td>\n",
       "      <td>20</td>\n",
       "      <td>0</td>\n",
       "      <td>...</td>\n",
       "      <td>0.377778</td>\n",
       "      <td>26</td>\n",
       "      <td>2</td>\n",
       "      <td>14</td>\n",
       "      <td>8</td>\n",
       "      <td>7</td>\n",
       "      <td>9</td>\n",
       "      <td>0.656807</td>\n",
       "      <td>0.801139</td>\n",
       "      <td>spam</td>\n",
       "    </tr>\n",
       "    <tr>\n",
       "      <th>36705</th>\n",
       "      <td>35</td>\n",
       "      <td>3</td>\n",
       "      <td>13</td>\n",
       "      <td>4.333334</td>\n",
       "      <td>9</td>\n",
       "      <td>3</td>\n",
       "      <td>15</td>\n",
       "      <td>13</td>\n",
       "      <td>7</td>\n",
       "      <td>0</td>\n",
       "      <td>...</td>\n",
       "      <td>0.284091</td>\n",
       "      <td>14</td>\n",
       "      <td>2</td>\n",
       "      <td>1</td>\n",
       "      <td>9</td>\n",
       "      <td>8</td>\n",
       "      <td>3</td>\n",
       "      <td>0.725963</td>\n",
       "      <td>0.897617</td>\n",
       "      <td>spam</td>\n",
       "    </tr>\n",
       "    <tr>\n",
       "      <th>36706</th>\n",
       "      <td>40</td>\n",
       "      <td>3</td>\n",
       "      <td>25</td>\n",
       "      <td>6.666666</td>\n",
       "      <td>16</td>\n",
       "      <td>3</td>\n",
       "      <td>35</td>\n",
       "      <td>31</td>\n",
       "      <td>19</td>\n",
       "      <td>0</td>\n",
       "      <td>...</td>\n",
       "      <td>0.365079</td>\n",
       "      <td>24</td>\n",
       "      <td>2</td>\n",
       "      <td>13</td>\n",
       "      <td>7</td>\n",
       "      <td>6</td>\n",
       "      <td>7</td>\n",
       "      <td>0.674351</td>\n",
       "      <td>0.801139</td>\n",
       "      <td>spam</td>\n",
       "    </tr>\n",
       "  </tbody>\n",
       "</table>\n",
       "<p>5 rows × 73 columns</p>\n",
       "</div>"
      ],
      "text/plain": [
       "       Querylength  domain_token_count  path_token_count  avgdomaintokenlen  \\\n",
       "36702           29                   4                14           5.750000   \n",
       "36703            0                   4                13           3.750000   \n",
       "36704           58                   3                27           6.666666   \n",
       "36705           35                   3                13           4.333334   \n",
       "36706           40                   3                25           6.666666   \n",
       "\n",
       "       longdomaintokenlen  tld  charcompvowels  charcompace  ldl_url  \\\n",
       "36702                  12    4              20           24        3   \n",
       "36703                   8    4              24           23        0   \n",
       "36704                  16    3              41           34       20   \n",
       "36705                   9    3              15           13        7   \n",
       "36706                  16    3              35           31       19   \n",
       "\n",
       "       ldl_domain  ...  NumberRate_FileName  SymbolCount_URL  \\\n",
       "36702           0  ...             0.529412               19   \n",
       "36703           0  ...             0.187500               23   \n",
       "36704           0  ...             0.377778               26   \n",
       "36705           0  ...             0.284091               14   \n",
       "36706           0  ...             0.365079               24   \n",
       "\n",
       "       SymbolCount_Domain  SymbolCount_Directoryname  SymbolCount_FileName  \\\n",
       "36702                   3                         11                     3   \n",
       "36703                   3                          2                    16   \n",
       "36704                   2                         14                     8   \n",
       "36705                   2                          1                     9   \n",
       "36706                   2                         13                     7   \n",
       "\n",
       "       SymbolCount_Extension  SymbolCount_Afterpath  Entropy_URL  \\\n",
       "36702                      2                      7     0.690555   \n",
       "36703                     15                     -1     0.665492   \n",
       "36704                      7                      9     0.656807   \n",
       "36705                      8                      3     0.725963   \n",
       "36706                      6                      7     0.674351   \n",
       "\n",
       "       Entropy_Domain  URL_Type_obf_Type  \n",
       "36702        0.791265               spam  \n",
       "36703        0.820010               spam  \n",
       "36704        0.801139               spam  \n",
       "36705        0.897617               spam  \n",
       "36706        0.801139               spam  \n",
       "\n",
       "[5 rows x 73 columns]"
      ]
     },
     "execution_count": 13,
     "metadata": {},
     "output_type": "execute_result"
    }
   ],
   "source": [
    "df1.tail()"
   ]
  },
  {
   "cell_type": "markdown",
   "metadata": {
    "colab_type": "text",
    "id": "f2zcKS_DAGcx"
   },
   "source": [
    "  # Experimenting with Final Dataset/All.csv\n",
    "  \n",
    "  #### Total Samples for each Type"
   ]
  },
  {
   "cell_type": "code",
   "execution_count": 14,
   "metadata": {
    "colab": {
     "base_uri": "https://localhost:8080/",
     "height": 102
    },
    "colab_type": "code",
    "id": "NuFeBCWJABj9",
    "outputId": "3c655ac5-0cfd-4290-9bd9-c17a1b217c10"
   },
   "outputs": [
    {
     "name": "stdout",
     "output_type": "stream",
     "text": [
      "| Defacement | 7930 |\n",
      "| benign | 7781 |\n",
      "| spam | 6698 |\n",
      "| malware | 6711 |\n",
      "| phishing | 7577 |\n"
     ]
    }
   ],
   "source": [
    "label = 'URL_Type_obf_Type'\n",
    "lblTypes=set(df1[label])\n",
    "for lbl in lblTypes:\n",
    "    print('| {} | {} |'.format(lbl, len(df1[df1[label] == lbl].index)))"
   ]
  },
  {
   "cell_type": "code",
   "execution_count": 15,
   "metadata": {
    "colab": {},
    "colab_type": "code",
    "id": "KlTOWuf8A_Yy"
   },
   "outputs": [],
   "source": [
    "dataPath = 'FinalDataset'\n",
    "dep_var = label"
   ]
  },
  {
   "cell_type": "markdown",
   "metadata": {},
   "source": [
    "## Cast column values to float\n",
    "> Values in this column register as object type, which isn't valid for testing, so cast them to float"
   ]
  },
  {
   "cell_type": "code",
   "execution_count": 16,
   "metadata": {
    "colab": {},
    "colab_type": "code",
    "id": "2nFBzqafCKkG"
   },
   "outputs": [],
   "source": [
    "df1.argPathRatio = df1['argPathRatio'].astype('float')"
   ]
  },
  {
   "cell_type": "markdown",
   "metadata": {
    "colab_type": "text",
    "id": "AaUqSRUiItig"
   },
   "source": [
    "## Experimenting with Tensorflow Keras"
   ]
  },
  {
   "cell_type": "markdown",
   "metadata": {
    "colab_type": "text",
    "id": "4c-GxIVIIZAR"
   },
   "source": [
    "#### Globals for Testing\n"
   ]
  },
  {
   "cell_type": "code",
   "execution_count": 17,
   "metadata": {
    "colab": {},
    "colab_type": "code",
    "id": "x-fMOCE2I7MI"
   },
   "outputs": [],
   "source": [
    "dataFile = 'All.csv'\n",
    "epochs=10\n",
    "batch_size=64"
   ]
  },
  {
   "cell_type": "markdown",
   "metadata": {},
   "source": [
    "#### Show uncoded label column"
   ]
  },
  {
   "cell_type": "code",
   "execution_count": 18,
   "metadata": {},
   "outputs": [
    {
     "data": {
      "text/plain": [
       "0        Defacement\n",
       "1        Defacement\n",
       "2        Defacement\n",
       "3        Defacement\n",
       "4        Defacement\n",
       "5        Defacement\n",
       "6        Defacement\n",
       "7        Defacement\n",
       "8        Defacement\n",
       "9        Defacement\n",
       "10       Defacement\n",
       "11       Defacement\n",
       "12       Defacement\n",
       "13       Defacement\n",
       "14       Defacement\n",
       "15       Defacement\n",
       "16       Defacement\n",
       "17       Defacement\n",
       "18       Defacement\n",
       "19       Defacement\n",
       "20       Defacement\n",
       "21       Defacement\n",
       "22       Defacement\n",
       "23       Defacement\n",
       "24       Defacement\n",
       "25       Defacement\n",
       "26       Defacement\n",
       "27       Defacement\n",
       "28       Defacement\n",
       "29       Defacement\n",
       "            ...    \n",
       "36677          spam\n",
       "36678          spam\n",
       "36679          spam\n",
       "36680          spam\n",
       "36681          spam\n",
       "36682          spam\n",
       "36683          spam\n",
       "36684          spam\n",
       "36685          spam\n",
       "36686          spam\n",
       "36687          spam\n",
       "36688          spam\n",
       "36689          spam\n",
       "36690          spam\n",
       "36691          spam\n",
       "36692          spam\n",
       "36693          spam\n",
       "36694          spam\n",
       "36695          spam\n",
       "36696          spam\n",
       "36697          spam\n",
       "36698          spam\n",
       "36699          spam\n",
       "36700          spam\n",
       "36701          spam\n",
       "36702          spam\n",
       "36703          spam\n",
       "36704          spam\n",
       "36705          spam\n",
       "36706          spam\n",
       "Name: URL_Type_obf_Type, Length: 36697, dtype: object"
      ]
     },
     "execution_count": 18,
     "metadata": {},
     "output_type": "execute_result"
    }
   ],
   "source": [
    "df1[dep_var]"
   ]
  },
  {
   "cell_type": "markdown",
   "metadata": {
    "colab_type": "text",
    "id": "ED-PijliFjJL"
   },
   "source": [
    "#### Logging Setup\n"
   ]
  },
  {
   "cell_type": "code",
   "execution_count": 19,
   "metadata": {},
   "outputs": [],
   "source": [
    "time_gen = int(time.time())\n",
    "\n",
    "global model_name\n",
    "model_name = f\"{dataFile}_{time_gen}\"\n",
    "\n",
    "tensorboard = TensorBoard(log_dir='keras_tensorflow_logs/{}'.format(model_name))"
   ]
  },
  {
   "cell_type": "markdown",
   "metadata": {},
   "source": [
    "#### Random seed for splitting"
   ]
  },
  {
   "cell_type": "code",
   "execution_count": 20,
   "metadata": {},
   "outputs": [],
   "source": [
    "seed = 7\n",
    "np.random.seed(seed)"
   ]
  },
  {
   "cell_type": "markdown",
   "metadata": {},
   "source": [
    "#### Function to determine train and validation indexes, and fit the data to the model we constructed"
   ]
  },
  {
   "cell_type": "code",
   "execution_count": 21,
   "metadata": {
    "colab": {},
    "colab_type": "code",
    "id": "y8TPcnYhFl_F"
   },
   "outputs": [],
   "source": [
    "def experiment(dataframe):\n",
    "    \n",
    "    #10-fold cross validation, choosing random indices for training and validation\n",
    "    kfold = StratifiedKFold(n_splits=10, shuffle=True, random_state=seed)\n",
    "    \n",
    "    # Encode the label column for model fitting\n",
    "    encoded_y = dataframe.copy()\n",
    "    encoded_y = encode_labels(encoded_y)\n",
    "    \n",
    "    # X is our data/features to train the model with\n",
    "    X=StandardScaler().fit_transform(dataframe.drop(dep_var, axis=1))\n",
    "\n",
    "    # Y is our labels to classify the data\n",
    "    y=LabelEncoder().fit_transform(dataframe[dep_var].values)\n",
    "\n",
    "    for index, (train_indices, val_indices) in enumerate(kfold.split(X, y)):\n",
    "        \n",
    "        xtrain, xval = X[train_indices], X[val_indices]\n",
    "        ytrain, yval = encoded_y[train_indices], encoded_y[val_indices]\n",
    "\n",
    "        inputDim=xtrain.shape[1]\n",
    "        outputDim=ytrain.shape[1]\n",
    "        print(\"Running fold #\" + str(index+1))\n",
    "\n",
    "        model = baseline_model(inputDim,batch_size,outputDim)\n",
    "        history = model.fit(xtrain, ytrain, epochs=epochs, validation_data=(xval,yval), callbacks=[tensorboard], batch_size=batch_size)\n",
    "        \n",
    "    return model, history, X, encoded_y"
   ]
  },
  {
   "cell_type": "markdown",
   "metadata": {},
   "source": [
    "### Run the experiment"
   ]
  },
  {
   "cell_type": "code",
   "execution_count": 22,
   "metadata": {},
   "outputs": [
    {
     "name": "stderr",
     "output_type": "stream",
     "text": [
      "/usr/lib/python3.7/site-packages/sklearn/preprocessing/data.py:645: DataConversionWarning: Data with input dtype int64, float64 were all converted to float64 by StandardScaler.\n",
      "  return self.partial_fit(X, y)\n",
      "/usr/lib/python3.7/site-packages/sklearn/base.py:464: DataConversionWarning: Data with input dtype int64, float64 were all converted to float64 by StandardScaler.\n",
      "  return self.fit(X, **fit_params).transform(X)\n",
      "WARNING: Logging before flag parsing goes to stderr.\n",
      "W0716 14:09:06.574294 140383684064896 deprecation.py:506] From /usr/lib/python3.7/site-packages/tensorflow/python/ops/init_ops.py:1251: calling VarianceScaling.__init__ (from tensorflow.python.ops.init_ops) with dtype is deprecated and will be removed in a future version.\n",
      "Instructions for updating:\n",
      "Call initializer instance with the dtype argument instead of passing it to the constructor\n"
     ]
    },
    {
     "name": "stdout",
     "output_type": "stream",
     "text": [
      "Running fold #1\n",
      "Categorical Cross-Entropy Loss Function\n",
      "Train on 33025 samples, validate on 3672 samples\n",
      "Epoch 1/10\n",
      "33025/33025 [==============================] - 2s 45us/sample - loss: 0.9832 - acc: 0.6500 - val_loss: 0.5058 - val_acc: 0.8208\n",
      "Epoch 2/10\n",
      "33025/33025 [==============================] - 1s 37us/sample - loss: 0.6528 - acc: 0.7634 - val_loss: 0.4073 - val_acc: 0.8578\n",
      "Epoch 3/10\n",
      "33025/33025 [==============================] - 1s 37us/sample - loss: 0.5707 - acc: 0.7918 - val_loss: 0.3571 - val_acc: 0.8796\n",
      "Epoch 4/10\n",
      "33025/33025 [==============================] - 1s 37us/sample - loss: 0.5121 - acc: 0.8140 - val_loss: 0.3279 - val_acc: 0.8845\n",
      "Epoch 5/10\n",
      "33025/33025 [==============================] - 1s 38us/sample - loss: 0.4767 - acc: 0.8303 - val_loss: 0.3045 - val_acc: 0.8973\n",
      "Epoch 6/10\n",
      "33025/33025 [==============================] - 1s 38us/sample - loss: 0.4505 - acc: 0.8376 - val_loss: 0.2889 - val_acc: 0.9009\n",
      "Epoch 7/10\n",
      "33025/33025 [==============================] - 1s 37us/sample - loss: 0.4235 - acc: 0.8491 - val_loss: 0.2701 - val_acc: 0.9101\n",
      "Epoch 8/10\n",
      "33025/33025 [==============================] - 1s 37us/sample - loss: 0.4068 - acc: 0.8554 - val_loss: 0.2615 - val_acc: 0.9107\n",
      "Epoch 9/10\n",
      "33025/33025 [==============================] - 1s 37us/sample - loss: 0.3928 - acc: 0.8624 - val_loss: 0.2512 - val_acc: 0.9101\n",
      "Epoch 10/10\n",
      "33025/33025 [==============================] - 1s 38us/sample - loss: 0.3717 - acc: 0.8686 - val_loss: 0.2454 - val_acc: 0.9169\n",
      "Running fold #2\n",
      "Categorical Cross-Entropy Loss Function\n",
      "Train on 33027 samples, validate on 3670 samples\n",
      "Epoch 1/10\n",
      "33027/33027 [==============================] - 2s 47us/sample - loss: 1.0003 - acc: 0.6384 - val_loss: 0.5130 - val_acc: 0.8213\n",
      "Epoch 2/10\n",
      "33027/33027 [==============================] - 1s 39us/sample - loss: 0.6905 - acc: 0.7460 - val_loss: 0.4337 - val_acc: 0.8411\n",
      "Epoch 3/10\n",
      "33027/33027 [==============================] - 1s 37us/sample - loss: 0.5870 - acc: 0.7849 - val_loss: 0.3729 - val_acc: 0.8706\n",
      "Epoch 4/10\n",
      "33027/33027 [==============================] - 1s 38us/sample - loss: 0.5358 - acc: 0.8073 - val_loss: 0.3455 - val_acc: 0.8766\n",
      "Epoch 5/10\n",
      "33027/33027 [==============================] - 1s 39us/sample - loss: 0.4979 - acc: 0.8205 - val_loss: 0.3094 - val_acc: 0.8864\n",
      "Epoch 6/10\n",
      "33027/33027 [==============================] - 1s 37us/sample - loss: 0.4681 - acc: 0.8326 - val_loss: 0.2974 - val_acc: 0.8902\n",
      "Epoch 7/10\n",
      "33027/33027 [==============================] - 1s 37us/sample - loss: 0.4482 - acc: 0.8421 - val_loss: 0.2820 - val_acc: 0.9019\n",
      "Epoch 8/10\n",
      "33027/33027 [==============================] - 1s 38us/sample - loss: 0.4345 - acc: 0.8474 - val_loss: 0.2634 - val_acc: 0.9093\n",
      "Epoch 9/10\n",
      "33027/33027 [==============================] - 1s 38us/sample - loss: 0.4106 - acc: 0.8539 - val_loss: 0.2559 - val_acc: 0.9150\n",
      "Epoch 10/10\n",
      "33027/33027 [==============================] - 1s 42us/sample - loss: 0.3950 - acc: 0.8597 - val_loss: 0.2462 - val_acc: 0.9093\n",
      "Running fold #3\n",
      "Categorical Cross-Entropy Loss Function\n",
      "Train on 33027 samples, validate on 3670 samples\n",
      "Epoch 1/10\n",
      "33027/33027 [==============================] - 2s 51us/sample - loss: 1.0155 - acc: 0.6362 - val_loss: 0.5364 - val_acc: 0.8117\n",
      "Epoch 2/10\n",
      "33027/33027 [==============================] - 1s 39us/sample - loss: 0.6651 - acc: 0.7563 - val_loss: 0.4414 - val_acc: 0.8452\n",
      "Epoch 3/10\n",
      "33027/33027 [==============================] - 1s 38us/sample - loss: 0.5738 - acc: 0.7900 - val_loss: 0.3878 - val_acc: 0.8662\n",
      "Epoch 4/10\n",
      "33027/33027 [==============================] - 1s 38us/sample - loss: 0.5183 - acc: 0.8111 - val_loss: 0.3461 - val_acc: 0.8798\n",
      "Epoch 5/10\n",
      "33027/33027 [==============================] - 1s 38us/sample - loss: 0.4828 - acc: 0.8270 - val_loss: 0.3191 - val_acc: 0.8864\n",
      "Epoch 6/10\n",
      "33027/33027 [==============================] - 1s 38us/sample - loss: 0.4564 - acc: 0.8362 - val_loss: 0.2995 - val_acc: 0.8973\n",
      "Epoch 7/10\n",
      "33027/33027 [==============================] - 1s 37us/sample - loss: 0.4308 - acc: 0.8459 - val_loss: 0.2937 - val_acc: 0.8970\n",
      "Epoch 8/10\n",
      "33027/33027 [==============================] - 1s 37us/sample - loss: 0.4274 - acc: 0.8474 - val_loss: 0.2703 - val_acc: 0.9054\n",
      "Epoch 9/10\n",
      "33027/33027 [==============================] - 1s 38us/sample - loss: 0.3966 - acc: 0.8602 - val_loss: 0.2590 - val_acc: 0.9153\n",
      "Epoch 10/10\n",
      "33027/33027 [==============================] - 1s 38us/sample - loss: 0.3995 - acc: 0.8584 - val_loss: 0.2624 - val_acc: 0.9079\n",
      "Running fold #4\n",
      "Categorical Cross-Entropy Loss Function\n",
      "Train on 33027 samples, validate on 3670 samples\n",
      "Epoch 1/10\n",
      "33027/33027 [==============================] - 2s 49us/sample - loss: 1.0094 - acc: 0.6382 - val_loss: 0.5647 - val_acc: 0.8074\n",
      "Epoch 2/10\n",
      "33027/33027 [==============================] - 1s 37us/sample - loss: 0.6821 - acc: 0.7519 - val_loss: 0.4614 - val_acc: 0.8401\n",
      "Epoch 3/10\n",
      "33027/33027 [==============================] - 1s 39us/sample - loss: 0.5828 - acc: 0.7888 - val_loss: 0.4060 - val_acc: 0.8550\n",
      "Epoch 4/10\n",
      "33027/33027 [==============================] - 1s 40us/sample - loss: 0.5298 - acc: 0.8127 - val_loss: 0.3637 - val_acc: 0.8738\n",
      "Epoch 5/10\n",
      "33027/33027 [==============================] - 1s 42us/sample - loss: 0.4873 - acc: 0.8234 - val_loss: 0.3332 - val_acc: 0.8850\n",
      "Epoch 6/10\n",
      "33027/33027 [==============================] - 1s 41us/sample - loss: 0.4603 - acc: 0.8354 - val_loss: 0.3172 - val_acc: 0.8907\n",
      "Epoch 7/10\n",
      "33027/33027 [==============================] - 1s 39us/sample - loss: 0.4405 - acc: 0.8403 - val_loss: 0.2982 - val_acc: 0.8951\n",
      "Epoch 8/10\n",
      "33027/33027 [==============================] - 1s 42us/sample - loss: 0.4153 - acc: 0.8522 - val_loss: 0.2809 - val_acc: 0.9019\n",
      "Epoch 9/10\n",
      "33027/33027 [==============================] - 1s 41us/sample - loss: 0.3999 - acc: 0.8597 - val_loss: 0.2625 - val_acc: 0.9090\n",
      "Epoch 10/10\n",
      "33027/33027 [==============================] - 1s 40us/sample - loss: 0.3965 - acc: 0.8594 - val_loss: 0.2660 - val_acc: 0.9063\n",
      "Running fold #5\n",
      "Categorical Cross-Entropy Loss Function\n",
      "Train on 33027 samples, validate on 3670 samples\n",
      "Epoch 1/10\n",
      "33027/33027 [==============================] - 2s 55us/sample - loss: 1.0016 - acc: 0.6374 - val_loss: 0.5450 - val_acc: 0.8177\n",
      "Epoch 2/10\n",
      "33027/33027 [==============================] - 1s 41us/sample - loss: 0.6744 - acc: 0.7531 - val_loss: 0.4469 - val_acc: 0.8480\n",
      "Epoch 3/10\n",
      "33027/33027 [==============================] - 1s 41us/sample - loss: 0.5711 - acc: 0.7941 - val_loss: 0.3845 - val_acc: 0.8670\n",
      "Epoch 4/10\n",
      "33027/33027 [==============================] - 1s 41us/sample - loss: 0.5145 - acc: 0.8153 - val_loss: 0.3587 - val_acc: 0.8741\n",
      "Epoch 5/10\n",
      "33027/33027 [==============================] - 1s 41us/sample - loss: 0.4707 - acc: 0.8337 - val_loss: 0.3215 - val_acc: 0.8826\n",
      "Epoch 6/10\n",
      "33027/33027 [==============================] - 1s 41us/sample - loss: 0.4573 - acc: 0.8369 - val_loss: 0.3044 - val_acc: 0.8929\n",
      "Epoch 7/10\n",
      "33027/33027 [==============================] - 1s 41us/sample - loss: 0.4279 - acc: 0.8474 - val_loss: 0.2946 - val_acc: 0.8973\n",
      "Epoch 8/10\n",
      "33027/33027 [==============================] - 1s 40us/sample - loss: 0.4134 - acc: 0.8538 - val_loss: 0.2751 - val_acc: 0.9057\n",
      "Epoch 9/10\n",
      "33027/33027 [==============================] - 1s 40us/sample - loss: 0.3978 - acc: 0.8604 - val_loss: 0.2651 - val_acc: 0.9046\n",
      "Epoch 10/10\n",
      "33027/33027 [==============================] - 1s 41us/sample - loss: 0.3792 - acc: 0.8671 - val_loss: 0.2661 - val_acc: 0.9022\n",
      "Running fold #6\n",
      "Categorical Cross-Entropy Loss Function\n",
      "Train on 33027 samples, validate on 3670 samples\n",
      "Epoch 1/10\n",
      "33027/33027 [==============================] - 2s 54us/sample - loss: 1.0296 - acc: 0.6241 - val_loss: 0.5674 - val_acc: 0.8074\n",
      "Epoch 2/10\n",
      "33027/33027 [==============================] - 1s 41us/sample - loss: 0.6803 - acc: 0.7501 - val_loss: 0.4665 - val_acc: 0.8343\n",
      "Epoch 3/10\n",
      "33027/33027 [==============================] - 1s 41us/sample - loss: 0.5835 - acc: 0.7851 - val_loss: 0.4008 - val_acc: 0.8640\n",
      "Epoch 4/10\n",
      "33027/33027 [==============================] - 1s 41us/sample - loss: 0.5286 - acc: 0.8103 - val_loss: 0.3651 - val_acc: 0.8749\n",
      "Epoch 5/10\n"
     ]
    },
    {
     "name": "stdout",
     "output_type": "stream",
     "text": [
      "33027/33027 [==============================] - 1s 40us/sample - loss: 0.4934 - acc: 0.8229 - val_loss: 0.3343 - val_acc: 0.8861\n",
      "Epoch 6/10\n",
      "33027/33027 [==============================] - 1s 40us/sample - loss: 0.4572 - acc: 0.8337 - val_loss: 0.3167 - val_acc: 0.8850\n",
      "Epoch 7/10\n",
      "33027/33027 [==============================] - 1s 39us/sample - loss: 0.4354 - acc: 0.8446 - val_loss: 0.2911 - val_acc: 0.8989\n",
      "Epoch 8/10\n",
      "33027/33027 [==============================] - 1s 40us/sample - loss: 0.4149 - acc: 0.8521 - val_loss: 0.2766 - val_acc: 0.9106\n",
      "Epoch 9/10\n",
      "33027/33027 [==============================] - 1s 40us/sample - loss: 0.3995 - acc: 0.8594 - val_loss: 0.2672 - val_acc: 0.9095\n",
      "Epoch 10/10\n",
      "33027/33027 [==============================] - 1s 42us/sample - loss: 0.3829 - acc: 0.8630 - val_loss: 0.2610 - val_acc: 0.9090\n",
      "Running fold #7\n",
      "Categorical Cross-Entropy Loss Function\n",
      "Train on 33027 samples, validate on 3670 samples\n",
      "Epoch 1/10\n",
      "33027/33027 [==============================] - 2s 55us/sample - loss: 1.0010 - acc: 0.6369 - val_loss: 0.5370 - val_acc: 0.8136\n",
      "Epoch 2/10\n",
      "33027/33027 [==============================] - 1s 40us/sample - loss: 0.6653 - acc: 0.7552 - val_loss: 0.4343 - val_acc: 0.8471\n",
      "Epoch 3/10\n",
      "33027/33027 [==============================] - 1s 40us/sample - loss: 0.5700 - acc: 0.7940 - val_loss: 0.3861 - val_acc: 0.8559\n",
      "Epoch 4/10\n",
      "33027/33027 [==============================] - 1s 39us/sample - loss: 0.5197 - acc: 0.8106 - val_loss: 0.3427 - val_acc: 0.8845\n",
      "Epoch 5/10\n",
      "33027/33027 [==============================] - 1s 40us/sample - loss: 0.4875 - acc: 0.8274 - val_loss: 0.3178 - val_acc: 0.8992\n",
      "Epoch 6/10\n",
      "33027/33027 [==============================] - 1s 39us/sample - loss: 0.4560 - acc: 0.8378 - val_loss: 0.2947 - val_acc: 0.9068\n",
      "Epoch 7/10\n",
      "33027/33027 [==============================] - 1s 40us/sample - loss: 0.4375 - acc: 0.8438 - val_loss: 0.2825 - val_acc: 0.9033\n",
      "Epoch 8/10\n",
      "33027/33027 [==============================] - 1s 40us/sample - loss: 0.4141 - acc: 0.8546 - val_loss: 0.2720 - val_acc: 0.9076\n",
      "Epoch 9/10\n",
      "33027/33027 [==============================] - 1s 40us/sample - loss: 0.4042 - acc: 0.8573 - val_loss: 0.2521 - val_acc: 0.9229\n",
      "Epoch 10/10\n",
      "33027/33027 [==============================] - 1s 40us/sample - loss: 0.3847 - acc: 0.8645 - val_loss: 0.2443 - val_acc: 0.9262\n",
      "Running fold #8\n",
      "Categorical Cross-Entropy Loss Function\n",
      "Train on 33028 samples, validate on 3669 samples\n",
      "Epoch 1/10\n",
      "33028/33028 [==============================] - 2s 61us/sample - loss: 1.0002 - acc: 0.6387 - val_loss: 0.5432 - val_acc: 0.8089\n",
      "Epoch 2/10\n",
      "33028/33028 [==============================] - 2s 46us/sample - loss: 0.6707 - acc: 0.7555 - val_loss: 0.4415 - val_acc: 0.8438\n",
      "Epoch 3/10\n",
      "33028/33028 [==============================] - 1s 43us/sample - loss: 0.5801 - acc: 0.7894 - val_loss: 0.3975 - val_acc: 0.8564\n",
      "Epoch 4/10\n",
      "33028/33028 [==============================] - 1s 42us/sample - loss: 0.5235 - acc: 0.8108 - val_loss: 0.3435 - val_acc: 0.8812\n",
      "Epoch 5/10\n",
      "33028/33028 [==============================] - 1s 44us/sample - loss: 0.4788 - acc: 0.8256 - val_loss: 0.3192 - val_acc: 0.8880\n",
      "Epoch 6/10\n",
      "33028/33028 [==============================] - 1s 43us/sample - loss: 0.4464 - acc: 0.8406 - val_loss: 0.3041 - val_acc: 0.8888\n",
      "Epoch 7/10\n",
      "33028/33028 [==============================] - 2s 46us/sample - loss: 0.4383 - acc: 0.8413 - val_loss: 0.2828 - val_acc: 0.9011\n",
      "Epoch 8/10\n",
      "33028/33028 [==============================] - 1s 43us/sample - loss: 0.4124 - acc: 0.8519 - val_loss: 0.2717 - val_acc: 0.9035\n",
      "Epoch 9/10\n",
      "33028/33028 [==============================] - 1s 43us/sample - loss: 0.3942 - acc: 0.8588 - val_loss: 0.2618 - val_acc: 0.9076\n",
      "Epoch 10/10\n",
      "33028/33028 [==============================] - 1s 44us/sample - loss: 0.3798 - acc: 0.8662 - val_loss: 0.2494 - val_acc: 0.9180\n",
      "Running fold #9\n",
      "Categorical Cross-Entropy Loss Function\n",
      "Train on 33029 samples, validate on 3668 samples\n",
      "Epoch 1/10\n",
      "33029/33029 [==============================] - 2s 61us/sample - loss: 1.0232 - acc: 0.6297 - val_loss: 0.5237 - val_acc: 0.8157\n",
      "Epoch 2/10\n",
      "33029/33029 [==============================] - 1s 42us/sample - loss: 0.6823 - acc: 0.7518 - val_loss: 0.4182 - val_acc: 0.8569\n",
      "Epoch 3/10\n",
      "33029/33029 [==============================] - 1s 42us/sample - loss: 0.5872 - acc: 0.7863 - val_loss: 0.3727 - val_acc: 0.8645\n",
      "Epoch 4/10\n",
      "33029/33029 [==============================] - 1s 42us/sample - loss: 0.5306 - acc: 0.8091 - val_loss: 0.3335 - val_acc: 0.8847\n",
      "Epoch 5/10\n",
      "33029/33029 [==============================] - 1s 43us/sample - loss: 0.4896 - acc: 0.8243 - val_loss: 0.3098 - val_acc: 0.8901\n",
      "Epoch 6/10\n",
      "33029/33029 [==============================] - 1s 42us/sample - loss: 0.4632 - acc: 0.8327 - val_loss: 0.2873 - val_acc: 0.9005\n",
      "Epoch 7/10\n",
      "33029/33029 [==============================] - 2s 45us/sample - loss: 0.4358 - acc: 0.8447 - val_loss: 0.2792 - val_acc: 0.9040\n",
      "Epoch 8/10\n",
      "33029/33029 [==============================] - 1s 42us/sample - loss: 0.4140 - acc: 0.8532 - val_loss: 0.2522 - val_acc: 0.9106\n",
      "Epoch 9/10\n",
      "33029/33029 [==============================] - 1s 43us/sample - loss: 0.4004 - acc: 0.8593 - val_loss: 0.2413 - val_acc: 0.9158\n",
      "Epoch 10/10\n",
      "33029/33029 [==============================] - 1s 42us/sample - loss: 0.3789 - acc: 0.8665 - val_loss: 0.2270 - val_acc: 0.9212\n",
      "Running fold #10\n",
      "Categorical Cross-Entropy Loss Function\n",
      "Train on 33029 samples, validate on 3668 samples\n",
      "Epoch 1/10\n",
      "33029/33029 [==============================] - 2s 63us/sample - loss: 1.0130 - acc: 0.6330 - val_loss: 0.5561 - val_acc: 0.8078\n",
      "Epoch 2/10\n",
      "33029/33029 [==============================] - 1s 43us/sample - loss: 0.6721 - acc: 0.7529 - val_loss: 0.4512 - val_acc: 0.8386\n",
      "Epoch 3/10\n",
      "33029/33029 [==============================] - 1s 43us/sample - loss: 0.5785 - acc: 0.7890 - val_loss: 0.3893 - val_acc: 0.8629\n",
      "Epoch 4/10\n",
      "33029/33029 [==============================] - 1s 43us/sample - loss: 0.5190 - acc: 0.8140 - val_loss: 0.3518 - val_acc: 0.8814\n",
      "Epoch 5/10\n",
      "33029/33029 [==============================] - 2s 46us/sample - loss: 0.4834 - acc: 0.8263 - val_loss: 0.3291 - val_acc: 0.8847\n",
      "Epoch 6/10\n",
      "33029/33029 [==============================] - 1s 45us/sample - loss: 0.4550 - acc: 0.8362 - val_loss: 0.3031 - val_acc: 0.8975\n",
      "Epoch 7/10\n",
      "33029/33029 [==============================] - 1s 43us/sample - loss: 0.4249 - acc: 0.8481 - val_loss: 0.2827 - val_acc: 0.8975\n",
      "Epoch 8/10\n",
      "33029/33029 [==============================] - 1s 43us/sample - loss: 0.4068 - acc: 0.8542 - val_loss: 0.2720 - val_acc: 0.9024\n",
      "Epoch 9/10\n",
      "33029/33029 [==============================] - 1s 43us/sample - loss: 0.3981 - acc: 0.8611 - val_loss: 0.2617 - val_acc: 0.9073\n",
      "Epoch 10/10\n",
      "33029/33029 [==============================] - 1s 43us/sample - loss: 0.3796 - acc: 0.8664 - val_loss: 0.2492 - val_acc: 0.9119\n"
     ]
    }
   ],
   "source": [
    "categorical_df = df1.copy()\n",
    "model, history, X , encoded_y = experiment(categorical_df)"
   ]
  },
  {
   "cell_type": "markdown",
   "metadata": {
    "colab_type": "text",
    "id": "FoHKjaqpGQub"
   },
   "source": [
    "#### Save the model as a file"
   ]
  },
  {
   "cell_type": "code",
   "execution_count": 23,
   "metadata": {
    "colab": {
     "base_uri": "https://localhost:8080/",
     "height": 462
    },
    "colab_type": "code",
    "id": "vixNeoaEGW9n",
    "outputId": "21555b07-1e20-4267-d2e2-2a98c7b4df3f"
   },
   "outputs": [],
   "source": [
    "model.save('{}.model'.format(os.path.basename(dataPath)))"
   ]
  },
  {
   "cell_type": "markdown",
   "metadata": {},
   "source": [
    "## Model Results"
   ]
  },
  {
   "cell_type": "code",
   "execution_count": 24,
   "metadata": {
    "colab": {
     "base_uri": "https://localhost:8080/",
     "height": 68
    },
    "colab_type": "code",
    "id": "p3xvC6ZlG9Wz",
    "outputId": "775835c4-c56d-4f02-97fe-df8642d9242f"
   },
   "outputs": [
    {
     "name": "stdout",
     "output_type": "stream",
     "text": [
      "36697/36697 [==============================] - 1s 17us/sample - loss: 0.2316 - acc: 0.9163\n",
      "['loss', 'acc']\n",
      "Baseline: accuracy: 91.63%: loss: 0.23\n"
     ]
    }
   ],
   "source": [
    "scores = model.evaluate(X,encoded_y, batch_size=batch_size,verbose=1)\n",
    "print(model.metrics_names)\n",
    "acc, loss = scores[1]*100, scores[0]\n",
    "print('Baseline: accuracy: {:.2f}%: loss: {:.2f}'.format(acc, loss))"
   ]
  },
  {
   "cell_type": "markdown",
   "metadata": {},
   "source": [
    "#### Generate predictions from the model"
   ]
  },
  {
   "cell_type": "code",
   "execution_count": 25,
   "metadata": {},
   "outputs": [
    {
     "name": "stdout",
     "output_type": "stream",
     "text": [
      "36697/36697 [==============================] - 1s 17us/sample\n"
     ]
    }
   ],
   "source": [
    "prediction_y = model.predict_classes(X, batch_size=batch_size, verbose=1)"
   ]
  },
  {
   "cell_type": "markdown",
   "metadata": {},
   "source": [
    "#### Confusion Matrix"
   ]
  },
  {
   "cell_type": "code",
   "execution_count": 26,
   "metadata": {},
   "outputs": [
    {
     "data": {
      "text/plain": [
       "<matplotlib.axes._subplots.AxesSubplot at 0x7facef26b588>"
      ]
     },
     "execution_count": 26,
     "metadata": {},
     "output_type": "execute_result"
    },
    {
     "data": {
      "image/png": "[encoded data removed]",
      "text/plain": [
       "<Figure size 432x288 with 2 Axes>"
      ]
     },
     "metadata": {
      "needs_background": "light"
     },
     "output_type": "display_data"
    }
   ],
   "source": [
    "y=LabelEncoder().fit_transform(categorical_df[dep_var].values)\n",
    "cm = confusion_matrix(y, prediction_y)\n",
    "sn.heatmap(cm, annot=True, fmt='g', cmap='Blues', xticklabels=['Defacement','Benign','Malware','Phishing','Spam'],\n",
    "           yticklabels=['Defacement','Benign','Malware','Phishing','Spam'])"
   ]
  },
  {
   "cell_type": "markdown",
   "metadata": {},
   "source": [
    "#### Graph of Categorical Cross-Entropy Model"
   ]
  },
  {
   "cell_type": "code",
   "execution_count": 27,
   "metadata": {},
   "outputs": [],
   "source": [
    "def plot(title):\n",
    "    plt.plot(history.history['acc'])\n",
    "    plt.plot(history.history['val_acc'])\n",
    "    plt.title(title)\n",
    "    plt.ylabel('Accuracy')\n",
    "    plt.xlabel('Epoch')\n",
    "    plt.legend(['Train', 'Test'], loc='upper left')\n",
    "    plt.show()"
   ]
  },
  {
   "cell_type": "code",
   "execution_count": 28,
   "metadata": {},
   "outputs": [
    {
     "data": {
      "image/png": "[encoded data removed]",
      "text/plain": [
       "<Figure size 432x288 with 1 Axes>"
      ]
     },
     "metadata": {
      "needs_background": "light"
     },
     "output_type": "display_data"
    }
   ],
   "source": [
    "plot('Categorical Model Accuracy')"
   ]
  },
  {
   "cell_type": "markdown",
   "metadata": {},
   "source": [
    "#### Write results to file"
   ]
  },
  {
   "cell_type": "code",
   "execution_count": 29,
   "metadata": {
    "colab": {
     "base_uri": "https://localhost:8080/",
     "height": 68
    },
    "colab_type": "code",
    "id": "p3xvC6ZlG9Wz",
    "outputId": "775835c4-c56d-4f02-97fe-df8642d9242f"
   },
   "outputs": [],
   "source": [
    "resultFile = os.path.join(resultPath, dataFile)\n",
    "with open('{}.result'.format(resultFile), 'a') as fout:\n",
    "  fout.write('{} results...'.format(model_name+model_extension))\n",
    "  fout.write('\\taccuracy: {:.2f} loss: {:.2f}\\n'.format(acc, loss))"
   ]
  },
  {
   "cell_type": "markdown",
   "metadata": {},
   "source": [
    "## Binary Classification of Labels\n",
    "> Change all malicious labels to value 1 and benign label to 0"
   ]
  },
  {
   "cell_type": "code",
   "execution_count": 30,
   "metadata": {},
   "outputs": [],
   "source": [
    "lblTypes = list(lblTypes)\n",
    "lblTypes = dict(zip(lblTypes, [1, 1, 1, 1, 1]))\n",
    "lblTypes['benign'] = 0"
   ]
  },
  {
   "cell_type": "code",
   "execution_count": 31,
   "metadata": {},
   "outputs": [],
   "source": [
    "binary_df = df1.copy()\n",
    "binary_df[label] = binary_df[label].map(lblTypes)"
   ]
  },
  {
   "cell_type": "markdown",
   "metadata": {},
   "source": [
    "## Train the Binary Model"
   ]
  },
  {
   "cell_type": "code",
   "execution_count": 32,
   "metadata": {},
   "outputs": [
    {
     "name": "stderr",
     "output_type": "stream",
     "text": [
      "/usr/lib/python3.7/site-packages/sklearn/preprocessing/data.py:645: DataConversionWarning: Data with input dtype int64, float64 were all converted to float64 by StandardScaler.\n",
      "  return self.partial_fit(X, y)\n",
      "/usr/lib/python3.7/site-packages/sklearn/base.py:464: DataConversionWarning: Data with input dtype int64, float64 were all converted to float64 by StandardScaler.\n",
      "  return self.fit(X, **fit_params).transform(X)\n"
     ]
    },
    {
     "name": "stdout",
     "output_type": "stream",
     "text": [
      "Running fold #1\n",
      "Binary Cross-Entropy Loss Function\n"
     ]
    },
    {
     "name": "stderr",
     "output_type": "stream",
     "text": [
      "W0716 14:11:43.949868 140383684064896 deprecation.py:323] From /usr/lib/python3.7/site-packages/tensorflow/python/ops/math_grad.py:1250: add_dispatch_support.<locals>.wrapper (from tensorflow.python.ops.array_ops) is deprecated and will be removed in a future version.\n",
      "Instructions for updating:\n",
      "Use tf.where in 2.0, which has the same broadcast rule as np.where\n"
     ]
    },
    {
     "name": "stdout",
     "output_type": "stream",
     "text": [
      "Train on 33026 samples, validate on 3671 samples\n",
      "Epoch 1/10\n",
      "33026/33026 [==============================] - 2s 66us/sample - loss: 0.3626 - acc: 0.8582 - val_loss: 0.1699 - val_acc: 0.9259\n",
      "Epoch 2/10\n",
      "33026/33026 [==============================] - 1s 45us/sample - loss: 0.1984 - acc: 0.9185 - val_loss: 0.1332 - val_acc: 0.9439\n",
      "Epoch 3/10\n",
      "33026/33026 [==============================] - 1s 45us/sample - loss: 0.1675 - acc: 0.9306 - val_loss: 0.1156 - val_acc: 0.9589\n",
      "Epoch 4/10\n",
      "33026/33026 [==============================] - 2s 46us/sample - loss: 0.1537 - acc: 0.9389 - val_loss: 0.1099 - val_acc: 0.9548\n",
      "Epoch 5/10\n",
      "33026/33026 [==============================] - 2s 46us/sample - loss: 0.1381 - acc: 0.9461 - val_loss: 0.0992 - val_acc: 0.9640\n",
      "Epoch 6/10\n",
      "33026/33026 [==============================] - 2s 46us/sample - loss: 0.1296 - acc: 0.9487 - val_loss: 0.0934 - val_acc: 0.9668\n",
      "Epoch 7/10\n",
      "33026/33026 [==============================] - 1s 45us/sample - loss: 0.1235 - acc: 0.9524 - val_loss: 0.0889 - val_acc: 0.9687\n",
      "Epoch 8/10\n",
      "33026/33026 [==============================] - 2s 45us/sample - loss: 0.1184 - acc: 0.9546 - val_loss: 0.0910 - val_acc: 0.9646\n",
      "Epoch 9/10\n",
      "33026/33026 [==============================] - 2s 46us/sample - loss: 0.1102 - acc: 0.9579 - val_loss: 0.0821 - val_acc: 0.9698\n",
      "Epoch 10/10\n",
      "33026/33026 [==============================] - 2s 45us/sample - loss: 0.1046 - acc: 0.9594 - val_loss: 0.0806 - val_acc: 0.9714\n",
      "Running fold #2\n",
      "Binary Cross-Entropy Loss Function\n",
      "Train on 33027 samples, validate on 3670 samples\n",
      "Epoch 1/10\n",
      "33027/33027 [==============================] - 2s 70us/sample - loss: 0.3455 - acc: 0.8664 - val_loss: 0.1695 - val_acc: 0.9245\n",
      "Epoch 2/10\n",
      "33027/33027 [==============================] - 1s 45us/sample - loss: 0.2017 - acc: 0.9167 - val_loss: 0.1394 - val_acc: 0.9439\n",
      "Epoch 3/10\n",
      "33027/33027 [==============================] - 2s 46us/sample - loss: 0.1624 - acc: 0.9347 - val_loss: 0.1185 - val_acc: 0.9567\n",
      "Epoch 4/10\n",
      "33027/33027 [==============================] - 1s 45us/sample - loss: 0.1408 - acc: 0.9436 - val_loss: 0.1072 - val_acc: 0.9610\n",
      "Epoch 5/10\n",
      "33027/33027 [==============================] - 1s 45us/sample - loss: 0.1302 - acc: 0.9482 - val_loss: 0.0938 - val_acc: 0.9673\n",
      "Epoch 6/10\n",
      "33027/33027 [==============================] - 1s 45us/sample - loss: 0.1206 - acc: 0.9541 - val_loss: 0.0878 - val_acc: 0.9673\n",
      "Epoch 7/10\n",
      "33027/33027 [==============================] - 1s 45us/sample - loss: 0.1166 - acc: 0.9555 - val_loss: 0.0850 - val_acc: 0.9706\n",
      "Epoch 8/10\n",
      "33027/33027 [==============================] - 1s 45us/sample - loss: 0.1118 - acc: 0.9589 - val_loss: 0.0810 - val_acc: 0.9733\n",
      "Epoch 9/10\n",
      "33027/33027 [==============================] - 2s 46us/sample - loss: 0.1067 - acc: 0.9597 - val_loss: 0.0798 - val_acc: 0.9714\n",
      "Epoch 10/10\n",
      "33027/33027 [==============================] - 2s 46us/sample - loss: 0.1030 - acc: 0.9614 - val_loss: 0.0809 - val_acc: 0.9698\n",
      "Running fold #3\n",
      "Binary Cross-Entropy Loss Function\n",
      "Train on 33027 samples, validate on 3670 samples\n",
      "Epoch 1/10\n",
      "33027/33027 [==============================] - 2s 70us/sample - loss: 0.3702 - acc: 0.8548 - val_loss: 0.1571 - val_acc: 0.9322\n",
      "Epoch 2/10\n",
      "33027/33027 [==============================] - 2s 47us/sample - loss: 0.1987 - acc: 0.9179 - val_loss: 0.1214 - val_acc: 0.9520\n",
      "Epoch 3/10\n",
      "33027/33027 [==============================] - 2s 47us/sample - loss: 0.1675 - acc: 0.9320 - val_loss: 0.1038 - val_acc: 0.9602\n",
      "Epoch 4/10\n",
      "33027/33027 [==============================] - 2s 47us/sample - loss: 0.1458 - acc: 0.9422 - val_loss: 0.0891 - val_acc: 0.9681\n",
      "Epoch 5/10\n",
      "33027/33027 [==============================] - 2s 46us/sample - loss: 0.1368 - acc: 0.9460 - val_loss: 0.0827 - val_acc: 0.9695\n",
      "Epoch 6/10\n",
      "33027/33027 [==============================] - 2s 47us/sample - loss: 0.1290 - acc: 0.9500 - val_loss: 0.0784 - val_acc: 0.9698\n",
      "Epoch 7/10\n",
      "33027/33027 [==============================] - 2s 49us/sample - loss: 0.1206 - acc: 0.9525 - val_loss: 0.0717 - val_acc: 0.9757\n",
      "Epoch 8/10\n",
      "33027/33027 [==============================] - 2s 46us/sample - loss: 0.1158 - acc: 0.9552 - val_loss: 0.0694 - val_acc: 0.9768\n",
      "Epoch 9/10\n",
      "33027/33027 [==============================] - 2s 46us/sample - loss: 0.1119 - acc: 0.9576 - val_loss: 0.0642 - val_acc: 0.9757\n",
      "Epoch 10/10\n",
      "33027/33027 [==============================] - 2s 47us/sample - loss: 0.1075 - acc: 0.9592 - val_loss: 0.0618 - val_acc: 0.9768\n",
      "Running fold #4\n",
      "Binary Cross-Entropy Loss Function\n",
      "Train on 33027 samples, validate on 3670 samples\n",
      "Epoch 1/10\n",
      "33027/33027 [==============================] - 2s 71us/sample - loss: 0.3716 - acc: 0.8583 - val_loss: 0.1731 - val_acc: 0.9245\n",
      "Epoch 2/10\n",
      "33027/33027 [==============================] - 2s 47us/sample - loss: 0.2001 - acc: 0.9167 - val_loss: 0.1349 - val_acc: 0.9444\n",
      "Epoch 3/10\n",
      "33027/33027 [==============================] - 2s 46us/sample - loss: 0.1648 - acc: 0.9314 - val_loss: 0.1161 - val_acc: 0.9537\n",
      "Epoch 4/10\n",
      "33027/33027 [==============================] - 2s 47us/sample - loss: 0.1482 - acc: 0.9396 - val_loss: 0.1035 - val_acc: 0.9621\n",
      "Epoch 5/10\n",
      "33027/33027 [==============================] - 2s 46us/sample - loss: 0.1398 - acc: 0.9438 - val_loss: 0.0994 - val_acc: 0.9646\n",
      "Epoch 6/10\n",
      "33027/33027 [==============================] - 2s 47us/sample - loss: 0.1264 - acc: 0.9493 - val_loss: 0.0889 - val_acc: 0.9662\n",
      "Epoch 7/10\n",
      "33027/33027 [==============================] - 2s 47us/sample - loss: 0.1232 - acc: 0.9534 - val_loss: 0.0849 - val_acc: 0.9684\n",
      "Epoch 8/10\n",
      "33027/33027 [==============================] - 2s 48us/sample - loss: 0.1127 - acc: 0.9558 - val_loss: 0.0842 - val_acc: 0.9700\n",
      "Epoch 9/10\n",
      "33027/33027 [==============================] - 2s 48us/sample - loss: 0.1062 - acc: 0.9596 - val_loss: 0.0772 - val_acc: 0.9736\n",
      "Epoch 10/10\n",
      "33027/33027 [==============================] - 2s 46us/sample - loss: 0.1043 - acc: 0.9603 - val_loss: 0.0738 - val_acc: 0.9741\n",
      "Running fold #5\n",
      "Binary Cross-Entropy Loss Function\n",
      "Train on 33027 samples, validate on 3670 samples\n",
      "Epoch 1/10\n",
      "33027/33027 [==============================] - 3s 77us/sample - loss: 0.3586 - acc: 0.8609 - val_loss: 0.1661 - val_acc: 0.9308\n",
      "Epoch 2/10\n",
      "33027/33027 [==============================] - 2s 48us/sample - loss: 0.1962 - acc: 0.9205 - val_loss: 0.1343 - val_acc: 0.9469\n",
      "Epoch 3/10\n",
      "33027/33027 [==============================] - 2s 48us/sample - loss: 0.1645 - acc: 0.9321 - val_loss: 0.1181 - val_acc: 0.9523\n",
      "Epoch 4/10\n",
      "33027/33027 [==============================] - 2s 47us/sample - loss: 0.1442 - acc: 0.9414 - val_loss: 0.1036 - val_acc: 0.9640\n",
      "Epoch 5/10\n",
      "33027/33027 [==============================] - 2s 47us/sample - loss: 0.1321 - acc: 0.9467 - val_loss: 0.0984 - val_acc: 0.9627\n",
      "Epoch 6/10\n",
      "33027/33027 [==============================] - 2s 47us/sample - loss: 0.1220 - acc: 0.9523 - val_loss: 0.0885 - val_acc: 0.9681\n",
      "Epoch 7/10\n",
      "33027/33027 [==============================] - 2s 47us/sample - loss: 0.1188 - acc: 0.9536 - val_loss: 0.0838 - val_acc: 0.9684\n",
      "Epoch 8/10\n",
      "33027/33027 [==============================] - 2s 48us/sample - loss: 0.1140 - acc: 0.9572 - val_loss: 0.0845 - val_acc: 0.9708\n",
      "Epoch 9/10\n",
      "33027/33027 [==============================] - 2s 47us/sample - loss: 0.1077 - acc: 0.9605 - val_loss: 0.0802 - val_acc: 0.9706\n",
      "Epoch 10/10\n",
      "33027/33027 [==============================] - 2s 48us/sample - loss: 0.1051 - acc: 0.9601 - val_loss: 0.0764 - val_acc: 0.9700\n",
      "Running fold #6\n",
      "Binary Cross-Entropy Loss Function\n",
      "Train on 33027 samples, validate on 3670 samples\n",
      "Epoch 1/10\n",
      "33027/33027 [==============================] - 3s 78us/sample - loss: 0.3865 - acc: 0.8530 - val_loss: 0.1561 - val_acc: 0.9294\n",
      "Epoch 2/10\n",
      "33027/33027 [==============================] - 2s 50us/sample - loss: 0.1998 - acc: 0.9178 - val_loss: 0.1261 - val_acc: 0.9452\n",
      "Epoch 3/10\n",
      "33027/33027 [==============================] - 2s 53us/sample - loss: 0.1661 - acc: 0.9313 - val_loss: 0.1058 - val_acc: 0.9594\n",
      "Epoch 4/10\n",
      "33027/33027 [==============================] - 2s 51us/sample - loss: 0.1541 - acc: 0.9372 - val_loss: 0.1017 - val_acc: 0.9608\n",
      "Epoch 5/10\n",
      "33027/33027 [==============================] - 2s 53us/sample - loss: 0.1362 - acc: 0.9463 - val_loss: 0.0923 - val_acc: 0.9643\n"
     ]
    },
    {
     "name": "stdout",
     "output_type": "stream",
     "text": [
      "Epoch 6/10\n",
      "33027/33027 [==============================] - 2s 48us/sample - loss: 0.1293 - acc: 0.9488 - val_loss: 0.0851 - val_acc: 0.9684\n",
      "Epoch 7/10\n",
      "33027/33027 [==============================] - 2s 52us/sample - loss: 0.1203 - acc: 0.9541 - val_loss: 0.0784 - val_acc: 0.9714\n",
      "Epoch 8/10\n",
      "33027/33027 [==============================] - 2s 48us/sample - loss: 0.1161 - acc: 0.9564 - val_loss: 0.0776 - val_acc: 0.9703\n",
      "Epoch 9/10\n",
      "33027/33027 [==============================] - 2s 48us/sample - loss: 0.1131 - acc: 0.9569 - val_loss: 0.0730 - val_acc: 0.9706\n",
      "Epoch 10/10\n",
      "33027/33027 [==============================] - 2s 48us/sample - loss: 0.1065 - acc: 0.9599 - val_loss: 0.0704 - val_acc: 0.9733\n",
      "Running fold #7\n",
      "Binary Cross-Entropy Loss Function\n",
      "Train on 33028 samples, validate on 3669 samples\n",
      "Epoch 1/10\n",
      "33028/33028 [==============================] - 3s 77us/sample - loss: 0.3515 - acc: 0.8589 - val_loss: 0.1572 - val_acc: 0.9387\n",
      "Epoch 2/10\n",
      "33028/33028 [==============================] - 2s 49us/sample - loss: 0.1944 - acc: 0.9209 - val_loss: 0.1299 - val_acc: 0.9466\n",
      "Epoch 3/10\n",
      "33028/33028 [==============================] - 2s 49us/sample - loss: 0.1642 - acc: 0.9322 - val_loss: 0.1092 - val_acc: 0.9539\n",
      "Epoch 4/10\n",
      "33028/33028 [==============================] - 2s 49us/sample - loss: 0.1475 - acc: 0.9407 - val_loss: 0.0958 - val_acc: 0.9684\n",
      "Epoch 5/10\n",
      "33028/33028 [==============================] - 2s 49us/sample - loss: 0.1376 - acc: 0.9449 - val_loss: 0.0906 - val_acc: 0.9700\n",
      "Epoch 6/10\n",
      "33028/33028 [==============================] - 2s 49us/sample - loss: 0.1254 - acc: 0.9516 - val_loss: 0.0791 - val_acc: 0.9736\n",
      "Epoch 7/10\n",
      "33028/33028 [==============================] - 2s 49us/sample - loss: 0.1183 - acc: 0.9545 - val_loss: 0.0763 - val_acc: 0.9741\n",
      "Epoch 8/10\n",
      "33028/33028 [==============================] - 2s 50us/sample - loss: 0.1166 - acc: 0.9542 - val_loss: 0.0717 - val_acc: 0.9727\n",
      "Epoch 9/10\n",
      "33028/33028 [==============================] - 2s 50us/sample - loss: 0.1121 - acc: 0.9571 - val_loss: 0.0705 - val_acc: 0.9738\n",
      "Epoch 10/10\n",
      "33028/33028 [==============================] - 2s 49us/sample - loss: 0.1097 - acc: 0.9582 - val_loss: 0.0674 - val_acc: 0.9757\n",
      "Running fold #8\n",
      "Binary Cross-Entropy Loss Function\n",
      "Train on 33028 samples, validate on 3669 samples\n",
      "Epoch 1/10\n",
      "33028/33028 [==============================] - 3s 79us/sample - loss: 0.3487 - acc: 0.8661 - val_loss: 0.1688 - val_acc: 0.9327\n",
      "Epoch 2/10\n",
      "33028/33028 [==============================] - 2s 50us/sample - loss: 0.1993 - acc: 0.9187 - val_loss: 0.1333 - val_acc: 0.9499\n",
      "Epoch 3/10\n",
      "33028/33028 [==============================] - 2s 49us/sample - loss: 0.1656 - acc: 0.9321 - val_loss: 0.1073 - val_acc: 0.9629\n",
      "Epoch 4/10\n",
      "33028/33028 [==============================] - 2s 49us/sample - loss: 0.1454 - acc: 0.9413 - val_loss: 0.0960 - val_acc: 0.9673\n",
      "Epoch 5/10\n",
      "33028/33028 [==============================] - 2s 49us/sample - loss: 0.1329 - acc: 0.9475 - val_loss: 0.0894 - val_acc: 0.9684\n",
      "Epoch 6/10\n",
      "33028/33028 [==============================] - 2s 49us/sample - loss: 0.1298 - acc: 0.9492 - val_loss: 0.0885 - val_acc: 0.9681\n",
      "Epoch 7/10\n",
      "33028/33028 [==============================] - 2s 49us/sample - loss: 0.1206 - acc: 0.9527 - val_loss: 0.0802 - val_acc: 0.9706\n",
      "Epoch 8/10\n",
      "33028/33028 [==============================] - 2s 49us/sample - loss: 0.1163 - acc: 0.9546 - val_loss: 0.0736 - val_acc: 0.9738\n",
      "Epoch 9/10\n",
      "33028/33028 [==============================] - 2s 49us/sample - loss: 0.1078 - acc: 0.9583 - val_loss: 0.0741 - val_acc: 0.9689\n",
      "Epoch 10/10\n",
      "33028/33028 [==============================] - 2s 49us/sample - loss: 0.1073 - acc: 0.9590 - val_loss: 0.0692 - val_acc: 0.9725\n",
      "Running fold #9\n",
      "Binary Cross-Entropy Loss Function\n",
      "Train on 33028 samples, validate on 3669 samples\n",
      "Epoch 1/10\n",
      "33028/33028 [==============================] - 3s 82us/sample - loss: 0.3927 - acc: 0.8481 - val_loss: 0.1638 - val_acc: 0.9324\n",
      "Epoch 2/10\n",
      "33028/33028 [==============================] - 2s 50us/sample - loss: 0.2038 - acc: 0.9167 - val_loss: 0.1399 - val_acc: 0.9419\n",
      "Epoch 3/10\n",
      "33028/33028 [==============================] - 2s 51us/sample - loss: 0.1757 - acc: 0.9295 - val_loss: 0.1232 - val_acc: 0.9558\n",
      "Epoch 4/10\n",
      "33028/33028 [==============================] - 2s 51us/sample - loss: 0.1561 - acc: 0.9369 - val_loss: 0.1108 - val_acc: 0.9580\n",
      "Epoch 5/10\n",
      "33028/33028 [==============================] - 2s 51us/sample - loss: 0.1395 - acc: 0.9448 - val_loss: 0.1024 - val_acc: 0.9588\n",
      "Epoch 6/10\n",
      "33028/33028 [==============================] - 2s 54us/sample - loss: 0.1301 - acc: 0.9487 - val_loss: 0.0947 - val_acc: 0.9635\n",
      "Epoch 7/10\n",
      "33028/33028 [==============================] - 2s 50us/sample - loss: 0.1230 - acc: 0.9530 - val_loss: 0.0894 - val_acc: 0.9657\n",
      "Epoch 8/10\n",
      "33028/33028 [==============================] - 2s 51us/sample - loss: 0.1173 - acc: 0.9556 - val_loss: 0.0884 - val_acc: 0.9676\n",
      "Epoch 9/10\n",
      "33028/33028 [==============================] - 2s 50us/sample - loss: 0.1124 - acc: 0.9581 - val_loss: 0.0820 - val_acc: 0.9703\n",
      "Epoch 10/10\n",
      "33028/33028 [==============================] - 2s 51us/sample - loss: 0.1068 - acc: 0.9601 - val_loss: 0.0785 - val_acc: 0.9719\n",
      "Running fold #10\n",
      "Binary Cross-Entropy Loss Function\n",
      "Train on 33028 samples, validate on 3669 samples\n",
      "Epoch 1/10\n",
      "33028/33028 [==============================] - 3s 82us/sample - loss: 0.3616 - acc: 0.8525 - val_loss: 0.1610 - val_acc: 0.9332\n",
      "Epoch 2/10\n",
      "33028/33028 [==============================] - 2s 51us/sample - loss: 0.2009 - acc: 0.9190 - val_loss: 0.1308 - val_acc: 0.9422\n",
      "Epoch 3/10\n",
      "33028/33028 [==============================] - 2s 51us/sample - loss: 0.1699 - acc: 0.9316 - val_loss: 0.1138 - val_acc: 0.9512\n",
      "Epoch 4/10\n",
      "33028/33028 [==============================] - 2s 52us/sample - loss: 0.1526 - acc: 0.9394 - val_loss: 0.0982 - val_acc: 0.9627\n",
      "Epoch 5/10\n",
      "33028/33028 [==============================] - 2s 51us/sample - loss: 0.1347 - acc: 0.9467 - val_loss: 0.0898 - val_acc: 0.9659\n",
      "Epoch 6/10\n",
      "33028/33028 [==============================] - 2s 53us/sample - loss: 0.1240 - acc: 0.9517 - val_loss: 0.0828 - val_acc: 0.9654\n",
      "Epoch 7/10\n",
      "33028/33028 [==============================] - 2s 52us/sample - loss: 0.1229 - acc: 0.9523 - val_loss: 0.0783 - val_acc: 0.9711\n",
      "Epoch 8/10\n",
      "33028/33028 [==============================] - 2s 51us/sample - loss: 0.1135 - acc: 0.9566 - val_loss: 0.0696 - val_acc: 0.9741\n",
      "Epoch 9/10\n",
      "33028/33028 [==============================] - 2s 52us/sample - loss: 0.1079 - acc: 0.9597 - val_loss: 0.0662 - val_acc: 0.9760\n",
      "Epoch 10/10\n",
      "33028/33028 [==============================] - 2s 56us/sample - loss: 0.1083 - acc: 0.9601 - val_loss: 0.0667 - val_acc: 0.9771\n"
     ]
    }
   ],
   "source": [
    "model, history, X , encoded_y = experiment(binary_df)"
   ]
  },
  {
   "cell_type": "code",
   "execution_count": 33,
   "metadata": {},
   "outputs": [
    {
     "name": "stdout",
     "output_type": "stream",
     "text": [
      "36697/36697 [==============================] - 2s 47us/sample - loss: 0.0667 - acc: 0.9763\n",
      "['loss', 'acc']\n",
      "Baseline: accuracy: 97.63%: loss: 0.07\n"
     ]
    }
   ],
   "source": [
    "scores = model.evaluate(X,encoded_y, verbose=1)\n",
    "print(model.metrics_names)\n",
    "acc, loss = scores[1]*100, scores[0]\n",
    "print('Baseline: accuracy: {:.2f}%: loss: {:.2f}'.format(acc, loss))"
   ]
  },
  {
   "cell_type": "code",
   "execution_count": 34,
   "metadata": {},
   "outputs": [
    {
     "name": "stdout",
     "output_type": "stream",
     "text": [
      "36697/36697 [==============================] - 1s 26us/sample\n"
     ]
    }
   ],
   "source": [
    "prediction_y = model.predict_classes(X, batch_size=batch_size, verbose=1)"
   ]
  },
  {
   "cell_type": "code",
   "execution_count": 35,
   "metadata": {},
   "outputs": [
    {
     "data": {
      "text/plain": [
       "<matplotlib.axes._subplots.AxesSubplot at 0x7face749b278>"
      ]
     },
     "execution_count": 35,
     "metadata": {},
     "output_type": "execute_result"
    },
    {
     "data": {
      "image/png": "[encoded data removed]",
      "text/plain": [
       "<Figure size 432x288 with 2 Axes>"
      ]
     },
     "metadata": {
      "needs_background": "light"
     },
     "output_type": "display_data"
    }
   ],
   "source": [
    "y=LabelEncoder().fit_transform(binary_df[dep_var].values)\n",
    "cm = confusion_matrix(y, prediction_y)\n",
    "sn.heatmap(cm, cmap='Blues', annot=True, fmt='g', xticklabels=['Benign', 'Malicious'],\n",
    "        yticklabels=['Benign', 'Malicious'])"
   ]
  },
  {
   "cell_type": "markdown",
   "metadata": {},
   "source": [
    "#### Graph of Binary Cross-Entropy Model"
   ]
  },
  {
   "cell_type": "code",
   "execution_count": 36,
   "metadata": {},
   "outputs": [
    {
     "data": {
      "image/png": "[encoded data removed]",
      "text/plain": [
       "<Figure size 432x288 with 1 Axes>"
      ]
     },
     "metadata": {
      "needs_background": "light"
     },
     "output_type": "display_data"
    }
   ],
   "source": [
    "plot('Binary Model Accuracy')"
   ]
  },
  {
   "cell_type": "code",
   "execution_count": 37,
   "metadata": {},
   "outputs": [],
   "source": [
    "resultFile = os.path.join(resultPath, dataFile)\n",
    "with open('{}.result'.format(resultFile), 'a') as fout:\n",
    "  fout.write('{} results...'.format(model_name+model_extension))\n",
    "  fout.write('\\taccuracy: {:.2f} loss: {:.2f}\\n'.format(acc, loss))"
   ]
  }
 ],
 "metadata": {
  "colab": {
   "collapsed_sections": [],
   "include_colab_link": true,
   "name": "Keras-Tensorflow-Experiments.ipynb",
   "provenance": [],
   "version": "0.3.2"
  },
  "kernelspec": {
   "display_name": "Python 3",
   "language": "python",
   "name": "python3"
  },
  "language_info": {
   "codemirror_mode": {
    "name": "ipython",
    "version": 3
   },
   "file_extension": ".py",
   "mimetype": "text/x-python",
   "name": "python",
   "nbconvert_exporter": "python",
   "pygments_lexer": "ipython3",
   "version": "3.7.3"
  }
 },
 "nbformat": 4,
 "nbformat_minor": 1
}
