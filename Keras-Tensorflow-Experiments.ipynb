{
 "cells": [
  {
   "cell_type": "markdown",
   "metadata": {
    "colab_type": "text",
    "id": "view-in-github"
   },
   "source": [
    "<a href=\"https://colab.research.google.com/github/rambasnet/DeepLearningMaliciousURLs/blob/master/Keras_Tensorflow_Experiments.ipynb\" target=\"_parent\"><img src=\"https://colab.research.google.com/assets/colab-badge.svg\" alt=\"Open In Colab\"/></a>"
   ]
  },
  {
   "cell_type": "markdown",
   "metadata": {},
   "source": [
    "# Keras-Tensorflow Experiments\n",
    "##### Sources:\n",
    " + https://www.tensorflow.org/tutorials/keras/overfit_and_underfit\n",
    " + https://www.kaggle.com/grafiszti/98-59-acc-on-10-fold-with-testing-7-keras-models\n",
    " + https://keras.io/visualization/"
   ]
  },
  {
   "cell_type": "markdown",
   "metadata": {
    "colab_type": "text",
    "id": "GbTWr3JeuzLm"
   },
   "source": [
    "# Include needed files. "
   ]
  },
  {
   "cell_type": "code",
   "execution_count": 1,
   "metadata": {
    "colab": {},
    "colab_type": "code",
    "id": "sBMU4MElu9GB"
   },
   "outputs": [
    {
     "name": "stderr",
     "output_type": "stream",
     "text": [
      "Using TensorFlow backend.\n"
     ]
    }
   ],
   "source": [
    "import numpy as np\n",
    "import pandas as pd\n",
    "import tensorflow as tf\n",
    "\n",
    "import csv\n",
    "import os\n",
    "import sys\n",
    "import glob\n",
    "import operator\n",
    "import time\n",
    "\n",
    "from IPython.display import SVG\n",
    "\n",
    "import matplotlib.pyplot as plt\n",
    "\n",
    "from keras.layers import Dense, Activation\n",
    "from keras.utils.np_utils import to_categorical, normalize\n",
    "\n",
    "from sklearn.model_selection import train_test_split, StratifiedKFold\n",
    "from sklearn.preprocessing import LabelEncoder, StandardScaler\n",
    "from sklearn.utils import shuffle\n",
    "\n",
    "from tensorflow import keras\n",
    "from tensorflow.keras.models import Sequential, load_model\n",
    "from tensorflow.keras.layers import Dense, Activation, BatchNormalization, Dropout\n",
    "from tensorflow.keras.callbacks import TensorBoard"
   ]
  },
  {
   "cell_type": "markdown",
   "metadata": {
    "colab_type": "text",
    "id": "07jwatic7-Jk"
   },
   "source": [
    "# Include Dataset\n"
   ]
  },
  {
   "cell_type": "code",
   "execution_count": 2,
   "metadata": {
    "colab": {},
    "colab_type": "code",
    "id": "ngdiiVOJ8Bt4"
   },
   "outputs": [],
   "source": [
    "%%bash\n",
    "URL=https://iscxdownloads.cs.unb.ca/iscxdownloads/ISCX-URL-2016/\n",
    "FILES=(ISCXURL2016.zip) \n",
    "for FILE in ${FILES[*]}; do\n",
    "    if [ ! -f \"$FILE\" ]; then\n",
    "        printf \"downloading %s\\n\" $FILE\n",
    "        curl -O $URL$FILE\n",
    "        # unzip files\n",
    "        echo 'unzipping ' $FILE\n",
    "        unzip -o $FILE #overwrite exiting files/folders if exists\n",
    "    fi\n",
    "done"
   ]
  },
  {
   "cell_type": "markdown",
   "metadata": {
    "colab_type": "text",
    "id": "MIqy2Xmc8HoD"
   },
   "source": [
    "### Check Dataset"
   ]
  },
  {
   "cell_type": "code",
   "execution_count": 3,
   "metadata": {
    "colab": {
     "base_uri": "https://localhost:8080/",
     "height": 221
    },
    "colab_type": "code",
    "id": "zl2T8MRq8PNT",
    "outputId": "12105f44-7ad8-4d64-d0b5-c685a4368912"
   },
   "outputs": [
    {
     "name": "stdout",
     "output_type": "stream",
     "text": [
      "All_BestFirst.csv\t      Malware_Infogain.csv\r\n",
      "All_BestFirst_test.csv\t      Malware_Infogain_test.csv\r\n",
      "All.csv\t\t\t      Phishing_BestFirst.csv\r\n",
      "All.csv.pickle\t\t      Phishing.csv\r\n",
      "All_Infogain.csv\t      Phishing_Infogain.csv\r\n",
      "All_Infogain_test.csv\t      Phishing_Infogain_test.csv\r\n",
      "Defacement_BestFirst.csv      Spam_BestFirst.csv\r\n",
      "Defacement.csv\t\t      Spam_BestFirst_test.csv\r\n",
      "Defacement_Infogain.csv       Spam.csv\r\n",
      "Defacement_Infogain_test.csv  Spam_Infogain.csv\r\n",
      "Malware_BestFirst.csv\t      Spam_Infogain_test.csv\r\n",
      "Malware.csv\t\t      URL\r\n"
     ]
    }
   ],
   "source": [
    "! ls FinalDataset"
   ]
  },
  {
   "cell_type": "markdown",
   "metadata": {
    "colab_type": "text",
    "id": "IeCm3LP08XOy"
   },
   "source": [
    "# Set some data\n",
    "> Some data needs to be set, we need to ensure that constants are set properly. These are important but will not be used until later."
   ]
  },
  {
   "cell_type": "code",
   "execution_count": 4,
   "metadata": {
    "colab": {},
    "colab_type": "code",
    "id": "qJuZTgd0u_WG"
   },
   "outputs": [],
   "source": [
    "resultPath = 'results_keras_tensorflow'\n",
    "if not os.path.exists(resultPath):\n",
    "   print('result path {} created.'.format(resultPath))\n",
    "   os.mkdir(resultPath)"
   ]
  },
  {
   "cell_type": "code",
   "execution_count": 5,
   "metadata": {
    "colab": {},
    "colab_type": "code",
    "id": "EHnzBhcavSR-"
   },
   "outputs": [],
   "source": [
    "model_name=\"init\""
   ]
  },
  {
   "cell_type": "markdown",
   "metadata": {
    "colab_type": "text",
    "id": "6Vo0Cwne9wRJ"
   },
   "source": [
    "# Functions for Testing\n",
    "> Now that our data has been collected it is time to create functions that will be used in later tests."
   ]
  },
  {
   "cell_type": "code",
   "execution_count": 6,
   "metadata": {
    "colab": {},
    "colab_type": "code",
    "id": "DFtoJCs_7T8p"
   },
   "outputs": [],
   "source": [
    "def loadData(csvFile):\n",
    "    pickleDump = '{}.pickle'.format(csvFile)\n",
    "    if os.path.exists(pickleDump):\n",
    "        df = pd.read_pickle(pickleDump)\n",
    "    else:\n",
    "        df = pd.read_csv(csvFile, low_memory=False, na_values='NaN')\n",
    "        # clean data\n",
    "        # strip the whitspaces from column names\n",
    "        df = df.rename(str.strip, axis='columns')\n",
    "        #df.drop(columns=[], inplace=True)\n",
    "        # drop missing values/NaN etc.\n",
    "        #df.dropna(inplace=True)\n",
    "        # drop Infinity rows and NaN string from each column\n",
    "        for col in df.columns:\n",
    "            indexNames = df[df[col]=='Infinity'].index\n",
    "            if not indexNames.empty:\n",
    "                print('deleting {} rows with Infinity in column {}'.format(len(indexNames), col))\n",
    "                df.drop(indexNames, inplace=True)\n",
    "        \n",
    "        df.to_pickle(pickleDump)\n",
    "    \n",
    "    return df\n"
   ]
  },
  {
   "cell_type": "code",
   "execution_count": 7,
   "metadata": {
    "colab": {},
    "colab_type": "code",
    "id": "GB51N0iLCK9J"
   },
   "outputs": [],
   "source": [
    "def baseline_model(inputDim=-1,batch_size=32,outputDim=-1):\n",
    "    global model_name, model_extension\n",
    "    model = tf.keras.Sequential([\n",
    "        Dense(128, activation='relu', input_shape=(inputDim,)),\n",
    "        BatchNormalization(),\n",
    "        Dropout(.5),\n",
    "        Dense(batch_size, activation='relu'),\n",
    "        BatchNormalization(),\n",
    "        Dropout(.5),\n",
    "        Dense(outputDim, activation='softmax')\n",
    "    ]) #This is the output layer\n",
    "\n",
    "    if outputDim > 2:\n",
    "        print('Categorical Cross-Entropy Loss Function')\n",
    "        model_extension = \"_categorical\"\n",
    "        model.compile(optimizer='adam',\n",
    "                 loss='categorical_crossentropy',\n",
    "                 metrics=['accuracy'])\n",
    "    else:\n",
    "        model_extension = \"_binary\"\n",
    "        print('Binary Cross-Entropy Loss Function')\n",
    "        model.compile(optimizer='adam',\n",
    "                loss='binary_crossentropy',\n",
    "                metrics=['accuracy'])\n",
    "\n",
    "    return model"
   ]
  },
  {
   "cell_type": "code",
   "execution_count": 8,
   "metadata": {},
   "outputs": [],
   "source": [
    "def encode_labels(dataframe):\n",
    "    dataframe=dataframe.copy()\n",
    "    data_y=dataframe.pop(dep_var)\n",
    "    encoder = LabelEncoder()\n",
    "    encoder.fit(data_y)\n",
    "    data_y = encoder.transform(data_y)\n",
    "    dummy_y = to_categorical(data_y)\n",
    "    return dummy_y"
   ]
  },
  {
   "cell_type": "markdown",
   "metadata": {
    "colab_type": "text",
    "id": "GkZ-uZuz9_pi"
   },
   "source": [
    "# Load Data and Clean\n",
    "> First we will load our data, scan the columns for Infinity and NaN values, and remove those columns from testing. "
   ]
  },
  {
   "cell_type": "code",
   "execution_count": 9,
   "metadata": {
    "colab": {},
    "colab_type": "code",
    "id": "h_7Y2Ytp7xa-"
   },
   "outputs": [],
   "source": [
    "df1 = loadData('FinalDataset/All.csv')\n",
    "df1=df1.dropna(axis=1)"
   ]
  },
  {
   "cell_type": "markdown",
   "metadata": {},
   "source": [
    "## Display Data Columns"
   ]
  },
  {
   "cell_type": "code",
   "execution_count": 10,
   "metadata": {
    "colab": {
     "base_uri": "https://localhost:8080/",
     "height": 459
    },
    "colab_type": "code",
    "id": "4ZwM-GC1-LPj",
    "outputId": "256f437f-fc74-446f-ab21-7bef70cfcb99"
   },
   "outputs": [
    {
     "data": {
      "text/plain": [
       "Index(['Querylength', 'domain_token_count', 'path_token_count',\n",
       "       'avgdomaintokenlen', 'longdomaintokenlen', 'tld', 'charcompvowels',\n",
       "       'charcompace', 'ldl_url', 'ldl_domain', 'ldl_path', 'ldl_filename',\n",
       "       'ldl_getArg', 'dld_url', 'dld_domain', 'dld_path', 'dld_filename',\n",
       "       'dld_getArg', 'urlLen', 'domainlength', 'pathLength', 'subDirLen',\n",
       "       'fileNameLen', 'this.fileExtLen', 'ArgLen', 'pathurlRatio',\n",
       "       'ArgUrlRatio', 'argDomanRatio', 'domainUrlRatio', 'pathDomainRatio',\n",
       "       'argPathRatio', 'executable', 'isPortEighty', 'NumberofDotsinURL',\n",
       "       'ISIpAddressInDomainName', 'CharacterContinuityRate',\n",
       "       'LongestVariableValue', 'URL_DigitCount', 'host_DigitCount',\n",
       "       'Directory_DigitCount', 'File_name_DigitCount', 'Extension_DigitCount',\n",
       "       'Query_DigitCount', 'URL_Letter_Count', 'host_letter_count',\n",
       "       'Directory_LetterCount', 'Filename_LetterCount',\n",
       "       'Extension_LetterCount', 'Query_LetterCount', 'LongestPathTokenLength',\n",
       "       'Domain_LongestWordLength', 'Path_LongestWordLength',\n",
       "       'sub-Directory_LongestWordLength', 'Arguments_LongestWordLength',\n",
       "       'URL_sensitiveWord', 'URLQueries_variable', 'spcharUrl',\n",
       "       'delimeter_Domain', 'delimeter_path', 'delimeter_Count',\n",
       "       'NumberRate_URL', 'NumberRate_Domain', 'NumberRate_DirectoryName',\n",
       "       'NumberRate_FileName', 'SymbolCount_URL', 'SymbolCount_Domain',\n",
       "       'SymbolCount_Directoryname', 'SymbolCount_FileName',\n",
       "       'SymbolCount_Extension', 'SymbolCount_Afterpath', 'Entropy_URL',\n",
       "       'Entropy_Domain', 'URL_Type_obf_Type'],\n",
       "      dtype='object')"
      ]
     },
     "execution_count": 10,
     "metadata": {},
     "output_type": "execute_result"
    }
   ],
   "source": [
    "df1.columns"
   ]
  },
  {
   "cell_type": "markdown",
   "metadata": {},
   "source": [
    "## Display Matrix Shape of Data\n",
    "> In the format (samples, columns)"
   ]
  },
  {
   "cell_type": "code",
   "execution_count": 11,
   "metadata": {
    "colab": {
     "base_uri": "https://localhost:8080/",
     "height": 34
    },
    "colab_type": "code",
    "id": "NBvgfW-J--g8",
    "outputId": "29f5e371-9bda-4cfd-9268-3d8e15809c38"
   },
   "outputs": [
    {
     "data": {
      "text/plain": [
       "(36697, 73)"
      ]
     },
     "execution_count": 11,
     "metadata": {},
     "output_type": "execute_result"
    }
   ],
   "source": [
    "df1.shape"
   ]
  },
  {
   "cell_type": "markdown",
   "metadata": {},
   "source": [
    "## Display First Samples in Data"
   ]
  },
  {
   "cell_type": "code",
   "execution_count": 12,
   "metadata": {
    "colab": {
     "base_uri": "https://localhost:8080/",
     "height": 241
    },
    "colab_type": "code",
    "id": "9eYtvDf5AAR5",
    "outputId": "31b59103-1aa1-454a-acbd-07cbd9648317"
   },
   "outputs": [
    {
     "data": {
      "text/html": [
       "<div>\n",
       "<style scoped>\n",
       "    .dataframe tbody tr th:only-of-type {\n",
       "        vertical-align: middle;\n",
       "    }\n",
       "\n",
       "    .dataframe tbody tr th {\n",
       "        vertical-align: top;\n",
       "    }\n",
       "\n",
       "    .dataframe thead th {\n",
       "        text-align: right;\n",
       "    }\n",
       "</style>\n",
       "<table border=\"1\" class=\"dataframe\">\n",
       "  <thead>\n",
       "    <tr style=\"text-align: right;\">\n",
       "      <th></th>\n",
       "      <th>Querylength</th>\n",
       "      <th>domain_token_count</th>\n",
       "      <th>path_token_count</th>\n",
       "      <th>avgdomaintokenlen</th>\n",
       "      <th>longdomaintokenlen</th>\n",
       "      <th>tld</th>\n",
       "      <th>charcompvowels</th>\n",
       "      <th>charcompace</th>\n",
       "      <th>ldl_url</th>\n",
       "      <th>ldl_domain</th>\n",
       "      <th>...</th>\n",
       "      <th>NumberRate_FileName</th>\n",
       "      <th>SymbolCount_URL</th>\n",
       "      <th>SymbolCount_Domain</th>\n",
       "      <th>SymbolCount_Directoryname</th>\n",
       "      <th>SymbolCount_FileName</th>\n",
       "      <th>SymbolCount_Extension</th>\n",
       "      <th>SymbolCount_Afterpath</th>\n",
       "      <th>Entropy_URL</th>\n",
       "      <th>Entropy_Domain</th>\n",
       "      <th>URL_Type_obf_Type</th>\n",
       "    </tr>\n",
       "  </thead>\n",
       "  <tbody>\n",
       "    <tr>\n",
       "      <th>0</th>\n",
       "      <td>0</td>\n",
       "      <td>4</td>\n",
       "      <td>5</td>\n",
       "      <td>5.5</td>\n",
       "      <td>14</td>\n",
       "      <td>4</td>\n",
       "      <td>8</td>\n",
       "      <td>3</td>\n",
       "      <td>0</td>\n",
       "      <td>0</td>\n",
       "      <td>...</td>\n",
       "      <td>0.066667</td>\n",
       "      <td>8</td>\n",
       "      <td>3</td>\n",
       "      <td>2</td>\n",
       "      <td>1</td>\n",
       "      <td>0</td>\n",
       "      <td>-1</td>\n",
       "      <td>0.726298</td>\n",
       "      <td>0.784493</td>\n",
       "      <td>Defacement</td>\n",
       "    </tr>\n",
       "    <tr>\n",
       "      <th>1</th>\n",
       "      <td>0</td>\n",
       "      <td>4</td>\n",
       "      <td>5</td>\n",
       "      <td>5.5</td>\n",
       "      <td>14</td>\n",
       "      <td>4</td>\n",
       "      <td>12</td>\n",
       "      <td>4</td>\n",
       "      <td>0</td>\n",
       "      <td>0</td>\n",
       "      <td>...</td>\n",
       "      <td>0.000000</td>\n",
       "      <td>8</td>\n",
       "      <td>3</td>\n",
       "      <td>3</td>\n",
       "      <td>0</td>\n",
       "      <td>0</td>\n",
       "      <td>-1</td>\n",
       "      <td>0.688635</td>\n",
       "      <td>0.784493</td>\n",
       "      <td>Defacement</td>\n",
       "    </tr>\n",
       "    <tr>\n",
       "      <th>2</th>\n",
       "      <td>0</td>\n",
       "      <td>4</td>\n",
       "      <td>5</td>\n",
       "      <td>5.5</td>\n",
       "      <td>14</td>\n",
       "      <td>4</td>\n",
       "      <td>12</td>\n",
       "      <td>5</td>\n",
       "      <td>0</td>\n",
       "      <td>0</td>\n",
       "      <td>...</td>\n",
       "      <td>0.000000</td>\n",
       "      <td>8</td>\n",
       "      <td>3</td>\n",
       "      <td>3</td>\n",
       "      <td>0</td>\n",
       "      <td>0</td>\n",
       "      <td>-1</td>\n",
       "      <td>0.695049</td>\n",
       "      <td>0.784493</td>\n",
       "      <td>Defacement</td>\n",
       "    </tr>\n",
       "    <tr>\n",
       "      <th>3</th>\n",
       "      <td>0</td>\n",
       "      <td>4</td>\n",
       "      <td>12</td>\n",
       "      <td>5.5</td>\n",
       "      <td>14</td>\n",
       "      <td>4</td>\n",
       "      <td>32</td>\n",
       "      <td>16</td>\n",
       "      <td>0</td>\n",
       "      <td>0</td>\n",
       "      <td>...</td>\n",
       "      <td>0.000000</td>\n",
       "      <td>8</td>\n",
       "      <td>3</td>\n",
       "      <td>3</td>\n",
       "      <td>0</td>\n",
       "      <td>0</td>\n",
       "      <td>-1</td>\n",
       "      <td>0.640130</td>\n",
       "      <td>0.784493</td>\n",
       "      <td>Defacement</td>\n",
       "    </tr>\n",
       "    <tr>\n",
       "      <th>4</th>\n",
       "      <td>0</td>\n",
       "      <td>4</td>\n",
       "      <td>6</td>\n",
       "      <td>5.5</td>\n",
       "      <td>14</td>\n",
       "      <td>4</td>\n",
       "      <td>18</td>\n",
       "      <td>11</td>\n",
       "      <td>0</td>\n",
       "      <td>0</td>\n",
       "      <td>...</td>\n",
       "      <td>0.000000</td>\n",
       "      <td>8</td>\n",
       "      <td>3</td>\n",
       "      <td>3</td>\n",
       "      <td>0</td>\n",
       "      <td>0</td>\n",
       "      <td>-1</td>\n",
       "      <td>0.681307</td>\n",
       "      <td>0.784493</td>\n",
       "      <td>Defacement</td>\n",
       "    </tr>\n",
       "  </tbody>\n",
       "</table>\n",
       "<p>5 rows × 73 columns</p>\n",
       "</div>"
      ],
      "text/plain": [
       "   Querylength  domain_token_count  path_token_count  avgdomaintokenlen  \\\n",
       "0            0                   4                 5                5.5   \n",
       "1            0                   4                 5                5.5   \n",
       "2            0                   4                 5                5.5   \n",
       "3            0                   4                12                5.5   \n",
       "4            0                   4                 6                5.5   \n",
       "\n",
       "   longdomaintokenlen  tld  charcompvowels  charcompace  ldl_url  ldl_domain  \\\n",
       "0                  14    4               8            3        0           0   \n",
       "1                  14    4              12            4        0           0   \n",
       "2                  14    4              12            5        0           0   \n",
       "3                  14    4              32           16        0           0   \n",
       "4                  14    4              18           11        0           0   \n",
       "\n",
       "   ...  NumberRate_FileName  SymbolCount_URL  SymbolCount_Domain  \\\n",
       "0  ...             0.066667                8                   3   \n",
       "1  ...             0.000000                8                   3   \n",
       "2  ...             0.000000                8                   3   \n",
       "3  ...             0.000000                8                   3   \n",
       "4  ...             0.000000                8                   3   \n",
       "\n",
       "   SymbolCount_Directoryname  SymbolCount_FileName  SymbolCount_Extension  \\\n",
       "0                          2                     1                      0   \n",
       "1                          3                     0                      0   \n",
       "2                          3                     0                      0   \n",
       "3                          3                     0                      0   \n",
       "4                          3                     0                      0   \n",
       "\n",
       "   SymbolCount_Afterpath  Entropy_URL  Entropy_Domain  URL_Type_obf_Type  \n",
       "0                     -1     0.726298        0.784493         Defacement  \n",
       "1                     -1     0.688635        0.784493         Defacement  \n",
       "2                     -1     0.695049        0.784493         Defacement  \n",
       "3                     -1     0.640130        0.784493         Defacement  \n",
       "4                     -1     0.681307        0.784493         Defacement  \n",
       "\n",
       "[5 rows x 73 columns]"
      ]
     },
     "execution_count": 12,
     "metadata": {},
     "output_type": "execute_result"
    }
   ],
   "source": [
    "df1.head()"
   ]
  },
  {
   "cell_type": "markdown",
   "metadata": {},
   "source": [
    "## Display Last Samples in Data"
   ]
  },
  {
   "cell_type": "code",
   "execution_count": 13,
   "metadata": {},
   "outputs": [
    {
     "data": {
      "text/html": [
       "<div>\n",
       "<style scoped>\n",
       "    .dataframe tbody tr th:only-of-type {\n",
       "        vertical-align: middle;\n",
       "    }\n",
       "\n",
       "    .dataframe tbody tr th {\n",
       "        vertical-align: top;\n",
       "    }\n",
       "\n",
       "    .dataframe thead th {\n",
       "        text-align: right;\n",
       "    }\n",
       "</style>\n",
       "<table border=\"1\" class=\"dataframe\">\n",
       "  <thead>\n",
       "    <tr style=\"text-align: right;\">\n",
       "      <th></th>\n",
       "      <th>Querylength</th>\n",
       "      <th>domain_token_count</th>\n",
       "      <th>path_token_count</th>\n",
       "      <th>avgdomaintokenlen</th>\n",
       "      <th>longdomaintokenlen</th>\n",
       "      <th>tld</th>\n",
       "      <th>charcompvowels</th>\n",
       "      <th>charcompace</th>\n",
       "      <th>ldl_url</th>\n",
       "      <th>ldl_domain</th>\n",
       "      <th>...</th>\n",
       "      <th>NumberRate_FileName</th>\n",
       "      <th>SymbolCount_URL</th>\n",
       "      <th>SymbolCount_Domain</th>\n",
       "      <th>SymbolCount_Directoryname</th>\n",
       "      <th>SymbolCount_FileName</th>\n",
       "      <th>SymbolCount_Extension</th>\n",
       "      <th>SymbolCount_Afterpath</th>\n",
       "      <th>Entropy_URL</th>\n",
       "      <th>Entropy_Domain</th>\n",
       "      <th>URL_Type_obf_Type</th>\n",
       "    </tr>\n",
       "  </thead>\n",
       "  <tbody>\n",
       "    <tr>\n",
       "      <th>36702</th>\n",
       "      <td>29</td>\n",
       "      <td>4</td>\n",
       "      <td>14</td>\n",
       "      <td>5.750000</td>\n",
       "      <td>12</td>\n",
       "      <td>4</td>\n",
       "      <td>20</td>\n",
       "      <td>24</td>\n",
       "      <td>3</td>\n",
       "      <td>0</td>\n",
       "      <td>...</td>\n",
       "      <td>0.529412</td>\n",
       "      <td>19</td>\n",
       "      <td>3</td>\n",
       "      <td>11</td>\n",
       "      <td>3</td>\n",
       "      <td>2</td>\n",
       "      <td>7</td>\n",
       "      <td>0.690555</td>\n",
       "      <td>0.791265</td>\n",
       "      <td>spam</td>\n",
       "    </tr>\n",
       "    <tr>\n",
       "      <th>36703</th>\n",
       "      <td>0</td>\n",
       "      <td>4</td>\n",
       "      <td>13</td>\n",
       "      <td>3.750000</td>\n",
       "      <td>8</td>\n",
       "      <td>4</td>\n",
       "      <td>24</td>\n",
       "      <td>23</td>\n",
       "      <td>0</td>\n",
       "      <td>0</td>\n",
       "      <td>...</td>\n",
       "      <td>0.187500</td>\n",
       "      <td>23</td>\n",
       "      <td>3</td>\n",
       "      <td>2</td>\n",
       "      <td>16</td>\n",
       "      <td>15</td>\n",
       "      <td>-1</td>\n",
       "      <td>0.665492</td>\n",
       "      <td>0.820010</td>\n",
       "      <td>spam</td>\n",
       "    </tr>\n",
       "    <tr>\n",
       "      <th>36704</th>\n",
       "      <td>58</td>\n",
       "      <td>3</td>\n",
       "      <td>27</td>\n",
       "      <td>6.666666</td>\n",
       "      <td>16</td>\n",
       "      <td>3</td>\n",
       "      <td>41</td>\n",
       "      <td>34</td>\n",
       "      <td>20</td>\n",
       "      <td>0</td>\n",
       "      <td>...</td>\n",
       "      <td>0.377778</td>\n",
       "      <td>26</td>\n",
       "      <td>2</td>\n",
       "      <td>14</td>\n",
       "      <td>8</td>\n",
       "      <td>7</td>\n",
       "      <td>9</td>\n",
       "      <td>0.656807</td>\n",
       "      <td>0.801139</td>\n",
       "      <td>spam</td>\n",
       "    </tr>\n",
       "    <tr>\n",
       "      <th>36705</th>\n",
       "      <td>35</td>\n",
       "      <td>3</td>\n",
       "      <td>13</td>\n",
       "      <td>4.333334</td>\n",
       "      <td>9</td>\n",
       "      <td>3</td>\n",
       "      <td>15</td>\n",
       "      <td>13</td>\n",
       "      <td>7</td>\n",
       "      <td>0</td>\n",
       "      <td>...</td>\n",
       "      <td>0.284091</td>\n",
       "      <td>14</td>\n",
       "      <td>2</td>\n",
       "      <td>1</td>\n",
       "      <td>9</td>\n",
       "      <td>8</td>\n",
       "      <td>3</td>\n",
       "      <td>0.725963</td>\n",
       "      <td>0.897617</td>\n",
       "      <td>spam</td>\n",
       "    </tr>\n",
       "    <tr>\n",
       "      <th>36706</th>\n",
       "      <td>40</td>\n",
       "      <td>3</td>\n",
       "      <td>25</td>\n",
       "      <td>6.666666</td>\n",
       "      <td>16</td>\n",
       "      <td>3</td>\n",
       "      <td>35</td>\n",
       "      <td>31</td>\n",
       "      <td>19</td>\n",
       "      <td>0</td>\n",
       "      <td>...</td>\n",
       "      <td>0.365079</td>\n",
       "      <td>24</td>\n",
       "      <td>2</td>\n",
       "      <td>13</td>\n",
       "      <td>7</td>\n",
       "      <td>6</td>\n",
       "      <td>7</td>\n",
       "      <td>0.674351</td>\n",
       "      <td>0.801139</td>\n",
       "      <td>spam</td>\n",
       "    </tr>\n",
       "  </tbody>\n",
       "</table>\n",
       "<p>5 rows × 73 columns</p>\n",
       "</div>"
      ],
      "text/plain": [
       "       Querylength  domain_token_count  path_token_count  avgdomaintokenlen  \\\n",
       "36702           29                   4                14           5.750000   \n",
       "36703            0                   4                13           3.750000   \n",
       "36704           58                   3                27           6.666666   \n",
       "36705           35                   3                13           4.333334   \n",
       "36706           40                   3                25           6.666666   \n",
       "\n",
       "       longdomaintokenlen  tld  charcompvowels  charcompace  ldl_url  \\\n",
       "36702                  12    4              20           24        3   \n",
       "36703                   8    4              24           23        0   \n",
       "36704                  16    3              41           34       20   \n",
       "36705                   9    3              15           13        7   \n",
       "36706                  16    3              35           31       19   \n",
       "\n",
       "       ldl_domain  ...  NumberRate_FileName  SymbolCount_URL  \\\n",
       "36702           0  ...             0.529412               19   \n",
       "36703           0  ...             0.187500               23   \n",
       "36704           0  ...             0.377778               26   \n",
       "36705           0  ...             0.284091               14   \n",
       "36706           0  ...             0.365079               24   \n",
       "\n",
       "       SymbolCount_Domain  SymbolCount_Directoryname  SymbolCount_FileName  \\\n",
       "36702                   3                         11                     3   \n",
       "36703                   3                          2                    16   \n",
       "36704                   2                         14                     8   \n",
       "36705                   2                          1                     9   \n",
       "36706                   2                         13                     7   \n",
       "\n",
       "       SymbolCount_Extension  SymbolCount_Afterpath  Entropy_URL  \\\n",
       "36702                      2                      7     0.690555   \n",
       "36703                     15                     -1     0.665492   \n",
       "36704                      7                      9     0.656807   \n",
       "36705                      8                      3     0.725963   \n",
       "36706                      6                      7     0.674351   \n",
       "\n",
       "       Entropy_Domain  URL_Type_obf_Type  \n",
       "36702        0.791265               spam  \n",
       "36703        0.820010               spam  \n",
       "36704        0.801139               spam  \n",
       "36705        0.897617               spam  \n",
       "36706        0.801139               spam  \n",
       "\n",
       "[5 rows x 73 columns]"
      ]
     },
     "execution_count": 13,
     "metadata": {},
     "output_type": "execute_result"
    }
   ],
   "source": [
    "df1.tail()"
   ]
  },
  {
   "cell_type": "markdown",
   "metadata": {
    "colab_type": "text",
    "id": "f2zcKS_DAGcx"
   },
   "source": [
    "  # Experimenting with Final Dataset/All.csv\n",
    "  \n",
    "  #### Total Samples for each Type"
   ]
  },
  {
   "cell_type": "code",
   "execution_count": 14,
   "metadata": {
    "colab": {
     "base_uri": "https://localhost:8080/",
     "height": 102
    },
    "colab_type": "code",
    "id": "NuFeBCWJABj9",
    "outputId": "3c655ac5-0cfd-4290-9bd9-c17a1b217c10"
   },
   "outputs": [
    {
     "name": "stdout",
     "output_type": "stream",
     "text": [
      "| benign | 7781 |\n",
      "| spam | 6698 |\n",
      "| Defacement | 7930 |\n",
      "| phishing | 7577 |\n",
      "| malware | 6711 |\n"
     ]
    }
   ],
   "source": [
    "label = 'URL_Type_obf_Type'\n",
    "lblTypes=set(df1[label])\n",
    "for lbl in lblTypes:\n",
    "    print('| {} | {} |'.format(lbl, len(df1[df1[label] == lbl].index)))"
   ]
  },
  {
   "cell_type": "code",
   "execution_count": 15,
   "metadata": {
    "colab": {},
    "colab_type": "code",
    "id": "KlTOWuf8A_Yy"
   },
   "outputs": [],
   "source": [
    "dataPath = 'FinalDataset'\n",
    "dep_var = label"
   ]
  },
  {
   "cell_type": "markdown",
   "metadata": {},
   "source": [
    "## Cast column values to float\n",
    "> Values in this column register as object type, which isn't valid for testing, so cast them to float"
   ]
  },
  {
   "cell_type": "code",
   "execution_count": 16,
   "metadata": {
    "colab": {},
    "colab_type": "code",
    "id": "2nFBzqafCKkG"
   },
   "outputs": [],
   "source": [
    "df1.argPathRatio = df1['argPathRatio'].astype('float')"
   ]
  },
  {
   "cell_type": "markdown",
   "metadata": {
    "colab_type": "text",
    "id": "AaUqSRUiItig"
   },
   "source": [
    "## Experimenting with Tensorflow Keras"
   ]
  },
  {
   "cell_type": "markdown",
   "metadata": {
    "colab_type": "text",
    "id": "4c-GxIVIIZAR"
   },
   "source": [
    "#### Globals for Testing\n"
   ]
  },
  {
   "cell_type": "code",
   "execution_count": 17,
   "metadata": {
    "colab": {},
    "colab_type": "code",
    "id": "x-fMOCE2I7MI"
   },
   "outputs": [],
   "source": [
    "dataFile = 'All.csv'\n",
    "epochs=10\n",
    "batch_size=64"
   ]
  },
  {
   "cell_type": "markdown",
   "metadata": {},
   "source": [
    "#### Show uncoded label column"
   ]
  },
  {
   "cell_type": "code",
   "execution_count": 18,
   "metadata": {},
   "outputs": [
    {
     "data": {
      "text/plain": [
       "0        Defacement\n",
       "1        Defacement\n",
       "2        Defacement\n",
       "3        Defacement\n",
       "4        Defacement\n",
       "5        Defacement\n",
       "6        Defacement\n",
       "7        Defacement\n",
       "8        Defacement\n",
       "9        Defacement\n",
       "10       Defacement\n",
       "11       Defacement\n",
       "12       Defacement\n",
       "13       Defacement\n",
       "14       Defacement\n",
       "15       Defacement\n",
       "16       Defacement\n",
       "17       Defacement\n",
       "18       Defacement\n",
       "19       Defacement\n",
       "20       Defacement\n",
       "21       Defacement\n",
       "22       Defacement\n",
       "23       Defacement\n",
       "24       Defacement\n",
       "25       Defacement\n",
       "26       Defacement\n",
       "27       Defacement\n",
       "28       Defacement\n",
       "29       Defacement\n",
       "            ...    \n",
       "36677          spam\n",
       "36678          spam\n",
       "36679          spam\n",
       "36680          spam\n",
       "36681          spam\n",
       "36682          spam\n",
       "36683          spam\n",
       "36684          spam\n",
       "36685          spam\n",
       "36686          spam\n",
       "36687          spam\n",
       "36688          spam\n",
       "36689          spam\n",
       "36690          spam\n",
       "36691          spam\n",
       "36692          spam\n",
       "36693          spam\n",
       "36694          spam\n",
       "36695          spam\n",
       "36696          spam\n",
       "36697          spam\n",
       "36698          spam\n",
       "36699          spam\n",
       "36700          spam\n",
       "36701          spam\n",
       "36702          spam\n",
       "36703          spam\n",
       "36704          spam\n",
       "36705          spam\n",
       "36706          spam\n",
       "Name: URL_Type_obf_Type, Length: 36697, dtype: object"
      ]
     },
     "execution_count": 18,
     "metadata": {},
     "output_type": "execute_result"
    }
   ],
   "source": [
    "df1[dep_var]"
   ]
  },
  {
   "cell_type": "markdown",
   "metadata": {
    "colab_type": "text",
    "id": "ED-PijliFjJL"
   },
   "source": [
    "#### Logging Setup\n"
   ]
  },
  {
   "cell_type": "code",
   "execution_count": 19,
   "metadata": {},
   "outputs": [],
   "source": [
    "time_gen = int(time.time())\n",
    "\n",
    "global model_name\n",
    "model_name = f\"{dataFile}_{time_gen}\"\n",
    "\n",
    "tensorboard = TensorBoard(log_dir='keras_tensorflow_logs/{}'.format(model_name))"
   ]
  },
  {
   "cell_type": "markdown",
   "metadata": {},
   "source": [
    "#### Random seed for splitting"
   ]
  },
  {
   "cell_type": "code",
   "execution_count": 20,
   "metadata": {},
   "outputs": [],
   "source": [
    "seed = 7\n",
    "np.random.seed(seed)"
   ]
  },
  {
   "cell_type": "markdown",
   "metadata": {},
   "source": [
    "#### Function to determine train and validation indexes, and fit the data to the model we constructed"
   ]
  },
  {
   "cell_type": "code",
   "execution_count": 21,
   "metadata": {
    "colab": {},
    "colab_type": "code",
    "id": "y8TPcnYhFl_F"
   },
   "outputs": [],
   "source": [
    "def experiment(dataframe):\n",
    "    \n",
    "    #10-fold cross validation, choosing random indices for training and validation\n",
    "    kfold = StratifiedKFold(n_splits=10, shuffle=True, random_state=seed)\n",
    "    \n",
    "    # Encode the label column for model fitting\n",
    "    encoded_y = dataframe.copy()\n",
    "    encoded_y = encode_labels(encoded_y)\n",
    "    \n",
    "    # X is our data/features to train the model with\n",
    "    X=StandardScaler().fit_transform(dataframe.drop(dep_var, axis=1))\n",
    "\n",
    "    # Y is our labels to classify the data\n",
    "    y=LabelEncoder().fit_transform(dataframe[dep_var].values)\n",
    "\n",
    "    for index, (train_indices, val_indices) in enumerate(kfold.split(X, y)):\n",
    "        \n",
    "        xtrain, xval = X[train_indices], X[val_indices]\n",
    "        ytrain, yval = encoded_y[train_indices], encoded_y[val_indices]\n",
    "\n",
    "        inputDim=xtrain.shape[1]\n",
    "        outputDim=ytrain.shape[1]\n",
    "        print(\"Running fold #\" + str(index+1))\n",
    "\n",
    "        model = baseline_model(inputDim,batch_size,outputDim)\n",
    "        history = model.fit(xtrain, ytrain, epochs=epochs, validation_data=(xval,yval), callbacks=[tensorboard], batch_size=batch_size)\n",
    "        \n",
    "    return model, history, X, encoded_y"
   ]
  },
  {
   "cell_type": "markdown",
   "metadata": {},
   "source": [
    "### Run the experiment"
   ]
  },
  {
   "cell_type": "code",
   "execution_count": 22,
   "metadata": {},
   "outputs": [
    {
     "name": "stderr",
     "output_type": "stream",
     "text": [
      "/usr/lib/python3.7/site-packages/sklearn/preprocessing/data.py:645: DataConversionWarning: Data with input dtype int64, float64 were all converted to float64 by StandardScaler.\n",
      "  return self.partial_fit(X, y)\n",
      "/usr/lib/python3.7/site-packages/sklearn/base.py:464: DataConversionWarning: Data with input dtype int64, float64 were all converted to float64 by StandardScaler.\n",
      "  return self.fit(X, **fit_params).transform(X)\n",
      "WARNING: Logging before flag parsing goes to stderr.\n",
      "W0716 12:15:15.288011 140153480132224 deprecation.py:506] From /usr/lib/python3.7/site-packages/tensorflow/python/ops/init_ops.py:1251: calling VarianceScaling.__init__ (from tensorflow.python.ops.init_ops) with dtype is deprecated and will be removed in a future version.\n",
      "Instructions for updating:\n",
      "Call initializer instance with the dtype argument instead of passing it to the constructor\n"
     ]
    },
    {
     "name": "stdout",
     "output_type": "stream",
     "text": [
      "Running fold #1\n",
      "Categorical Cross-Entropy Loss Function\n",
      "Train on 33025 samples, validate on 3672 samples\n",
      "Epoch 1/10\n",
      "33025/33025 [==============================] - 1s 45us/sample - loss: 1.0090 - acc: 0.6402 - val_loss: 0.5305 - val_acc: 0.8113\n",
      "Epoch 2/10\n",
      "33025/33025 [==============================] - 1s 35us/sample - loss: 0.6626 - acc: 0.7573 - val_loss: 0.4240 - val_acc: 0.8513\n",
      "Epoch 3/10\n",
      "33025/33025 [==============================] - 1s 39us/sample - loss: 0.5766 - acc: 0.7902 - val_loss: 0.3682 - val_acc: 0.8682\n",
      "Epoch 4/10\n",
      "33025/33025 [==============================] - 1s 37us/sample - loss: 0.5162 - acc: 0.8134 - val_loss: 0.3278 - val_acc: 0.8853\n",
      "Epoch 5/10\n",
      "33025/33025 [==============================] - 1s 37us/sample - loss: 0.4776 - acc: 0.8292 - val_loss: 0.3025 - val_acc: 0.8856\n",
      "Epoch 6/10\n",
      "33025/33025 [==============================] - 1s 37us/sample - loss: 0.4490 - acc: 0.8383 - val_loss: 0.2866 - val_acc: 0.9006\n",
      "Epoch 7/10\n",
      "33025/33025 [==============================] - 1s 36us/sample - loss: 0.4204 - acc: 0.8487 - val_loss: 0.2703 - val_acc: 0.9090\n",
      "Epoch 8/10\n",
      "33025/33025 [==============================] - 1s 37us/sample - loss: 0.4070 - acc: 0.8535 - val_loss: 0.2571 - val_acc: 0.9088\n",
      "Epoch 9/10\n",
      "33025/33025 [==============================] - 1s 36us/sample - loss: 0.3880 - acc: 0.8617 - val_loss: 0.2457 - val_acc: 0.9148\n",
      "Epoch 10/10\n",
      "33025/33025 [==============================] - 1s 36us/sample - loss: 0.3744 - acc: 0.8684 - val_loss: 0.2408 - val_acc: 0.9161\n",
      "Running fold #2\n",
      "Categorical Cross-Entropy Loss Function\n",
      "Train on 33027 samples, validate on 3670 samples\n",
      "Epoch 1/10\n",
      "33027/33027 [==============================] - 2s 51us/sample - loss: 1.0180 - acc: 0.6356 - val_loss: 0.5184 - val_acc: 0.8259\n",
      "Epoch 2/10\n",
      "33027/33027 [==============================] - 1s 43us/sample - loss: 0.6822 - acc: 0.7492 - val_loss: 0.4307 - val_acc: 0.8608\n",
      "Epoch 3/10\n",
      "33027/33027 [==============================] - 1s 44us/sample - loss: 0.5898 - acc: 0.7871 - val_loss: 0.3679 - val_acc: 0.8793\n",
      "Epoch 4/10\n",
      "33027/33027 [==============================] - 1s 43us/sample - loss: 0.5270 - acc: 0.8109 - val_loss: 0.3326 - val_acc: 0.8907\n",
      "Epoch 5/10\n",
      "33027/33027 [==============================] - 2s 53us/sample - loss: 0.4848 - acc: 0.8225 - val_loss: 0.2993 - val_acc: 0.9000\n",
      "Epoch 6/10\n",
      "33027/33027 [==============================] - 2s 54us/sample - loss: 0.4610 - acc: 0.8361 - val_loss: 0.2857 - val_acc: 0.9041\n",
      "Epoch 7/10\n",
      "33027/33027 [==============================] - 2s 61us/sample - loss: 0.4348 - acc: 0.8458 - val_loss: 0.2667 - val_acc: 0.9136\n",
      "Epoch 8/10\n",
      "33027/33027 [==============================] - 2s 57us/sample - loss: 0.4124 - acc: 0.8545 - val_loss: 0.2421 - val_acc: 0.9215\n",
      "Epoch 9/10\n",
      "33027/33027 [==============================] - 2s 60us/sample - loss: 0.3995 - acc: 0.8590 - val_loss: 0.2396 - val_acc: 0.9245\n",
      "Epoch 10/10\n",
      "33027/33027 [==============================] - 2s 67us/sample - loss: 0.3915 - acc: 0.8598 - val_loss: 0.2226 - val_acc: 0.9248\n",
      "Running fold #3\n",
      "Categorical Cross-Entropy Loss Function\n",
      "Train on 33027 samples, validate on 3670 samples\n",
      "Epoch 1/10\n",
      "33027/33027 [==============================] - 2s 72us/sample - loss: 1.0013 - acc: 0.6381 - val_loss: 0.5413 - val_acc: 0.8251\n",
      "Epoch 2/10\n",
      "33027/33027 [==============================] - 2s 56us/sample - loss: 0.6791 - acc: 0.7516 - val_loss: 0.4428 - val_acc: 0.8425\n",
      "Epoch 3/10\n",
      "33027/33027 [==============================] - 1s 42us/sample - loss: 0.5813 - acc: 0.7917 - val_loss: 0.3845 - val_acc: 0.8698\n",
      "Epoch 4/10\n",
      "33027/33027 [==============================] - 1s 42us/sample - loss: 0.5220 - acc: 0.8130 - val_loss: 0.3528 - val_acc: 0.8796\n",
      "Epoch 5/10\n",
      "33027/33027 [==============================] - 1s 37us/sample - loss: 0.4901 - acc: 0.8205 - val_loss: 0.3179 - val_acc: 0.8926\n",
      "Epoch 6/10\n",
      "33027/33027 [==============================] - 1s 37us/sample - loss: 0.4583 - acc: 0.8350 - val_loss: 0.2972 - val_acc: 0.8995\n",
      "Epoch 7/10\n",
      "33027/33027 [==============================] - 1s 40us/sample - loss: 0.4414 - acc: 0.8437 - val_loss: 0.2925 - val_acc: 0.8978\n",
      "Epoch 8/10\n",
      "33027/33027 [==============================] - 1s 44us/sample - loss: 0.4197 - acc: 0.8509 - val_loss: 0.2786 - val_acc: 0.9000\n",
      "Epoch 9/10\n",
      "33027/33027 [==============================] - 1s 40us/sample - loss: 0.4084 - acc: 0.8563 - val_loss: 0.2619 - val_acc: 0.9120\n",
      "Epoch 10/10\n",
      "33027/33027 [==============================] - 1s 38us/sample - loss: 0.4076 - acc: 0.8536 - val_loss: 0.2631 - val_acc: 0.9112\n",
      "Running fold #4\n",
      "Categorical Cross-Entropy Loss Function\n",
      "Train on 33027 samples, validate on 3670 samples\n",
      "Epoch 1/10\n",
      "33027/33027 [==============================] - 2s 55us/sample - loss: 1.0285 - acc: 0.6327 - val_loss: 0.5628 - val_acc: 0.7986\n",
      "Epoch 2/10\n",
      "33027/33027 [==============================] - 2s 47us/sample - loss: 0.6762 - acc: 0.7533 - val_loss: 0.4631 - val_acc: 0.8373\n",
      "Epoch 3/10\n",
      "33027/33027 [==============================] - 1s 43us/sample - loss: 0.5841 - acc: 0.7895 - val_loss: 0.4044 - val_acc: 0.8597\n",
      "Epoch 4/10\n",
      "33027/33027 [==============================] - 1s 43us/sample - loss: 0.5203 - acc: 0.8139 - val_loss: 0.3618 - val_acc: 0.8728\n",
      "Epoch 5/10\n",
      "33027/33027 [==============================] - 2s 49us/sample - loss: 0.4838 - acc: 0.8265 - val_loss: 0.3311 - val_acc: 0.8820\n",
      "Epoch 6/10\n",
      "33027/33027 [==============================] - 1s 40us/sample - loss: 0.4542 - acc: 0.8372 - val_loss: 0.3095 - val_acc: 0.8910\n",
      "Epoch 7/10\n",
      "33027/33027 [==============================] - 1s 38us/sample - loss: 0.4343 - acc: 0.8458 - val_loss: 0.2947 - val_acc: 0.8973\n",
      "Epoch 8/10\n",
      "33027/33027 [==============================] - 1s 39us/sample - loss: 0.4080 - acc: 0.8558 - val_loss: 0.2757 - val_acc: 0.9049\n",
      "Epoch 9/10\n",
      "33027/33027 [==============================] - 1s 37us/sample - loss: 0.4013 - acc: 0.8586 - val_loss: 0.2587 - val_acc: 0.9041\n",
      "Epoch 10/10\n",
      "33027/33027 [==============================] - 1s 37us/sample - loss: 0.3856 - acc: 0.8645 - val_loss: 0.2574 - val_acc: 0.9074\n",
      "Running fold #5\n",
      "Categorical Cross-Entropy Loss Function\n",
      "Train on 33027 samples, validate on 3670 samples\n",
      "Epoch 1/10\n",
      "33027/33027 [==============================] - 2s 51us/sample - loss: 1.0342 - acc: 0.6350 - val_loss: 0.5422 - val_acc: 0.8155\n",
      "Epoch 2/10\n",
      "33027/33027 [==============================] - 1s 37us/sample - loss: 0.6691 - acc: 0.7575 - val_loss: 0.4437 - val_acc: 0.8496\n",
      "Epoch 3/10\n",
      "33027/33027 [==============================] - 1s 37us/sample - loss: 0.5835 - acc: 0.7920 - val_loss: 0.3856 - val_acc: 0.8681\n",
      "Epoch 4/10\n",
      "33027/33027 [==============================] - 1s 37us/sample - loss: 0.5272 - acc: 0.8081 - val_loss: 0.3533 - val_acc: 0.8777\n",
      "Epoch 5/10\n",
      "33027/33027 [==============================] - 1s 38us/sample - loss: 0.4756 - acc: 0.8292 - val_loss: 0.3203 - val_acc: 0.8910\n",
      "Epoch 6/10\n",
      "33027/33027 [==============================] - 1s 39us/sample - loss: 0.4592 - acc: 0.8350 - val_loss: 0.3002 - val_acc: 0.8951\n",
      "Epoch 7/10\n",
      "33027/33027 [==============================] - 1s 42us/sample - loss: 0.4336 - acc: 0.8454 - val_loss: 0.2934 - val_acc: 0.8981\n",
      "Epoch 8/10\n",
      "33027/33027 [==============================] - 1s 39us/sample - loss: 0.4217 - acc: 0.8503 - val_loss: 0.2801 - val_acc: 0.9014\n",
      "Epoch 9/10\n",
      "33027/33027 [==============================] - 1s 41us/sample - loss: 0.4054 - acc: 0.8587 - val_loss: 0.2652 - val_acc: 0.9046\n",
      "Epoch 10/10\n",
      "33027/33027 [==============================] - 1s 45us/sample - loss: 0.3893 - acc: 0.8647 - val_loss: 0.2587 - val_acc: 0.9044\n",
      "Running fold #6\n",
      "Categorical Cross-Entropy Loss Function\n",
      "Train on 33027 samples, validate on 3670 samples\n",
      "Epoch 1/10\n",
      "33027/33027 [==============================] - 2s 59us/sample - loss: 0.9942 - acc: 0.6395 - val_loss: 0.5465 - val_acc: 0.8019\n",
      "Epoch 2/10\n",
      "33027/33027 [==============================] - 1s 42us/sample - loss: 0.6719 - acc: 0.7528 - val_loss: 0.4555 - val_acc: 0.8376\n",
      "Epoch 3/10\n",
      "33027/33027 [==============================] - 1s 43us/sample - loss: 0.5762 - acc: 0.7933 - val_loss: 0.3888 - val_acc: 0.8613\n",
      "Epoch 4/10\n",
      "33027/33027 [==============================] - 1s 38us/sample - loss: 0.5272 - acc: 0.8105 - val_loss: 0.3569 - val_acc: 0.8752\n",
      "Epoch 5/10\n"
     ]
    },
    {
     "name": "stdout",
     "output_type": "stream",
     "text": [
      "33027/33027 [==============================] - 1s 42us/sample - loss: 0.4831 - acc: 0.8271 - val_loss: 0.3268 - val_acc: 0.8766\n",
      "Epoch 6/10\n",
      "33027/33027 [==============================] - 2s 49us/sample - loss: 0.4591 - acc: 0.8348 - val_loss: 0.3121 - val_acc: 0.8894\n",
      "Epoch 7/10\n",
      "33027/33027 [==============================] - 2s 47us/sample - loss: 0.4398 - acc: 0.8426 - val_loss: 0.2947 - val_acc: 0.9011\n",
      "Epoch 8/10\n",
      "33027/33027 [==============================] - 2s 48us/sample - loss: 0.4170 - acc: 0.8525 - val_loss: 0.2820 - val_acc: 0.8989\n",
      "Epoch 9/10\n",
      "33027/33027 [==============================] - 1s 42us/sample - loss: 0.4088 - acc: 0.8548 - val_loss: 0.2680 - val_acc: 0.9052\n",
      "Epoch 10/10\n",
      "33027/33027 [==============================] - 1s 41us/sample - loss: 0.3932 - acc: 0.8599 - val_loss: 0.2632 - val_acc: 0.9071\n",
      "Running fold #7\n",
      "Categorical Cross-Entropy Loss Function\n",
      "Train on 33027 samples, validate on 3670 samples\n",
      "Epoch 1/10\n",
      "33027/33027 [==============================] - 2s 57us/sample - loss: 0.9942 - acc: 0.6424 - val_loss: 0.5361 - val_acc: 0.8084\n",
      "Epoch 2/10\n",
      "33027/33027 [==============================] - 1s 45us/sample - loss: 0.6550 - acc: 0.7603 - val_loss: 0.4349 - val_acc: 0.8469\n",
      "Epoch 3/10\n",
      "33027/33027 [==============================] - 1s 39us/sample - loss: 0.5708 - acc: 0.7915 - val_loss: 0.3832 - val_acc: 0.8608\n",
      "Epoch 4/10\n",
      "33027/33027 [==============================] - 1s 39us/sample - loss: 0.5155 - acc: 0.8168 - val_loss: 0.3440 - val_acc: 0.8755\n",
      "Epoch 5/10\n",
      "33027/33027 [==============================] - 1s 44us/sample - loss: 0.4787 - acc: 0.8282 - val_loss: 0.3135 - val_acc: 0.8954\n",
      "Epoch 6/10\n",
      "33027/33027 [==============================] - 1s 40us/sample - loss: 0.4509 - acc: 0.8392 - val_loss: 0.2945 - val_acc: 0.8984\n",
      "Epoch 7/10\n",
      "33027/33027 [==============================] - 1s 42us/sample - loss: 0.4324 - acc: 0.8468 - val_loss: 0.2791 - val_acc: 0.9016\n",
      "Epoch 8/10\n",
      "33027/33027 [==============================] - 1s 42us/sample - loss: 0.4161 - acc: 0.8520 - val_loss: 0.2710 - val_acc: 0.9049\n",
      "Epoch 9/10\n",
      "33027/33027 [==============================] - 1s 40us/sample - loss: 0.3975 - acc: 0.8593 - val_loss: 0.2574 - val_acc: 0.9153\n",
      "Epoch 10/10\n",
      "33027/33027 [==============================] - 1s 40us/sample - loss: 0.3868 - acc: 0.8630 - val_loss: 0.2469 - val_acc: 0.9134\n",
      "Running fold #8\n",
      "Categorical Cross-Entropy Loss Function\n",
      "Train on 33028 samples, validate on 3669 samples\n",
      "Epoch 1/10\n",
      "33028/33028 [==============================] - 2s 56us/sample - loss: 1.0181 - acc: 0.6360 - val_loss: 0.5642 - val_acc: 0.8005\n",
      "Epoch 2/10\n",
      "33028/33028 [==============================] - 2s 46us/sample - loss: 0.6897 - acc: 0.7493 - val_loss: 0.4627 - val_acc: 0.8332\n",
      "Epoch 3/10\n",
      "33028/33028 [==============================] - 1s 42us/sample - loss: 0.5955 - acc: 0.7848 - val_loss: 0.4095 - val_acc: 0.8615\n",
      "Epoch 4/10\n",
      "33028/33028 [==============================] - 1s 42us/sample - loss: 0.5288 - acc: 0.8121 - val_loss: 0.3599 - val_acc: 0.8684\n",
      "Epoch 5/10\n",
      "33028/33028 [==============================] - 1s 41us/sample - loss: 0.4943 - acc: 0.8243 - val_loss: 0.3301 - val_acc: 0.8803\n",
      "Epoch 6/10\n",
      "33028/33028 [==============================] - 1s 41us/sample - loss: 0.4619 - acc: 0.8352 - val_loss: 0.3100 - val_acc: 0.8883\n",
      "Epoch 7/10\n",
      "33028/33028 [==============================] - 1s 40us/sample - loss: 0.4381 - acc: 0.8426 - val_loss: 0.2872 - val_acc: 0.8978\n",
      "Epoch 8/10\n",
      "33028/33028 [==============================] - 1s 42us/sample - loss: 0.4186 - acc: 0.8512 - val_loss: 0.2719 - val_acc: 0.9022\n",
      "Epoch 9/10\n",
      "33028/33028 [==============================] - 1s 42us/sample - loss: 0.3977 - acc: 0.8596 - val_loss: 0.2540 - val_acc: 0.9109\n",
      "Epoch 10/10\n",
      "33028/33028 [==============================] - 1s 43us/sample - loss: 0.3900 - acc: 0.8625 - val_loss: 0.2432 - val_acc: 0.9215\n",
      "Running fold #9\n",
      "Categorical Cross-Entropy Loss Function\n",
      "Train on 33029 samples, validate on 3668 samples\n",
      "Epoch 1/10\n",
      "33029/33029 [==============================] - 2s 59us/sample - loss: 1.0029 - acc: 0.6363 - val_loss: 0.5194 - val_acc: 0.8220\n",
      "Epoch 2/10\n",
      "33029/33029 [==============================] - 1s 40us/sample - loss: 0.6821 - acc: 0.7479 - val_loss: 0.4234 - val_acc: 0.8550\n",
      "Epoch 3/10\n",
      "33029/33029 [==============================] - 1s 41us/sample - loss: 0.5891 - acc: 0.7837 - val_loss: 0.3715 - val_acc: 0.8683\n",
      "Epoch 4/10\n",
      "33029/33029 [==============================] - 1s 40us/sample - loss: 0.5287 - acc: 0.8082 - val_loss: 0.3309 - val_acc: 0.8893\n",
      "Epoch 5/10\n",
      "33029/33029 [==============================] - 1s 38us/sample - loss: 0.4851 - acc: 0.8257 - val_loss: 0.3063 - val_acc: 0.8942\n",
      "Epoch 6/10\n",
      "33029/33029 [==============================] - 1s 42us/sample - loss: 0.4550 - acc: 0.8377 - val_loss: 0.2826 - val_acc: 0.9005\n",
      "Epoch 7/10\n",
      "33029/33029 [==============================] - 1s 44us/sample - loss: 0.4320 - acc: 0.8482 - val_loss: 0.2723 - val_acc: 0.9103\n",
      "Epoch 8/10\n",
      "33029/33029 [==============================] - 1s 43us/sample - loss: 0.4149 - acc: 0.8531 - val_loss: 0.2513 - val_acc: 0.9109\n",
      "Epoch 9/10\n",
      "33029/33029 [==============================] - 1s 44us/sample - loss: 0.4010 - acc: 0.8594 - val_loss: 0.2439 - val_acc: 0.9133\n",
      "Epoch 10/10\n",
      "33029/33029 [==============================] - 1s 42us/sample - loss: 0.3816 - acc: 0.8643 - val_loss: 0.2315 - val_acc: 0.9179\n",
      "Running fold #10\n",
      "Categorical Cross-Entropy Loss Function\n",
      "Train on 33029 samples, validate on 3668 samples\n",
      "Epoch 1/10\n",
      "33029/33029 [==============================] - 2s 65us/sample - loss: 1.0114 - acc: 0.6390 - val_loss: 0.5442 - val_acc: 0.8070\n",
      "Epoch 2/10\n",
      "33029/33029 [==============================] - 2s 49us/sample - loss: 0.6743 - acc: 0.7531 - val_loss: 0.4438 - val_acc: 0.8446\n",
      "Epoch 3/10\n",
      "33029/33029 [==============================] - 2s 49us/sample - loss: 0.5829 - acc: 0.7880 - val_loss: 0.3880 - val_acc: 0.8640\n",
      "Epoch 4/10\n",
      "33029/33029 [==============================] - 2s 50us/sample - loss: 0.5232 - acc: 0.8131 - val_loss: 0.3498 - val_acc: 0.8806\n",
      "Epoch 5/10\n",
      "33029/33029 [==============================] - 2s 47us/sample - loss: 0.4797 - acc: 0.8288 - val_loss: 0.3268 - val_acc: 0.8890\n",
      "Epoch 6/10\n",
      "33029/33029 [==============================] - 2s 46us/sample - loss: 0.4546 - acc: 0.8371 - val_loss: 0.3054 - val_acc: 0.8959\n",
      "Epoch 7/10\n",
      "33029/33029 [==============================] - 2s 47us/sample - loss: 0.4311 - acc: 0.8481 - val_loss: 0.2857 - val_acc: 0.8969\n",
      "Epoch 8/10\n",
      "33029/33029 [==============================] - 2s 47us/sample - loss: 0.4128 - acc: 0.8527 - val_loss: 0.2734 - val_acc: 0.9062\n",
      "Epoch 9/10\n",
      "33029/33029 [==============================] - 2s 47us/sample - loss: 0.4001 - acc: 0.8587 - val_loss: 0.2692 - val_acc: 0.9070\n",
      "Epoch 10/10\n",
      "33029/33029 [==============================] - 1s 45us/sample - loss: 0.3862 - acc: 0.8633 - val_loss: 0.2599 - val_acc: 0.9117\n"
     ]
    }
   ],
   "source": [
    "categorical_df = df1.copy()\n",
    "model, history, X , encoded_y = experiment(categorical_df)"
   ]
  },
  {
   "cell_type": "markdown",
   "metadata": {
    "colab_type": "text",
    "id": "FoHKjaqpGQub"
   },
   "source": [
    "#### Save the model as a file"
   ]
  },
  {
   "cell_type": "code",
   "execution_count": 23,
   "metadata": {
    "colab": {
     "base_uri": "https://localhost:8080/",
     "height": 462
    },
    "colab_type": "code",
    "id": "vixNeoaEGW9n",
    "outputId": "21555b07-1e20-4267-d2e2-2a98c7b4df3f"
   },
   "outputs": [],
   "source": [
    "model.save('{}.model'.format(os.path.basename(dataPath)))"
   ]
  },
  {
   "cell_type": "markdown",
   "metadata": {},
   "source": [
    "## Model Results"
   ]
  },
  {
   "cell_type": "code",
   "execution_count": 24,
   "metadata": {
    "colab": {
     "base_uri": "https://localhost:8080/",
     "height": 68
    },
    "colab_type": "code",
    "id": "p3xvC6ZlG9Wz",
    "outputId": "775835c4-c56d-4f02-97fe-df8642d9242f"
   },
   "outputs": [
    {
     "name": "stdout",
     "output_type": "stream",
     "text": [
      "36697/36697 [==============================] - 1s 18us/sample - loss: 0.2379 - acc: 0.9177\n",
      "['loss', 'acc']\n",
      "Baseline: accuracy: 91.77%: loss: 23.79\n"
     ]
    }
   ],
   "source": [
    "scores = model.evaluate(X,encoded_y, batch_size=batch_size,verbose=1)\n",
    "print(model.metrics_names)\n",
    "acc, loss=scores[1]*100, scores[0]*100\n",
    "print('Baseline: accuracy: {:.2f}%: loss: {:.2f}'.format(acc, loss))"
   ]
  },
  {
   "cell_type": "markdown",
   "metadata": {},
   "source": [
    "#### Write results to file"
   ]
  },
  {
   "cell_type": "code",
   "execution_count": 25,
   "metadata": {
    "colab": {
     "base_uri": "https://localhost:8080/",
     "height": 68
    },
    "colab_type": "code",
    "id": "p3xvC6ZlG9Wz",
    "outputId": "775835c4-c56d-4f02-97fe-df8642d9242f"
   },
   "outputs": [],
   "source": [
    "resultFile = os.path.join(resultPath, dataFile)\n",
    "with open('{}.result'.format(resultFile), 'a') as fout:\n",
    "  fout.write('{} results...'.format(model_name+model_extension))\n",
    "  fout.write('\\taccuracy: {:.2f} loss: {:.2f}\\n'.format(acc, loss))"
   ]
  },
  {
   "cell_type": "code",
   "execution_count": 26,
   "metadata": {},
   "outputs": [],
   "source": [
    "def plot(title):\n",
    "    plt.plot(history.history['acc'])\n",
    "    plt.plot(history.history['val_acc'])\n",
    "    plt.title(title)\n",
    "    plt.ylabel('Accuracy')\n",
    "    plt.xlabel('Epoch')\n",
    "    plt.legend(['Train', 'Test'], loc='upper left')\n",
    "    plt.show()"
   ]
  },
  {
   "cell_type": "markdown",
   "metadata": {},
   "source": [
    "#### Graph of Categorical Cross-Entropy Model"
   ]
  },
  {
   "cell_type": "code",
   "execution_count": 27,
   "metadata": {},
   "outputs": [
    {
     "data": {
      "image/png": "[encoded data removed]",
      "text/plain": [
       "<Figure size 432x288 with 1 Axes>"
      ]
     },
     "metadata": {
      "needs_background": "light"
     },
     "output_type": "display_data"
    }
   ],
   "source": [
    "plot('Categorical Model Accuracy')"
   ]
  },
  {
   "cell_type": "markdown",
   "metadata": {},
   "source": [
    "## Binary Classification of Labels\n",
    "> Change all malicious labels to value 1 and benign label to 0"
   ]
  },
  {
   "cell_type": "code",
   "execution_count": 28,
   "metadata": {},
   "outputs": [],
   "source": [
    "lblTypes = list(lblTypes)\n",
    "lblTypes = dict(zip(lblTypes, [1, 1, 1, 1, 1]))\n",
    "lblTypes['benign'] = 0"
   ]
  },
  {
   "cell_type": "code",
   "execution_count": 29,
   "metadata": {},
   "outputs": [],
   "source": [
    "binary_df = df1.copy()\n",
    "binary_df[label] = binary_df[label].map(lblTypes)"
   ]
  },
  {
   "cell_type": "markdown",
   "metadata": {},
   "source": [
    "## Train the Binary Model"
   ]
  },
  {
   "cell_type": "code",
   "execution_count": 30,
   "metadata": {},
   "outputs": [
    {
     "name": "stderr",
     "output_type": "stream",
     "text": [
      "/usr/lib/python3.7/site-packages/sklearn/preprocessing/data.py:645: DataConversionWarning: Data with input dtype int64, float64 were all converted to float64 by StandardScaler.\n",
      "  return self.partial_fit(X, y)\n",
      "/usr/lib/python3.7/site-packages/sklearn/base.py:464: DataConversionWarning: Data with input dtype int64, float64 were all converted to float64 by StandardScaler.\n",
      "  return self.fit(X, **fit_params).transform(X)\n"
     ]
    },
    {
     "name": "stdout",
     "output_type": "stream",
     "text": [
      "Running fold #1\n"
     ]
    },
    {
     "name": "stderr",
     "output_type": "stream",
     "text": [
      "W0716 12:18:01.085689 140153480132224 deprecation.py:323] From /usr/lib/python3.7/site-packages/tensorflow/python/ops/math_grad.py:1250: add_dispatch_support.<locals>.wrapper (from tensorflow.python.ops.array_ops) is deprecated and will be removed in a future version.\n",
      "Instructions for updating:\n",
      "Use tf.where in 2.0, which has the same broadcast rule as np.where\n"
     ]
    },
    {
     "name": "stdout",
     "output_type": "stream",
     "text": [
      "Binary Cross-Entropy Loss Function\n",
      "Train on 33026 samples, validate on 3671 samples\n",
      "Epoch 1/10\n",
      "33026/33026 [==============================] - 2s 65us/sample - loss: 0.3632 - acc: 0.8600 - val_loss: 0.1676 - val_acc: 0.9284\n",
      "Epoch 2/10\n",
      "33026/33026 [==============================] - 2s 46us/sample - loss: 0.2012 - acc: 0.9175 - val_loss: 0.1372 - val_acc: 0.9433\n",
      "Epoch 3/10\n",
      "33026/33026 [==============================] - 2s 46us/sample - loss: 0.1708 - acc: 0.9309 - val_loss: 0.1166 - val_acc: 0.9602\n",
      "Epoch 4/10\n",
      "33026/33026 [==============================] - 2s 46us/sample - loss: 0.1529 - acc: 0.9382 - val_loss: 0.1077 - val_acc: 0.9572\n",
      "Epoch 5/10\n",
      "33026/33026 [==============================] - 2s 46us/sample - loss: 0.1386 - acc: 0.9448 - val_loss: 0.0977 - val_acc: 0.9649\n",
      "Epoch 6/10\n",
      "33026/33026 [==============================] - 1s 45us/sample - loss: 0.1315 - acc: 0.9481 - val_loss: 0.0963 - val_acc: 0.9657\n",
      "Epoch 7/10\n",
      "33026/33026 [==============================] - 2s 46us/sample - loss: 0.1206 - acc: 0.9525 - val_loss: 0.0939 - val_acc: 0.9665\n",
      "Epoch 8/10\n",
      "33026/33026 [==============================] - 1s 45us/sample - loss: 0.1153 - acc: 0.9560 - val_loss: 0.0852 - val_acc: 0.9679\n",
      "Epoch 9/10\n",
      "33026/33026 [==============================] - 1s 45us/sample - loss: 0.1141 - acc: 0.9572 - val_loss: 0.0799 - val_acc: 0.9703\n",
      "Epoch 10/10\n",
      "33026/33026 [==============================] - 1s 44us/sample - loss: 0.1078 - acc: 0.9593 - val_loss: 0.0799 - val_acc: 0.9728\n",
      "Running fold #2\n",
      "Binary Cross-Entropy Loss Function\n",
      "Train on 33027 samples, validate on 3670 samples\n",
      "Epoch 1/10\n",
      "33027/33027 [==============================] - 2s 67us/sample - loss: 0.3603 - acc: 0.8612 - val_loss: 0.1692 - val_acc: 0.9289\n",
      "Epoch 2/10\n",
      "33027/33027 [==============================] - 2s 48us/sample - loss: 0.1995 - acc: 0.9188 - val_loss: 0.1371 - val_acc: 0.9477\n",
      "Epoch 3/10\n",
      "33027/33027 [==============================] - 1s 45us/sample - loss: 0.1665 - acc: 0.9328 - val_loss: 0.1178 - val_acc: 0.9559\n",
      "Epoch 4/10\n",
      "33027/33027 [==============================] - 2s 46us/sample - loss: 0.1460 - acc: 0.9412 - val_loss: 0.1070 - val_acc: 0.9608\n",
      "Epoch 5/10\n",
      "33027/33027 [==============================] - 1s 45us/sample - loss: 0.1319 - acc: 0.9486 - val_loss: 0.0969 - val_acc: 0.9670\n",
      "Epoch 6/10\n",
      "33027/33027 [==============================] - 2s 49us/sample - loss: 0.1245 - acc: 0.9513 - val_loss: 0.0926 - val_acc: 0.9665\n",
      "Epoch 7/10\n",
      "33027/33027 [==============================] - 2s 48us/sample - loss: 0.1193 - acc: 0.9547 - val_loss: 0.0906 - val_acc: 0.9668\n",
      "Epoch 8/10\n",
      "33027/33027 [==============================] - 2s 49us/sample - loss: 0.1135 - acc: 0.9569 - val_loss: 0.0852 - val_acc: 0.9719\n",
      "Epoch 9/10\n",
      "33027/33027 [==============================] - 2s 46us/sample - loss: 0.1060 - acc: 0.9601 - val_loss: 0.0835 - val_acc: 0.9714\n",
      "Epoch 10/10\n",
      "33027/33027 [==============================] - 2s 47us/sample - loss: 0.1044 - acc: 0.9615 - val_loss: 0.0770 - val_acc: 0.9738\n",
      "Running fold #3\n",
      "Binary Cross-Entropy Loss Function\n",
      "Train on 33027 samples, validate on 3670 samples\n",
      "Epoch 1/10\n",
      "33027/33027 [==============================] - 2s 69us/sample - loss: 0.3859 - acc: 0.8467 - val_loss: 0.1627 - val_acc: 0.9332\n",
      "Epoch 2/10\n",
      "33027/33027 [==============================] - 2s 46us/sample - loss: 0.2122 - acc: 0.9137 - val_loss: 0.1324 - val_acc: 0.9482\n",
      "Epoch 3/10\n",
      "33027/33027 [==============================] - 2s 49us/sample - loss: 0.1740 - acc: 0.9289 - val_loss: 0.1084 - val_acc: 0.9583\n",
      "Epoch 4/10\n",
      "33027/33027 [==============================] - 2s 47us/sample - loss: 0.1527 - acc: 0.9377 - val_loss: 0.0956 - val_acc: 0.9659\n",
      "Epoch 5/10\n",
      "33027/33027 [==============================] - 2s 48us/sample - loss: 0.1409 - acc: 0.9422 - val_loss: 0.0856 - val_acc: 0.9692\n",
      "Epoch 6/10\n",
      "33027/33027 [==============================] - 2s 49us/sample - loss: 0.1310 - acc: 0.9484 - val_loss: 0.0829 - val_acc: 0.9657\n",
      "Epoch 7/10\n",
      "33027/33027 [==============================] - 2s 51us/sample - loss: 0.1231 - acc: 0.9525 - val_loss: 0.0751 - val_acc: 0.9719\n",
      "Epoch 8/10\n",
      "33027/33027 [==============================] - 2s 46us/sample - loss: 0.1194 - acc: 0.9534 - val_loss: 0.0737 - val_acc: 0.9733\n",
      "Epoch 9/10\n",
      "33027/33027 [==============================] - 2s 46us/sample - loss: 0.1151 - acc: 0.9572 - val_loss: 0.0704 - val_acc: 0.9741\n",
      "Epoch 10/10\n",
      "33027/33027 [==============================] - 2s 45us/sample - loss: 0.1111 - acc: 0.9563 - val_loss: 0.0661 - val_acc: 0.9757\n",
      "Running fold #4\n",
      "Binary Cross-Entropy Loss Function\n",
      "Train on 33027 samples, validate on 3670 samples\n",
      "Epoch 1/10\n",
      "33027/33027 [==============================] - 2s 75us/sample - loss: 0.3655 - acc: 0.8581 - val_loss: 0.1725 - val_acc: 0.9240\n",
      "Epoch 2/10\n",
      "33027/33027 [==============================] - 2s 47us/sample - loss: 0.2022 - acc: 0.9164 - val_loss: 0.1340 - val_acc: 0.9425\n",
      "Epoch 3/10\n",
      "33027/33027 [==============================] - 2s 49us/sample - loss: 0.1669 - acc: 0.9324 - val_loss: 0.1153 - val_acc: 0.9586\n",
      "Epoch 4/10\n",
      "33027/33027 [==============================] - 2s 47us/sample - loss: 0.1467 - acc: 0.9404 - val_loss: 0.1028 - val_acc: 0.9640\n",
      "Epoch 5/10\n",
      "33027/33027 [==============================] - 2s 46us/sample - loss: 0.1362 - acc: 0.9458 - val_loss: 0.0968 - val_acc: 0.9668\n",
      "Epoch 6/10\n",
      "33027/33027 [==============================] - 2s 47us/sample - loss: 0.1244 - acc: 0.9517 - val_loss: 0.0937 - val_acc: 0.9629\n",
      "Epoch 7/10\n",
      "33027/33027 [==============================] - 2s 48us/sample - loss: 0.1238 - acc: 0.9529 - val_loss: 0.0854 - val_acc: 0.9708\n",
      "Epoch 8/10\n",
      "33027/33027 [==============================] - 2s 47us/sample - loss: 0.1168 - acc: 0.9550 - val_loss: 0.0874 - val_acc: 0.9689\n",
      "Epoch 9/10\n",
      "33027/33027 [==============================] - 2s 46us/sample - loss: 0.1077 - acc: 0.9592 - val_loss: 0.0799 - val_acc: 0.9698\n",
      "Epoch 10/10\n",
      "33027/33027 [==============================] - 2s 46us/sample - loss: 0.1046 - acc: 0.9605 - val_loss: 0.0759 - val_acc: 0.9736\n",
      "Running fold #5\n",
      "Binary Cross-Entropy Loss Function\n",
      "Train on 33027 samples, validate on 3670 samples\n",
      "Epoch 1/10\n",
      "33027/33027 [==============================] - 2s 73us/sample - loss: 0.3464 - acc: 0.8648 - val_loss: 0.1670 - val_acc: 0.9343\n",
      "Epoch 2/10\n",
      "33027/33027 [==============================] - 2s 46us/sample - loss: 0.1958 - acc: 0.9180 - val_loss: 0.1391 - val_acc: 0.9488\n",
      "Epoch 3/10\n",
      "33027/33027 [==============================] - 2s 48us/sample - loss: 0.1640 - acc: 0.9331 - val_loss: 0.1214 - val_acc: 0.9512\n",
      "Epoch 4/10\n",
      "33027/33027 [==============================] - 2s 49us/sample - loss: 0.1470 - acc: 0.9398 - val_loss: 0.1117 - val_acc: 0.9578\n",
      "Epoch 5/10\n",
      "33027/33027 [==============================] - 2s 49us/sample - loss: 0.1341 - acc: 0.9470 - val_loss: 0.1012 - val_acc: 0.9624\n",
      "Epoch 6/10\n",
      "33027/33027 [==============================] - 2s 51us/sample - loss: 0.1237 - acc: 0.9511 - val_loss: 0.0941 - val_acc: 0.9640\n",
      "Epoch 7/10\n",
      "33027/33027 [==============================] - 2s 51us/sample - loss: 0.1159 - acc: 0.9538 - val_loss: 0.0909 - val_acc: 0.9654\n",
      "Epoch 8/10\n",
      "33027/33027 [==============================] - 2s 50us/sample - loss: 0.1150 - acc: 0.9562 - val_loss: 0.0880 - val_acc: 0.9678\n",
      "Epoch 9/10\n",
      "33027/33027 [==============================] - 2s 51us/sample - loss: 0.1119 - acc: 0.9574 - val_loss: 0.0858 - val_acc: 0.9700\n",
      "Epoch 10/10\n",
      "33027/33027 [==============================] - 2s 49us/sample - loss: 0.1053 - acc: 0.9599 - val_loss: 0.0837 - val_acc: 0.9717\n",
      "Running fold #6\n",
      "Binary Cross-Entropy Loss Function\n",
      "Train on 33027 samples, validate on 3670 samples\n",
      "Epoch 1/10\n",
      "33027/33027 [==============================] - 3s 77us/sample - loss: 0.3524 - acc: 0.8628 - val_loss: 0.1578 - val_acc: 0.9327\n",
      "Epoch 2/10\n",
      "33027/33027 [==============================] - 2s 50us/sample - loss: 0.2020 - acc: 0.9179 - val_loss: 0.1302 - val_acc: 0.9482\n",
      "Epoch 3/10\n",
      "33027/33027 [==============================] - 2s 51us/sample - loss: 0.1667 - acc: 0.9322 - val_loss: 0.1107 - val_acc: 0.9559\n",
      "Epoch 4/10\n",
      "33027/33027 [==============================] - 2s 51us/sample - loss: 0.1494 - acc: 0.9401 - val_loss: 0.0981 - val_acc: 0.9643\n",
      "Epoch 5/10\n",
      "33027/33027 [==============================] - 2s 52us/sample - loss: 0.1350 - acc: 0.9462 - val_loss: 0.0896 - val_acc: 0.9668\n"
     ]
    },
    {
     "name": "stdout",
     "output_type": "stream",
     "text": [
      "Epoch 6/10\n",
      "33027/33027 [==============================] - 2s 48us/sample - loss: 0.1255 - acc: 0.9504 - val_loss: 0.0858 - val_acc: 0.9670\n",
      "Epoch 7/10\n",
      "33027/33027 [==============================] - 2s 48us/sample - loss: 0.1202 - acc: 0.9541 - val_loss: 0.0802 - val_acc: 0.9733\n",
      "Epoch 8/10\n",
      "33027/33027 [==============================] - 2s 48us/sample - loss: 0.1164 - acc: 0.9559 - val_loss: 0.0759 - val_acc: 0.9733\n",
      "Epoch 9/10\n",
      "33027/33027 [==============================] - 2s 49us/sample - loss: 0.1093 - acc: 0.9595 - val_loss: 0.0704 - val_acc: 0.9744\n",
      "Epoch 10/10\n",
      "33027/33027 [==============================] - 2s 49us/sample - loss: 0.1058 - acc: 0.9605 - val_loss: 0.0678 - val_acc: 0.9752\n",
      "Running fold #7\n",
      "Binary Cross-Entropy Loss Function\n",
      "Train on 33028 samples, validate on 3669 samples\n",
      "Epoch 1/10\n",
      "33028/33028 [==============================] - 3s 78us/sample - loss: 0.3639 - acc: 0.8553 - val_loss: 0.1618 - val_acc: 0.9335\n",
      "Epoch 2/10\n",
      "33028/33028 [==============================] - 2s 51us/sample - loss: 0.1957 - acc: 0.9197 - val_loss: 0.1252 - val_acc: 0.9460\n",
      "Epoch 3/10\n",
      "33028/33028 [==============================] - 2s 50us/sample - loss: 0.1640 - acc: 0.9344 - val_loss: 0.1074 - val_acc: 0.9632\n",
      "Epoch 4/10\n",
      "33028/33028 [==============================] - 2s 48us/sample - loss: 0.1495 - acc: 0.9405 - val_loss: 0.1003 - val_acc: 0.9687\n",
      "Epoch 5/10\n",
      "33028/33028 [==============================] - 2s 48us/sample - loss: 0.1371 - acc: 0.9450 - val_loss: 0.0938 - val_acc: 0.9681\n",
      "Epoch 6/10\n",
      "33028/33028 [==============================] - 2s 49us/sample - loss: 0.1280 - acc: 0.9480 - val_loss: 0.0874 - val_acc: 0.9714\n",
      "Epoch 7/10\n",
      "33028/33028 [==============================] - 2s 49us/sample - loss: 0.1210 - acc: 0.9523 - val_loss: 0.0816 - val_acc: 0.9711\n",
      "Epoch 8/10\n",
      "33028/33028 [==============================] - 2s 48us/sample - loss: 0.1189 - acc: 0.9528 - val_loss: 0.0741 - val_acc: 0.9760\n",
      "Epoch 9/10\n",
      "33028/33028 [==============================] - 2s 52us/sample - loss: 0.1139 - acc: 0.9561 - val_loss: 0.0729 - val_acc: 0.9741\n",
      "Epoch 10/10\n",
      "33028/33028 [==============================] - 2s 51us/sample - loss: 0.1100 - acc: 0.9590 - val_loss: 0.0682 - val_acc: 0.9779\n",
      "Running fold #8\n",
      "Binary Cross-Entropy Loss Function\n",
      "Train on 33028 samples, validate on 3669 samples\n",
      "Epoch 1/10\n",
      "33028/33028 [==============================] - 3s 84us/sample - loss: 0.3562 - acc: 0.8630 - val_loss: 0.1815 - val_acc: 0.9207\n",
      "Epoch 2/10\n",
      "33028/33028 [==============================] - 2s 51us/sample - loss: 0.2038 - acc: 0.9150 - val_loss: 0.1389 - val_acc: 0.9411\n",
      "Epoch 3/10\n",
      "33028/33028 [==============================] - 2s 51us/sample - loss: 0.1708 - acc: 0.9309 - val_loss: 0.1122 - val_acc: 0.9548\n",
      "Epoch 4/10\n",
      "33028/33028 [==============================] - 2s 49us/sample - loss: 0.1484 - acc: 0.9417 - val_loss: 0.0998 - val_acc: 0.9659\n",
      "Epoch 5/10\n",
      "33028/33028 [==============================] - 2s 50us/sample - loss: 0.1355 - acc: 0.9465 - val_loss: 0.0930 - val_acc: 0.9648\n",
      "Epoch 6/10\n",
      "33028/33028 [==============================] - 2s 52us/sample - loss: 0.1302 - acc: 0.9477 - val_loss: 0.0848 - val_acc: 0.9697\n",
      "Epoch 7/10\n",
      "33028/33028 [==============================] - 2s 51us/sample - loss: 0.1227 - acc: 0.9510 - val_loss: 0.0786 - val_acc: 0.9736\n",
      "Epoch 8/10\n",
      "33028/33028 [==============================] - 2s 50us/sample - loss: 0.1169 - acc: 0.9551 - val_loss: 0.0763 - val_acc: 0.9738\n",
      "Epoch 9/10\n",
      "33028/33028 [==============================] - 2s 51us/sample - loss: 0.1107 - acc: 0.9573 - val_loss: 0.0700 - val_acc: 0.9744\n",
      "Epoch 10/10\n",
      "33028/33028 [==============================] - 2s 63us/sample - loss: 0.1054 - acc: 0.9595 - val_loss: 0.0643 - val_acc: 0.9779\n",
      "Running fold #9\n",
      "Binary Cross-Entropy Loss Function\n",
      "Train on 33028 samples, validate on 3669 samples\n",
      "Epoch 1/10\n",
      "33028/33028 [==============================] - 3s 85us/sample - loss: 0.3783 - acc: 0.8586 - val_loss: 0.1674 - val_acc: 0.9267\n",
      "Epoch 2/10\n",
      "33028/33028 [==============================] - 2s 54us/sample - loss: 0.2063 - acc: 0.9155 - val_loss: 0.1378 - val_acc: 0.9409\n",
      "Epoch 3/10\n",
      "33028/33028 [==============================] - 2s 57us/sample - loss: 0.1710 - acc: 0.9295 - val_loss: 0.1189 - val_acc: 0.9509\n",
      "Epoch 4/10\n",
      "33028/33028 [==============================] - 2s 60us/sample - loss: 0.1509 - acc: 0.9394 - val_loss: 0.1051 - val_acc: 0.9608\n",
      "Epoch 5/10\n",
      "33028/33028 [==============================] - 2s 51us/sample - loss: 0.1370 - acc: 0.9451 - val_loss: 0.0980 - val_acc: 0.9621\n",
      "Epoch 6/10\n",
      "33028/33028 [==============================] - 2s 51us/sample - loss: 0.1304 - acc: 0.9492 - val_loss: 0.0907 - val_acc: 0.9681\n",
      "Epoch 7/10\n",
      "33028/33028 [==============================] - 2s 52us/sample - loss: 0.1224 - acc: 0.9532 - val_loss: 0.0907 - val_acc: 0.9670\n",
      "Epoch 8/10\n",
      "33028/33028 [==============================] - 2s 51us/sample - loss: 0.1167 - acc: 0.9551 - val_loss: 0.0883 - val_acc: 0.9687\n",
      "Epoch 9/10\n",
      "33028/33028 [==============================] - 2s 50us/sample - loss: 0.1100 - acc: 0.9583 - val_loss: 0.0876 - val_acc: 0.9700\n",
      "Epoch 10/10\n",
      "33028/33028 [==============================] - 2s 52us/sample - loss: 0.1061 - acc: 0.9596 - val_loss: 0.0781 - val_acc: 0.9747\n",
      "Running fold #10\n",
      "Binary Cross-Entropy Loss Function\n",
      "Train on 33028 samples, validate on 3669 samples\n",
      "Epoch 1/10\n",
      "33028/33028 [==============================] - 3s 93us/sample - loss: 0.3601 - acc: 0.8576 - val_loss: 0.1495 - val_acc: 0.9351\n",
      "Epoch 2/10\n",
      "33028/33028 [==============================] - 2s 53us/sample - loss: 0.1971 - acc: 0.9179 - val_loss: 0.1229 - val_acc: 0.9493\n",
      "Epoch 3/10\n",
      "33028/33028 [==============================] - 2s 65us/sample - loss: 0.1643 - acc: 0.9345 - val_loss: 0.1080 - val_acc: 0.9575\n",
      "Epoch 4/10\n",
      "33028/33028 [==============================] - 2s 63us/sample - loss: 0.1471 - acc: 0.9414 - val_loss: 0.0971 - val_acc: 0.9635\n",
      "Epoch 5/10\n",
      "33028/33028 [==============================] - 2s 53us/sample - loss: 0.1329 - acc: 0.9473 - val_loss: 0.0924 - val_acc: 0.9651\n",
      "Epoch 6/10\n",
      "33028/33028 [==============================] - 2s 55us/sample - loss: 0.1216 - acc: 0.9525 - val_loss: 0.0802 - val_acc: 0.9711\n",
      "Epoch 7/10\n",
      "33028/33028 [==============================] - 2s 53us/sample - loss: 0.1210 - acc: 0.9535 - val_loss: 0.0794 - val_acc: 0.9708\n",
      "Epoch 8/10\n",
      "33028/33028 [==============================] - 2s 59us/sample - loss: 0.1131 - acc: 0.9561 - val_loss: 0.0769 - val_acc: 0.9703\n",
      "Epoch 9/10\n",
      "33028/33028 [==============================] - 2s 57us/sample - loss: 0.1072 - acc: 0.9605 - val_loss: 0.0689 - val_acc: 0.9738\n",
      "Epoch 10/10\n",
      "33028/33028 [==============================] - 2s 55us/sample - loss: 0.1028 - acc: 0.9618 - val_loss: 0.0684 - val_acc: 0.9760\n"
     ]
    }
   ],
   "source": [
    "model, history, X , encoded_y = experiment(binary_df)"
   ]
  },
  {
   "cell_type": "code",
   "execution_count": 31,
   "metadata": {},
   "outputs": [
    {
     "name": "stdout",
     "output_type": "stream",
     "text": [
      "36697/36697 [==============================] - 2s 43us/sample - loss: 0.0658 - acc: 0.9761\n",
      "['loss', 'acc']\n",
      "Baseline: accuracy: 97.61%: loss: 6.58\n"
     ]
    }
   ],
   "source": [
    "scores = model.evaluate(X,encoded_y, verbose=1)\n",
    "print(model.metrics_names)\n",
    "acc, loss=scores[1]*100, scores[0]*100\n",
    "print('Baseline: accuracy: {:.2f}%: loss: {:.2f}'.format(acc, loss))"
   ]
  },
  {
   "cell_type": "code",
   "execution_count": 32,
   "metadata": {},
   "outputs": [],
   "source": [
    "resultFile = os.path.join(resultPath, dataFile)\n",
    "with open('{}.result'.format(resultFile), 'a') as fout:\n",
    "  fout.write('{} results...'.format(model_name+model_extension))\n",
    "  fout.write('\\taccuracy: {:.2f} loss: {:.2f}\\n'.format(acc, loss))"
   ]
  },
  {
   "cell_type": "markdown",
   "metadata": {},
   "source": [
    "#### Graph of Binary Cross-Entropy Model"
   ]
  },
  {
   "cell_type": "code",
   "execution_count": 33,
   "metadata": {},
   "outputs": [
    {
     "data": {
      "image/png": "[encoded data removed]",
      "text/plain": [
       "<Figure size 432x288 with 1 Axes>"
      ]
     },
     "metadata": {
      "needs_background": "light"
     },
     "output_type": "display_data"
    }
   ],
   "source": [
    "plot('Binary Model Accuracy')"
   ]
  }
 ],
 "metadata": {
  "colab": {
   "collapsed_sections": [],
   "include_colab_link": true,
   "name": "Keras-Tensorflow-Experiments.ipynb",
   "provenance": [],
   "version": "0.3.2"
  },
  "kernelspec": {
   "display_name": "Python 3",
   "language": "python",
   "name": "python3"
  },
  "language_info": {
   "codemirror_mode": {
    "name": "ipython",
    "version": 3
   },
   "file_extension": ".py",
   "mimetype": "text/x-python",
   "name": "python",
   "nbconvert_exporter": "python",
   "pygments_lexer": "ipython3",
   "version": "3.7.3"
  }
 },
 "nbformat": 4,
 "nbformat_minor": 1
}
