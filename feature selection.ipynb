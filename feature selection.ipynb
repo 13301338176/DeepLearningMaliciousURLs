{
 "metadata": {
  "language_info": {
   "codemirror_mode": {
    "name": "ipython",
    "version": 3
   },
   "file_extension": ".py",
   "mimetype": "text/x-python",
   "name": "python",
   "nbconvert_exporter": "python",
   "pygments_lexer": "ipython3",
   "version": "3.8.3-final"
  },
  "orig_nbformat": 2,
  "kernelspec": {
   "name": "python_defaultSpec_1598546019585",
   "display_name": "Python 3.8.3 64-bit ('base': conda)"
  }
 },
 "nbformat": 4,
 "nbformat_minor": 2,
 "cells": [
  {
   "cell_type": "code",
   "execution_count": 1,
   "metadata": {
    "tags": []
   },
   "outputs": [
    {
     "output_type": "stream",
     "name": "stdout",
     "text": "Imports complete.\n"
    }
   ],
   "source": [
    "# Feature selection \n",
    "from sklearn.feature_selection import SelectKBest\n",
    "from sklearn.feature_selection import chi2\n",
    "from sklearn.preprocessing import MinMaxScaler\n",
    "\n",
    "# Data management\n",
    "import pandas as pd\n",
    "import numpy as np\n",
    "\n",
    "print('Imports complete.')"
   ]
  },
  {
   "cell_type": "code",
   "execution_count": 2,
   "metadata": {
    "tags": []
   },
   "outputs": [
    {
     "output_type": "stream",
     "name": "stdout",
     "text": "Data read:\n   Querylength  domain_token_count  path_token_count  avgdomaintokenlen  \\\n0            0                   4                 5                5.5   \n1            0                   4                 5                5.5   \n2            0                   4                 5                5.5   \n3            0                   4                12                5.5   \n4            0                   4                 6                5.5   \n\n   longdomaintokenlen  avgpathtokenlen  tld  charcompvowels  charcompace  \\\n0                  14         4.400000    4               8            3   \n1                  14         6.000000    4              12            4   \n2                  14         5.800000    4              12            5   \n3                  14         5.500000    4              32           16   \n4                  14         7.333334    4              18           11   \n\n   ldl_url  ...  SymbolCount_FileName  SymbolCount_Extension  \\\n0        0  ...                     1                      0   \n1        0  ...                     0                      0   \n2        0  ...                     0                      0   \n3        0  ...                     0                      0   \n4        0  ...                     0                      0   \n\n   SymbolCount_Afterpath  Entropy_URL  Entropy_Domain  Entropy_DirectoryName  \\\n0                     -1     0.726298        0.784493               0.894886   \n1                     -1     0.688635        0.784493               0.814725   \n2                     -1     0.695049        0.784493               0.814725   \n3                     -1     0.640130        0.784493               0.814725   \n4                     -1     0.681307        0.784493               0.814725   \n\n   Entropy_Filename  Entropy_Extension  Entropy_Afterpath  URL_Type_obf_Type  \n0          0.850608                NaN               -1.0         Defacement  \n1          0.859793                0.0               -1.0         Defacement  \n2          0.801880                0.0               -1.0         Defacement  \n3          0.663210                0.0               -1.0         Defacement  \n4          0.804526                0.0               -1.0         Defacement  \n\n[5 rows x 80 columns]\n"
    }
   ],
   "source": [
    "# Import the data\n",
    "path = './FinalDataset/'\n",
    "fille = 'All.csv'\n",
    "df = pd.read_csv(path + fille)\n",
    "\n",
    "print('Data read:')\n",
    "print(df.head())"
   ]
  },
  {
   "cell_type": "code",
   "execution_count": 3,
   "metadata": {
    "tags": []
   },
   "outputs": [
    {
     "output_type": "stream",
     "name": "stdout",
     "text": "There are 80 columns and 36707 rows in the provided data.\n"
    }
   ],
   "source": [
    "dep_var = 'URL_Type_obf_Type'\n",
    "\n",
    "print('There are {} columns and {} rows in the provided data.'.format(len(df.columns), len(df)))"
   ]
  },
  {
   "cell_type": "code",
   "execution_count": 4,
   "metadata": {
    "tags": []
   },
   "outputs": [
    {
     "output_type": "stream",
     "name": "stdout",
     "text": "Below is the dataset's composition\nDefacement    7930\nbenign        7781\nphishing      7586\nmalware       6712\nspam          6698\nName: URL_Type_obf_Type, dtype: int64\n"
    }
   ],
   "source": [
    "print('Below is the dataset\\'s composition')\n",
    "print(df[dep_var].value_counts())"
   ]
  },
  {
   "cell_type": "code",
   "execution_count": 5,
   "metadata": {},
   "outputs": [],
   "source": [
    "# Removes all rows if they contain NaN values\n",
    "df.dropna(axis='index', inplace=True)"
   ]
  },
  {
   "cell_type": "code",
   "execution_count": 6,
   "metadata": {
    "tags": []
   },
   "outputs": [
    {
     "output_type": "stream",
     "name": "stdout",
     "text": "There are 80 columns and 18982 rows in the provided data.\nBelow is the dataset's composition\nspam          5342\nmalware       4440\nphishing      4014\nbenign        2709\nDefacement    2477\nName: URL_Type_obf_Type, dtype: int64\n"
    }
   ],
   "source": [
    "print('There are {} columns and {} rows in the provided data.'.format(len(df.columns), len(df)))\n",
    "\n",
    "print('Below is the dataset\\'s composition')\n",
    "print(df[dep_var].value_counts())"
   ]
  },
  {
   "cell_type": "code",
   "execution_count": 7,
   "metadata": {},
   "outputs": [],
   "source": [
    "# Create the X (data) and y (labels)\n",
    "#X = pd.DataFrame( normalize(df.loc[:, df.columns != dep_var]), columns=df.columns[:-1] )\n",
    "\n",
    "scaler = MinMaxScaler()\n",
    "X = pd.DataFrame( scaler.fit_transform(df.loc[:, df.columns != dep_var]), columns=df.columns[:-1] )\n",
    "\n",
    "y = df[dep_var]"
   ]
  },
  {
   "cell_type": "code",
   "execution_count": 8,
   "metadata": {
    "tags": []
   },
   "outputs": [
    {
     "output_type": "stream",
     "name": "stdout",
     "text": "Querylength  domain_token_count  path_token_count  avgdomaintokenlen  \\\n0     0.000000            0.153846           0.00000           0.177083   \n1     0.015884            0.153846           0.09375           0.177083   \n2     0.016606            0.153846           0.09375           0.177083   \n3     0.015884            0.153846           0.09375           0.177083   \n4     0.016606            0.153846           0.09375           0.177083   \n\n   longdomaintokenlen  avgpathtokenlen       tld  charcompvowels  charcompace  \\\n0            0.245902         0.083969  0.153846        0.020725     0.014085   \n1            0.245902         0.076336  0.153846        0.098446     0.070423   \n2            0.245902         0.076336  0.153846        0.098446     0.070423   \n3            0.245902         0.076336  0.153846        0.098446     0.070423   \n4            0.245902         0.076336  0.153846        0.098446     0.070423   \n\n   ldl_url  ...  SymbolCount_Directoryname  SymbolCount_FileName  \\\n0      0.0  ...                       0.08              0.058824   \n1      0.0  ...                       0.08              0.294118   \n2      0.0  ...                       0.08              0.294118   \n3      0.0  ...                       0.08              0.294118   \n4      0.0  ...                       0.08              0.294118   \n\n   SymbolCount_Extension  SymbolCount_Afterpath  Entropy_URL  Entropy_Domain  \\\n0               0.030303               0.000000     0.702254        0.396183   \n1               0.272727               0.195122     0.609821        0.396183   \n2               0.272727               0.195122     0.611647        0.396183   \n3               0.272727               0.195122     0.602944        0.396183   \n4               0.272727               0.195122     0.611647        0.396183   \n\n   Entropy_DirectoryName  Entropy_Filename  Entropy_Extension  \\\n0               0.976656          1.000000           1.000000   \n1               0.976656          0.874053           0.878603   \n2               0.976656          0.873811           0.878149   \n3               0.976656          0.871045           0.875146   \n4               0.976656          0.873811           0.878149   \n\n   Entropy_Afterpath  \n0           0.000000  \n1           0.874583  \n2           0.874134  \n3           0.870753  \n4           0.874134  \n\n[5 rows x 79 columns]\n"
    }
   ],
   "source": [
    "print(X.head())"
   ]
  },
  {
   "cell_type": "code",
   "execution_count": 9,
   "metadata": {
    "tags": []
   },
   "outputs": [
    {
     "output_type": "stream",
     "name": "stdout",
     "text": "35    Defacement\n37    Defacement\n38    Defacement\n39    Defacement\n40    Defacement\nName: URL_Type_obf_Type, dtype: object\n"
    }
   ],
   "source": [
    "print(y.head())"
   ]
  },
  {
   "cell_type": "code",
   "execution_count": 10,
   "metadata": {},
   "outputs": [],
   "source": [
    "# Begin the feature selection process using the SelectKBest object from scikit-learn\n",
    "X_new = SelectKBest(chi2, k=10).fit_transform(X, y)"
   ]
  },
  {
   "cell_type": "code",
   "execution_count": 11,
   "metadata": {
    "tags": []
   },
   "outputs": [
    {
     "output_type": "stream",
     "name": "stdout",
     "text": "[[0.         0.         0.03871459 ... 0.         0.         0.        ]\n [0.         0.         0.4821902  ... 0.         0.54255319 0.87458339]\n [0.         0.         0.48757384 ... 0.         0.55208333 0.87413385]\n ...\n [0.08695652 0.38709677 0.75902627 ... 0.         0.51470588 0.85262228]\n [0.03381643 0.12903226 0.62794394 ... 0.         0.70909091 0.89538585]\n [0.0821256  0.19354839 0.74120529 ... 0.         0.53       0.88461893]]\n"
    }
   ],
   "source": [
    "print(X_new)"
   ]
  },
  {
   "cell_type": "markdown",
   "metadata": {},
   "source": [
    "## Multi-class Feature Analysis"
   ]
  },
  {
   "cell_type": "code",
   "execution_count": 12,
   "metadata": {
    "tags": []
   },
   "outputs": [
    {
     "output_type": "stream",
     "name": "stdout",
     "text": "1\tEntropy_Afterpath\t1895.3587016260929\n2\targPathRatio\t1347.858742534321\n3\tNumberRate_AfterPath\t1347.1581661199034\n4\tNumberRate_Domain\t1294.3292212481244\n5\tArgUrlRatio\t1262.7708218689588\n6\tExtension_DigitCount\t795.6053965093354\n7\tdld_getArg\t687.7897203685661\n8\tldl_getArg\t687.5673450162649\n9\tQuery_DigitCount\t632.9948569376766\n10\tLongestVariableValue\t631.1617676943251\n11\tQuerylength\t599.0803790960202\n12\tQuery_LetterCount\t589.495758035122\n13\tldl_path\t580.1595986620822\n14\tArgLen\t579.0924489261371\n15\tldl_url\t555.3217105895161\n16\tdld_path\t534.8897872600003\n17\tExtension_LetterCount\t525.3539856709812\n18\targDomanRatio\t524.5662326485201\n19\tdld_url\t448.3967989404412\n20\tURL_DigitCount\t436.50117151626273\n21\tLongestPathTokenLength\t435.24924790829215\n22\tURLQueries_variable\t432.0185878962611\n23\tfileNameLen\t431.6027351774654\n24\tdelimeter_Count\t400.8524158795545\n25\tNumberRate_URL\t361.45985447494013\n26\tSymbolCount_Domain\t350.36901519499577\n27\tdomain_token_count\t350.2588688345289\n28\ttld\t350.2588688345289\n29\tSymbolCount_Extension\t337.816214169761\n30\tthis.fileExtLen\t336.28678920464165\n31\tpathLength\t326.7705767849687\n32\tsubDirLen\t326.7705767849687\n33\turlLen\t312.2298210877549\n34\tcharcompace\t300.5028700809362\n35\thost_DigitCount\t298.4302202869745\n36\tSymbolCount_Afterpath\t282.35730077718733\n37\tURL_Letter_Count\t276.8453158442768\n38\tpathDomainRatio\t269.7615038502461\n39\tSymbolCount_FileName\t267.33667113451304\n40\tdomainUrlRatio\t264.14807024619637\n41\tNumberRate_Extension\t229.58881147009947\n42\tNumberRate_FileName\t217.04091425306757\n43\tSymbolCount_URL\t209.88637205247772\n44\tEntropy_Filename\t192.69100449479774\n45\tEntropy_DirectoryName\t190.99530339915046\n46\tdelimeter_path\t188.21750544059415\n47\tArguments_LongestWordLength\t182.13337435391077\n48\tcharcompvowels\t176.0409893136335\n49\tCharacterContinuityRate\t158.83888464160646\n50\tspcharUrl\t152.78712773473268\n51\texecutable\t150.64179530361278\n52\tpathurlRatio\t148.54615135663397\n53\tFilename_LetterCount\t147.0272446672902\n54\tEntropy_Extension\t143.49312730550895\n55\tdld_filename\t141.12559729416702\n56\tldl_filename\t126.27610872964593\n57\tSymbolCount_Directoryname\t116.00749500141052\n58\tavgdomaintokenlen\t114.86092155812804\n59\tpath_token_count\t102.76720989992577\n60\tFile_name_DigitCount\t102.68398816304158\n61\tNumberRate_DirectoryName\t101.18723759281482\n62\tdelimeter_Domain\t95.3984157838799\n63\tDomain_LongestWordLength\t91.907360834152\n64\tNumberofDotsinURL\t86.73283567400284\n65\tDirectory_DigitCount\t81.91990189838756\n66\tDirectory_LetterCount\t69.00187436559231\n67\tURL_sensitiveWord\t57.29625696744113\n68\tlongdomaintokenlen\t53.504560888241976\n69\tldl_domain\t53.18153302547545\n70\tdomainlength\t48.25433525452765\n71\tEntropy_Domain\t44.136619609083105\n72\thost_letter_count\t43.055411008024386\n73\tavgpathtokenlen\t37.86986489503903\n74\tisPortEighty\t26.2018018018018\n75\tsub-Directory_LongestWordLength\t20.81816415599033\n76\tdld_domain\t20.420433245545354\n77\tPath_LongestWordLength\t12.531991335126786\n78\tEntropy_URL\t7.167978769915008\nRemoved columns: ['ISIpAddressInDomainName']\nColumns in order from best to worst: 'Entropy_Afterpath', 'argPathRatio', 'NumberRate_AfterPath', 'NumberRate_Domain', 'ArgUrlRatio', 'Extension_DigitCount', 'dld_getArg', 'ldl_getArg', 'Query_DigitCount', 'LongestVariableValue', 'Querylength', 'Query_LetterCount', 'ldl_path', 'ArgLen', 'ldl_url', 'dld_path', 'Extension_LetterCount', 'argDomanRatio', 'dld_url', 'URL_DigitCount', 'LongestPathTokenLength', 'URLQueries_variable', 'fileNameLen', 'delimeter_Count', 'NumberRate_URL', 'SymbolCount_Domain', 'domain_token_count', 'tld', 'SymbolCount_Extension', 'this.fileExtLen', 'pathLength', 'subDirLen', 'urlLen', 'charcompace', 'host_DigitCount', 'SymbolCount_Afterpath', 'URL_Letter_Count', 'pathDomainRatio', 'SymbolCount_FileName', 'domainUrlRatio', 'NumberRate_Extension', 'NumberRate_FileName', 'SymbolCount_URL', 'Entropy_Filename', 'Entropy_DirectoryName', 'delimeter_path', 'Arguments_LongestWordLength', 'charcompvowels', 'CharacterContinuityRate', 'spcharUrl', 'executable', 'pathurlRatio', 'Filename_LetterCount', 'Entropy_Extension', 'dld_filename', 'ldl_filename', 'SymbolCount_Directoryname', 'avgdomaintokenlen', 'path_token_count', 'File_name_DigitCount', 'NumberRate_DirectoryName', 'delimeter_Domain', 'Domain_LongestWordLength', 'NumberofDotsinURL', 'Directory_DigitCount', 'Directory_LetterCount', 'URL_sensitiveWord', 'longdomaintokenlen', 'ldl_domain', 'domainlength', 'Entropy_Domain', 'host_letter_count', 'avgpathtokenlen', 'isPortEighty', 'sub-Directory_LongestWordLength', 'dld_domain', 'Path_LongestWordLength', 'Entropy_URL'\n"
    }
   ],
   "source": [
    "select = SelectKBest(chi2, k='all')\n",
    "fit = select.fit(X, y)\n",
    "\n",
    "dictt = []\n",
    "i=0\n",
    "removed_columns = []\n",
    "for col in X.columns:\n",
    "    score = fit.scores_[i]\n",
    "    #print(score)\n",
    "    i+=1\n",
    "    if not np.isnan(float(score)):\n",
    "        dictt.append([col, score])    \n",
    "    else:\n",
    "        removed_columns.append(col)\n",
    "#dictt = sorted(dictt, key=operator.itemgetter(1), reverse=True)\n",
    "dictt.sort(key=lambda arr : float(arr[1]), reverse=True)\n",
    "\n",
    "outstr = ''\n",
    "i=1\n",
    "for col, score in dictt:\n",
    "    #if not math.isnan(float(score)):\n",
    "    print('{}\\t{}\\t{}'.format(i, col, score))\n",
    "    i+=1\n",
    "    outstr += '\\'' + col + '\\', '\n",
    "\n",
    "if len(removed_columns) > 0:\n",
    "    print('Removed columns: {}'.format(removed_columns))\n",
    "print('Columns in order from best to worst: {}'.format(outstr[:-2]))"
   ]
  },
  {
   "cell_type": "markdown",
   "metadata": {},
   "source": [
    "## Binary Class Feature Analysis"
   ]
  },
  {
   "cell_type": "code",
   "execution_count": 13,
   "metadata": {
    "tags": []
   },
   "outputs": [
    {
     "output_type": "stream",
     "name": "stdout",
     "text": "malicious    16273\nbenign        2709\nName: URL_Type_obf_Type, dtype: int64\n"
    }
   ],
   "source": [
    "y = y.map(lambda label : label if label == 'benign' else 'malicious')\n",
    "print(y.value_counts())"
   ]
  },
  {
   "cell_type": "code",
   "execution_count": 14,
   "metadata": {
    "tags": []
   },
   "outputs": [
    {
     "output_type": "stream",
     "name": "stdout",
     "text": "1\tfileNameLen\t315.46799976653153\n2\tdomain_token_count\t182.15971387297648\n3\ttld\t182.15971387297648\n4\tSymbolCount_Domain\t182.10898529827438\n5\tEntropy_Afterpath\t180.60018572738053\n6\tdelimeter_path\t174.04407653945987\n7\targPathRatio\t164.8426581380515\n8\tEntropy_Filename\t162.86321472421352\n9\tEntropy_DirectoryName\t156.24403061288692\n10\tFilename_LetterCount\t143.819200542947\n11\tNumberRate_AfterPath\t140.7688948111129\n12\tNumberRate_Extension\t125.90476906341533\n13\tEntropy_Extension\t123.26401842987504\n14\tArgUrlRatio\t120.95697832002074\n15\tNumberRate_FileName\t120.04628356261605\n16\tdld_getArg\t95.02573486132292\n17\tCharacterContinuityRate\t92.39423328421026\n18\tNumberRate_DirectoryName\t84.13097120620002\n19\tdld_filename\t80.74159814413244\n20\tExtension_DigitCount\t74.88178187241996\n21\tNumberRate_Domain\t74.86057501029264\n22\tdomainUrlRatio\t72.36139007376572\n23\tdld_path\t61.64997690438071\n24\tldl_getArg\t61.00248602175093\n25\tSymbolCount_URL\t58.96775663519126\n26\tQuery_DigitCount\t56.01231263314264\n27\tdld_url\t52.36845433372934\n28\tldl_url\t50.53665862853163\n29\tldl_path\t50.26170487532231\n30\tSymbolCount_Directoryname\t50.08536554148577\n31\tArgLen\t47.47865246256895\n32\tthis.fileExtLen\t44.47256743194371\n33\tQuerylength\t43.47148259742883\n34\tFile_name_DigitCount\t42.9917393754376\n35\tQuery_LetterCount\t42.15666188591297\n36\tLongestVariableValue\t41.94971067787281\n37\tExtension_LetterCount\t41.78362448102756\n38\tdomainlength\t41.21031406241202\n39\tNumberofDotsinURL\t39.53599447909788\n40\tEntropy_Domain\t38.61624080421401\n41\tpath_token_count\t37.98884284312934\n42\tDirectory_DigitCount\t37.70048849293255\n43\tldl_filename\t37.40756553444937\n44\tURLQueries_variable\t35.94265176388562\n45\tdelimeter_Count\t31.64108240367948\n46\targDomanRatio\t31.398469357767777\n47\tSymbolCount_FileName\t31.02804400950625\n48\thost_DigitCount\t28.682343221811397\n49\tSymbolCount_Extension\t27.39439297068413\n50\tpathurlRatio\t25.01578443416113\n51\thost_letter_count\t22.82446574300876\n52\tURL_DigitCount\t17.22119355620886\n53\tdelimeter_Domain\t15.460188468699414\n54\tlongdomaintokenlen\t15.28810161350704\n55\tURL_Letter_Count\t13.727937470528856\n56\turlLen\t13.152961594244093\n57\tLongestPathTokenLength\t11.713501447126399\n58\tURL_sensitiveWord\t9.576164944089161\n59\tSymbolCount_Afterpath\t9.252959739372884\n60\tDomain_LongestWordLength\t9.095564473875415\n61\tpathLength\t8.58184610233485\n62\tsubDirLen\t8.58184610233485\n63\texecutable\t8.490075585325387\n64\tspcharUrl\t7.931430454713094\n65\tArguments_LongestWordLength\t7.5069268293707125\n66\tavgpathtokenlen\t5.334328241135935\n67\tcharcompace\t4.934653591721676\n68\tldl_domain\t2.2218348590147627\n69\tEntropy_URL\t1.9605293484265418\n70\tisPortEighty\t1.3317765624039823\n71\tDirectory_LetterCount\t1.2380996242708533\n72\tpathDomainRatio\t1.0521731973139075\n73\tdld_domain\t0.9116327659312973\n74\tNumberRate_URL\t0.5901243522091751\n75\tsub-Directory_LongestWordLength\t0.2947640714301695\n76\tPath_LongestWordLength\t0.027297163441670807\n77\tcharcompvowels\t0.012375998256522448\n78\tavgdomaintokenlen\t7.512500527200375e-05\nRemoved columns: ['ISIpAddressInDomainName']\nColumns in order from best to worst: 'fileNameLen', 'domain_token_count', 'tld', 'SymbolCount_Domain', 'Entropy_Afterpath', 'delimeter_path', 'argPathRatio', 'Entropy_Filename', 'Entropy_DirectoryName', 'Filename_LetterCount', 'NumberRate_AfterPath', 'NumberRate_Extension', 'Entropy_Extension', 'ArgUrlRatio', 'NumberRate_FileName', 'dld_getArg', 'CharacterContinuityRate', 'NumberRate_DirectoryName', 'dld_filename', 'Extension_DigitCount', 'NumberRate_Domain', 'domainUrlRatio', 'dld_path', 'ldl_getArg', 'SymbolCount_URL', 'Query_DigitCount', 'dld_url', 'ldl_url', 'ldl_path', 'SymbolCount_Directoryname', 'ArgLen', 'this.fileExtLen', 'Querylength', 'File_name_DigitCount', 'Query_LetterCount', 'LongestVariableValue', 'Extension_LetterCount', 'domainlength', 'NumberofDotsinURL', 'Entropy_Domain', 'path_token_count', 'Directory_DigitCount', 'ldl_filename', 'URLQueries_variable', 'delimeter_Count', 'argDomanRatio', 'SymbolCount_FileName', 'host_DigitCount', 'SymbolCount_Extension', 'pathurlRatio', 'host_letter_count', 'URL_DigitCount', 'delimeter_Domain', 'longdomaintokenlen', 'URL_Letter_Count', 'urlLen', 'LongestPathTokenLength', 'URL_sensitiveWord', 'SymbolCount_Afterpath', 'Domain_LongestWordLength', 'pathLength', 'subDirLen', 'executable', 'spcharUrl', 'Arguments_LongestWordLength', 'avgpathtokenlen', 'charcompace', 'ldl_domain', 'Entropy_URL', 'isPortEighty', 'Directory_LetterCount', 'pathDomainRatio', 'dld_domain', 'NumberRate_URL', 'sub-Directory_LongestWordLength', 'Path_LongestWordLength', 'charcompvowels', 'avgdomaintokenlen'\n"
    }
   ],
   "source": [
    "select = SelectKBest(chi2, k='all')\n",
    "fit = select.fit(X, y)\n",
    "\n",
    "dictt = []\n",
    "i=0\n",
    "removed_columns = []\n",
    "for col in X.columns:\n",
    "    score = fit.scores_[i]\n",
    "    #print(score)\n",
    "    i+=1\n",
    "    if not np.isnan(float(score)):\n",
    "        dictt.append([col, score])    \n",
    "    else:\n",
    "        removed_columns.append(col)\n",
    "#dictt = sorted(dictt, key=operator.itemgetter(1), reverse=True)\n",
    "dictt.sort(key=lambda arr : float(arr[1]), reverse=True)\n",
    "\n",
    "outstr = ''\n",
    "i=1\n",
    "for col, score in dictt:\n",
    "    #if not math.isnan(float(score)):\n",
    "    print('{}\\t{}\\t{}'.format(i, col, score))\n",
    "    i+=1\n",
    "    outstr += '\\'' + col + '\\', '\n",
    "\n",
    "\n",
    "if len(removed_columns) > 0:\n",
    "    print('Removed columns: {}'.format(removed_columns))\n",
    "\n",
    "print('Columns in order from best to worst: {}'.format(outstr[:-2]))"
   ]
  }
 ]
}