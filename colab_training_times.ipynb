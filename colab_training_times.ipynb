{
  "nbformat": 4,
  "nbformat_minor": 0,
  "metadata": {
    "colab": {
      "name": "clays run all timing",
      "provenance": [],
      "collapsed_sections": []
    },
    "kernelspec": {
      "name": "python3",
      "display_name": "Python 3"
    },
    "accelerator": "TPU"
  },
  "cells": [
    {
      "cell_type": "code",
      "metadata": {
        "id": "d2M8Kl9jhO3O",
        "colab_type": "code",
        "colab": {
          "base_uri": "https://localhost:8080/",
          "height": 781
        },
        "outputId": "11a135d1-566c-4ba5-8ba2-65d25e5ba042"
      },
      "source": [
        "# Import the dataset saved on the google drive\n",
        "from google.colab import drive\n",
        "\n",
        "# Data management\n",
        "import pandas as pd\n",
        "import numpy as np\n",
        "\n",
        "# For S-10-fold CV\n",
        "from sklearn.model_selection import StratifiedKFold\n",
        "\n",
        "# Random Forest model\n",
        "from sklearn.ensemble import RandomForestClassifier\n",
        "\n",
        "# Metrics\n",
        "from sklearn.metrics import recall_score, precision_score\n",
        "from keras.metrics import BinaryAccuracy, CategoricalAccuracy, Precision, Recall\n",
        "\n",
        "# Keras DNN Model\n",
        "from keras.models import Sequential\n",
        "from keras.layers import BatchNormalization, Dense, Dropout\n",
        "from keras.regularizers import l2\n",
        "from keras.utils import to_categorical, normalize\n",
        "\n",
        "# Fast.ai DNN Model\n",
        "from fastai.tabular import *\n",
        "\n",
        "# For timing of the models across different runtimes (CPU, GPU, TPU)\n",
        "from time import time\n",
        "\n",
        "# Uncomment when using GPU\n",
        "\"\"\"# Set up for GPU Usage\n",
        "import tensorflow as tf\n",
        "device_name = tf.test.gpu_device_name()\n",
        "if device_name != '/device:GPU:0':\n",
        "  raise SystemError('GPU device not found')\n",
        "print('Found GPU at: {}'.format(device_name))\"\"\"\n",
        "\n",
        "%tensorflow_version 2.x\n",
        "import tensorflow as tf\n",
        "print(\"Tensorflow version \" + tf.__version__)\n",
        "\n",
        "try:\n",
        "  tpu = tf.distribute.cluster_resolver.TPUClusterResolver()  # TPU detection\n",
        "  print('Running on TPU ', tpu.cluster_spec().as_dict()['worker'])\n",
        "except ValueError:\n",
        "  raise BaseException('ERROR: Not connected to a TPU runtime; please see the previous cell in this notebook for instructions!')\n",
        "\n",
        "tf.config.experimental_connect_to_cluster(tpu)\n",
        "tf.tpu.experimental.initialize_tpu_system(tpu)\n",
        "tpu_strategy = tf.distribute.experimental.TPUStrategy(tpu)\n",
        "\n",
        "print('Imports complete.')"
      ],
      "execution_count": 1,
      "outputs": [
        {
          "output_type": "stream",
          "text": [
            "Tensorflow version 2.3.0\n",
            "Running on TPU  ['10.69.29.178:8470']\n",
            "INFO:tensorflow:Initializing the TPU system: grpc://10.69.29.178:8470\n"
          ],
          "name": "stdout"
        },
        {
          "output_type": "stream",
          "text": [
            "INFO:tensorflow:Initializing the TPU system: grpc://10.69.29.178:8470\n"
          ],
          "name": "stderr"
        },
        {
          "output_type": "stream",
          "text": [
            "INFO:tensorflow:Clearing out eager caches\n"
          ],
          "name": "stdout"
        },
        {
          "output_type": "stream",
          "text": [
            "INFO:tensorflow:Clearing out eager caches\n"
          ],
          "name": "stderr"
        },
        {
          "output_type": "stream",
          "text": [
            "INFO:tensorflow:Finished initializing TPU system.\n"
          ],
          "name": "stdout"
        },
        {
          "output_type": "stream",
          "text": [
            "INFO:tensorflow:Finished initializing TPU system.\n",
            "WARNING:absl:`tf.distribute.experimental.TPUStrategy` is deprecated, please use  the non experimental symbol `tf.distribute.TPUStrategy` instead.\n"
          ],
          "name": "stderr"
        },
        {
          "output_type": "stream",
          "text": [
            "INFO:tensorflow:Found TPU system:\n"
          ],
          "name": "stdout"
        },
        {
          "output_type": "stream",
          "text": [
            "INFO:tensorflow:Found TPU system:\n"
          ],
          "name": "stderr"
        },
        {
          "output_type": "stream",
          "text": [
            "INFO:tensorflow:*** Num TPU Cores: 8\n"
          ],
          "name": "stdout"
        },
        {
          "output_type": "stream",
          "text": [
            "INFO:tensorflow:*** Num TPU Cores: 8\n"
          ],
          "name": "stderr"
        },
        {
          "output_type": "stream",
          "text": [
            "INFO:tensorflow:*** Num TPU Workers: 1\n"
          ],
          "name": "stdout"
        },
        {
          "output_type": "stream",
          "text": [
            "INFO:tensorflow:*** Num TPU Workers: 1\n"
          ],
          "name": "stderr"
        },
        {
          "output_type": "stream",
          "text": [
            "INFO:tensorflow:*** Num TPU Cores Per Worker: 8\n"
          ],
          "name": "stdout"
        },
        {
          "output_type": "stream",
          "text": [
            "INFO:tensorflow:*** Num TPU Cores Per Worker: 8\n"
          ],
          "name": "stderr"
        },
        {
          "output_type": "stream",
          "text": [
            "INFO:tensorflow:*** Available Device: _DeviceAttributes(/job:localhost/replica:0/task:0/device:CPU:0, CPU, 0, 0)\n"
          ],
          "name": "stdout"
        },
        {
          "output_type": "stream",
          "text": [
            "INFO:tensorflow:*** Available Device: _DeviceAttributes(/job:localhost/replica:0/task:0/device:CPU:0, CPU, 0, 0)\n"
          ],
          "name": "stderr"
        },
        {
          "output_type": "stream",
          "text": [
            "INFO:tensorflow:*** Available Device: _DeviceAttributes(/job:localhost/replica:0/task:0/device:XLA_CPU:0, XLA_CPU, 0, 0)\n"
          ],
          "name": "stdout"
        },
        {
          "output_type": "stream",
          "text": [
            "INFO:tensorflow:*** Available Device: _DeviceAttributes(/job:localhost/replica:0/task:0/device:XLA_CPU:0, XLA_CPU, 0, 0)\n"
          ],
          "name": "stderr"
        },
        {
          "output_type": "stream",
          "text": [
            "INFO:tensorflow:*** Available Device: _DeviceAttributes(/job:worker/replica:0/task:0/device:CPU:0, CPU, 0, 0)\n"
          ],
          "name": "stdout"
        },
        {
          "output_type": "stream",
          "text": [
            "INFO:tensorflow:*** Available Device: _DeviceAttributes(/job:worker/replica:0/task:0/device:CPU:0, CPU, 0, 0)\n"
          ],
          "name": "stderr"
        },
        {
          "output_type": "stream",
          "text": [
            "INFO:tensorflow:*** Available Device: _DeviceAttributes(/job:worker/replica:0/task:0/device:TPU:0, TPU, 0, 0)\n"
          ],
          "name": "stdout"
        },
        {
          "output_type": "stream",
          "text": [
            "INFO:tensorflow:*** Available Device: _DeviceAttributes(/job:worker/replica:0/task:0/device:TPU:0, TPU, 0, 0)\n"
          ],
          "name": "stderr"
        },
        {
          "output_type": "stream",
          "text": [
            "INFO:tensorflow:*** Available Device: _DeviceAttributes(/job:worker/replica:0/task:0/device:TPU:1, TPU, 0, 0)\n"
          ],
          "name": "stdout"
        },
        {
          "output_type": "stream",
          "text": [
            "INFO:tensorflow:*** Available Device: _DeviceAttributes(/job:worker/replica:0/task:0/device:TPU:1, TPU, 0, 0)\n"
          ],
          "name": "stderr"
        },
        {
          "output_type": "stream",
          "text": [
            "INFO:tensorflow:*** Available Device: _DeviceAttributes(/job:worker/replica:0/task:0/device:TPU:2, TPU, 0, 0)\n"
          ],
          "name": "stdout"
        },
        {
          "output_type": "stream",
          "text": [
            "INFO:tensorflow:*** Available Device: _DeviceAttributes(/job:worker/replica:0/task:0/device:TPU:2, TPU, 0, 0)\n"
          ],
          "name": "stderr"
        },
        {
          "output_type": "stream",
          "text": [
            "INFO:tensorflow:*** Available Device: _DeviceAttributes(/job:worker/replica:0/task:0/device:TPU:3, TPU, 0, 0)\n"
          ],
          "name": "stdout"
        },
        {
          "output_type": "stream",
          "text": [
            "INFO:tensorflow:*** Available Device: _DeviceAttributes(/job:worker/replica:0/task:0/device:TPU:3, TPU, 0, 0)\n"
          ],
          "name": "stderr"
        },
        {
          "output_type": "stream",
          "text": [
            "INFO:tensorflow:*** Available Device: _DeviceAttributes(/job:worker/replica:0/task:0/device:TPU:4, TPU, 0, 0)\n"
          ],
          "name": "stdout"
        },
        {
          "output_type": "stream",
          "text": [
            "INFO:tensorflow:*** Available Device: _DeviceAttributes(/job:worker/replica:0/task:0/device:TPU:4, TPU, 0, 0)\n"
          ],
          "name": "stderr"
        },
        {
          "output_type": "stream",
          "text": [
            "INFO:tensorflow:*** Available Device: _DeviceAttributes(/job:worker/replica:0/task:0/device:TPU:5, TPU, 0, 0)\n"
          ],
          "name": "stdout"
        },
        {
          "output_type": "stream",
          "text": [
            "INFO:tensorflow:*** Available Device: _DeviceAttributes(/job:worker/replica:0/task:0/device:TPU:5, TPU, 0, 0)\n"
          ],
          "name": "stderr"
        },
        {
          "output_type": "stream",
          "text": [
            "INFO:tensorflow:*** Available Device: _DeviceAttributes(/job:worker/replica:0/task:0/device:TPU:6, TPU, 0, 0)\n"
          ],
          "name": "stdout"
        },
        {
          "output_type": "stream",
          "text": [
            "INFO:tensorflow:*** Available Device: _DeviceAttributes(/job:worker/replica:0/task:0/device:TPU:6, TPU, 0, 0)\n"
          ],
          "name": "stderr"
        },
        {
          "output_type": "stream",
          "text": [
            "INFO:tensorflow:*** Available Device: _DeviceAttributes(/job:worker/replica:0/task:0/device:TPU:7, TPU, 0, 0)\n"
          ],
          "name": "stdout"
        },
        {
          "output_type": "stream",
          "text": [
            "INFO:tensorflow:*** Available Device: _DeviceAttributes(/job:worker/replica:0/task:0/device:TPU:7, TPU, 0, 0)\n"
          ],
          "name": "stderr"
        },
        {
          "output_type": "stream",
          "text": [
            "INFO:tensorflow:*** Available Device: _DeviceAttributes(/job:worker/replica:0/task:0/device:TPU_SYSTEM:0, TPU_SYSTEM, 0, 0)\n"
          ],
          "name": "stdout"
        },
        {
          "output_type": "stream",
          "text": [
            "INFO:tensorflow:*** Available Device: _DeviceAttributes(/job:worker/replica:0/task:0/device:TPU_SYSTEM:0, TPU_SYSTEM, 0, 0)\n"
          ],
          "name": "stderr"
        },
        {
          "output_type": "stream",
          "text": [
            "INFO:tensorflow:*** Available Device: _DeviceAttributes(/job:worker/replica:0/task:0/device:XLA_CPU:0, XLA_CPU, 0, 0)\n"
          ],
          "name": "stdout"
        },
        {
          "output_type": "stream",
          "text": [
            "INFO:tensorflow:*** Available Device: _DeviceAttributes(/job:worker/replica:0/task:0/device:XLA_CPU:0, XLA_CPU, 0, 0)\n"
          ],
          "name": "stderr"
        },
        {
          "output_type": "stream",
          "text": [
            "Imports complete.\n"
          ],
          "name": "stdout"
        }
      ]
    },
    {
      "cell_type": "code",
      "metadata": {
        "id": "WK8SH-XVRIGl",
        "colab_type": "code",
        "colab": {
          "base_uri": "https://localhost:8080/",
          "height": 105
        },
        "outputId": "9c58d07a-e957-49b1-d966-2449bba2c8f3"
      },
      "source": [
        "# Uncomment when using GPU\n",
        "\"\"\"# Test the GPU\n",
        "%tensorflow_version 2.x\n",
        "import tensorflow as tf\n",
        "import timeit\n",
        "\n",
        "device_name = tf.test.gpu_device_name()\n",
        "if device_name != '/device:GPU:0':\n",
        "  print(\n",
        "      '\\n\\nThis error most likely means that this notebook is not '\n",
        "      'configured to use a GPU.  Change this in Notebook Settings via the '\n",
        "      'command palette (cmd/ctrl-shift-P) or the Edit menu.\\n\\n')\n",
        "  raise SystemError('GPU device not found')\n",
        "\n",
        "def cpu():\n",
        "  with tf.device('/cpu:0'):\n",
        "    random_image_cpu = tf.random.normal((100, 100, 100, 3))\n",
        "    net_cpu = tf.keras.layers.Conv2D(32, 7)(random_image_cpu)\n",
        "    return tf.math.reduce_sum(net_cpu)\n",
        "\n",
        "def gpu():\n",
        "  with tf.device('/device:GPU:0'):\n",
        "    random_image_gpu = tf.random.normal((100, 100, 100, 3))\n",
        "    net_gpu = tf.keras.layers.Conv2D(32, 7)(random_image_gpu)\n",
        "    return tf.math.reduce_sum(net_gpu)\n",
        "  \n",
        "# We run each op once to warm up; see: https://stackoverflow.com/a/45067900\n",
        "cpu()\n",
        "gpu()\n",
        "\n",
        "# Run the op several times.\n",
        "print('Time (s) to convolve 32x7x7x3 filter over random 100x100x100x3 images '\n",
        "      '(batch x height x width x channel). Sum of ten runs.')\n",
        "print('CPU (s):')\n",
        "cpu_time = timeit.timeit('cpu()', number=10, setup=\"from __main__ import cpu\")\n",
        "print(cpu_time)\n",
        "print('GPU (s):')\n",
        "gpu_time = timeit.timeit('gpu()', number=10, setup=\"from __main__ import gpu\")\n",
        "print(gpu_time)\n",
        "print('GPU speedup over CPU: {}x'.format(int(cpu_time/gpu_time)))\"\"\""
      ],
      "execution_count": 2,
      "outputs": [
        {
          "output_type": "execute_result",
          "data": {
            "application/vnd.google.colaboratory.intrinsic+json": {
              "type": "string"
            },
            "text/plain": [
              "'# Test the GPU\\n%tensorflow_version 2.x\\nimport tensorflow as tf\\nimport timeit\\n\\ndevice_name = tf.test.gpu_device_name()\\nif device_name != \\'/device:GPU:0\\':\\n  print(\\n      \\'\\n\\nThis error most likely means that this notebook is not \\'\\n      \\'configured to use a GPU.  Change this in Notebook Settings via the \\'\\n      \\'command palette (cmd/ctrl-shift-P) or the Edit menu.\\n\\n\\')\\n  raise SystemError(\\'GPU device not found\\')\\n\\ndef cpu():\\n  with tf.device(\\'/cpu:0\\'):\\n    random_image_cpu = tf.random.normal((100, 100, 100, 3))\\n    net_cpu = tf.keras.layers.Conv2D(32, 7)(random_image_cpu)\\n    return tf.math.reduce_sum(net_cpu)\\n\\ndef gpu():\\n  with tf.device(\\'/device:GPU:0\\'):\\n    random_image_gpu = tf.random.normal((100, 100, 100, 3))\\n    net_gpu = tf.keras.layers.Conv2D(32, 7)(random_image_gpu)\\n    return tf.math.reduce_sum(net_gpu)\\n  \\n# We run each op once to warm up; see: https://stackoverflow.com/a/45067900\\ncpu()\\ngpu()\\n\\n# Run the op several times.\\nprint(\\'Time (s) to convolve 32x7x7x3 filter over random 100x100x100x3 images \\'\\n      \\'(batch x height x width x channel). Sum of ten runs.\\')\\nprint(\\'CPU (s):\\')\\ncpu_time = timeit.timeit(\\'cpu()\\', number=10, setup=\"from __main__ import cpu\")\\nprint(cpu_time)\\nprint(\\'GPU (s):\\')\\ngpu_time = timeit.timeit(\\'gpu()\\', number=10, setup=\"from __main__ import gpu\")\\nprint(gpu_time)\\nprint(\\'GPU speedup over CPU: {}x\\'.format(int(cpu_time/gpu_time)))'"
            ]
          },
          "metadata": {
            "tags": []
          },
          "execution_count": 2
        }
      ]
    },
    {
      "cell_type": "code",
      "metadata": {
        "id": "QKIJdH9xitcv",
        "colab_type": "code",
        "colab": {
          "base_uri": "https://localhost:8080/",
          "height": 34
        },
        "outputId": "02fef6d3-3d19-461a-c2f7-9957fd67ec99"
      },
      "source": [
        "# Set up google drive access\n",
        "drive.mount('/content/gdrive')"
      ],
      "execution_count": 3,
      "outputs": [
        {
          "output_type": "stream",
          "text": [
            "Drive already mounted at /content/gdrive; to attempt to forcibly remount, call drive.mount(\"/content/gdrive\", force_remount=True).\n"
          ],
          "name": "stdout"
        }
      ]
    },
    {
      "cell_type": "code",
      "metadata": {
        "id": "GvhGygDai7gA",
        "colab_type": "code",
        "colab": {
          "base_uri": "https://localhost:8080/",
          "height": 173
        },
        "outputId": "686ec3ab-b0b4-4e03-ce20-cb696dd9aa6f"
      },
      "source": [
        "# Import the data\n",
        "path = '/content/gdrive/My Drive/FinalDataset/'\n",
        "fille = 'All.csv'\n",
        "df = pd.read_csv(path + fille)\n",
        "print('Data Read:')\n",
        "print(df.head())"
      ],
      "execution_count": 4,
      "outputs": [
        {
          "output_type": "stream",
          "text": [
            "Data Read:\n",
            "   Querylength  domain_token_count  ...  Entropy_Afterpath  URL_Type_obf_Type\n",
            "0            0                   4  ...               -1.0         Defacement\n",
            "1            0                   4  ...               -1.0         Defacement\n",
            "2            0                   4  ...               -1.0         Defacement\n",
            "3            0                   4  ...               -1.0         Defacement\n",
            "4            0                   4  ...               -1.0         Defacement\n",
            "\n",
            "[5 rows x 80 columns]\n"
          ],
          "name": "stdout"
        }
      ]
    },
    {
      "cell_type": "code",
      "metadata": {
        "id": "qXDYjLq6ue2p",
        "colab_type": "code",
        "colab": {
          "base_uri": "https://localhost:8080/",
          "height": 34
        },
        "outputId": "28f1e946-f01e-4223-e7df-d3e9483bf108"
      },
      "source": [
        "dep_var = 'URL_Type_obf_Type'\n",
        "\n",
        "print('There are {} columns and {} rows in the provided data.'.format(len(df.columns), len(df)))"
      ],
      "execution_count": 5,
      "outputs": [
        {
          "output_type": "stream",
          "text": [
            "There are 80 columns and 36697 rows in the provided data.\n"
          ],
          "name": "stdout"
        }
      ]
    },
    {
      "cell_type": "code",
      "metadata": {
        "id": "7w3gy187vxL8",
        "colab_type": "code",
        "colab": {
          "base_uri": "https://localhost:8080/",
          "height": 139
        },
        "outputId": "37340223-55fc-4678-d81a-45d6da3bb01d"
      },
      "source": [
        "print('Below is the dataset\\'s composition')\n",
        "print(df[dep_var].value_counts())"
      ],
      "execution_count": 6,
      "outputs": [
        {
          "output_type": "stream",
          "text": [
            "Below is the dataset's composition\n",
            "Defacement    7930\n",
            "benign        7781\n",
            "phishing      7577\n",
            "malware       6711\n",
            "spam          6698\n",
            "Name: URL_Type_obf_Type, dtype: int64\n"
          ],
          "name": "stdout"
        }
      ]
    },
    {
      "cell_type": "code",
      "metadata": {
        "id": "NFEW8BQ0rsWb",
        "colab_type": "code",
        "colab": {
          "base_uri": "https://localhost:8080/",
          "height": 34
        },
        "outputId": "c0f445a5-d8d3-432c-fd7e-6850af4d6cb6"
      },
      "source": [
        "nans = 0\n",
        "\n",
        "# This is a kind of stupid way of counting how many NaNs show up within the data\n",
        "for index, row in df.iterrows():\n",
        "  for col in df.columns:\n",
        "    if col == dep_var:\n",
        "      continue\n",
        "\n",
        "    #print(row[col], end=' ')\n",
        "    # If the value is NaN, then mark add one to our counter\n",
        "    if np.isnan(row[col]):\n",
        "     nans += 1\n",
        "  #print('')\n",
        "print('NaNs detected: {}'.format(nans))"
      ],
      "execution_count": 7,
      "outputs": [
        {
          "output_type": "stream",
          "text": [
            "NaNs detected: 19153\n"
          ],
          "name": "stdout"
        }
      ]
    },
    {
      "cell_type": "code",
      "metadata": {
        "id": "XKdioVPDvr4Z",
        "colab_type": "code",
        "colab": {}
      },
      "source": [
        "# Removes all rows if they contain NaN values\n",
        "df.dropna(axis='index', inplace=True)"
      ],
      "execution_count": 8,
      "outputs": []
    },
    {
      "cell_type": "code",
      "metadata": {
        "id": "sXETwj49wVZ1",
        "colab_type": "code",
        "colab": {
          "base_uri": "https://localhost:8080/",
          "height": 173
        },
        "outputId": "431d434f-e275-4394-ea30-aa7a00f88849"
      },
      "source": [
        "print('There are {} columns and {} rows in the provided data.'.format(len(df.columns), len(df)))\n",
        "\n",
        "print('Below is the dataset\\'s composition')\n",
        "print(df[dep_var].value_counts())\n",
        "\n",
        "nans = 0\n",
        "\n",
        "# This is a kind of stupid way of counting how many NaNs show up within the data\n",
        "for index, row in df.iterrows():\n",
        "  for col in df.columns:\n",
        "    if col == dep_var:\n",
        "      continue\n",
        "\n",
        "    #print(row[col], end=' ')\n",
        "    # If the value is NaN, then mark add one to our counter\n",
        "    if np.isnan(row[col]):\n",
        "     nans += 1\n",
        "  #print('')\n",
        "print('NaNs detected: {}'.format(nans))"
      ],
      "execution_count": 9,
      "outputs": [
        {
          "output_type": "stream",
          "text": [
            "There are 80 columns and 18982 rows in the provided data.\n",
            "Below is the dataset's composition\n",
            "spam          5342\n",
            "malware       4440\n",
            "phishing      4014\n",
            "benign        2709\n",
            "Defacement    2477\n",
            "Name: URL_Type_obf_Type, dtype: int64\n",
            "NaNs detected: 0\n"
          ],
          "name": "stdout"
        }
      ]
    },
    {
      "cell_type": "code",
      "metadata": {
        "id": "X2kgLJFGkTWG",
        "colab_type": "code",
        "colab": {}
      },
      "source": [
        "# Create the X (data) and y (labels)\n",
        "X = normalize( df.loc[:, df.columns != dep_var] )\n",
        "y = df[dep_var]"
      ],
      "execution_count": 10,
      "outputs": []
    },
    {
      "cell_type": "code",
      "metadata": {
        "id": "9E0GT8cKkxrM",
        "colab_type": "code",
        "colab": {
          "base_uri": "https://localhost:8080/",
          "height": 156
        },
        "outputId": "dfcf9170-a5fa-4178-e9dc-696be194a856"
      },
      "source": [
        "print(X.head())"
      ],
      "execution_count": 11,
      "outputs": [
        {
          "output_type": "stream",
          "text": [
            "    Querylength  domain_token_count  ...  Entropy_Extension  Entropy_Afterpath\n",
            "35     0.000000            0.045198  ...           0.011299          -0.011299\n",
            "37     0.117281            0.021324  ...           0.004037           0.003994\n",
            "38     0.121354            0.021105  ...           0.003990           0.003948\n",
            "39     0.117281            0.021324  ...           0.004000           0.003953\n",
            "40     0.121354            0.021105  ...           0.003990           0.003948\n",
            "\n",
            "[5 rows x 79 columns]\n"
          ],
          "name": "stdout"
        }
      ]
    },
    {
      "cell_type": "code",
      "metadata": {
        "id": "S_a3pK4Mkz9S",
        "colab_type": "code",
        "colab": {
          "base_uri": "https://localhost:8080/",
          "height": 121
        },
        "outputId": "9d84eea0-79cd-4272-c5d2-08c4954134fc"
      },
      "source": [
        "print(y.head())"
      ],
      "execution_count": 12,
      "outputs": [
        {
          "output_type": "stream",
          "text": [
            "35    Defacement\n",
            "37    Defacement\n",
            "38    Defacement\n",
            "39    Defacement\n",
            "40    Defacement\n",
            "Name: URL_Type_obf_Type, dtype: object\n"
          ],
          "name": "stdout"
        }
      ]
    },
    {
      "cell_type": "code",
      "metadata": {
        "id": "xNqaiHTLjtIg",
        "colab_type": "code",
        "colab": {
          "base_uri": "https://localhost:8080/",
          "height": 34
        },
        "outputId": "6d7cb347-29e1-4f83-e511-d701eba6e837"
      },
      "source": [
        "# Create the stratified cross validation object\n",
        "random_state = 0\n",
        "sss = StratifiedKFold(n_splits=10, shuffle=True, random_state=random_state)\n",
        "print(sss)"
      ],
      "execution_count": 13,
      "outputs": [
        {
          "output_type": "stream",
          "text": [
            "StratifiedKFold(n_splits=10, random_state=0, shuffle=True)\n"
          ],
          "name": "stdout"
        }
      ]
    },
    {
      "cell_type": "markdown",
      "metadata": {
        "id": "xVC8bNBvjAYB",
        "colab_type": "text"
      },
      "source": [
        "## Multi-Classification Experiments\n"
      ]
    },
    {
      "cell_type": "code",
      "metadata": {
        "id": "JJS0BY3fjpXi",
        "colab_type": "code",
        "colab": {
          "base_uri": "https://localhost:8080/",
          "height": 1000
        },
        "outputId": "a9b5164c-6955-41e1-b140-5a4b82ce58f9"
      },
      "source": [
        "fold = 0\n",
        "training_times = {'rf': [], \n",
        "                  'keras': [],\n",
        "                  'fastai': []}\n",
        "\n",
        "for train_idx, test_idx in sss.split(X, y):\n",
        "  # Update which fold we are on (this is just for output/usability reasons)\n",
        "  fold += 1\n",
        "\n",
        "  # Split the data into the train and testing sets\n",
        "  X_train, X_test = X.iloc[train_idx], X.iloc[test_idx]\n",
        "  y_train, y_test = y.iloc[train_idx], y.iloc[test_idx]\n",
        "\n",
        "  # Initialize the models (not fast.ai since it needs a databunch object)\n",
        "  rf = RandomForestClassifier(random_state=random_state)\n",
        "  dnn_keras = Sequential(layers=[\n",
        "                                 Dense(128, kernel_regularizer=l2(0.001), activation='relu',input_shape=(len(X_train.columns),)),\n",
        "                                 BatchNormalization(),\n",
        "                                 Dense(64, activation='relu', kernel_regularizer=l2(0.001)),\n",
        "                                 BatchNormalization(),\n",
        "                                 Dense(y_train.nunique(), activation='softmax')\n",
        "  ])\n",
        "  dnn_keras.compile(\n",
        "      optimizer='adam', \n",
        "      loss='categorical_crossentropy', \n",
        "      metrics=['accuracy', 'Recall', 'Precision'])\n",
        "  \n",
        "  print('Training RandomForest model with Fold {}...'.format(fold), end='')\n",
        "  t0 = time()\n",
        "  rf.fit(X_train, y_train)\n",
        "  t1 = time()\n",
        "  training_times['rf'].append(t1-t0)\n",
        "  print('done')\n",
        "\n",
        "  print('Training Keras-TensorFlow DNN model with Fold {}...'.format(fold), end='')\n",
        "  t0 = time()\n",
        "  dnn_keras.fit(X_train, pd.get_dummies(y_train), epochs=100, verbose=0, batch_size=1024)\n",
        "  t1 = time()\n",
        "  training_times['keras'].append(t1-t0)\n",
        "  print('done')\n",
        "\n",
        "  # Initialize and run fast.ai model\n",
        "  print('Training Fast.ai Fold {}...'.format(fold))\n",
        "  data_fold = (TabularList.from_df(df, path=path, cont_names=X_train.columns, procs=[Categorify, Normalize])\n",
        "                     .split_by_idxs(train_idx, test_idx)\n",
        "                     .label_from_df(cols=dep_var)\n",
        "                     .databunch())\n",
        "  dnn_fastai = tabular_learner(data_fold, layers=[200, 100], metrics=accuracy)\n",
        "\n",
        "  t0 = time()\n",
        "  dnn_fastai.fit_one_cycle(cyc_len=10, callbacks=None)\n",
        "  t1 = time()\n",
        "  training_times['fastai'].append(t1-t0)\n",
        "  print('Fast ai done')\n"
      ],
      "execution_count": 14,
      "outputs": [
        {
          "output_type": "stream",
          "text": [
            "Training RandomForest model with Fold 1...done\n",
            "Training Keras-TensorFlow DNN model with Fold 1...done\n",
            "Training Fast.ai Fold 1...\n"
          ],
          "name": "stdout"
        },
        {
          "output_type": "display_data",
          "data": {
            "text/html": [
              "<table border=\"1\" class=\"dataframe\">\n",
              "  <thead>\n",
              "    <tr style=\"text-align: left;\">\n",
              "      <th>epoch</th>\n",
              "      <th>train_loss</th>\n",
              "      <th>valid_loss</th>\n",
              "      <th>accuracy</th>\n",
              "      <th>time</th>\n",
              "    </tr>\n",
              "  </thead>\n",
              "  <tbody>\n",
              "    <tr>\n",
              "      <td>0</td>\n",
              "      <td>0.443972</td>\n",
              "      <td>0.394688</td>\n",
              "      <td>0.890469</td>\n",
              "      <td>00:03</td>\n",
              "    </tr>\n",
              "    <tr>\n",
              "      <td>1</td>\n",
              "      <td>0.324754</td>\n",
              "      <td>0.276525</td>\n",
              "      <td>0.903633</td>\n",
              "      <td>00:03</td>\n",
              "    </tr>\n",
              "    <tr>\n",
              "      <td>2</td>\n",
              "      <td>0.258450</td>\n",
              "      <td>0.232733</td>\n",
              "      <td>0.921011</td>\n",
              "      <td>00:03</td>\n",
              "    </tr>\n",
              "    <tr>\n",
              "      <td>3</td>\n",
              "      <td>0.214259</td>\n",
              "      <td>0.194339</td>\n",
              "      <td>0.939442</td>\n",
              "      <td>00:03</td>\n",
              "    </tr>\n",
              "    <tr>\n",
              "      <td>4</td>\n",
              "      <td>0.172840</td>\n",
              "      <td>0.153454</td>\n",
              "      <td>0.949974</td>\n",
              "      <td>00:03</td>\n",
              "    </tr>\n",
              "    <tr>\n",
              "      <td>5</td>\n",
              "      <td>0.152054</td>\n",
              "      <td>0.136953</td>\n",
              "      <td>0.947867</td>\n",
              "      <td>00:03</td>\n",
              "    </tr>\n",
              "    <tr>\n",
              "      <td>6</td>\n",
              "      <td>0.114871</td>\n",
              "      <td>0.098491</td>\n",
              "      <td>0.965771</td>\n",
              "      <td>00:03</td>\n",
              "    </tr>\n",
              "    <tr>\n",
              "      <td>7</td>\n",
              "      <td>0.097962</td>\n",
              "      <td>0.088316</td>\n",
              "      <td>0.968931</td>\n",
              "      <td>00:03</td>\n",
              "    </tr>\n",
              "    <tr>\n",
              "      <td>8</td>\n",
              "      <td>0.067810</td>\n",
              "      <td>0.083455</td>\n",
              "      <td>0.971564</td>\n",
              "      <td>00:04</td>\n",
              "    </tr>\n",
              "    <tr>\n",
              "      <td>9</td>\n",
              "      <td>0.067592</td>\n",
              "      <td>0.081320</td>\n",
              "      <td>0.971037</td>\n",
              "      <td>00:03</td>\n",
              "    </tr>\n",
              "  </tbody>\n",
              "</table>"
            ],
            "text/plain": [
              "<IPython.core.display.HTML object>"
            ]
          },
          "metadata": {
            "tags": []
          }
        },
        {
          "output_type": "stream",
          "text": [
            "Fast ai done\n",
            "Training RandomForest model with Fold 2...done\n",
            "Training Keras-TensorFlow DNN model with Fold 2...done\n",
            "Training Fast.ai Fold 2...\n"
          ],
          "name": "stdout"
        },
        {
          "output_type": "display_data",
          "data": {
            "text/html": [
              "<table border=\"1\" class=\"dataframe\">\n",
              "  <thead>\n",
              "    <tr style=\"text-align: left;\">\n",
              "      <th>epoch</th>\n",
              "      <th>train_loss</th>\n",
              "      <th>valid_loss</th>\n",
              "      <th>accuracy</th>\n",
              "      <th>time</th>\n",
              "    </tr>\n",
              "  </thead>\n",
              "  <tbody>\n",
              "    <tr>\n",
              "      <td>0</td>\n",
              "      <td>0.452407</td>\n",
              "      <td>0.324430</td>\n",
              "      <td>0.888362</td>\n",
              "      <td>00:03</td>\n",
              "    </tr>\n",
              "    <tr>\n",
              "      <td>1</td>\n",
              "      <td>0.309429</td>\n",
              "      <td>0.303231</td>\n",
              "      <td>0.897841</td>\n",
              "      <td>00:03</td>\n",
              "    </tr>\n",
              "    <tr>\n",
              "      <td>2</td>\n",
              "      <td>0.247215</td>\n",
              "      <td>0.248040</td>\n",
              "      <td>0.924697</td>\n",
              "      <td>00:03</td>\n",
              "    </tr>\n",
              "    <tr>\n",
              "      <td>3</td>\n",
              "      <td>0.212760</td>\n",
              "      <td>0.186650</td>\n",
              "      <td>0.940495</td>\n",
              "      <td>00:03</td>\n",
              "    </tr>\n",
              "    <tr>\n",
              "      <td>4</td>\n",
              "      <td>0.189193</td>\n",
              "      <td>0.183047</td>\n",
              "      <td>0.944181</td>\n",
              "      <td>00:03</td>\n",
              "    </tr>\n",
              "    <tr>\n",
              "      <td>5</td>\n",
              "      <td>0.143658</td>\n",
              "      <td>0.174258</td>\n",
              "      <td>0.955766</td>\n",
              "      <td>00:03</td>\n",
              "    </tr>\n",
              "    <tr>\n",
              "      <td>6</td>\n",
              "      <td>0.115553</td>\n",
              "      <td>0.117023</td>\n",
              "      <td>0.966298</td>\n",
              "      <td>00:03</td>\n",
              "    </tr>\n",
              "    <tr>\n",
              "      <td>7</td>\n",
              "      <td>0.090676</td>\n",
              "      <td>0.115941</td>\n",
              "      <td>0.968931</td>\n",
              "      <td>00:03</td>\n",
              "    </tr>\n",
              "    <tr>\n",
              "      <td>8</td>\n",
              "      <td>0.083242</td>\n",
              "      <td>0.110134</td>\n",
              "      <td>0.971564</td>\n",
              "      <td>00:03</td>\n",
              "    </tr>\n",
              "    <tr>\n",
              "      <td>9</td>\n",
              "      <td>0.068761</td>\n",
              "      <td>0.106405</td>\n",
              "      <td>0.971564</td>\n",
              "      <td>00:03</td>\n",
              "    </tr>\n",
              "  </tbody>\n",
              "</table>"
            ],
            "text/plain": [
              "<IPython.core.display.HTML object>"
            ]
          },
          "metadata": {
            "tags": []
          }
        },
        {
          "output_type": "stream",
          "text": [
            "Fast ai done\n",
            "Training RandomForest model with Fold 3...done\n",
            "Training Keras-TensorFlow DNN model with Fold 3...done\n",
            "Training Fast.ai Fold 3...\n"
          ],
          "name": "stdout"
        },
        {
          "output_type": "display_data",
          "data": {
            "text/html": [
              "<table border=\"1\" class=\"dataframe\">\n",
              "  <thead>\n",
              "    <tr style=\"text-align: left;\">\n",
              "      <th>epoch</th>\n",
              "      <th>train_loss</th>\n",
              "      <th>valid_loss</th>\n",
              "      <th>accuracy</th>\n",
              "      <th>time</th>\n",
              "    </tr>\n",
              "  </thead>\n",
              "  <tbody>\n",
              "    <tr>\n",
              "      <td>0</td>\n",
              "      <td>0.430835</td>\n",
              "      <td>0.327063</td>\n",
              "      <td>0.902002</td>\n",
              "      <td>00:03</td>\n",
              "    </tr>\n",
              "    <tr>\n",
              "      <td>1</td>\n",
              "      <td>0.302534</td>\n",
              "      <td>0.274705</td>\n",
              "      <td>0.906217</td>\n",
              "      <td>00:03</td>\n",
              "    </tr>\n",
              "    <tr>\n",
              "      <td>2</td>\n",
              "      <td>0.248354</td>\n",
              "      <td>0.236248</td>\n",
              "      <td>0.935195</td>\n",
              "      <td>00:03</td>\n",
              "    </tr>\n",
              "    <tr>\n",
              "      <td>3</td>\n",
              "      <td>0.229113</td>\n",
              "      <td>0.166951</td>\n",
              "      <td>0.946259</td>\n",
              "      <td>00:03</td>\n",
              "    </tr>\n",
              "    <tr>\n",
              "      <td>4</td>\n",
              "      <td>0.175157</td>\n",
              "      <td>0.153201</td>\n",
              "      <td>0.952582</td>\n",
              "      <td>00:03</td>\n",
              "    </tr>\n",
              "    <tr>\n",
              "      <td>5</td>\n",
              "      <td>0.152273</td>\n",
              "      <td>0.139416</td>\n",
              "      <td>0.958377</td>\n",
              "      <td>00:03</td>\n",
              "    </tr>\n",
              "    <tr>\n",
              "      <td>6</td>\n",
              "      <td>0.118886</td>\n",
              "      <td>0.117966</td>\n",
              "      <td>0.962592</td>\n",
              "      <td>00:03</td>\n",
              "    </tr>\n",
              "    <tr>\n",
              "      <td>7</td>\n",
              "      <td>0.091238</td>\n",
              "      <td>0.104937</td>\n",
              "      <td>0.967861</td>\n",
              "      <td>00:03</td>\n",
              "    </tr>\n",
              "    <tr>\n",
              "      <td>8</td>\n",
              "      <td>0.076880</td>\n",
              "      <td>0.100582</td>\n",
              "      <td>0.969442</td>\n",
              "      <td>00:03</td>\n",
              "    </tr>\n",
              "    <tr>\n",
              "      <td>9</td>\n",
              "      <td>0.062725</td>\n",
              "      <td>0.103795</td>\n",
              "      <td>0.966280</td>\n",
              "      <td>00:03</td>\n",
              "    </tr>\n",
              "  </tbody>\n",
              "</table>"
            ],
            "text/plain": [
              "<IPython.core.display.HTML object>"
            ]
          },
          "metadata": {
            "tags": []
          }
        },
        {
          "output_type": "stream",
          "text": [
            "Fast ai done\n",
            "Training RandomForest model with Fold 4...done\n",
            "Training Keras-TensorFlow DNN model with Fold 4...done\n",
            "Training Fast.ai Fold 4...\n"
          ],
          "name": "stdout"
        },
        {
          "output_type": "display_data",
          "data": {
            "text/html": [
              "<table border=\"1\" class=\"dataframe\">\n",
              "  <thead>\n",
              "    <tr style=\"text-align: left;\">\n",
              "      <th>epoch</th>\n",
              "      <th>train_loss</th>\n",
              "      <th>valid_loss</th>\n",
              "      <th>accuracy</th>\n",
              "      <th>time</th>\n",
              "    </tr>\n",
              "  </thead>\n",
              "  <tbody>\n",
              "    <tr>\n",
              "      <td>0</td>\n",
              "      <td>0.439759</td>\n",
              "      <td>0.375142</td>\n",
              "      <td>0.884089</td>\n",
              "      <td>00:03</td>\n",
              "    </tr>\n",
              "    <tr>\n",
              "      <td>1</td>\n",
              "      <td>0.313754</td>\n",
              "      <td>0.253433</td>\n",
              "      <td>0.916228</td>\n",
              "      <td>00:03</td>\n",
              "    </tr>\n",
              "    <tr>\n",
              "      <td>2</td>\n",
              "      <td>0.257929</td>\n",
              "      <td>0.250575</td>\n",
              "      <td>0.903056</td>\n",
              "      <td>00:03</td>\n",
              "    </tr>\n",
              "    <tr>\n",
              "      <td>3</td>\n",
              "      <td>0.210218</td>\n",
              "      <td>0.184989</td>\n",
              "      <td>0.934668</td>\n",
              "      <td>00:03</td>\n",
              "    </tr>\n",
              "    <tr>\n",
              "      <td>4</td>\n",
              "      <td>0.185125</td>\n",
              "      <td>0.159393</td>\n",
              "      <td>0.944152</td>\n",
              "      <td>00:03</td>\n",
              "    </tr>\n",
              "    <tr>\n",
              "      <td>5</td>\n",
              "      <td>0.146486</td>\n",
              "      <td>0.147829</td>\n",
              "      <td>0.949947</td>\n",
              "      <td>00:03</td>\n",
              "    </tr>\n",
              "    <tr>\n",
              "      <td>6</td>\n",
              "      <td>0.101248</td>\n",
              "      <td>0.120899</td>\n",
              "      <td>0.959431</td>\n",
              "      <td>00:03</td>\n",
              "    </tr>\n",
              "    <tr>\n",
              "      <td>7</td>\n",
              "      <td>0.100300</td>\n",
              "      <td>0.106148</td>\n",
              "      <td>0.959431</td>\n",
              "      <td>00:03</td>\n",
              "    </tr>\n",
              "    <tr>\n",
              "      <td>8</td>\n",
              "      <td>0.077153</td>\n",
              "      <td>0.094396</td>\n",
              "      <td>0.965227</td>\n",
              "      <td>00:03</td>\n",
              "    </tr>\n",
              "    <tr>\n",
              "      <td>9</td>\n",
              "      <td>0.067245</td>\n",
              "      <td>0.093589</td>\n",
              "      <td>0.965227</td>\n",
              "      <td>00:03</td>\n",
              "    </tr>\n",
              "  </tbody>\n",
              "</table>"
            ],
            "text/plain": [
              "<IPython.core.display.HTML object>"
            ]
          },
          "metadata": {
            "tags": []
          }
        },
        {
          "output_type": "stream",
          "text": [
            "Fast ai done\n",
            "Training RandomForest model with Fold 5...done\n",
            "Training Keras-TensorFlow DNN model with Fold 5...done\n",
            "Training Fast.ai Fold 5...\n"
          ],
          "name": "stdout"
        },
        {
          "output_type": "display_data",
          "data": {
            "text/html": [
              "<table border=\"1\" class=\"dataframe\">\n",
              "  <thead>\n",
              "    <tr style=\"text-align: left;\">\n",
              "      <th>epoch</th>\n",
              "      <th>train_loss</th>\n",
              "      <th>valid_loss</th>\n",
              "      <th>accuracy</th>\n",
              "      <th>time</th>\n",
              "    </tr>\n",
              "  </thead>\n",
              "  <tbody>\n",
              "    <tr>\n",
              "      <td>0</td>\n",
              "      <td>0.452079</td>\n",
              "      <td>0.322930</td>\n",
              "      <td>0.903583</td>\n",
              "      <td>00:03</td>\n",
              "    </tr>\n",
              "    <tr>\n",
              "      <td>1</td>\n",
              "      <td>0.291870</td>\n",
              "      <td>0.236140</td>\n",
              "      <td>0.917281</td>\n",
              "      <td>00:03</td>\n",
              "    </tr>\n",
              "    <tr>\n",
              "      <td>2</td>\n",
              "      <td>0.257851</td>\n",
              "      <td>0.229999</td>\n",
              "      <td>0.920969</td>\n",
              "      <td>00:03</td>\n",
              "    </tr>\n",
              "    <tr>\n",
              "      <td>3</td>\n",
              "      <td>0.205805</td>\n",
              "      <td>0.193918</td>\n",
              "      <td>0.936776</td>\n",
              "      <td>00:03</td>\n",
              "    </tr>\n",
              "    <tr>\n",
              "      <td>4</td>\n",
              "      <td>0.175795</td>\n",
              "      <td>0.168093</td>\n",
              "      <td>0.945732</td>\n",
              "      <td>00:03</td>\n",
              "    </tr>\n",
              "    <tr>\n",
              "      <td>5</td>\n",
              "      <td>0.145493</td>\n",
              "      <td>0.139279</td>\n",
              "      <td>0.955743</td>\n",
              "      <td>00:03</td>\n",
              "    </tr>\n",
              "    <tr>\n",
              "      <td>6</td>\n",
              "      <td>0.114853</td>\n",
              "      <td>0.114802</td>\n",
              "      <td>0.967861</td>\n",
              "      <td>00:03</td>\n",
              "    </tr>\n",
              "    <tr>\n",
              "      <td>7</td>\n",
              "      <td>0.089131</td>\n",
              "      <td>0.102392</td>\n",
              "      <td>0.970495</td>\n",
              "      <td>00:03</td>\n",
              "    </tr>\n",
              "    <tr>\n",
              "      <td>8</td>\n",
              "      <td>0.072780</td>\n",
              "      <td>0.096721</td>\n",
              "      <td>0.974183</td>\n",
              "      <td>00:03</td>\n",
              "    </tr>\n",
              "    <tr>\n",
              "      <td>9</td>\n",
              "      <td>0.066628</td>\n",
              "      <td>0.096820</td>\n",
              "      <td>0.975764</td>\n",
              "      <td>00:03</td>\n",
              "    </tr>\n",
              "  </tbody>\n",
              "</table>"
            ],
            "text/plain": [
              "<IPython.core.display.HTML object>"
            ]
          },
          "metadata": {
            "tags": []
          }
        },
        {
          "output_type": "stream",
          "text": [
            "Fast ai done\n",
            "Training RandomForest model with Fold 6...done\n",
            "Training Keras-TensorFlow DNN model with Fold 6...done\n",
            "Training Fast.ai Fold 6...\n"
          ],
          "name": "stdout"
        },
        {
          "output_type": "display_data",
          "data": {
            "text/html": [
              "<table border=\"1\" class=\"dataframe\">\n",
              "  <thead>\n",
              "    <tr style=\"text-align: left;\">\n",
              "      <th>epoch</th>\n",
              "      <th>train_loss</th>\n",
              "      <th>valid_loss</th>\n",
              "      <th>accuracy</th>\n",
              "      <th>time</th>\n",
              "    </tr>\n",
              "  </thead>\n",
              "  <tbody>\n",
              "    <tr>\n",
              "      <td>0</td>\n",
              "      <td>0.440017</td>\n",
              "      <td>0.371497</td>\n",
              "      <td>0.866702</td>\n",
              "      <td>00:03</td>\n",
              "    </tr>\n",
              "    <tr>\n",
              "      <td>1</td>\n",
              "      <td>0.306717</td>\n",
              "      <td>0.282406</td>\n",
              "      <td>0.901475</td>\n",
              "      <td>00:03</td>\n",
              "    </tr>\n",
              "    <tr>\n",
              "      <td>2</td>\n",
              "      <td>0.255411</td>\n",
              "      <td>0.192243</td>\n",
              "      <td>0.935195</td>\n",
              "      <td>00:03</td>\n",
              "    </tr>\n",
              "    <tr>\n",
              "      <td>3</td>\n",
              "      <td>0.214453</td>\n",
              "      <td>0.184053</td>\n",
              "      <td>0.937302</td>\n",
              "      <td>00:04</td>\n",
              "    </tr>\n",
              "    <tr>\n",
              "      <td>4</td>\n",
              "      <td>0.170478</td>\n",
              "      <td>0.153608</td>\n",
              "      <td>0.948367</td>\n",
              "      <td>00:04</td>\n",
              "    </tr>\n",
              "    <tr>\n",
              "      <td>5</td>\n",
              "      <td>0.150448</td>\n",
              "      <td>0.127107</td>\n",
              "      <td>0.955216</td>\n",
              "      <td>00:04</td>\n",
              "    </tr>\n",
              "    <tr>\n",
              "      <td>6</td>\n",
              "      <td>0.121577</td>\n",
              "      <td>0.118459</td>\n",
              "      <td>0.960485</td>\n",
              "      <td>00:04</td>\n",
              "    </tr>\n",
              "    <tr>\n",
              "      <td>7</td>\n",
              "      <td>0.084513</td>\n",
              "      <td>0.105783</td>\n",
              "      <td>0.966807</td>\n",
              "      <td>00:04</td>\n",
              "    </tr>\n",
              "    <tr>\n",
              "      <td>8</td>\n",
              "      <td>0.074029</td>\n",
              "      <td>0.101684</td>\n",
              "      <td>0.966280</td>\n",
              "      <td>00:03</td>\n",
              "    </tr>\n",
              "    <tr>\n",
              "      <td>9</td>\n",
              "      <td>0.067374</td>\n",
              "      <td>0.099830</td>\n",
              "      <td>0.967861</td>\n",
              "      <td>00:03</td>\n",
              "    </tr>\n",
              "  </tbody>\n",
              "</table>"
            ],
            "text/plain": [
              "<IPython.core.display.HTML object>"
            ]
          },
          "metadata": {
            "tags": []
          }
        },
        {
          "output_type": "stream",
          "text": [
            "Fast ai done\n",
            "Training RandomForest model with Fold 7...done\n",
            "Training Keras-TensorFlow DNN model with Fold 7...done\n",
            "Training Fast.ai Fold 7...\n"
          ],
          "name": "stdout"
        },
        {
          "output_type": "display_data",
          "data": {
            "text/html": [
              "<table border=\"1\" class=\"dataframe\">\n",
              "  <thead>\n",
              "    <tr style=\"text-align: left;\">\n",
              "      <th>epoch</th>\n",
              "      <th>train_loss</th>\n",
              "      <th>valid_loss</th>\n",
              "      <th>accuracy</th>\n",
              "      <th>time</th>\n",
              "    </tr>\n",
              "  </thead>\n",
              "  <tbody>\n",
              "    <tr>\n",
              "      <td>0</td>\n",
              "      <td>0.437113</td>\n",
              "      <td>0.354657</td>\n",
              "      <td>0.877766</td>\n",
              "      <td>00:03</td>\n",
              "    </tr>\n",
              "    <tr>\n",
              "      <td>1</td>\n",
              "      <td>0.304028</td>\n",
              "      <td>0.281872</td>\n",
              "      <td>0.905163</td>\n",
              "      <td>00:03</td>\n",
              "    </tr>\n",
              "    <tr>\n",
              "      <td>2</td>\n",
              "      <td>0.247046</td>\n",
              "      <td>0.229857</td>\n",
              "      <td>0.920443</td>\n",
              "      <td>00:03</td>\n",
              "    </tr>\n",
              "    <tr>\n",
              "      <td>3</td>\n",
              "      <td>0.210727</td>\n",
              "      <td>0.236753</td>\n",
              "      <td>0.912013</td>\n",
              "      <td>00:03</td>\n",
              "    </tr>\n",
              "    <tr>\n",
              "      <td>4</td>\n",
              "      <td>0.177423</td>\n",
              "      <td>0.165965</td>\n",
              "      <td>0.938356</td>\n",
              "      <td>00:03</td>\n",
              "    </tr>\n",
              "    <tr>\n",
              "      <td>5</td>\n",
              "      <td>0.147257</td>\n",
              "      <td>0.140057</td>\n",
              "      <td>0.955743</td>\n",
              "      <td>00:03</td>\n",
              "    </tr>\n",
              "    <tr>\n",
              "      <td>6</td>\n",
              "      <td>0.114634</td>\n",
              "      <td>0.129947</td>\n",
              "      <td>0.958904</td>\n",
              "      <td>00:03</td>\n",
              "    </tr>\n",
              "    <tr>\n",
              "      <td>7</td>\n",
              "      <td>0.093546</td>\n",
              "      <td>0.114386</td>\n",
              "      <td>0.959431</td>\n",
              "      <td>00:03</td>\n",
              "    </tr>\n",
              "    <tr>\n",
              "      <td>8</td>\n",
              "      <td>0.071813</td>\n",
              "      <td>0.103466</td>\n",
              "      <td>0.963646</td>\n",
              "      <td>00:03</td>\n",
              "    </tr>\n",
              "    <tr>\n",
              "      <td>9</td>\n",
              "      <td>0.071631</td>\n",
              "      <td>0.102617</td>\n",
              "      <td>0.965227</td>\n",
              "      <td>00:03</td>\n",
              "    </tr>\n",
              "  </tbody>\n",
              "</table>"
            ],
            "text/plain": [
              "<IPython.core.display.HTML object>"
            ]
          },
          "metadata": {
            "tags": []
          }
        },
        {
          "output_type": "stream",
          "text": [
            "Fast ai done\n",
            "Training RandomForest model with Fold 8...done\n",
            "Training Keras-TensorFlow DNN model with Fold 8...done\n",
            "Training Fast.ai Fold 8...\n"
          ],
          "name": "stdout"
        },
        {
          "output_type": "display_data",
          "data": {
            "text/html": [
              "<table border=\"1\" class=\"dataframe\">\n",
              "  <thead>\n",
              "    <tr style=\"text-align: left;\">\n",
              "      <th>epoch</th>\n",
              "      <th>train_loss</th>\n",
              "      <th>valid_loss</th>\n",
              "      <th>accuracy</th>\n",
              "      <th>time</th>\n",
              "    </tr>\n",
              "  </thead>\n",
              "  <tbody>\n",
              "    <tr>\n",
              "      <td>0</td>\n",
              "      <td>0.461050</td>\n",
              "      <td>0.352711</td>\n",
              "      <td>0.885142</td>\n",
              "      <td>00:03</td>\n",
              "    </tr>\n",
              "    <tr>\n",
              "      <td>1</td>\n",
              "      <td>0.310784</td>\n",
              "      <td>0.295740</td>\n",
              "      <td>0.913593</td>\n",
              "      <td>00:03</td>\n",
              "    </tr>\n",
              "    <tr>\n",
              "      <td>2</td>\n",
              "      <td>0.260749</td>\n",
              "      <td>0.190132</td>\n",
              "      <td>0.943625</td>\n",
              "      <td>00:03</td>\n",
              "    </tr>\n",
              "    <tr>\n",
              "      <td>3</td>\n",
              "      <td>0.227721</td>\n",
              "      <td>0.168463</td>\n",
              "      <td>0.942044</td>\n",
              "      <td>00:03</td>\n",
              "    </tr>\n",
              "    <tr>\n",
              "      <td>4</td>\n",
              "      <td>0.169278</td>\n",
              "      <td>0.187211</td>\n",
              "      <td>0.928346</td>\n",
              "      <td>00:03</td>\n",
              "    </tr>\n",
              "    <tr>\n",
              "      <td>5</td>\n",
              "      <td>0.139274</td>\n",
              "      <td>0.125485</td>\n",
              "      <td>0.957850</td>\n",
              "      <td>00:03</td>\n",
              "    </tr>\n",
              "    <tr>\n",
              "      <td>6</td>\n",
              "      <td>0.124810</td>\n",
              "      <td>0.113532</td>\n",
              "      <td>0.964173</td>\n",
              "      <td>00:03</td>\n",
              "    </tr>\n",
              "    <tr>\n",
              "      <td>7</td>\n",
              "      <td>0.088069</td>\n",
              "      <td>0.096613</td>\n",
              "      <td>0.969442</td>\n",
              "      <td>00:03</td>\n",
              "    </tr>\n",
              "    <tr>\n",
              "      <td>8</td>\n",
              "      <td>0.073829</td>\n",
              "      <td>0.088053</td>\n",
              "      <td>0.972603</td>\n",
              "      <td>00:03</td>\n",
              "    </tr>\n",
              "    <tr>\n",
              "      <td>9</td>\n",
              "      <td>0.072569</td>\n",
              "      <td>0.086115</td>\n",
              "      <td>0.975764</td>\n",
              "      <td>00:03</td>\n",
              "    </tr>\n",
              "  </tbody>\n",
              "</table>"
            ],
            "text/plain": [
              "<IPython.core.display.HTML object>"
            ]
          },
          "metadata": {
            "tags": []
          }
        },
        {
          "output_type": "stream",
          "text": [
            "Fast ai done\n",
            "Training RandomForest model with Fold 9...done\n",
            "Training Keras-TensorFlow DNN model with Fold 9...done\n",
            "Training Fast.ai Fold 9...\n"
          ],
          "name": "stdout"
        },
        {
          "output_type": "display_data",
          "data": {
            "text/html": [
              "<table border=\"1\" class=\"dataframe\">\n",
              "  <thead>\n",
              "    <tr style=\"text-align: left;\">\n",
              "      <th>epoch</th>\n",
              "      <th>train_loss</th>\n",
              "      <th>valid_loss</th>\n",
              "      <th>accuracy</th>\n",
              "      <th>time</th>\n",
              "    </tr>\n",
              "  </thead>\n",
              "  <tbody>\n",
              "    <tr>\n",
              "      <td>0</td>\n",
              "      <td>0.443847</td>\n",
              "      <td>0.360754</td>\n",
              "      <td>0.874605</td>\n",
              "      <td>00:03</td>\n",
              "    </tr>\n",
              "    <tr>\n",
              "      <td>1</td>\n",
              "      <td>0.282064</td>\n",
              "      <td>0.321100</td>\n",
              "      <td>0.890411</td>\n",
              "      <td>00:03</td>\n",
              "    </tr>\n",
              "    <tr>\n",
              "      <td>2</td>\n",
              "      <td>0.258792</td>\n",
              "      <td>0.225205</td>\n",
              "      <td>0.918335</td>\n",
              "      <td>00:03</td>\n",
              "    </tr>\n",
              "    <tr>\n",
              "      <td>3</td>\n",
              "      <td>0.215890</td>\n",
              "      <td>0.224564</td>\n",
              "      <td>0.927292</td>\n",
              "      <td>00:03</td>\n",
              "    </tr>\n",
              "    <tr>\n",
              "      <td>4</td>\n",
              "      <td>0.172108</td>\n",
              "      <td>0.184924</td>\n",
              "      <td>0.938356</td>\n",
              "      <td>00:03</td>\n",
              "    </tr>\n",
              "    <tr>\n",
              "      <td>5</td>\n",
              "      <td>0.152762</td>\n",
              "      <td>0.159161</td>\n",
              "      <td>0.949947</td>\n",
              "      <td>00:03</td>\n",
              "    </tr>\n",
              "    <tr>\n",
              "      <td>6</td>\n",
              "      <td>0.120494</td>\n",
              "      <td>0.153358</td>\n",
              "      <td>0.953109</td>\n",
              "      <td>00:03</td>\n",
              "    </tr>\n",
              "    <tr>\n",
              "      <td>7</td>\n",
              "      <td>0.092321</td>\n",
              "      <td>0.135817</td>\n",
              "      <td>0.959958</td>\n",
              "      <td>00:03</td>\n",
              "    </tr>\n",
              "    <tr>\n",
              "      <td>8</td>\n",
              "      <td>0.079480</td>\n",
              "      <td>0.125993</td>\n",
              "      <td>0.959431</td>\n",
              "      <td>00:03</td>\n",
              "    </tr>\n",
              "    <tr>\n",
              "      <td>9</td>\n",
              "      <td>0.069560</td>\n",
              "      <td>0.126576</td>\n",
              "      <td>0.963119</td>\n",
              "      <td>00:03</td>\n",
              "    </tr>\n",
              "  </tbody>\n",
              "</table>"
            ],
            "text/plain": [
              "<IPython.core.display.HTML object>"
            ]
          },
          "metadata": {
            "tags": []
          }
        },
        {
          "output_type": "stream",
          "text": [
            "Fast ai done\n",
            "Training RandomForest model with Fold 10...done\n",
            "Training Keras-TensorFlow DNN model with Fold 10...done\n",
            "Training Fast.ai Fold 10...\n"
          ],
          "name": "stdout"
        },
        {
          "output_type": "display_data",
          "data": {
            "text/html": [
              "<table border=\"1\" class=\"dataframe\">\n",
              "  <thead>\n",
              "    <tr style=\"text-align: left;\">\n",
              "      <th>epoch</th>\n",
              "      <th>train_loss</th>\n",
              "      <th>valid_loss</th>\n",
              "      <th>accuracy</th>\n",
              "      <th>time</th>\n",
              "    </tr>\n",
              "  </thead>\n",
              "  <tbody>\n",
              "    <tr>\n",
              "      <td>0</td>\n",
              "      <td>0.444413</td>\n",
              "      <td>0.305464</td>\n",
              "      <td>0.903056</td>\n",
              "      <td>00:03</td>\n",
              "    </tr>\n",
              "    <tr>\n",
              "      <td>1</td>\n",
              "      <td>0.308096</td>\n",
              "      <td>0.260561</td>\n",
              "      <td>0.907798</td>\n",
              "      <td>00:03</td>\n",
              "    </tr>\n",
              "    <tr>\n",
              "      <td>2</td>\n",
              "      <td>0.261442</td>\n",
              "      <td>0.216753</td>\n",
              "      <td>0.924131</td>\n",
              "      <td>00:03</td>\n",
              "    </tr>\n",
              "    <tr>\n",
              "      <td>3</td>\n",
              "      <td>0.212239</td>\n",
              "      <td>0.178532</td>\n",
              "      <td>0.935722</td>\n",
              "      <td>00:03</td>\n",
              "    </tr>\n",
              "    <tr>\n",
              "      <td>4</td>\n",
              "      <td>0.170041</td>\n",
              "      <td>0.144967</td>\n",
              "      <td>0.946786</td>\n",
              "      <td>00:03</td>\n",
              "    </tr>\n",
              "    <tr>\n",
              "      <td>5</td>\n",
              "      <td>0.148248</td>\n",
              "      <td>0.119032</td>\n",
              "      <td>0.965753</td>\n",
              "      <td>00:03</td>\n",
              "    </tr>\n",
              "    <tr>\n",
              "      <td>6</td>\n",
              "      <td>0.118745</td>\n",
              "      <td>0.102319</td>\n",
              "      <td>0.968915</td>\n",
              "      <td>00:03</td>\n",
              "    </tr>\n",
              "    <tr>\n",
              "      <td>7</td>\n",
              "      <td>0.085876</td>\n",
              "      <td>0.084891</td>\n",
              "      <td>0.971549</td>\n",
              "      <td>00:03</td>\n",
              "    </tr>\n",
              "    <tr>\n",
              "      <td>8</td>\n",
              "      <td>0.079471</td>\n",
              "      <td>0.078259</td>\n",
              "      <td>0.973130</td>\n",
              "      <td>00:03</td>\n",
              "    </tr>\n",
              "    <tr>\n",
              "      <td>9</td>\n",
              "      <td>0.070928</td>\n",
              "      <td>0.078200</td>\n",
              "      <td>0.973130</td>\n",
              "      <td>00:03</td>\n",
              "    </tr>\n",
              "  </tbody>\n",
              "</table>"
            ],
            "text/plain": [
              "<IPython.core.display.HTML object>"
            ]
          },
          "metadata": {
            "tags": []
          }
        },
        {
          "output_type": "stream",
          "text": [
            "Fast ai done\n"
          ],
          "name": "stdout"
        }
      ]
    },
    {
      "cell_type": "code",
      "metadata": {
        "id": "wASaeJbH8Zzv",
        "colab_type": "code",
        "colab": {
          "base_uri": "https://localhost:8080/",
          "height": 104
        },
        "outputId": "9970b666-7923-45a9-a7a8-186adeb21260"
      },
      "source": [
        "print('model\\tfold runtime\\ttotal runtime')\n",
        "print('-'*40)\n",
        "for model in training_times.keys():\n",
        "  mean = sum(training_times[model]) / len(training_times[model])\n",
        "  std = np.std(training_times[model])\n",
        "\n",
        "  print('{}\\t{:.2f}\\u00B1{:.2f}s\\t{:.2f}s'.format(model, mean, std, sum(training_times[model])))"
      ],
      "execution_count": 15,
      "outputs": [
        {
          "output_type": "stream",
          "text": [
            "model\tfold runtime\ttotal runtime\n",
            "----------------------------------------\n",
            "rf\t10.68±0.15s\t106.83s\n",
            "keras\t12.41±0.14s\t124.09s\n",
            "fastai\t36.23±1.79s\t362.29s\n"
          ],
          "name": "stdout"
        }
      ]
    },
    {
      "cell_type": "markdown",
      "metadata": {
        "id": "t5CbPy1EDmiu",
        "colab_type": "text"
      },
      "source": [
        "## Binary Classification\n",
        "This is mostly the same code for the execution of the models, however we have to change the data..."
      ]
    },
    {
      "cell_type": "code",
      "metadata": {
        "id": "0QMUO9xsD17R",
        "colab_type": "code",
        "colab": {
          "base_uri": "https://localhost:8080/",
          "height": 156
        },
        "outputId": "0a771b03-cab8-4020-ece5-1b4671068823"
      },
      "source": [
        "print('There are {} columns and {} rows in the provided data.'.format(len(X.columns)+1, len(X)))\n",
        "\n",
        "print('Below is the dataset\\'s composition')\n",
        "print(y.value_counts())"
      ],
      "execution_count": 16,
      "outputs": [
        {
          "output_type": "stream",
          "text": [
            "There are 80 columns and 18982 rows in the provided data.\n",
            "Below is the dataset's composition\n",
            "spam          5342\n",
            "malware       4440\n",
            "phishing      4014\n",
            "benign        2709\n",
            "Defacement    2477\n",
            "Name: URL_Type_obf_Type, dtype: int64\n"
          ],
          "name": "stdout"
        }
      ]
    },
    {
      "cell_type": "code",
      "metadata": {
        "id": "BRH7VGSID_n_",
        "colab_type": "code",
        "colab": {}
      },
      "source": [
        "# Convert the multiclass problem into a binary classification problem\n",
        "y = y.map(lambda label : label if label == 'benign' else 'malicious')"
      ],
      "execution_count": 17,
      "outputs": []
    },
    {
      "cell_type": "code",
      "metadata": {
        "id": "MjSuqlhlEae7",
        "colab_type": "code",
        "colab": {
          "base_uri": "https://localhost:8080/",
          "height": 104
        },
        "outputId": "21cbd869-eb11-4b68-9ca4-26284c85dae4"
      },
      "source": [
        "print('There are {} columns and {} rows in the provided data.'.format(len(X.columns)+1, len(X)))\n",
        "\n",
        "print('Below is the dataset\\'s composition')\n",
        "print(y.value_counts())"
      ],
      "execution_count": 18,
      "outputs": [
        {
          "output_type": "stream",
          "text": [
            "There are 80 columns and 18982 rows in the provided data.\n",
            "Below is the dataset's composition\n",
            "malicious    16273\n",
            "benign        2709\n",
            "Name: URL_Type_obf_Type, dtype: int64\n"
          ],
          "name": "stdout"
        }
      ]
    },
    {
      "cell_type": "code",
      "metadata": {
        "id": "8tMhi7CQDoqv",
        "colab_type": "code",
        "colab": {
          "base_uri": "https://localhost:8080/",
          "height": 1000
        },
        "outputId": "08ed1c0e-6051-4a86-b014-cda91fb570ea"
      },
      "source": [
        "fold = 0\n",
        "training_times = {'rf': [], \n",
        "                  'keras': [],\n",
        "                  'fastai': []}\n",
        "\n",
        "for train_idx, test_idx in sss.split(X, y):\n",
        "  # Update which fold we are on (this is just for output/usability reasons)\n",
        "  fold += 1\n",
        "\n",
        "  # Split the data into the train and testing sets\n",
        "  X_train, X_test = X.iloc[train_idx], X.iloc[test_idx]\n",
        "  y_train, y_test = y.iloc[train_idx], y.iloc[test_idx]\n",
        "\n",
        "  # Initialize the models (not fast.ai since it needs a databunch object)\n",
        "  rf = RandomForestClassifier(random_state=random_state)\n",
        "  dnn_keras = Sequential(layers=[\n",
        "                                 Dense(128, kernel_regularizer=l2(0.001), activation='relu',input_shape=(len(X_train.columns),)),\n",
        "                                 BatchNormalization(),\n",
        "                                 Dense(64, activation='relu', kernel_regularizer=l2(0.001)),\n",
        "                                 BatchNormalization(),\n",
        "                                 Dense(y_train.nunique(), activation='softmax')\n",
        "  ])\n",
        "  dnn_keras.compile(\n",
        "      optimizer='adam', \n",
        "      loss='categorical_crossentropy', \n",
        "      metrics=['accuracy', 'Recall', 'Precision'])\n",
        "  \n",
        "  print('Training RandomForest model with Fold {}...'.format(fold), end='')\n",
        "  t0 = time()\n",
        "  rf.fit(X_train, y_train)\n",
        "  t1 = time()\n",
        "  training_times['rf'].append(t1-t0)\n",
        "  print('done')\n",
        "\n",
        "  print('Training Keras-TensorFlow DNN model with Fold {}...'.format(fold), end='')\n",
        "  t0 = time()\n",
        "  dnn_keras.fit(X_train, pd.get_dummies(y_train), epochs=100, verbose=0, batch_size=1024)\n",
        "  t1 = time()\n",
        "  training_times['keras'].append(t1-t0)\n",
        "  print('done')\n",
        "\n",
        "  # Initialize and run fast.ai model\n",
        "  print('Training Fast.ai Fold {}...'.format(fold))\n",
        "  data_fold = (TabularList.from_df(df, path=path, cont_names=X_train.columns, procs=[Categorify, Normalize])\n",
        "                     .split_by_idxs(train_idx, test_idx)\n",
        "                     .label_from_df(cols=dep_var)\n",
        "                     .databunch())\n",
        "  dnn_fastai = tabular_learner(data_fold, layers=[200, 100], metrics=accuracy)\n",
        "\n",
        "  t0 = time()\n",
        "  dnn_fastai.fit_one_cycle(cyc_len=10, callbacks=None)\n",
        "  t1 = time()\n",
        "  training_times['fastai'].append(t1-t0)\n",
        "  print('Fast ai done')\n"
      ],
      "execution_count": 19,
      "outputs": [
        {
          "output_type": "stream",
          "text": [
            "Training RandomForest model with Fold 1...done\n",
            "Training Keras-TensorFlow DNN model with Fold 1...done\n",
            "Training Fast.ai Fold 1...\n"
          ],
          "name": "stdout"
        },
        {
          "output_type": "display_data",
          "data": {
            "text/html": [
              "<table border=\"1\" class=\"dataframe\">\n",
              "  <thead>\n",
              "    <tr style=\"text-align: left;\">\n",
              "      <th>epoch</th>\n",
              "      <th>train_loss</th>\n",
              "      <th>valid_loss</th>\n",
              "      <th>accuracy</th>\n",
              "      <th>time</th>\n",
              "    </tr>\n",
              "  </thead>\n",
              "  <tbody>\n",
              "    <tr>\n",
              "      <td>0</td>\n",
              "      <td>0.439352</td>\n",
              "      <td>0.367398</td>\n",
              "      <td>0.882043</td>\n",
              "      <td>00:03</td>\n",
              "    </tr>\n",
              "    <tr>\n",
              "      <td>1</td>\n",
              "      <td>0.294800</td>\n",
              "      <td>0.249237</td>\n",
              "      <td>0.923117</td>\n",
              "      <td>00:03</td>\n",
              "    </tr>\n",
              "    <tr>\n",
              "      <td>2</td>\n",
              "      <td>0.249121</td>\n",
              "      <td>0.277552</td>\n",
              "      <td>0.904687</td>\n",
              "      <td>00:03</td>\n",
              "    </tr>\n",
              "    <tr>\n",
              "      <td>3</td>\n",
              "      <td>0.206389</td>\n",
              "      <td>0.229741</td>\n",
              "      <td>0.919431</td>\n",
              "      <td>00:03</td>\n",
              "    </tr>\n",
              "    <tr>\n",
              "      <td>4</td>\n",
              "      <td>0.170854</td>\n",
              "      <td>0.188425</td>\n",
              "      <td>0.933123</td>\n",
              "      <td>00:03</td>\n",
              "    </tr>\n",
              "    <tr>\n",
              "      <td>5</td>\n",
              "      <td>0.150878</td>\n",
              "      <td>0.148725</td>\n",
              "      <td>0.951553</td>\n",
              "      <td>00:03</td>\n",
              "    </tr>\n",
              "    <tr>\n",
              "      <td>6</td>\n",
              "      <td>0.114326</td>\n",
              "      <td>0.128837</td>\n",
              "      <td>0.961032</td>\n",
              "      <td>00:03</td>\n",
              "    </tr>\n",
              "    <tr>\n",
              "      <td>7</td>\n",
              "      <td>0.095658</td>\n",
              "      <td>0.108668</td>\n",
              "      <td>0.966825</td>\n",
              "      <td>00:03</td>\n",
              "    </tr>\n",
              "    <tr>\n",
              "      <td>8</td>\n",
              "      <td>0.075021</td>\n",
              "      <td>0.105058</td>\n",
              "      <td>0.967878</td>\n",
              "      <td>00:03</td>\n",
              "    </tr>\n",
              "    <tr>\n",
              "      <td>9</td>\n",
              "      <td>0.069442</td>\n",
              "      <td>0.105801</td>\n",
              "      <td>0.966825</td>\n",
              "      <td>00:03</td>\n",
              "    </tr>\n",
              "  </tbody>\n",
              "</table>"
            ],
            "text/plain": [
              "<IPython.core.display.HTML object>"
            ]
          },
          "metadata": {
            "tags": []
          }
        },
        {
          "output_type": "stream",
          "text": [
            "Fast ai done\n",
            "Training RandomForest model with Fold 2...done\n",
            "Training Keras-TensorFlow DNN model with Fold 2...done\n",
            "Training Fast.ai Fold 2...\n"
          ],
          "name": "stdout"
        },
        {
          "output_type": "display_data",
          "data": {
            "text/html": [
              "<table border=\"1\" class=\"dataframe\">\n",
              "  <thead>\n",
              "    <tr style=\"text-align: left;\">\n",
              "      <th>epoch</th>\n",
              "      <th>train_loss</th>\n",
              "      <th>valid_loss</th>\n",
              "      <th>accuracy</th>\n",
              "      <th>time</th>\n",
              "    </tr>\n",
              "  </thead>\n",
              "  <tbody>\n",
              "    <tr>\n",
              "      <td>0</td>\n",
              "      <td>0.443808</td>\n",
              "      <td>0.349298</td>\n",
              "      <td>0.890469</td>\n",
              "      <td>00:03</td>\n",
              "    </tr>\n",
              "    <tr>\n",
              "      <td>1</td>\n",
              "      <td>0.328726</td>\n",
              "      <td>0.267032</td>\n",
              "      <td>0.899421</td>\n",
              "      <td>00:03</td>\n",
              "    </tr>\n",
              "    <tr>\n",
              "      <td>2</td>\n",
              "      <td>0.245205</td>\n",
              "      <td>0.249358</td>\n",
              "      <td>0.917325</td>\n",
              "      <td>00:03</td>\n",
              "    </tr>\n",
              "    <tr>\n",
              "      <td>3</td>\n",
              "      <td>0.206149</td>\n",
              "      <td>0.179349</td>\n",
              "      <td>0.941022</td>\n",
              "      <td>00:03</td>\n",
              "    </tr>\n",
              "    <tr>\n",
              "      <td>4</td>\n",
              "      <td>0.167178</td>\n",
              "      <td>0.162772</td>\n",
              "      <td>0.944181</td>\n",
              "      <td>00:03</td>\n",
              "    </tr>\n",
              "    <tr>\n",
              "      <td>5</td>\n",
              "      <td>0.141314</td>\n",
              "      <td>0.139901</td>\n",
              "      <td>0.951027</td>\n",
              "      <td>00:03</td>\n",
              "    </tr>\n",
              "    <tr>\n",
              "      <td>6</td>\n",
              "      <td>0.114148</td>\n",
              "      <td>0.129600</td>\n",
              "      <td>0.957346</td>\n",
              "      <td>00:03</td>\n",
              "    </tr>\n",
              "    <tr>\n",
              "      <td>7</td>\n",
              "      <td>0.095606</td>\n",
              "      <td>0.126646</td>\n",
              "      <td>0.964192</td>\n",
              "      <td>00:03</td>\n",
              "    </tr>\n",
              "    <tr>\n",
              "      <td>8</td>\n",
              "      <td>0.078518</td>\n",
              "      <td>0.103575</td>\n",
              "      <td>0.965245</td>\n",
              "      <td>00:03</td>\n",
              "    </tr>\n",
              "    <tr>\n",
              "      <td>9</td>\n",
              "      <td>0.070145</td>\n",
              "      <td>0.105629</td>\n",
              "      <td>0.964718</td>\n",
              "      <td>00:03</td>\n",
              "    </tr>\n",
              "  </tbody>\n",
              "</table>"
            ],
            "text/plain": [
              "<IPython.core.display.HTML object>"
            ]
          },
          "metadata": {
            "tags": []
          }
        },
        {
          "output_type": "stream",
          "text": [
            "Fast ai done\n",
            "Training RandomForest model with Fold 3...done\n",
            "Training Keras-TensorFlow DNN model with Fold 3...done\n",
            "Training Fast.ai Fold 3...\n"
          ],
          "name": "stdout"
        },
        {
          "output_type": "display_data",
          "data": {
            "text/html": [
              "<table border=\"1\" class=\"dataframe\">\n",
              "  <thead>\n",
              "    <tr style=\"text-align: left;\">\n",
              "      <th>epoch</th>\n",
              "      <th>train_loss</th>\n",
              "      <th>valid_loss</th>\n",
              "      <th>accuracy</th>\n",
              "      <th>time</th>\n",
              "    </tr>\n",
              "  </thead>\n",
              "  <tbody>\n",
              "    <tr>\n",
              "      <td>0</td>\n",
              "      <td>0.458496</td>\n",
              "      <td>0.326224</td>\n",
              "      <td>0.896733</td>\n",
              "      <td>00:03</td>\n",
              "    </tr>\n",
              "    <tr>\n",
              "      <td>1</td>\n",
              "      <td>0.304211</td>\n",
              "      <td>0.262323</td>\n",
              "      <td>0.913593</td>\n",
              "      <td>00:03</td>\n",
              "    </tr>\n",
              "    <tr>\n",
              "      <td>2</td>\n",
              "      <td>0.254271</td>\n",
              "      <td>0.185952</td>\n",
              "      <td>0.938356</td>\n",
              "      <td>00:03</td>\n",
              "    </tr>\n",
              "    <tr>\n",
              "      <td>3</td>\n",
              "      <td>0.198441</td>\n",
              "      <td>0.207786</td>\n",
              "      <td>0.927819</td>\n",
              "      <td>00:03</td>\n",
              "    </tr>\n",
              "    <tr>\n",
              "      <td>4</td>\n",
              "      <td>0.171139</td>\n",
              "      <td>0.162103</td>\n",
              "      <td>0.944679</td>\n",
              "      <td>00:03</td>\n",
              "    </tr>\n",
              "    <tr>\n",
              "      <td>5</td>\n",
              "      <td>0.144013</td>\n",
              "      <td>0.126602</td>\n",
              "      <td>0.957323</td>\n",
              "      <td>00:03</td>\n",
              "    </tr>\n",
              "    <tr>\n",
              "      <td>6</td>\n",
              "      <td>0.115642</td>\n",
              "      <td>0.113167</td>\n",
              "      <td>0.960485</td>\n",
              "      <td>00:03</td>\n",
              "    </tr>\n",
              "    <tr>\n",
              "      <td>7</td>\n",
              "      <td>0.091403</td>\n",
              "      <td>0.101213</td>\n",
              "      <td>0.964700</td>\n",
              "      <td>00:03</td>\n",
              "    </tr>\n",
              "    <tr>\n",
              "      <td>8</td>\n",
              "      <td>0.076260</td>\n",
              "      <td>0.094612</td>\n",
              "      <td>0.971022</td>\n",
              "      <td>00:03</td>\n",
              "    </tr>\n",
              "    <tr>\n",
              "      <td>9</td>\n",
              "      <td>0.067631</td>\n",
              "      <td>0.094815</td>\n",
              "      <td>0.971022</td>\n",
              "      <td>00:03</td>\n",
              "    </tr>\n",
              "  </tbody>\n",
              "</table>"
            ],
            "text/plain": [
              "<IPython.core.display.HTML object>"
            ]
          },
          "metadata": {
            "tags": []
          }
        },
        {
          "output_type": "stream",
          "text": [
            "Fast ai done\n",
            "Training RandomForest model with Fold 4...done\n",
            "Training Keras-TensorFlow DNN model with Fold 4...done\n",
            "Training Fast.ai Fold 4...\n"
          ],
          "name": "stdout"
        },
        {
          "output_type": "display_data",
          "data": {
            "text/html": [
              "<table border=\"1\" class=\"dataframe\">\n",
              "  <thead>\n",
              "    <tr style=\"text-align: left;\">\n",
              "      <th>epoch</th>\n",
              "      <th>train_loss</th>\n",
              "      <th>valid_loss</th>\n",
              "      <th>accuracy</th>\n",
              "      <th>time</th>\n",
              "    </tr>\n",
              "  </thead>\n",
              "  <tbody>\n",
              "    <tr>\n",
              "      <td>0</td>\n",
              "      <td>0.436839</td>\n",
              "      <td>0.333472</td>\n",
              "      <td>0.891465</td>\n",
              "      <td>00:03</td>\n",
              "    </tr>\n",
              "    <tr>\n",
              "      <td>1</td>\n",
              "      <td>0.275361</td>\n",
              "      <td>0.271815</td>\n",
              "      <td>0.914120</td>\n",
              "      <td>00:03</td>\n",
              "    </tr>\n",
              "    <tr>\n",
              "      <td>2</td>\n",
              "      <td>0.255936</td>\n",
              "      <td>0.203281</td>\n",
              "      <td>0.929926</td>\n",
              "      <td>00:03</td>\n",
              "    </tr>\n",
              "    <tr>\n",
              "      <td>3</td>\n",
              "      <td>0.217399</td>\n",
              "      <td>0.181168</td>\n",
              "      <td>0.943098</td>\n",
              "      <td>00:03</td>\n",
              "    </tr>\n",
              "    <tr>\n",
              "      <td>4</td>\n",
              "      <td>0.173530</td>\n",
              "      <td>0.150587</td>\n",
              "      <td>0.944152</td>\n",
              "      <td>00:03</td>\n",
              "    </tr>\n",
              "    <tr>\n",
              "      <td>5</td>\n",
              "      <td>0.145079</td>\n",
              "      <td>0.132953</td>\n",
              "      <td>0.957323</td>\n",
              "      <td>00:03</td>\n",
              "    </tr>\n",
              "    <tr>\n",
              "      <td>6</td>\n",
              "      <td>0.111988</td>\n",
              "      <td>0.118181</td>\n",
              "      <td>0.961012</td>\n",
              "      <td>00:03</td>\n",
              "    </tr>\n",
              "    <tr>\n",
              "      <td>7</td>\n",
              "      <td>0.083108</td>\n",
              "      <td>0.101193</td>\n",
              "      <td>0.966280</td>\n",
              "      <td>00:03</td>\n",
              "    </tr>\n",
              "    <tr>\n",
              "      <td>8</td>\n",
              "      <td>0.075591</td>\n",
              "      <td>0.096390</td>\n",
              "      <td>0.967861</td>\n",
              "      <td>00:03</td>\n",
              "    </tr>\n",
              "    <tr>\n",
              "      <td>9</td>\n",
              "      <td>0.068413</td>\n",
              "      <td>0.093429</td>\n",
              "      <td>0.967861</td>\n",
              "      <td>00:03</td>\n",
              "    </tr>\n",
              "  </tbody>\n",
              "</table>"
            ],
            "text/plain": [
              "<IPython.core.display.HTML object>"
            ]
          },
          "metadata": {
            "tags": []
          }
        },
        {
          "output_type": "stream",
          "text": [
            "Fast ai done\n",
            "Training RandomForest model with Fold 5...done\n",
            "Training Keras-TensorFlow DNN model with Fold 5...done\n",
            "Training Fast.ai Fold 5...\n"
          ],
          "name": "stdout"
        },
        {
          "output_type": "display_data",
          "data": {
            "text/html": [
              "<table border=\"1\" class=\"dataframe\">\n",
              "  <thead>\n",
              "    <tr style=\"text-align: left;\">\n",
              "      <th>epoch</th>\n",
              "      <th>train_loss</th>\n",
              "      <th>valid_loss</th>\n",
              "      <th>accuracy</th>\n",
              "      <th>time</th>\n",
              "    </tr>\n",
              "  </thead>\n",
              "  <tbody>\n",
              "    <tr>\n",
              "      <td>0</td>\n",
              "      <td>0.446506</td>\n",
              "      <td>0.355343</td>\n",
              "      <td>0.885142</td>\n",
              "      <td>00:03</td>\n",
              "    </tr>\n",
              "    <tr>\n",
              "      <td>1</td>\n",
              "      <td>0.295786</td>\n",
              "      <td>0.258414</td>\n",
              "      <td>0.915174</td>\n",
              "      <td>00:03</td>\n",
              "    </tr>\n",
              "    <tr>\n",
              "      <td>2</td>\n",
              "      <td>0.262102</td>\n",
              "      <td>0.221300</td>\n",
              "      <td>0.928873</td>\n",
              "      <td>00:03</td>\n",
              "    </tr>\n",
              "    <tr>\n",
              "      <td>3</td>\n",
              "      <td>0.217036</td>\n",
              "      <td>0.182156</td>\n",
              "      <td>0.942044</td>\n",
              "      <td>00:03</td>\n",
              "    </tr>\n",
              "    <tr>\n",
              "      <td>4</td>\n",
              "      <td>0.175051</td>\n",
              "      <td>0.148221</td>\n",
              "      <td>0.947313</td>\n",
              "      <td>00:03</td>\n",
              "    </tr>\n",
              "    <tr>\n",
              "      <td>5</td>\n",
              "      <td>0.147664</td>\n",
              "      <td>0.119237</td>\n",
              "      <td>0.961012</td>\n",
              "      <td>00:03</td>\n",
              "    </tr>\n",
              "    <tr>\n",
              "      <td>6</td>\n",
              "      <td>0.111910</td>\n",
              "      <td>0.109635</td>\n",
              "      <td>0.956270</td>\n",
              "      <td>00:04</td>\n",
              "    </tr>\n",
              "    <tr>\n",
              "      <td>7</td>\n",
              "      <td>0.097540</td>\n",
              "      <td>0.097229</td>\n",
              "      <td>0.962065</td>\n",
              "      <td>00:03</td>\n",
              "    </tr>\n",
              "    <tr>\n",
              "      <td>8</td>\n",
              "      <td>0.075473</td>\n",
              "      <td>0.093643</td>\n",
              "      <td>0.964173</td>\n",
              "      <td>00:04</td>\n",
              "    </tr>\n",
              "    <tr>\n",
              "      <td>9</td>\n",
              "      <td>0.072959</td>\n",
              "      <td>0.088237</td>\n",
              "      <td>0.965753</td>\n",
              "      <td>00:03</td>\n",
              "    </tr>\n",
              "  </tbody>\n",
              "</table>"
            ],
            "text/plain": [
              "<IPython.core.display.HTML object>"
            ]
          },
          "metadata": {
            "tags": []
          }
        },
        {
          "output_type": "stream",
          "text": [
            "Fast ai done\n",
            "Training RandomForest model with Fold 6...done\n",
            "Training Keras-TensorFlow DNN model with Fold 6...done\n",
            "Training Fast.ai Fold 6...\n"
          ],
          "name": "stdout"
        },
        {
          "output_type": "display_data",
          "data": {
            "text/html": [
              "<table border=\"1\" class=\"dataframe\">\n",
              "  <thead>\n",
              "    <tr style=\"text-align: left;\">\n",
              "      <th>epoch</th>\n",
              "      <th>train_loss</th>\n",
              "      <th>valid_loss</th>\n",
              "      <th>accuracy</th>\n",
              "      <th>time</th>\n",
              "    </tr>\n",
              "  </thead>\n",
              "  <tbody>\n",
              "    <tr>\n",
              "      <td>0</td>\n",
              "      <td>0.434391</td>\n",
              "      <td>0.337141</td>\n",
              "      <td>0.894099</td>\n",
              "      <td>00:03</td>\n",
              "    </tr>\n",
              "    <tr>\n",
              "      <td>1</td>\n",
              "      <td>0.300560</td>\n",
              "      <td>0.254543</td>\n",
              "      <td>0.922550</td>\n",
              "      <td>00:03</td>\n",
              "    </tr>\n",
              "    <tr>\n",
              "      <td>2</td>\n",
              "      <td>0.269320</td>\n",
              "      <td>0.214971</td>\n",
              "      <td>0.929399</td>\n",
              "      <td>00:03</td>\n",
              "    </tr>\n",
              "    <tr>\n",
              "      <td>3</td>\n",
              "      <td>0.211888</td>\n",
              "      <td>0.194563</td>\n",
              "      <td>0.940991</td>\n",
              "      <td>00:03</td>\n",
              "    </tr>\n",
              "    <tr>\n",
              "      <td>4</td>\n",
              "      <td>0.173421</td>\n",
              "      <td>0.153448</td>\n",
              "      <td>0.946259</td>\n",
              "      <td>00:03</td>\n",
              "    </tr>\n",
              "    <tr>\n",
              "      <td>5</td>\n",
              "      <td>0.138925</td>\n",
              "      <td>0.148050</td>\n",
              "      <td>0.955743</td>\n",
              "      <td>00:03</td>\n",
              "    </tr>\n",
              "    <tr>\n",
              "      <td>6</td>\n",
              "      <td>0.125605</td>\n",
              "      <td>0.131256</td>\n",
              "      <td>0.959958</td>\n",
              "      <td>00:03</td>\n",
              "    </tr>\n",
              "    <tr>\n",
              "      <td>7</td>\n",
              "      <td>0.092860</td>\n",
              "      <td>0.351419</td>\n",
              "      <td>0.964173</td>\n",
              "      <td>00:03</td>\n",
              "    </tr>\n",
              "    <tr>\n",
              "      <td>8</td>\n",
              "      <td>0.078291</td>\n",
              "      <td>0.108741</td>\n",
              "      <td>0.969968</td>\n",
              "      <td>00:03</td>\n",
              "    </tr>\n",
              "    <tr>\n",
              "      <td>9</td>\n",
              "      <td>0.069403</td>\n",
              "      <td>0.108765</td>\n",
              "      <td>0.970495</td>\n",
              "      <td>00:03</td>\n",
              "    </tr>\n",
              "  </tbody>\n",
              "</table>"
            ],
            "text/plain": [
              "<IPython.core.display.HTML object>"
            ]
          },
          "metadata": {
            "tags": []
          }
        },
        {
          "output_type": "stream",
          "text": [
            "Fast ai done\n",
            "Training RandomForest model with Fold 7...done\n",
            "Training Keras-TensorFlow DNN model with Fold 7...done\n",
            "Training Fast.ai Fold 7...\n"
          ],
          "name": "stdout"
        },
        {
          "output_type": "display_data",
          "data": {
            "text/html": [
              "<table border=\"1\" class=\"dataframe\">\n",
              "  <thead>\n",
              "    <tr style=\"text-align: left;\">\n",
              "      <th>epoch</th>\n",
              "      <th>train_loss</th>\n",
              "      <th>valid_loss</th>\n",
              "      <th>accuracy</th>\n",
              "      <th>time</th>\n",
              "    </tr>\n",
              "  </thead>\n",
              "  <tbody>\n",
              "    <tr>\n",
              "      <td>0</td>\n",
              "      <td>0.452998</td>\n",
              "      <td>0.348238</td>\n",
              "      <td>0.895680</td>\n",
              "      <td>00:03</td>\n",
              "    </tr>\n",
              "    <tr>\n",
              "      <td>1</td>\n",
              "      <td>0.295934</td>\n",
              "      <td>0.280981</td>\n",
              "      <td>0.892518</td>\n",
              "      <td>00:03</td>\n",
              "    </tr>\n",
              "    <tr>\n",
              "      <td>2</td>\n",
              "      <td>0.259328</td>\n",
              "      <td>0.220409</td>\n",
              "      <td>0.930453</td>\n",
              "      <td>00:03</td>\n",
              "    </tr>\n",
              "    <tr>\n",
              "      <td>3</td>\n",
              "      <td>0.219278</td>\n",
              "      <td>0.208406</td>\n",
              "      <td>0.931507</td>\n",
              "      <td>00:03</td>\n",
              "    </tr>\n",
              "    <tr>\n",
              "      <td>4</td>\n",
              "      <td>0.172232</td>\n",
              "      <td>0.172515</td>\n",
              "      <td>0.939410</td>\n",
              "      <td>00:03</td>\n",
              "    </tr>\n",
              "    <tr>\n",
              "      <td>5</td>\n",
              "      <td>0.150215</td>\n",
              "      <td>0.139417</td>\n",
              "      <td>0.952055</td>\n",
              "      <td>00:03</td>\n",
              "    </tr>\n",
              "    <tr>\n",
              "      <td>6</td>\n",
              "      <td>0.130436</td>\n",
              "      <td>0.113223</td>\n",
              "      <td>0.959431</td>\n",
              "      <td>00:03</td>\n",
              "    </tr>\n",
              "    <tr>\n",
              "      <td>7</td>\n",
              "      <td>0.090894</td>\n",
              "      <td>0.103440</td>\n",
              "      <td>0.966280</td>\n",
              "      <td>00:03</td>\n",
              "    </tr>\n",
              "    <tr>\n",
              "      <td>8</td>\n",
              "      <td>0.078662</td>\n",
              "      <td>0.095052</td>\n",
              "      <td>0.971022</td>\n",
              "      <td>00:03</td>\n",
              "    </tr>\n",
              "    <tr>\n",
              "      <td>9</td>\n",
              "      <td>0.070259</td>\n",
              "      <td>0.094234</td>\n",
              "      <td>0.969442</td>\n",
              "      <td>00:03</td>\n",
              "    </tr>\n",
              "  </tbody>\n",
              "</table>"
            ],
            "text/plain": [
              "<IPython.core.display.HTML object>"
            ]
          },
          "metadata": {
            "tags": []
          }
        },
        {
          "output_type": "stream",
          "text": [
            "Fast ai done\n",
            "Training RandomForest model with Fold 8...done\n",
            "Training Keras-TensorFlow DNN model with Fold 8...done\n",
            "Training Fast.ai Fold 8...\n"
          ],
          "name": "stdout"
        },
        {
          "output_type": "display_data",
          "data": {
            "text/html": [
              "<table border=\"1\" class=\"dataframe\">\n",
              "  <thead>\n",
              "    <tr style=\"text-align: left;\">\n",
              "      <th>epoch</th>\n",
              "      <th>train_loss</th>\n",
              "      <th>valid_loss</th>\n",
              "      <th>accuracy</th>\n",
              "      <th>time</th>\n",
              "    </tr>\n",
              "  </thead>\n",
              "  <tbody>\n",
              "    <tr>\n",
              "      <td>0</td>\n",
              "      <td>0.439793</td>\n",
              "      <td>0.331649</td>\n",
              "      <td>0.894626</td>\n",
              "      <td>00:03</td>\n",
              "    </tr>\n",
              "    <tr>\n",
              "      <td>1</td>\n",
              "      <td>0.287083</td>\n",
              "      <td>0.265940</td>\n",
              "      <td>0.910959</td>\n",
              "      <td>00:03</td>\n",
              "    </tr>\n",
              "    <tr>\n",
              "      <td>2</td>\n",
              "      <td>0.252122</td>\n",
              "      <td>0.245074</td>\n",
              "      <td>0.912540</td>\n",
              "      <td>00:03</td>\n",
              "    </tr>\n",
              "    <tr>\n",
              "      <td>3</td>\n",
              "      <td>0.213176</td>\n",
              "      <td>0.191481</td>\n",
              "      <td>0.932561</td>\n",
              "      <td>00:03</td>\n",
              "    </tr>\n",
              "    <tr>\n",
              "      <td>4</td>\n",
              "      <td>0.176990</td>\n",
              "      <td>0.146160</td>\n",
              "      <td>0.954689</td>\n",
              "      <td>00:03</td>\n",
              "    </tr>\n",
              "    <tr>\n",
              "      <td>5</td>\n",
              "      <td>0.150042</td>\n",
              "      <td>0.140620</td>\n",
              "      <td>0.953109</td>\n",
              "      <td>00:03</td>\n",
              "    </tr>\n",
              "    <tr>\n",
              "      <td>6</td>\n",
              "      <td>0.117693</td>\n",
              "      <td>0.109980</td>\n",
              "      <td>0.965227</td>\n",
              "      <td>00:03</td>\n",
              "    </tr>\n",
              "    <tr>\n",
              "      <td>7</td>\n",
              "      <td>0.084849</td>\n",
              "      <td>0.103989</td>\n",
              "      <td>0.967334</td>\n",
              "      <td>00:03</td>\n",
              "    </tr>\n",
              "    <tr>\n",
              "      <td>8</td>\n",
              "      <td>0.084888</td>\n",
              "      <td>0.097854</td>\n",
              "      <td>0.969442</td>\n",
              "      <td>00:03</td>\n",
              "    </tr>\n",
              "    <tr>\n",
              "      <td>9</td>\n",
              "      <td>0.069786</td>\n",
              "      <td>0.095053</td>\n",
              "      <td>0.973130</td>\n",
              "      <td>00:03</td>\n",
              "    </tr>\n",
              "  </tbody>\n",
              "</table>"
            ],
            "text/plain": [
              "<IPython.core.display.HTML object>"
            ]
          },
          "metadata": {
            "tags": []
          }
        },
        {
          "output_type": "stream",
          "text": [
            "Fast ai done\n",
            "Training RandomForest model with Fold 9...done\n",
            "Training Keras-TensorFlow DNN model with Fold 9...done\n",
            "Training Fast.ai Fold 9...\n"
          ],
          "name": "stdout"
        },
        {
          "output_type": "display_data",
          "data": {
            "text/html": [
              "<table border=\"1\" class=\"dataframe\">\n",
              "  <thead>\n",
              "    <tr style=\"text-align: left;\">\n",
              "      <th>epoch</th>\n",
              "      <th>train_loss</th>\n",
              "      <th>valid_loss</th>\n",
              "      <th>accuracy</th>\n",
              "      <th>time</th>\n",
              "    </tr>\n",
              "  </thead>\n",
              "  <tbody>\n",
              "    <tr>\n",
              "      <td>0</td>\n",
              "      <td>0.446044</td>\n",
              "      <td>0.368125</td>\n",
              "      <td>0.892518</td>\n",
              "      <td>00:03</td>\n",
              "    </tr>\n",
              "    <tr>\n",
              "      <td>1</td>\n",
              "      <td>0.326512</td>\n",
              "      <td>0.264725</td>\n",
              "      <td>0.905163</td>\n",
              "      <td>00:03</td>\n",
              "    </tr>\n",
              "    <tr>\n",
              "      <td>2</td>\n",
              "      <td>0.279321</td>\n",
              "      <td>0.203007</td>\n",
              "      <td>0.922550</td>\n",
              "      <td>00:03</td>\n",
              "    </tr>\n",
              "    <tr>\n",
              "      <td>3</td>\n",
              "      <td>0.215577</td>\n",
              "      <td>0.143774</td>\n",
              "      <td>0.953109</td>\n",
              "      <td>00:03</td>\n",
              "    </tr>\n",
              "    <tr>\n",
              "      <td>4</td>\n",
              "      <td>0.172724</td>\n",
              "      <td>0.157965</td>\n",
              "      <td>0.943625</td>\n",
              "      <td>00:03</td>\n",
              "    </tr>\n",
              "    <tr>\n",
              "      <td>5</td>\n",
              "      <td>0.154221</td>\n",
              "      <td>0.117418</td>\n",
              "      <td>0.956270</td>\n",
              "      <td>00:03</td>\n",
              "    </tr>\n",
              "    <tr>\n",
              "      <td>6</td>\n",
              "      <td>0.124522</td>\n",
              "      <td>0.093709</td>\n",
              "      <td>0.968388</td>\n",
              "      <td>00:03</td>\n",
              "    </tr>\n",
              "    <tr>\n",
              "      <td>7</td>\n",
              "      <td>0.096618</td>\n",
              "      <td>0.089810</td>\n",
              "      <td>0.968388</td>\n",
              "      <td>00:03</td>\n",
              "    </tr>\n",
              "    <tr>\n",
              "      <td>8</td>\n",
              "      <td>0.074996</td>\n",
              "      <td>0.083972</td>\n",
              "      <td>0.974183</td>\n",
              "      <td>00:03</td>\n",
              "    </tr>\n",
              "    <tr>\n",
              "      <td>9</td>\n",
              "      <td>0.069911</td>\n",
              "      <td>0.086572</td>\n",
              "      <td>0.971022</td>\n",
              "      <td>00:03</td>\n",
              "    </tr>\n",
              "  </tbody>\n",
              "</table>"
            ],
            "text/plain": [
              "<IPython.core.display.HTML object>"
            ]
          },
          "metadata": {
            "tags": []
          }
        },
        {
          "output_type": "stream",
          "text": [
            "Fast ai done\n",
            "Training RandomForest model with Fold 10...done\n",
            "Training Keras-TensorFlow DNN model with Fold 10...done\n",
            "Training Fast.ai Fold 10...\n"
          ],
          "name": "stdout"
        },
        {
          "output_type": "display_data",
          "data": {
            "text/html": [
              "<table border=\"1\" class=\"dataframe\">\n",
              "  <thead>\n",
              "    <tr style=\"text-align: left;\">\n",
              "      <th>epoch</th>\n",
              "      <th>train_loss</th>\n",
              "      <th>valid_loss</th>\n",
              "      <th>accuracy</th>\n",
              "      <th>time</th>\n",
              "    </tr>\n",
              "  </thead>\n",
              "  <tbody>\n",
              "    <tr>\n",
              "      <td>0</td>\n",
              "      <td>0.452522</td>\n",
              "      <td>0.363489</td>\n",
              "      <td>0.874605</td>\n",
              "      <td>00:03</td>\n",
              "    </tr>\n",
              "    <tr>\n",
              "      <td>1</td>\n",
              "      <td>0.319623</td>\n",
              "      <td>0.253176</td>\n",
              "      <td>0.919389</td>\n",
              "      <td>00:03</td>\n",
              "    </tr>\n",
              "    <tr>\n",
              "      <td>2</td>\n",
              "      <td>0.246337</td>\n",
              "      <td>0.204261</td>\n",
              "      <td>0.935195</td>\n",
              "      <td>00:03</td>\n",
              "    </tr>\n",
              "    <tr>\n",
              "      <td>3</td>\n",
              "      <td>0.213069</td>\n",
              "      <td>0.196967</td>\n",
              "      <td>0.936249</td>\n",
              "      <td>00:03</td>\n",
              "    </tr>\n",
              "    <tr>\n",
              "      <td>4</td>\n",
              "      <td>0.186057</td>\n",
              "      <td>0.165316</td>\n",
              "      <td>0.940991</td>\n",
              "      <td>00:03</td>\n",
              "    </tr>\n",
              "    <tr>\n",
              "      <td>5</td>\n",
              "      <td>0.142172</td>\n",
              "      <td>0.129587</td>\n",
              "      <td>0.961538</td>\n",
              "      <td>00:03</td>\n",
              "    </tr>\n",
              "    <tr>\n",
              "      <td>6</td>\n",
              "      <td>0.108421</td>\n",
              "      <td>0.116111</td>\n",
              "      <td>0.963646</td>\n",
              "      <td>00:03</td>\n",
              "    </tr>\n",
              "    <tr>\n",
              "      <td>7</td>\n",
              "      <td>0.092285</td>\n",
              "      <td>0.101054</td>\n",
              "      <td>0.969968</td>\n",
              "      <td>00:03</td>\n",
              "    </tr>\n",
              "    <tr>\n",
              "      <td>8</td>\n",
              "      <td>0.073467</td>\n",
              "      <td>0.098425</td>\n",
              "      <td>0.971022</td>\n",
              "      <td>00:03</td>\n",
              "    </tr>\n",
              "    <tr>\n",
              "      <td>9</td>\n",
              "      <td>0.076218</td>\n",
              "      <td>0.100551</td>\n",
              "      <td>0.971549</td>\n",
              "      <td>00:03</td>\n",
              "    </tr>\n",
              "  </tbody>\n",
              "</table>"
            ],
            "text/plain": [
              "<IPython.core.display.HTML object>"
            ]
          },
          "metadata": {
            "tags": []
          }
        },
        {
          "output_type": "stream",
          "text": [
            "Fast ai done\n"
          ],
          "name": "stdout"
        }
      ]
    },
    {
      "cell_type": "code",
      "metadata": {
        "id": "SphtzejIE3iV",
        "colab_type": "code",
        "colab": {
          "base_uri": "https://localhost:8080/",
          "height": 104
        },
        "outputId": "83f39d0e-7fa1-4c80-cabe-e3fd00199ec8"
      },
      "source": [
        "print('model\\tfold runtime\\ttotal runtime')\n",
        "print('-'*40)\n",
        "for model in training_times.keys():\n",
        "  mean = sum(training_times[model]) / len(training_times[model])\n",
        "  std = np.std(training_times[model])\n",
        "\n",
        "  print('{}\\t{:.2f}\\u00B1{:.2f}s\\t{:.2f}s'.format(model, mean, std, sum(training_times[model])))"
      ],
      "execution_count": 20,
      "outputs": [
        {
          "output_type": "stream",
          "text": [
            "model\tfold runtime\ttotal runtime\n",
            "----------------------------------------\n",
            "rf\t9.56±0.14s\t95.55s\n",
            "keras\t12.40±0.39s\t124.02s\n",
            "fastai\t36.05±1.02s\t360.49s\n"
          ],
          "name": "stdout"
        }
      ]
    }
  ]
}