{
 "cells": [
  {
   "cell_type": "markdown",
   "metadata": {},
   "source": [
    "# FastAI Experiments"
   ]
  },
  {
   "cell_type": "code",
   "execution_count": 5,
   "metadata": {},
   "outputs": [],
   "source": [
    "from fastai.tabular import *\n",
    "import pandas as pd\n",
    "import numpy as np\n",
    "from sklearn.model_selection import train_test_split, StratifiedShuffleSplit\n",
    "import os\n",
    "import sys\n",
    "import glob\n",
    "from sklearn.utils import shuffle"
   ]
  },
  {
   "cell_type": "markdown",
   "metadata": {},
   "source": [
    "## Download datasets\n",
    "- if zip dataset files already exists; no download is done\n",
    "- force unzip all the .zip files"
   ]
  },
  {
   "cell_type": "code",
   "execution_count": 3,
   "metadata": {},
   "outputs": [
    {
     "name": "stdout",
     "output_type": "stream",
     "text": [
      "downloading ISCXURL2016.zip\n",
      "unzipping  ISCXURL2016.zip\n",
      "Archive:  ISCXURL2016.zip\n",
      "   creating: FinalDataset/\n",
      "  inflating: FinalDataset/Spam_Infogain_test.csv  \n",
      "  inflating: FinalDataset/Spam_Infogain.csv  \n",
      "  inflating: FinalDataset/Spam_BestFirst_test.csv  \n",
      "  inflating: FinalDataset/Spam_BestFirst.csv  \n",
      "  inflating: FinalDataset/Spam.csv   \n",
      "  inflating: FinalDataset/Phishing_Infogain_test.csv  \n",
      "  inflating: FinalDataset/Phishing_Infogain.csv  \n",
      "  inflating: FinalDataset/Phishing.csv  \n",
      "  inflating: FinalDataset/Malware_Infogain_test.csv  \n",
      "  inflating: FinalDataset/Malware_Infogain.csv  \n",
      "  inflating: FinalDataset/Malware_BestFirst.csv  \n",
      "  inflating: FinalDataset/Malware.csv  \n",
      "  inflating: FinalDataset/Defacement_Infogain_test.csv  \n",
      "  inflating: FinalDataset/Defacement_Infogain.csv  \n",
      "  inflating: FinalDataset/Defacement_BestFirst.csv  \n",
      "  inflating: FinalDataset/Defacement.csv  \n",
      "  inflating: FinalDataset/All_Infogain_test.csv  \n",
      "  inflating: FinalDataset/All_Infogain.csv  \n",
      "  inflating: FinalDataset/All_BestFirst_test.csv  \n",
      "  inflating: FinalDataset/Phishing_BestFirst.csv  \n",
      "  inflating: FinalDataset/All_BestFirst.csv  \n",
      "  inflating: FinalDataset/All.csv    \n",
      "   creating: FinalDataset/URL/\n",
      "  inflating: FinalDataset/URL/spam_dataset.csv  \n",
      "  inflating: FinalDataset/URL/phishing_dataset.csv  \n",
      "  inflating: FinalDataset/URL/Malware_dataset.csv  \n",
      "  inflating: FinalDataset/URL/DefacementSitesURLFiltered.csv  \n",
      "  inflating: FinalDataset/URL/Benign_list_big_final.csv  \n"
     ]
    },
    {
     "name": "stderr",
     "output_type": "stream",
     "text": [
      "  % Total    % Received % Xferd  Average Speed   Time    Time     Time  Current\n",
      "                                 Dload  Upload   Total   Spent    Left  Speed\n",
      "\r",
      "  0     0    0     0    0     0      0      0 --:--:-- --:--:-- --:--:--     0\r",
      "  1 10.6M    1  208k    0     0   307k      0  0:00:35 --:--:--  0:00:35  307k\r",
      " 42 10.6M   42 4608k    0     0  2750k      0  0:00:03  0:00:01  0:00:02 2749k\r",
      " 87 10.6M   87 9536k    0     0  3564k      0  0:00:03  0:00:02  0:00:01 3563k\r",
      "100 10.6M  100 10.6M    0     0  3609k      0  0:00:03  0:00:03 --:--:-- 3611k\n"
     ]
    }
   ],
   "source": [
    "%%bash\n",
    "URL=https://iscxdownloads.cs.unb.ca/iscxdownloads/ISCX-URL-2016/\n",
    "FILES=(ISCXURL2016.zip) \n",
    "for FILE in ${FILES[*]}; do\n",
    "    if [ ! -f \"$FILE\" ]; then\n",
    "        printf \"downloading %s\\n\" $FILE\n",
    "        curl -O $URL$FILE\n",
    "        # unzip files\n",
    "        echo 'unzipping ' $FILE\n",
    "        unzip -o $FILE #overwrite exiting files/folders if exists\n",
    "    fi\n",
    "done"
   ]
  },
  {
   "cell_type": "markdown",
   "metadata": {},
   "source": [
    "## Check CSV files inside FinalDataset folder"
   ]
  },
  {
   "cell_type": "code",
   "execution_count": 4,
   "metadata": {},
   "outputs": [
    {
     "name": "stdout",
     "output_type": "stream",
     "text": [
      "All.csv                      Malware_Infogain_test.csv\r\n",
      "All_BestFirst.csv            Phishing.csv\r\n",
      "All_BestFirst_test.csv       Phishing_BestFirst.csv\r\n",
      "All_Infogain.csv             Phishing_Infogain.csv\r\n",
      "All_Infogain_test.csv        Phishing_Infogain_test.csv\r\n",
      "Defacement.csv               Spam.csv\r\n",
      "Defacement_BestFirst.csv     Spam_BestFirst.csv\r\n",
      "Defacement_Infogain.csv      Spam_BestFirst_test.csv\r\n",
      "Defacement_Infogain_test.csv Spam_Infogain.csv\r\n",
      "Malware.csv                  Spam_Infogain_test.csv\r\n",
      "Malware_BestFirst.csv        \u001b[34mURL\u001b[m\u001b[m\r\n",
      "Malware_Infogain.csv\r\n"
     ]
    }
   ],
   "source": [
    "! ls FinalDataset"
   ]
  },
  {
   "cell_type": "markdown",
   "metadata": {},
   "source": [
    "## Analyze FinalDataset/All.csv file"
   ]
  },
  {
   "cell_type": "code",
   "execution_count": 126,
   "metadata": {},
   "outputs": [],
   "source": [
    "df = pd.read_csv('FinalDataset/All.csv', low_memory=False)"
   ]
  },
  {
   "cell_type": "code",
   "execution_count": 128,
   "metadata": {},
   "outputs": [
    {
     "data": {
      "text/plain": [
       "(36707, 80)"
      ]
     },
     "execution_count": 128,
     "metadata": {},
     "output_type": "execute_result"
    }
   ],
   "source": [
    "df.shape"
   ]
  },
  {
   "cell_type": "code",
   "execution_count": 131,
   "metadata": {},
   "outputs": [
    {
     "data": {
      "text/plain": [
       "0        0.076923\n",
       "1        0.058824\n",
       "2        0.060606\n",
       "3        0.025974\n",
       "4        0.040816\n",
       "5        0.033898\n",
       "6        0.046512\n",
       "7        0.040000\n",
       "8        0.045455\n",
       "9        0.090909\n",
       "10       0.043478\n",
       "11       0.039216\n",
       "12       0.095238\n",
       "13       0.105263\n",
       "14       0.080000\n",
       "15       0.086957\n",
       "16       0.038462\n",
       "17       0.083333\n",
       "18       0.017241\n",
       "19       0.016949\n",
       "20       0.020408\n",
       "21       0.012579\n",
       "22       0.014815\n",
       "23       0.014085\n",
       "24       0.012500\n",
       "25       0.018182\n",
       "26       0.050000\n",
       "27       0.037037\n",
       "28       0.039216\n",
       "29       0.036364\n",
       "           ...   \n",
       "36677    0.792593\n",
       "36678    0.763636\n",
       "36679    0.794118\n",
       "36680    0.015625\n",
       "36681    0.057143\n",
       "36682    0.085106\n",
       "36683    0.662651\n",
       "36684    0.100000\n",
       "36685    0.407407\n",
       "36686    0.036364\n",
       "36687    0.578125\n",
       "36688    0.129412\n",
       "36689    0.712644\n",
       "36690    0.785047\n",
       "36691    0.086957\n",
       "36692    0.040000\n",
       "36693    0.068966\n",
       "36694    0.742574\n",
       "36695    0.015267\n",
       "36696    0.071429\n",
       "36697    0.985386\n",
       "36698    0.817308\n",
       "36699    0.275000\n",
       "36700    0.052632\n",
       "36701    0.105263\n",
       "36702    0.752212\n",
       "36703    0.016393\n",
       "36704    0.838710\n",
       "36705    0.755319\n",
       "36706    0.828283\n",
       "Name: argPathRatio, Length: 36707, dtype: float64"
      ]
     },
     "execution_count": 131,
     "metadata": {},
     "output_type": "execute_result"
    }
   ],
   "source": [
    "df['argPathRatio'].astype('float')"
   ]
  },
  {
   "cell_type": "code",
   "execution_count": 132,
   "metadata": {},
   "outputs": [
    {
     "data": {
      "text/plain": [
       "Index(['Querylength', 'domain_token_count', 'path_token_count',\n",
       "       'avgdomaintokenlen', 'longdomaintokenlen', 'avgpathtokenlen', 'tld',\n",
       "       'charcompvowels', 'charcompace', 'ldl_url', 'ldl_domain', 'ldl_path',\n",
       "       'ldl_filename', 'ldl_getArg', 'dld_url', 'dld_domain', 'dld_path',\n",
       "       'dld_filename', 'dld_getArg', 'urlLen', 'domainlength', 'pathLength',\n",
       "       'subDirLen', 'fileNameLen', 'this.fileExtLen', 'ArgLen', 'pathurlRatio',\n",
       "       'ArgUrlRatio', 'argDomanRatio', 'domainUrlRatio', 'pathDomainRatio',\n",
       "       'argPathRatio', 'executable', 'isPortEighty', 'NumberofDotsinURL',\n",
       "       'ISIpAddressInDomainName', 'CharacterContinuityRate',\n",
       "       'LongestVariableValue', 'URL_DigitCount', 'host_DigitCount',\n",
       "       'Directory_DigitCount', 'File_name_DigitCount', 'Extension_DigitCount',\n",
       "       'Query_DigitCount', 'URL_Letter_Count', 'host_letter_count',\n",
       "       'Directory_LetterCount', 'Filename_LetterCount',\n",
       "       'Extension_LetterCount', 'Query_LetterCount', 'LongestPathTokenLength',\n",
       "       'Domain_LongestWordLength', 'Path_LongestWordLength',\n",
       "       'sub-Directory_LongestWordLength', 'Arguments_LongestWordLength',\n",
       "       'URL_sensitiveWord', 'URLQueries_variable', 'spcharUrl',\n",
       "       'delimeter_Domain', 'delimeter_path', 'delimeter_Count',\n",
       "       'NumberRate_URL', 'NumberRate_Domain', 'NumberRate_DirectoryName',\n",
       "       'NumberRate_FileName', 'NumberRate_Extension', 'NumberRate_AfterPath',\n",
       "       'SymbolCount_URL', 'SymbolCount_Domain', 'SymbolCount_Directoryname',\n",
       "       'SymbolCount_FileName', 'SymbolCount_Extension',\n",
       "       'SymbolCount_Afterpath', 'Entropy_URL', 'Entropy_Domain',\n",
       "       'Entropy_DirectoryName', 'Entropy_Filename', 'Entropy_Extension',\n",
       "       'Entropy_Afterpath', 'URL_Type_obf_Type'],\n",
       "      dtype='object')"
      ]
     },
     "execution_count": 132,
     "metadata": {},
     "output_type": "execute_result"
    }
   ],
   "source": [
    "df.columns"
   ]
  },
  {
   "cell_type": "code",
   "execution_count": 133,
   "metadata": {},
   "outputs": [
    {
     "data": {
      "text/plain": [
       "(36707, 80)"
      ]
     },
     "execution_count": 133,
     "metadata": {},
     "output_type": "execute_result"
    }
   ],
   "source": [
    "df.shape"
   ]
  },
  {
   "cell_type": "code",
   "execution_count": 134,
   "metadata": {},
   "outputs": [
    {
     "data": {
      "text/html": [
       "<div>\n",
       "<style scoped>\n",
       "    .dataframe tbody tr th:only-of-type {\n",
       "        vertical-align: middle;\n",
       "    }\n",
       "\n",
       "    .dataframe tbody tr th {\n",
       "        vertical-align: top;\n",
       "    }\n",
       "\n",
       "    .dataframe thead th {\n",
       "        text-align: right;\n",
       "    }\n",
       "</style>\n",
       "<table border=\"1\" class=\"dataframe\">\n",
       "  <thead>\n",
       "    <tr style=\"text-align: right;\">\n",
       "      <th></th>\n",
       "      <th>Querylength</th>\n",
       "      <th>domain_token_count</th>\n",
       "      <th>path_token_count</th>\n",
       "      <th>avgdomaintokenlen</th>\n",
       "      <th>longdomaintokenlen</th>\n",
       "      <th>avgpathtokenlen</th>\n",
       "      <th>tld</th>\n",
       "      <th>charcompvowels</th>\n",
       "      <th>charcompace</th>\n",
       "      <th>ldl_url</th>\n",
       "      <th>...</th>\n",
       "      <th>SymbolCount_FileName</th>\n",
       "      <th>SymbolCount_Extension</th>\n",
       "      <th>SymbolCount_Afterpath</th>\n",
       "      <th>Entropy_URL</th>\n",
       "      <th>Entropy_Domain</th>\n",
       "      <th>Entropy_DirectoryName</th>\n",
       "      <th>Entropy_Filename</th>\n",
       "      <th>Entropy_Extension</th>\n",
       "      <th>Entropy_Afterpath</th>\n",
       "      <th>URL_Type_obf_Type</th>\n",
       "    </tr>\n",
       "  </thead>\n",
       "  <tbody>\n",
       "    <tr>\n",
       "      <th>0</th>\n",
       "      <td>0</td>\n",
       "      <td>4</td>\n",
       "      <td>5</td>\n",
       "      <td>5.5</td>\n",
       "      <td>14</td>\n",
       "      <td>4.400000</td>\n",
       "      <td>4</td>\n",
       "      <td>8</td>\n",
       "      <td>3</td>\n",
       "      <td>0</td>\n",
       "      <td>...</td>\n",
       "      <td>1</td>\n",
       "      <td>0</td>\n",
       "      <td>-1</td>\n",
       "      <td>0.726298</td>\n",
       "      <td>0.784493</td>\n",
       "      <td>0.894886</td>\n",
       "      <td>0.850608</td>\n",
       "      <td>NaN</td>\n",
       "      <td>-1.0</td>\n",
       "      <td>Defacement</td>\n",
       "    </tr>\n",
       "    <tr>\n",
       "      <th>1</th>\n",
       "      <td>0</td>\n",
       "      <td>4</td>\n",
       "      <td>5</td>\n",
       "      <td>5.5</td>\n",
       "      <td>14</td>\n",
       "      <td>6.000000</td>\n",
       "      <td>4</td>\n",
       "      <td>12</td>\n",
       "      <td>4</td>\n",
       "      <td>0</td>\n",
       "      <td>...</td>\n",
       "      <td>0</td>\n",
       "      <td>0</td>\n",
       "      <td>-1</td>\n",
       "      <td>0.688635</td>\n",
       "      <td>0.784493</td>\n",
       "      <td>0.814725</td>\n",
       "      <td>0.859793</td>\n",
       "      <td>0.0</td>\n",
       "      <td>-1.0</td>\n",
       "      <td>Defacement</td>\n",
       "    </tr>\n",
       "    <tr>\n",
       "      <th>2</th>\n",
       "      <td>0</td>\n",
       "      <td>4</td>\n",
       "      <td>5</td>\n",
       "      <td>5.5</td>\n",
       "      <td>14</td>\n",
       "      <td>5.800000</td>\n",
       "      <td>4</td>\n",
       "      <td>12</td>\n",
       "      <td>5</td>\n",
       "      <td>0</td>\n",
       "      <td>...</td>\n",
       "      <td>0</td>\n",
       "      <td>0</td>\n",
       "      <td>-1</td>\n",
       "      <td>0.695049</td>\n",
       "      <td>0.784493</td>\n",
       "      <td>0.814725</td>\n",
       "      <td>0.801880</td>\n",
       "      <td>0.0</td>\n",
       "      <td>-1.0</td>\n",
       "      <td>Defacement</td>\n",
       "    </tr>\n",
       "    <tr>\n",
       "      <th>3</th>\n",
       "      <td>0</td>\n",
       "      <td>4</td>\n",
       "      <td>12</td>\n",
       "      <td>5.5</td>\n",
       "      <td>14</td>\n",
       "      <td>5.500000</td>\n",
       "      <td>4</td>\n",
       "      <td>32</td>\n",
       "      <td>16</td>\n",
       "      <td>0</td>\n",
       "      <td>...</td>\n",
       "      <td>0</td>\n",
       "      <td>0</td>\n",
       "      <td>-1</td>\n",
       "      <td>0.640130</td>\n",
       "      <td>0.784493</td>\n",
       "      <td>0.814725</td>\n",
       "      <td>0.663210</td>\n",
       "      <td>0.0</td>\n",
       "      <td>-1.0</td>\n",
       "      <td>Defacement</td>\n",
       "    </tr>\n",
       "    <tr>\n",
       "      <th>4</th>\n",
       "      <td>0</td>\n",
       "      <td>4</td>\n",
       "      <td>6</td>\n",
       "      <td>5.5</td>\n",
       "      <td>14</td>\n",
       "      <td>7.333334</td>\n",
       "      <td>4</td>\n",
       "      <td>18</td>\n",
       "      <td>11</td>\n",
       "      <td>0</td>\n",
       "      <td>...</td>\n",
       "      <td>0</td>\n",
       "      <td>0</td>\n",
       "      <td>-1</td>\n",
       "      <td>0.681307</td>\n",
       "      <td>0.784493</td>\n",
       "      <td>0.814725</td>\n",
       "      <td>0.804526</td>\n",
       "      <td>0.0</td>\n",
       "      <td>-1.0</td>\n",
       "      <td>Defacement</td>\n",
       "    </tr>\n",
       "  </tbody>\n",
       "</table>\n",
       "<p>5 rows × 80 columns</p>\n",
       "</div>"
      ],
      "text/plain": [
       "   Querylength  domain_token_count  path_token_count  avgdomaintokenlen  \\\n",
       "0            0                   4                 5                5.5   \n",
       "1            0                   4                 5                5.5   \n",
       "2            0                   4                 5                5.5   \n",
       "3            0                   4                12                5.5   \n",
       "4            0                   4                 6                5.5   \n",
       "\n",
       "   longdomaintokenlen  avgpathtokenlen  tld  charcompvowels  charcompace  \\\n",
       "0                  14         4.400000    4               8            3   \n",
       "1                  14         6.000000    4              12            4   \n",
       "2                  14         5.800000    4              12            5   \n",
       "3                  14         5.500000    4              32           16   \n",
       "4                  14         7.333334    4              18           11   \n",
       "\n",
       "   ldl_url  ...  SymbolCount_FileName  SymbolCount_Extension  \\\n",
       "0        0  ...                     1                      0   \n",
       "1        0  ...                     0                      0   \n",
       "2        0  ...                     0                      0   \n",
       "3        0  ...                     0                      0   \n",
       "4        0  ...                     0                      0   \n",
       "\n",
       "   SymbolCount_Afterpath  Entropy_URL  Entropy_Domain  Entropy_DirectoryName  \\\n",
       "0                     -1     0.726298        0.784493               0.894886   \n",
       "1                     -1     0.688635        0.784493               0.814725   \n",
       "2                     -1     0.695049        0.784493               0.814725   \n",
       "3                     -1     0.640130        0.784493               0.814725   \n",
       "4                     -1     0.681307        0.784493               0.814725   \n",
       "\n",
       "   Entropy_Filename  Entropy_Extension  Entropy_Afterpath  URL_Type_obf_Type  \n",
       "0          0.850608                NaN               -1.0         Defacement  \n",
       "1          0.859793                0.0               -1.0         Defacement  \n",
       "2          0.801880                0.0               -1.0         Defacement  \n",
       "3          0.663210                0.0               -1.0         Defacement  \n",
       "4          0.804526                0.0               -1.0         Defacement  \n",
       "\n",
       "[5 rows x 80 columns]"
      ]
     },
     "execution_count": 134,
     "metadata": {},
     "output_type": "execute_result"
    }
   ],
   "source": [
    "df.head()"
   ]
  },
  {
   "cell_type": "code",
   "execution_count": 135,
   "metadata": {},
   "outputs": [
    {
     "data": {
      "text/html": [
       "<div>\n",
       "<style scoped>\n",
       "    .dataframe tbody tr th:only-of-type {\n",
       "        vertical-align: middle;\n",
       "    }\n",
       "\n",
       "    .dataframe tbody tr th {\n",
       "        vertical-align: top;\n",
       "    }\n",
       "\n",
       "    .dataframe thead th {\n",
       "        text-align: right;\n",
       "    }\n",
       "</style>\n",
       "<table border=\"1\" class=\"dataframe\">\n",
       "  <thead>\n",
       "    <tr style=\"text-align: right;\">\n",
       "      <th></th>\n",
       "      <th>Querylength</th>\n",
       "      <th>domain_token_count</th>\n",
       "      <th>path_token_count</th>\n",
       "      <th>avgdomaintokenlen</th>\n",
       "      <th>longdomaintokenlen</th>\n",
       "      <th>avgpathtokenlen</th>\n",
       "      <th>tld</th>\n",
       "      <th>charcompvowels</th>\n",
       "      <th>charcompace</th>\n",
       "      <th>ldl_url</th>\n",
       "      <th>...</th>\n",
       "      <th>SymbolCount_FileName</th>\n",
       "      <th>SymbolCount_Extension</th>\n",
       "      <th>SymbolCount_Afterpath</th>\n",
       "      <th>Entropy_URL</th>\n",
       "      <th>Entropy_Domain</th>\n",
       "      <th>Entropy_DirectoryName</th>\n",
       "      <th>Entropy_Filename</th>\n",
       "      <th>Entropy_Extension</th>\n",
       "      <th>Entropy_Afterpath</th>\n",
       "      <th>URL_Type_obf_Type</th>\n",
       "    </tr>\n",
       "  </thead>\n",
       "  <tbody>\n",
       "    <tr>\n",
       "      <th>36702</th>\n",
       "      <td>29</td>\n",
       "      <td>4</td>\n",
       "      <td>14</td>\n",
       "      <td>5.750000</td>\n",
       "      <td>12</td>\n",
       "      <td>3.666667</td>\n",
       "      <td>4</td>\n",
       "      <td>20</td>\n",
       "      <td>24</td>\n",
       "      <td>3</td>\n",
       "      <td>...</td>\n",
       "      <td>3</td>\n",
       "      <td>2</td>\n",
       "      <td>7</td>\n",
       "      <td>0.690555</td>\n",
       "      <td>0.791265</td>\n",
       "      <td>0.777498</td>\n",
       "      <td>0.690227</td>\n",
       "      <td>0.656684</td>\n",
       "      <td>0.796205</td>\n",
       "      <td>spam</td>\n",
       "    </tr>\n",
       "    <tr>\n",
       "      <th>36703</th>\n",
       "      <td>0</td>\n",
       "      <td>4</td>\n",
       "      <td>13</td>\n",
       "      <td>3.750000</td>\n",
       "      <td>8</td>\n",
       "      <td>8.461538</td>\n",
       "      <td>4</td>\n",
       "      <td>24</td>\n",
       "      <td>23</td>\n",
       "      <td>0</td>\n",
       "      <td>...</td>\n",
       "      <td>16</td>\n",
       "      <td>15</td>\n",
       "      <td>-1</td>\n",
       "      <td>0.665492</td>\n",
       "      <td>0.820010</td>\n",
       "      <td>0.879588</td>\n",
       "      <td>0.674400</td>\n",
       "      <td>0.674671</td>\n",
       "      <td>-1.000000</td>\n",
       "      <td>spam</td>\n",
       "    </tr>\n",
       "    <tr>\n",
       "      <th>36704</th>\n",
       "      <td>58</td>\n",
       "      <td>3</td>\n",
       "      <td>27</td>\n",
       "      <td>6.666666</td>\n",
       "      <td>16</td>\n",
       "      <td>3.375000</td>\n",
       "      <td>3</td>\n",
       "      <td>41</td>\n",
       "      <td>34</td>\n",
       "      <td>20</td>\n",
       "      <td>...</td>\n",
       "      <td>8</td>\n",
       "      <td>7</td>\n",
       "      <td>9</td>\n",
       "      <td>0.656807</td>\n",
       "      <td>0.801139</td>\n",
       "      <td>0.684777</td>\n",
       "      <td>0.713622</td>\n",
       "      <td>0.717187</td>\n",
       "      <td>0.705245</td>\n",
       "      <td>spam</td>\n",
       "    </tr>\n",
       "    <tr>\n",
       "      <th>36705</th>\n",
       "      <td>35</td>\n",
       "      <td>3</td>\n",
       "      <td>13</td>\n",
       "      <td>4.333334</td>\n",
       "      <td>9</td>\n",
       "      <td>3.600000</td>\n",
       "      <td>3</td>\n",
       "      <td>15</td>\n",
       "      <td>13</td>\n",
       "      <td>7</td>\n",
       "      <td>...</td>\n",
       "      <td>9</td>\n",
       "      <td>8</td>\n",
       "      <td>3</td>\n",
       "      <td>0.725963</td>\n",
       "      <td>0.897617</td>\n",
       "      <td>0.871049</td>\n",
       "      <td>0.745932</td>\n",
       "      <td>0.758824</td>\n",
       "      <td>0.790772</td>\n",
       "      <td>spam</td>\n",
       "    </tr>\n",
       "    <tr>\n",
       "      <th>36706</th>\n",
       "      <td>40</td>\n",
       "      <td>3</td>\n",
       "      <td>25</td>\n",
       "      <td>6.666666</td>\n",
       "      <td>16</td>\n",
       "      <td>3.250000</td>\n",
       "      <td>3</td>\n",
       "      <td>35</td>\n",
       "      <td>31</td>\n",
       "      <td>19</td>\n",
       "      <td>...</td>\n",
       "      <td>7</td>\n",
       "      <td>6</td>\n",
       "      <td>7</td>\n",
       "      <td>0.674351</td>\n",
       "      <td>0.801139</td>\n",
       "      <td>0.697282</td>\n",
       "      <td>0.730563</td>\n",
       "      <td>0.731481</td>\n",
       "      <td>0.769238</td>\n",
       "      <td>spam</td>\n",
       "    </tr>\n",
       "  </tbody>\n",
       "</table>\n",
       "<p>5 rows × 80 columns</p>\n",
       "</div>"
      ],
      "text/plain": [
       "       Querylength  domain_token_count  path_token_count  avgdomaintokenlen  \\\n",
       "36702           29                   4                14           5.750000   \n",
       "36703            0                   4                13           3.750000   \n",
       "36704           58                   3                27           6.666666   \n",
       "36705           35                   3                13           4.333334   \n",
       "36706           40                   3                25           6.666666   \n",
       "\n",
       "       longdomaintokenlen  avgpathtokenlen  tld  charcompvowels  charcompace  \\\n",
       "36702                  12         3.666667    4              20           24   \n",
       "36703                   8         8.461538    4              24           23   \n",
       "36704                  16         3.375000    3              41           34   \n",
       "36705                   9         3.600000    3              15           13   \n",
       "36706                  16         3.250000    3              35           31   \n",
       "\n",
       "       ldl_url  ...  SymbolCount_FileName  SymbolCount_Extension  \\\n",
       "36702        3  ...                     3                      2   \n",
       "36703        0  ...                    16                     15   \n",
       "36704       20  ...                     8                      7   \n",
       "36705        7  ...                     9                      8   \n",
       "36706       19  ...                     7                      6   \n",
       "\n",
       "       SymbolCount_Afterpath  Entropy_URL  Entropy_Domain  \\\n",
       "36702                      7     0.690555        0.791265   \n",
       "36703                     -1     0.665492        0.820010   \n",
       "36704                      9     0.656807        0.801139   \n",
       "36705                      3     0.725963        0.897617   \n",
       "36706                      7     0.674351        0.801139   \n",
       "\n",
       "       Entropy_DirectoryName  Entropy_Filename  Entropy_Extension  \\\n",
       "36702               0.777498          0.690227           0.656684   \n",
       "36703               0.879588          0.674400           0.674671   \n",
       "36704               0.684777          0.713622           0.717187   \n",
       "36705               0.871049          0.745932           0.758824   \n",
       "36706               0.697282          0.730563           0.731481   \n",
       "\n",
       "       Entropy_Afterpath  URL_Type_obf_Type  \n",
       "36702           0.796205               spam  \n",
       "36703          -1.000000               spam  \n",
       "36704           0.705245               spam  \n",
       "36705           0.790772               spam  \n",
       "36706           0.769238               spam  \n",
       "\n",
       "[5 rows x 80 columns]"
      ]
     },
     "execution_count": 135,
     "metadata": {},
     "output_type": "execute_result"
    }
   ],
   "source": [
    "df.tail()"
   ]
  },
  {
   "cell_type": "markdown",
   "metadata": {},
   "source": [
    "## Clean Data\n",
    "- dropped samples with Infinity values\n",
    "- dropped samples with NaN values"
   ]
  },
  {
   "cell_type": "code",
   "execution_count": 136,
   "metadata": {},
   "outputs": [],
   "source": [
    "def loadData(csvFile):\n",
    "    pickleDump = '{}.pickle'.format(csvFile)\n",
    "    if os.path.exists(pickleDump):\n",
    "        df = pd.read_pickle(pickleDump)\n",
    "    else:\n",
    "        df = pd.read_csv(csvFile, low_memory=False)\n",
    "        # clean data\n",
    "        # strip the whitspaces from column names\n",
    "        df = df.rename(str.strip, axis='columns')\n",
    "        #df.drop(columns=[], inplace=True)\n",
    "        # drop missing values/NaN etc.\n",
    "        #df.dropna(inplace=True)\n",
    "        # drop Infinity rows and NaN string from each column\n",
    "        for col in df.columns:\n",
    "            indexNames = df[df[col]=='Infinity'].index\n",
    "            if not indexNames.empty:\n",
    "                print('deleting {} rows with Infinity in column {}'.format(len(indexNames), col))\n",
    "                df.drop(indexNames, inplace=True)\n",
    "            indexNames = df[df[col]=='NaN'].index\n",
    "            if not indexNames.empty:\n",
    "                print('deleting {} rows with NaN in column {}'.format(len(indexNames), col))\n",
    "                df.drop(indexNames, inplace=True)\n",
    "        \n",
    "        df.to_pickle(pickleDump)\n",
    "    \n",
    "    return df"
   ]
  },
  {
   "cell_type": "markdown",
   "metadata": {},
   "source": [
    "## Test loadData function"
   ]
  },
  {
   "cell_type": "code",
   "execution_count": 170,
   "metadata": {},
   "outputs": [
    {
     "name": "stderr",
     "output_type": "stream",
     "text": [
      "/Users/rbasnet/miniconda3/lib/python3.7/site-packages/pandas/core/ops.py:1649: FutureWarning: elementwise comparison failed; returning scalar instead, but in the future will perform elementwise comparison\n",
      "  result = method(y)\n"
     ]
    },
    {
     "name": "stdout",
     "output_type": "stream",
     "text": [
      "deleting 10 rows with Infinity in column argPathRatio\n"
     ]
    }
   ],
   "source": [
    "df1 = loadData('FinalDataset/All.csv')"
   ]
  },
  {
   "cell_type": "code",
   "execution_count": 171,
   "metadata": {},
   "outputs": [
    {
     "data": {
      "text/plain": [
       "Index(['Querylength', 'domain_token_count', 'path_token_count',\n",
       "       'avgdomaintokenlen', 'longdomaintokenlen', 'avgpathtokenlen', 'tld',\n",
       "       'charcompvowels', 'charcompace', 'ldl_url', 'ldl_domain', 'ldl_path',\n",
       "       'ldl_filename', 'ldl_getArg', 'dld_url', 'dld_domain', 'dld_path',\n",
       "       'dld_filename', 'dld_getArg', 'urlLen', 'domainlength', 'pathLength',\n",
       "       'subDirLen', 'fileNameLen', 'this.fileExtLen', 'ArgLen', 'pathurlRatio',\n",
       "       'ArgUrlRatio', 'argDomanRatio', 'domainUrlRatio', 'pathDomainRatio',\n",
       "       'argPathRatio', 'executable', 'isPortEighty', 'NumberofDotsinURL',\n",
       "       'ISIpAddressInDomainName', 'CharacterContinuityRate',\n",
       "       'LongestVariableValue', 'URL_DigitCount', 'host_DigitCount',\n",
       "       'Directory_DigitCount', 'File_name_DigitCount', 'Extension_DigitCount',\n",
       "       'Query_DigitCount', 'URL_Letter_Count', 'host_letter_count',\n",
       "       'Directory_LetterCount', 'Filename_LetterCount',\n",
       "       'Extension_LetterCount', 'Query_LetterCount', 'LongestPathTokenLength',\n",
       "       'Domain_LongestWordLength', 'Path_LongestWordLength',\n",
       "       'sub-Directory_LongestWordLength', 'Arguments_LongestWordLength',\n",
       "       'URL_sensitiveWord', 'URLQueries_variable', 'spcharUrl',\n",
       "       'delimeter_Domain', 'delimeter_path', 'delimeter_Count',\n",
       "       'NumberRate_URL', 'NumberRate_Domain', 'NumberRate_DirectoryName',\n",
       "       'NumberRate_FileName', 'NumberRate_Extension', 'NumberRate_AfterPath',\n",
       "       'SymbolCount_URL', 'SymbolCount_Domain', 'SymbolCount_Directoryname',\n",
       "       'SymbolCount_FileName', 'SymbolCount_Extension',\n",
       "       'SymbolCount_Afterpath', 'Entropy_URL', 'Entropy_Domain',\n",
       "       'Entropy_DirectoryName', 'Entropy_Filename', 'Entropy_Extension',\n",
       "       'Entropy_Afterpath', 'URL_Type_obf_Type'],\n",
       "      dtype='object')"
      ]
     },
     "execution_count": 171,
     "metadata": {},
     "output_type": "execute_result"
    }
   ],
   "source": [
    "df1.columns"
   ]
  },
  {
   "cell_type": "code",
   "execution_count": 172,
   "metadata": {},
   "outputs": [
    {
     "data": {
      "text/plain": [
       "(36697, 80)"
      ]
     },
     "execution_count": 172,
     "metadata": {},
     "output_type": "execute_result"
    }
   ],
   "source": [
    "df1.shape"
   ]
  },
  {
   "cell_type": "code",
   "execution_count": 173,
   "metadata": {},
   "outputs": [
    {
     "data": {
      "text/plain": [
       "0    1.0\n",
       "1    NaN\n",
       "2    NaN\n",
       "3    NaN\n",
       "4    NaN\n",
       "5    NaN\n",
       "6    NaN\n",
       "7    NaN\n",
       "8    NaN\n",
       "9    1.0\n",
       "Name: NumberRate_Extension, dtype: float64"
      ]
     },
     "execution_count": 173,
     "metadata": {},
     "output_type": "execute_result"
    }
   ],
   "source": [
    "df1['NumberRate_Extension'][:10]"
   ]
  },
  {
   "cell_type": "code",
   "execution_count": 174,
   "metadata": {},
   "outputs": [
    {
     "data": {
      "text/plain": [
       "(36697, 80)"
      ]
     },
     "execution_count": 174,
     "metadata": {},
     "output_type": "execute_result"
    }
   ],
   "source": [
    "df1.shape"
   ]
  },
  {
   "cell_type": "code",
   "execution_count": 175,
   "metadata": {},
   "outputs": [
    {
     "data": {
      "text/html": [
       "<div>\n",
       "<style scoped>\n",
       "    .dataframe tbody tr th:only-of-type {\n",
       "        vertical-align: middle;\n",
       "    }\n",
       "\n",
       "    .dataframe tbody tr th {\n",
       "        vertical-align: top;\n",
       "    }\n",
       "\n",
       "    .dataframe thead th {\n",
       "        text-align: right;\n",
       "    }\n",
       "</style>\n",
       "<table border=\"1\" class=\"dataframe\">\n",
       "  <thead>\n",
       "    <tr style=\"text-align: right;\">\n",
       "      <th></th>\n",
       "      <th>Querylength</th>\n",
       "      <th>domain_token_count</th>\n",
       "      <th>path_token_count</th>\n",
       "      <th>avgdomaintokenlen</th>\n",
       "      <th>longdomaintokenlen</th>\n",
       "      <th>avgpathtokenlen</th>\n",
       "      <th>tld</th>\n",
       "      <th>charcompvowels</th>\n",
       "      <th>charcompace</th>\n",
       "      <th>ldl_url</th>\n",
       "      <th>...</th>\n",
       "      <th>SymbolCount_FileName</th>\n",
       "      <th>SymbolCount_Extension</th>\n",
       "      <th>SymbolCount_Afterpath</th>\n",
       "      <th>Entropy_URL</th>\n",
       "      <th>Entropy_Domain</th>\n",
       "      <th>Entropy_DirectoryName</th>\n",
       "      <th>Entropy_Filename</th>\n",
       "      <th>Entropy_Extension</th>\n",
       "      <th>Entropy_Afterpath</th>\n",
       "      <th>URL_Type_obf_Type</th>\n",
       "    </tr>\n",
       "  </thead>\n",
       "  <tbody>\n",
       "    <tr>\n",
       "      <th>0</th>\n",
       "      <td>0</td>\n",
       "      <td>4</td>\n",
       "      <td>5</td>\n",
       "      <td>5.5</td>\n",
       "      <td>14</td>\n",
       "      <td>4.400000</td>\n",
       "      <td>4</td>\n",
       "      <td>8</td>\n",
       "      <td>3</td>\n",
       "      <td>0</td>\n",
       "      <td>...</td>\n",
       "      <td>1</td>\n",
       "      <td>0</td>\n",
       "      <td>-1</td>\n",
       "      <td>0.726298</td>\n",
       "      <td>0.784493</td>\n",
       "      <td>0.894886</td>\n",
       "      <td>0.850608</td>\n",
       "      <td>NaN</td>\n",
       "      <td>-1.0</td>\n",
       "      <td>Defacement</td>\n",
       "    </tr>\n",
       "    <tr>\n",
       "      <th>1</th>\n",
       "      <td>0</td>\n",
       "      <td>4</td>\n",
       "      <td>5</td>\n",
       "      <td>5.5</td>\n",
       "      <td>14</td>\n",
       "      <td>6.000000</td>\n",
       "      <td>4</td>\n",
       "      <td>12</td>\n",
       "      <td>4</td>\n",
       "      <td>0</td>\n",
       "      <td>...</td>\n",
       "      <td>0</td>\n",
       "      <td>0</td>\n",
       "      <td>-1</td>\n",
       "      <td>0.688635</td>\n",
       "      <td>0.784493</td>\n",
       "      <td>0.814725</td>\n",
       "      <td>0.859793</td>\n",
       "      <td>0.0</td>\n",
       "      <td>-1.0</td>\n",
       "      <td>Defacement</td>\n",
       "    </tr>\n",
       "    <tr>\n",
       "      <th>2</th>\n",
       "      <td>0</td>\n",
       "      <td>4</td>\n",
       "      <td>5</td>\n",
       "      <td>5.5</td>\n",
       "      <td>14</td>\n",
       "      <td>5.800000</td>\n",
       "      <td>4</td>\n",
       "      <td>12</td>\n",
       "      <td>5</td>\n",
       "      <td>0</td>\n",
       "      <td>...</td>\n",
       "      <td>0</td>\n",
       "      <td>0</td>\n",
       "      <td>-1</td>\n",
       "      <td>0.695049</td>\n",
       "      <td>0.784493</td>\n",
       "      <td>0.814725</td>\n",
       "      <td>0.801880</td>\n",
       "      <td>0.0</td>\n",
       "      <td>-1.0</td>\n",
       "      <td>Defacement</td>\n",
       "    </tr>\n",
       "    <tr>\n",
       "      <th>3</th>\n",
       "      <td>0</td>\n",
       "      <td>4</td>\n",
       "      <td>12</td>\n",
       "      <td>5.5</td>\n",
       "      <td>14</td>\n",
       "      <td>5.500000</td>\n",
       "      <td>4</td>\n",
       "      <td>32</td>\n",
       "      <td>16</td>\n",
       "      <td>0</td>\n",
       "      <td>...</td>\n",
       "      <td>0</td>\n",
       "      <td>0</td>\n",
       "      <td>-1</td>\n",
       "      <td>0.640130</td>\n",
       "      <td>0.784493</td>\n",
       "      <td>0.814725</td>\n",
       "      <td>0.663210</td>\n",
       "      <td>0.0</td>\n",
       "      <td>-1.0</td>\n",
       "      <td>Defacement</td>\n",
       "    </tr>\n",
       "    <tr>\n",
       "      <th>4</th>\n",
       "      <td>0</td>\n",
       "      <td>4</td>\n",
       "      <td>6</td>\n",
       "      <td>5.5</td>\n",
       "      <td>14</td>\n",
       "      <td>7.333334</td>\n",
       "      <td>4</td>\n",
       "      <td>18</td>\n",
       "      <td>11</td>\n",
       "      <td>0</td>\n",
       "      <td>...</td>\n",
       "      <td>0</td>\n",
       "      <td>0</td>\n",
       "      <td>-1</td>\n",
       "      <td>0.681307</td>\n",
       "      <td>0.784493</td>\n",
       "      <td>0.814725</td>\n",
       "      <td>0.804526</td>\n",
       "      <td>0.0</td>\n",
       "      <td>-1.0</td>\n",
       "      <td>Defacement</td>\n",
       "    </tr>\n",
       "  </tbody>\n",
       "</table>\n",
       "<p>5 rows × 80 columns</p>\n",
       "</div>"
      ],
      "text/plain": [
       "   Querylength  domain_token_count  path_token_count  avgdomaintokenlen  \\\n",
       "0            0                   4                 5                5.5   \n",
       "1            0                   4                 5                5.5   \n",
       "2            0                   4                 5                5.5   \n",
       "3            0                   4                12                5.5   \n",
       "4            0                   4                 6                5.5   \n",
       "\n",
       "   longdomaintokenlen  avgpathtokenlen  tld  charcompvowels  charcompace  \\\n",
       "0                  14         4.400000    4               8            3   \n",
       "1                  14         6.000000    4              12            4   \n",
       "2                  14         5.800000    4              12            5   \n",
       "3                  14         5.500000    4              32           16   \n",
       "4                  14         7.333334    4              18           11   \n",
       "\n",
       "   ldl_url  ...  SymbolCount_FileName  SymbolCount_Extension  \\\n",
       "0        0  ...                     1                      0   \n",
       "1        0  ...                     0                      0   \n",
       "2        0  ...                     0                      0   \n",
       "3        0  ...                     0                      0   \n",
       "4        0  ...                     0                      0   \n",
       "\n",
       "   SymbolCount_Afterpath  Entropy_URL  Entropy_Domain  Entropy_DirectoryName  \\\n",
       "0                     -1     0.726298        0.784493               0.894886   \n",
       "1                     -1     0.688635        0.784493               0.814725   \n",
       "2                     -1     0.695049        0.784493               0.814725   \n",
       "3                     -1     0.640130        0.784493               0.814725   \n",
       "4                     -1     0.681307        0.784493               0.814725   \n",
       "\n",
       "   Entropy_Filename  Entropy_Extension  Entropy_Afterpath  URL_Type_obf_Type  \n",
       "0          0.850608                NaN               -1.0         Defacement  \n",
       "1          0.859793                0.0               -1.0         Defacement  \n",
       "2          0.801880                0.0               -1.0         Defacement  \n",
       "3          0.663210                0.0               -1.0         Defacement  \n",
       "4          0.804526                0.0               -1.0         Defacement  \n",
       "\n",
       "[5 rows x 80 columns]"
      ]
     },
     "execution_count": 175,
     "metadata": {},
     "output_type": "execute_result"
    }
   ],
   "source": [
    "df1.head()"
   ]
  },
  {
   "cell_type": "markdown",
   "metadata": {},
   "source": [
    "## Experimenting with FinalDataset/All.csv"
   ]
  },
  {
   "cell_type": "markdown",
   "metadata": {},
   "source": [
    "## Total samples for each type"
   ]
  },
  {
   "cell_type": "code",
   "execution_count": 176,
   "metadata": {},
   "outputs": [
    {
     "name": "stdout",
     "output_type": "stream",
     "text": [
      "| spam | 6698 |\n",
      "| phishing | 7586 |\n",
      "| Defacement | 7930 |\n",
      "| benign | 7781 |\n",
      "| malware | 6712 |\n"
     ]
    }
   ],
   "source": [
    "# total samples\n",
    "label = 'URL_Type_obf_Type'\n",
    "lblTypes = set(df[label])\n",
    "for lbl in lblTypes:\n",
    "    print('| {} | {} |'.format(lbl, len(df[df[label] == lbl].index)))"
   ]
  },
  {
   "cell_type": "code",
   "execution_count": 177,
   "metadata": {},
   "outputs": [],
   "source": [
    "dataPath = 'FinalDataset'\n",
    "dep_var = label\n",
    "cat_names = []\n",
    "cont_names = list(set(df.columns) - set(cat_names) - set([dep_var]))"
   ]
  },
  {
   "cell_type": "code",
   "execution_count": 178,
   "metadata": {},
   "outputs": [
    {
     "data": {
      "text/plain": [
       "['File_name_DigitCount',\n",
       " 'dld_domain',\n",
       " 'SymbolCount_Directoryname',\n",
       " 'pathurlRatio',\n",
       " 'Query_LetterCount',\n",
       " 'pathLength',\n",
       " 'isPortEighty',\n",
       " 'NumberRate_AfterPath',\n",
       " 'Entropy_Afterpath',\n",
       " 'pathDomainRatio',\n",
       " 'avgdomaintokenlen',\n",
       " 'avgpathtokenlen',\n",
       " 'NumberRate_Domain',\n",
       " 'urlLen',\n",
       " 'Filename_LetterCount',\n",
       " 'Entropy_Domain',\n",
       " 'Entropy_URL',\n",
       " 'delimeter_Count',\n",
       " 'Extension_LetterCount',\n",
       " 'domainlength',\n",
       " 'Entropy_DirectoryName',\n",
       " 'URL_Letter_Count',\n",
       " 'URL_DigitCount',\n",
       " 'longdomaintokenlen',\n",
       " 'delimeter_path',\n",
       " 'ldl_path',\n",
       " 'Extension_DigitCount',\n",
       " 'sub-Directory_LongestWordLength',\n",
       " 'URLQueries_variable',\n",
       " 'ArgLen',\n",
       " 'spcharUrl',\n",
       " 'host_letter_count',\n",
       " 'LongestVariableValue',\n",
       " 'this.fileExtLen',\n",
       " 'ldl_getArg',\n",
       " 'ArgUrlRatio',\n",
       " 'CharacterContinuityRate',\n",
       " 'SymbolCount_Afterpath',\n",
       " 'SymbolCount_URL',\n",
       " 'executable',\n",
       " 'path_token_count',\n",
       " 'dld_url',\n",
       " 'Entropy_Filename',\n",
       " 'ldl_filename',\n",
       " 'NumberRate_Extension',\n",
       " 'URL_sensitiveWord',\n",
       " 'ldl_domain',\n",
       " 'dld_path',\n",
       " 'subDirLen',\n",
       " 'NumberRate_URL',\n",
       " 'ldl_url',\n",
       " 'Arguments_LongestWordLength',\n",
       " 'NumberRate_DirectoryName',\n",
       " 'SymbolCount_Domain',\n",
       " 'NumberRate_FileName',\n",
       " 'Entropy_Extension',\n",
       " 'SymbolCount_FileName',\n",
       " 'fileNameLen',\n",
       " 'Query_DigitCount',\n",
       " 'tld',\n",
       " 'Directory_LetterCount',\n",
       " 'charcompvowels',\n",
       " 'NumberofDotsinURL',\n",
       " 'Domain_LongestWordLength',\n",
       " 'argDomanRatio',\n",
       " 'SymbolCount_Extension',\n",
       " 'Directory_DigitCount',\n",
       " 'dld_getArg',\n",
       " 'domain_token_count',\n",
       " 'charcompace',\n",
       " 'domainUrlRatio',\n",
       " 'ISIpAddressInDomainName',\n",
       " 'LongestPathTokenLength',\n",
       " 'host_DigitCount',\n",
       " 'Path_LongestWordLength',\n",
       " 'Querylength',\n",
       " 'argPathRatio',\n",
       " 'delimeter_Domain',\n",
       " 'dld_filename']"
      ]
     },
     "execution_count": 178,
     "metadata": {},
     "output_type": "execute_result"
    }
   ],
   "source": [
    "cont_names"
   ]
  },
  {
   "cell_type": "code",
   "execution_count": 179,
   "metadata": {},
   "outputs": [
    {
     "data": {
      "text/plain": [
       "0         0.07692308\n",
       "1         0.05882353\n",
       "2        0.060606062\n",
       "3        0.025974026\n",
       "4        0.040816326\n",
       "5        0.033898305\n",
       "6        0.046511628\n",
       "7               0.04\n",
       "8        0.045454547\n",
       "9         0.09090909\n",
       "10        0.04347826\n",
       "11       0.039215688\n",
       "12         0.0952381\n",
       "13        0.10526316\n",
       "14              0.08\n",
       "15        0.08695652\n",
       "16        0.03846154\n",
       "17       0.083333336\n",
       "18        0.01724138\n",
       "19       0.016949153\n",
       "20       0.020408163\n",
       "21       0.012578616\n",
       "22       0.014814815\n",
       "23       0.014084507\n",
       "24            0.0125\n",
       "25       0.018181818\n",
       "26              0.05\n",
       "27       0.037037037\n",
       "28       0.039215688\n",
       "29       0.036363635\n",
       "            ...     \n",
       "36677      0.7925926\n",
       "36678     0.76363635\n",
       "36679      0.7941176\n",
       "36680       0.015625\n",
       "36681    0.057142857\n",
       "36682     0.08510638\n",
       "36683      0.6626506\n",
       "36684            0.1\n",
       "36685      0.4074074\n",
       "36686    0.036363635\n",
       "36687       0.578125\n",
       "36688     0.12941177\n",
       "36689      0.7126437\n",
       "36690     0.78504676\n",
       "36691     0.08695652\n",
       "36692           0.04\n",
       "36693     0.06896552\n",
       "36694      0.7425743\n",
       "36695    0.015267176\n",
       "36696    0.071428575\n",
       "36697      0.9853862\n",
       "36698      0.8173077\n",
       "36699          0.275\n",
       "36700     0.05263158\n",
       "36701     0.10526316\n",
       "36702      0.7522124\n",
       "36703    0.016393442\n",
       "36704     0.83870965\n",
       "36705      0.7553192\n",
       "36706     0.82828283\n",
       "Name: argPathRatio, Length: 36697, dtype: object"
      ]
     },
     "execution_count": 179,
     "metadata": {},
     "output_type": "execute_result"
    }
   ],
   "source": [
    "df1['argPathRatio'] # was reading as object"
   ]
  },
  {
   "cell_type": "code",
   "execution_count": 180,
   "metadata": {},
   "outputs": [],
   "source": [
    "df1.argPathRatio = df1['argPathRatio'].astype('float')"
   ]
  },
  {
   "cell_type": "code",
   "execution_count": 181,
   "metadata": {},
   "outputs": [
    {
     "name": "stdout",
     "output_type": "stream",
     "text": [
      "StratifiedShuffleSplit(n_splits=1, random_state=0, test_size=0.2,\n",
      "            train_size=None)\n"
     ]
    }
   ],
   "source": [
    "procs = [FillMissing, Categorify, Normalize]\n",
    "sss = StratifiedShuffleSplit(n_splits = 1, test_size=0.2, random_state=0)\n",
    "print(sss)"
   ]
  },
  {
   "cell_type": "code",
   "execution_count": 182,
   "metadata": {},
   "outputs": [
    {
     "data": {
      "text/html": [
       "<table border=\"1\" class=\"dataframe\">\n",
       "  <thead>\n",
       "    <tr style=\"text-align: left;\">\n",
       "      <th>epoch</th>\n",
       "      <th>train_loss</th>\n",
       "      <th>valid_loss</th>\n",
       "      <th>accuracy</th>\n",
       "      <th>time</th>\n",
       "    </tr>\n",
       "  </thead>\n",
       "  <tbody>\n",
       "    <tr>\n",
       "      <td>0</td>\n",
       "      <td>0.482524</td>\n",
       "      <td>0.398526</td>\n",
       "      <td>0.864033</td>\n",
       "      <td>00:06</td>\n",
       "    </tr>\n",
       "    <tr>\n",
       "      <td>1</td>\n",
       "      <td>0.357079</td>\n",
       "      <td>0.294653</td>\n",
       "      <td>0.899046</td>\n",
       "      <td>00:06</td>\n",
       "    </tr>\n",
       "    <tr>\n",
       "      <td>2</td>\n",
       "      <td>0.297282</td>\n",
       "      <td>0.240308</td>\n",
       "      <td>0.917030</td>\n",
       "      <td>00:06</td>\n",
       "    </tr>\n",
       "    <tr>\n",
       "      <td>3</td>\n",
       "      <td>0.240611</td>\n",
       "      <td>0.208336</td>\n",
       "      <td>0.931608</td>\n",
       "      <td>00:06</td>\n",
       "    </tr>\n",
       "    <tr>\n",
       "      <td>4</td>\n",
       "      <td>0.194452</td>\n",
       "      <td>0.158549</td>\n",
       "      <td>0.946322</td>\n",
       "      <td>00:06</td>\n",
       "    </tr>\n",
       "    <tr>\n",
       "      <td>5</td>\n",
       "      <td>0.163348</td>\n",
       "      <td>0.134551</td>\n",
       "      <td>0.954632</td>\n",
       "      <td>00:06</td>\n",
       "    </tr>\n",
       "    <tr>\n",
       "      <td>6</td>\n",
       "      <td>0.142602</td>\n",
       "      <td>0.107187</td>\n",
       "      <td>0.963896</td>\n",
       "      <td>00:06</td>\n",
       "    </tr>\n",
       "    <tr>\n",
       "      <td>7</td>\n",
       "      <td>0.111399</td>\n",
       "      <td>0.098030</td>\n",
       "      <td>0.968801</td>\n",
       "      <td>00:06</td>\n",
       "    </tr>\n",
       "    <tr>\n",
       "      <td>8</td>\n",
       "      <td>0.097486</td>\n",
       "      <td>0.090984</td>\n",
       "      <td>0.971117</td>\n",
       "      <td>00:05</td>\n",
       "    </tr>\n",
       "    <tr>\n",
       "      <td>9</td>\n",
       "      <td>0.098709</td>\n",
       "      <td>0.092126</td>\n",
       "      <td>0.970845</td>\n",
       "      <td>00:06</td>\n",
       "    </tr>\n",
       "  </tbody>\n",
       "</table>"
      ],
      "text/plain": [
       "<IPython.core.display.HTML object>"
      ]
     },
     "metadata": {},
     "output_type": "display_data"
    },
    {
     "data": {
      "image/png": "[encoded data removed]",
      "text/plain": [
       "<Figure size 432x288 with 1 Axes>"
      ]
     },
     "metadata": {},
     "output_type": "display_data"
    }
   ],
   "source": [
    "for train_idx, test_idx in sss.split(df1.index, df1[dep_var]):\n",
    "    data_fold = (TabularList.from_df(df1, path=dataPath, cat_names=cat_names, cont_names=cont_names, procs=procs)\n",
    "                     .split_by_idxs(train_idx, test_idx)\n",
    "                     .label_from_df(cols=dep_var)\n",
    "                     .databunch())\n",
    "    # create model and learn\n",
    "    model = tabular_learner(data_fold, layers=[200, 100], metrics=accuracy, callback_fns=ShowGraph)\n",
    "    model.fit_one_cycle(cyc_len=10) #"
   ]
  },
  {
   "cell_type": "code",
   "execution_count": 183,
   "metadata": {},
   "outputs": [],
   "source": [
    "model.save('{}.model'.format(os.path.basename(dataPath)))"
   ]
  },
  {
   "cell_type": "code",
   "execution_count": 184,
   "metadata": {},
   "outputs": [
    {
     "name": "stdout",
     "output_type": "stream",
     "text": [
      "loss 0.09212590754032135: accuracy: 97.08%\n"
     ]
    }
   ],
   "source": [
    "loss, acc = model.validate()\n",
    "print('loss {}: accuracy: {:.2f}%'.format(loss, acc*100))"
   ]
  },
  {
   "cell_type": "code",
   "execution_count": 185,
   "metadata": {},
   "outputs": [],
   "source": [
    "preds, y, losses = model.get_preds(with_loss=True)\n",
    "interp = ClassificationInterpretation(model, preds, y, losses)"
   ]
  },
  {
   "cell_type": "code",
   "execution_count": 186,
   "metadata": {},
   "outputs": [
    {
     "data": {
      "image/png": "[encoded data removed]",
      "text/plain": [
       "<Figure size 432x288 with 1 Axes>"
      ]
     },
     "metadata": {
      "needs_background": "light"
     },
     "output_type": "display_data"
    }
   ],
   "source": [
    "interp.plot_confusion_matrix(slice_size=10)"
   ]
  },
  {
   "cell_type": "code",
   "execution_count": 187,
   "metadata": {},
   "outputs": [
    {
     "name": "stdout",
     "output_type": "stream",
     "text": [
      "[[1552    2    5   24    3]\n",
      " [   6 1512   18   17    3]\n",
      " [   1    8 1310   21    2]\n",
      " [  31   27   20 1431    7]\n",
      " [   4    1    1   13 1321]]\n"
     ]
    }
   ],
   "source": [
    "print(interp.confusion_matrix())"
   ]
  },
  {
   "cell_type": "code",
   "execution_count": 188,
   "metadata": {},
   "outputs": [
    {
     "data": {
      "text/plain": [
       "[('phishing', 'Defacement', 31),\n",
       " ('phishing', 'benign', 27),\n",
       " ('Defacement', 'phishing', 24),\n",
       " ('malware', 'phishing', 21),\n",
       " ('phishing', 'malware', 20),\n",
       " ('benign', 'malware', 18),\n",
       " ('benign', 'phishing', 17),\n",
       " ('spam', 'phishing', 13),\n",
       " ('malware', 'benign', 8),\n",
       " ('phishing', 'spam', 7),\n",
       " ('benign', 'Defacement', 6),\n",
       " ('Defacement', 'malware', 5),\n",
       " ('spam', 'Defacement', 4),\n",
       " ('Defacement', 'spam', 3),\n",
       " ('benign', 'spam', 3),\n",
       " ('Defacement', 'benign', 2),\n",
       " ('malware', 'spam', 2),\n",
       " ('malware', 'Defacement', 1),\n",
       " ('spam', 'benign', 1),\n",
       " ('spam', 'malware', 1)]"
      ]
     },
     "execution_count": 188,
     "metadata": {},
     "output_type": "execute_result"
    }
   ],
   "source": [
    "interp.most_confused()"
   ]
  },
  {
   "cell_type": "markdown",
   "metadata": {},
   "source": [
    "## Binary-class classification\n",
    "- Label all malicious types as 1\n",
    "- Label benign type as 0"
   ]
  },
  {
   "cell_type": "code",
   "execution_count": 189,
   "metadata": {},
   "outputs": [
    {
     "data": {
      "text/plain": [
       "['spam', 'phishing', 'Defacement', 'benign', 'malware']"
      ]
     },
     "execution_count": 189,
     "metadata": {},
     "output_type": "execute_result"
    }
   ],
   "source": [
    "lblTypes = list(lblTypes)\n",
    "#lblTypes.remove('benign')\n",
    "lblTypes"
   ]
  },
  {
   "cell_type": "code",
   "execution_count": 190,
   "metadata": {},
   "outputs": [
    {
     "data": {
      "text/plain": [
       "{'spam': 1, 'phishing': 1, 'Defacement': 1, 'benign': 0, 'malware': 1}"
      ]
     },
     "execution_count": 190,
     "metadata": {},
     "output_type": "execute_result"
    }
   ],
   "source": [
    "lblTypes = dict(zip(lblTypes, [1, 1, 1, 1, 1]))\n",
    "lblTypes['benign'] = 0\n",
    "lblTypes"
   ]
  },
  {
   "cell_type": "code",
   "execution_count": 191,
   "metadata": {},
   "outputs": [],
   "source": [
    "df1[label] = df1[label].map(lblTypes)"
   ]
  },
  {
   "cell_type": "code",
   "execution_count": 192,
   "metadata": {},
   "outputs": [
    {
     "data": {
      "text/html": [
       "<div>\n",
       "<style scoped>\n",
       "    .dataframe tbody tr th:only-of-type {\n",
       "        vertical-align: middle;\n",
       "    }\n",
       "\n",
       "    .dataframe tbody tr th {\n",
       "        vertical-align: top;\n",
       "    }\n",
       "\n",
       "    .dataframe thead th {\n",
       "        text-align: right;\n",
       "    }\n",
       "</style>\n",
       "<table border=\"1\" class=\"dataframe\">\n",
       "  <thead>\n",
       "    <tr style=\"text-align: right;\">\n",
       "      <th></th>\n",
       "      <th>Querylength</th>\n",
       "      <th>domain_token_count</th>\n",
       "      <th>path_token_count</th>\n",
       "      <th>avgdomaintokenlen</th>\n",
       "      <th>longdomaintokenlen</th>\n",
       "      <th>avgpathtokenlen</th>\n",
       "      <th>tld</th>\n",
       "      <th>charcompvowels</th>\n",
       "      <th>charcompace</th>\n",
       "      <th>ldl_url</th>\n",
       "      <th>...</th>\n",
       "      <th>SymbolCount_FileName</th>\n",
       "      <th>SymbolCount_Extension</th>\n",
       "      <th>SymbolCount_Afterpath</th>\n",
       "      <th>Entropy_URL</th>\n",
       "      <th>Entropy_Domain</th>\n",
       "      <th>Entropy_DirectoryName</th>\n",
       "      <th>Entropy_Filename</th>\n",
       "      <th>Entropy_Extension</th>\n",
       "      <th>Entropy_Afterpath</th>\n",
       "      <th>URL_Type_obf_Type</th>\n",
       "    </tr>\n",
       "  </thead>\n",
       "  <tbody>\n",
       "    <tr>\n",
       "      <th>36702</th>\n",
       "      <td>29</td>\n",
       "      <td>4</td>\n",
       "      <td>14</td>\n",
       "      <td>5.750000</td>\n",
       "      <td>12</td>\n",
       "      <td>3.666667</td>\n",
       "      <td>4</td>\n",
       "      <td>20</td>\n",
       "      <td>24</td>\n",
       "      <td>3</td>\n",
       "      <td>...</td>\n",
       "      <td>3</td>\n",
       "      <td>2</td>\n",
       "      <td>7</td>\n",
       "      <td>0.690555</td>\n",
       "      <td>0.791265</td>\n",
       "      <td>0.777498</td>\n",
       "      <td>0.690227</td>\n",
       "      <td>0.656684</td>\n",
       "      <td>0.796205</td>\n",
       "      <td>1</td>\n",
       "    </tr>\n",
       "    <tr>\n",
       "      <th>36703</th>\n",
       "      <td>0</td>\n",
       "      <td>4</td>\n",
       "      <td>13</td>\n",
       "      <td>3.750000</td>\n",
       "      <td>8</td>\n",
       "      <td>8.461538</td>\n",
       "      <td>4</td>\n",
       "      <td>24</td>\n",
       "      <td>23</td>\n",
       "      <td>0</td>\n",
       "      <td>...</td>\n",
       "      <td>16</td>\n",
       "      <td>15</td>\n",
       "      <td>-1</td>\n",
       "      <td>0.665492</td>\n",
       "      <td>0.820010</td>\n",
       "      <td>0.879588</td>\n",
       "      <td>0.674400</td>\n",
       "      <td>0.674671</td>\n",
       "      <td>-1.000000</td>\n",
       "      <td>1</td>\n",
       "    </tr>\n",
       "    <tr>\n",
       "      <th>36704</th>\n",
       "      <td>58</td>\n",
       "      <td>3</td>\n",
       "      <td>27</td>\n",
       "      <td>6.666666</td>\n",
       "      <td>16</td>\n",
       "      <td>3.375000</td>\n",
       "      <td>3</td>\n",
       "      <td>41</td>\n",
       "      <td>34</td>\n",
       "      <td>20</td>\n",
       "      <td>...</td>\n",
       "      <td>8</td>\n",
       "      <td>7</td>\n",
       "      <td>9</td>\n",
       "      <td>0.656807</td>\n",
       "      <td>0.801139</td>\n",
       "      <td>0.684777</td>\n",
       "      <td>0.713622</td>\n",
       "      <td>0.717187</td>\n",
       "      <td>0.705245</td>\n",
       "      <td>1</td>\n",
       "    </tr>\n",
       "    <tr>\n",
       "      <th>36705</th>\n",
       "      <td>35</td>\n",
       "      <td>3</td>\n",
       "      <td>13</td>\n",
       "      <td>4.333334</td>\n",
       "      <td>9</td>\n",
       "      <td>3.600000</td>\n",
       "      <td>3</td>\n",
       "      <td>15</td>\n",
       "      <td>13</td>\n",
       "      <td>7</td>\n",
       "      <td>...</td>\n",
       "      <td>9</td>\n",
       "      <td>8</td>\n",
       "      <td>3</td>\n",
       "      <td>0.725963</td>\n",
       "      <td>0.897617</td>\n",
       "      <td>0.871049</td>\n",
       "      <td>0.745932</td>\n",
       "      <td>0.758824</td>\n",
       "      <td>0.790772</td>\n",
       "      <td>1</td>\n",
       "    </tr>\n",
       "    <tr>\n",
       "      <th>36706</th>\n",
       "      <td>40</td>\n",
       "      <td>3</td>\n",
       "      <td>25</td>\n",
       "      <td>6.666666</td>\n",
       "      <td>16</td>\n",
       "      <td>3.250000</td>\n",
       "      <td>3</td>\n",
       "      <td>35</td>\n",
       "      <td>31</td>\n",
       "      <td>19</td>\n",
       "      <td>...</td>\n",
       "      <td>7</td>\n",
       "      <td>6</td>\n",
       "      <td>7</td>\n",
       "      <td>0.674351</td>\n",
       "      <td>0.801139</td>\n",
       "      <td>0.697282</td>\n",
       "      <td>0.730563</td>\n",
       "      <td>0.731481</td>\n",
       "      <td>0.769238</td>\n",
       "      <td>1</td>\n",
       "    </tr>\n",
       "  </tbody>\n",
       "</table>\n",
       "<p>5 rows × 80 columns</p>\n",
       "</div>"
      ],
      "text/plain": [
       "       Querylength  domain_token_count  path_token_count  avgdomaintokenlen  \\\n",
       "36702           29                   4                14           5.750000   \n",
       "36703            0                   4                13           3.750000   \n",
       "36704           58                   3                27           6.666666   \n",
       "36705           35                   3                13           4.333334   \n",
       "36706           40                   3                25           6.666666   \n",
       "\n",
       "       longdomaintokenlen  avgpathtokenlen  tld  charcompvowels  charcompace  \\\n",
       "36702                  12         3.666667    4              20           24   \n",
       "36703                   8         8.461538    4              24           23   \n",
       "36704                  16         3.375000    3              41           34   \n",
       "36705                   9         3.600000    3              15           13   \n",
       "36706                  16         3.250000    3              35           31   \n",
       "\n",
       "       ldl_url  ...  SymbolCount_FileName  SymbolCount_Extension  \\\n",
       "36702        3  ...                     3                      2   \n",
       "36703        0  ...                    16                     15   \n",
       "36704       20  ...                     8                      7   \n",
       "36705        7  ...                     9                      8   \n",
       "36706       19  ...                     7                      6   \n",
       "\n",
       "       SymbolCount_Afterpath  Entropy_URL  Entropy_Domain  \\\n",
       "36702                      7     0.690555        0.791265   \n",
       "36703                     -1     0.665492        0.820010   \n",
       "36704                      9     0.656807        0.801139   \n",
       "36705                      3     0.725963        0.897617   \n",
       "36706                      7     0.674351        0.801139   \n",
       "\n",
       "       Entropy_DirectoryName  Entropy_Filename  Entropy_Extension  \\\n",
       "36702               0.777498          0.690227           0.656684   \n",
       "36703               0.879588          0.674400           0.674671   \n",
       "36704               0.684777          0.713622           0.717187   \n",
       "36705               0.871049          0.745932           0.758824   \n",
       "36706               0.697282          0.730563           0.731481   \n",
       "\n",
       "       Entropy_Afterpath  URL_Type_obf_Type  \n",
       "36702           0.796205                  1  \n",
       "36703          -1.000000                  1  \n",
       "36704           0.705245                  1  \n",
       "36705           0.790772                  1  \n",
       "36706           0.769238                  1  \n",
       "\n",
       "[5 rows x 80 columns]"
      ]
     },
     "execution_count": 192,
     "metadata": {},
     "output_type": "execute_result"
    }
   ],
   "source": [
    "df1.tail()"
   ]
  },
  {
   "cell_type": "markdown",
   "metadata": {},
   "source": [
    "## Experiment with Malware.csv Dataset"
   ]
  },
  {
   "cell_type": "code",
   "execution_count": 193,
   "metadata": {},
   "outputs": [
    {
     "data": {
      "text/html": [
       "<table border=\"1\" class=\"dataframe\">\n",
       "  <thead>\n",
       "    <tr style=\"text-align: left;\">\n",
       "      <th>epoch</th>\n",
       "      <th>train_loss</th>\n",
       "      <th>valid_loss</th>\n",
       "      <th>accuracy</th>\n",
       "      <th>time</th>\n",
       "    </tr>\n",
       "  </thead>\n",
       "  <tbody>\n",
       "    <tr>\n",
       "      <td>0</td>\n",
       "      <td>0.161566</td>\n",
       "      <td>0.140771</td>\n",
       "      <td>0.948501</td>\n",
       "      <td>00:06</td>\n",
       "    </tr>\n",
       "    <tr>\n",
       "      <td>1</td>\n",
       "      <td>0.115366</td>\n",
       "      <td>0.093219</td>\n",
       "      <td>0.966076</td>\n",
       "      <td>00:06</td>\n",
       "    </tr>\n",
       "    <tr>\n",
       "      <td>2</td>\n",
       "      <td>0.093722</td>\n",
       "      <td>0.084552</td>\n",
       "      <td>0.965123</td>\n",
       "      <td>00:06</td>\n",
       "    </tr>\n",
       "    <tr>\n",
       "      <td>3</td>\n",
       "      <td>0.091745</td>\n",
       "      <td>0.066750</td>\n",
       "      <td>0.976839</td>\n",
       "      <td>00:06</td>\n",
       "    </tr>\n",
       "    <tr>\n",
       "      <td>4</td>\n",
       "      <td>0.068951</td>\n",
       "      <td>0.056295</td>\n",
       "      <td>0.981471</td>\n",
       "      <td>00:06</td>\n",
       "    </tr>\n",
       "    <tr>\n",
       "      <td>5</td>\n",
       "      <td>0.068832</td>\n",
       "      <td>0.053565</td>\n",
       "      <td>0.982016</td>\n",
       "      <td>00:06</td>\n",
       "    </tr>\n",
       "    <tr>\n",
       "      <td>6</td>\n",
       "      <td>0.047883</td>\n",
       "      <td>0.046450</td>\n",
       "      <td>0.985695</td>\n",
       "      <td>00:06</td>\n",
       "    </tr>\n",
       "    <tr>\n",
       "      <td>7</td>\n",
       "      <td>0.036764</td>\n",
       "      <td>0.044580</td>\n",
       "      <td>0.985695</td>\n",
       "      <td>00:06</td>\n",
       "    </tr>\n",
       "    <tr>\n",
       "      <td>8</td>\n",
       "      <td>0.034338</td>\n",
       "      <td>0.040647</td>\n",
       "      <td>0.987602</td>\n",
       "      <td>00:06</td>\n",
       "    </tr>\n",
       "    <tr>\n",
       "      <td>9</td>\n",
       "      <td>0.030169</td>\n",
       "      <td>0.040975</td>\n",
       "      <td>0.988283</td>\n",
       "      <td>00:06</td>\n",
       "    </tr>\n",
       "  </tbody>\n",
       "</table>"
      ],
      "text/plain": [
       "<IPython.core.display.HTML object>"
      ]
     },
     "metadata": {},
     "output_type": "display_data"
    },
    {
     "data": {
      "image/png": "[encoded data removed]",
      "text/plain": [
       "<Figure size 432x288 with 1 Axes>"
      ]
     },
     "metadata": {},
     "output_type": "display_data"
    }
   ],
   "source": [
    "for train_idx, test_idx in sss.split(df1.index, df1[dep_var]):\n",
    "    data_fold = (TabularList.from_df(df1, path=dataPath, cat_names=cat_names, cont_names=cont_names, procs=procs)\n",
    "                     .split_by_idxs(train_idx, test_idx)\n",
    "                     .label_from_df(cols=dep_var)\n",
    "                     .databunch())\n",
    "    # create model and learn\n",
    "    model = tabular_learner(data_fold, layers=[200, 100], metrics=accuracy, callback_fns=ShowGraph)\n",
    "    model.fit_one_cycle(cyc_len=10)"
   ]
  },
  {
   "cell_type": "code",
   "execution_count": 194,
   "metadata": {},
   "outputs": [
    {
     "name": "stdout",
     "output_type": "stream",
     "text": [
      "loss 0.04097536951303482: accuracy: 98.83%\n"
     ]
    }
   ],
   "source": [
    "loss, acc = model.validate()\n",
    "print('loss {}: accuracy: {:.2f}%'.format(loss, acc*100))"
   ]
  },
  {
   "cell_type": "code",
   "execution_count": 195,
   "metadata": {},
   "outputs": [
    {
     "data": {
      "image/png": "[encoded data removed]",
      "text/plain": [
       "<Figure size 432x288 with 1 Axes>"
      ]
     },
     "metadata": {
      "needs_background": "light"
     },
     "output_type": "display_data"
    }
   ],
   "source": [
    "preds, y, losses = model.get_preds(with_loss=True)\n",
    "interp = ClassificationInterpretation(model, preds, y, losses)\n",
    "interp.plot_confusion_matrix(slice_size=10)"
   ]
  },
  {
   "cell_type": "code",
   "execution_count": 196,
   "metadata": {},
   "outputs": [
    {
     "data": {
      "text/plain": [
       "(36697, 80)"
      ]
     },
     "execution_count": 196,
     "metadata": {},
     "output_type": "execute_result"
    }
   ],
   "source": [
    "df1.shape"
   ]
  },
  {
   "cell_type": "code",
   "execution_count": null,
   "metadata": {},
   "outputs": [],
   "source": []
  }
 ],
 "metadata": {
  "kernelspec": {
   "display_name": "Python 3",
   "language": "python",
   "name": "python3"
  },
  "language_info": {
   "codemirror_mode": {
    "name": "ipython",
    "version": 3
   },
   "file_extension": ".py",
   "mimetype": "text/x-python",
   "name": "python",
   "nbconvert_exporter": "python",
   "pygments_lexer": "ipython3",
   "version": "3.7.2"
  }
 },
 "nbformat": 4,
 "nbformat_minor": 2
}
